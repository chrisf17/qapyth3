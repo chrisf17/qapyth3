{
 "cells": [
  {
   "cell_type": "markdown",
   "metadata": {
    "colab_type": "text",
    "id": "eSpVxkm-lNkK"
   },
   "source": [
    "## Talking Directly to the Interpreter\n",
    "#### You can talk to Python directly from the Python Console and directly execute commands. They could be as simple as basic math operations"
   ]
  },
  {
   "cell_type": "code",
   "execution_count": 8,
   "metadata": {
    "colab": {
     "base_uri": "https://localhost:8080/",
     "height": 34
    },
    "colab_type": "code",
    "id": "8uv5Y_F8lKM_",
    "outputId": "4e7447d2-1e13-4390-e22e-9286dd1620c0"
   },
   "outputs": [
    {
     "data": {
      "text/plain": [
       "8"
      ]
     },
     "execution_count": 8,
     "metadata": {},
     "output_type": "execute_result"
    }
   ],
   "source": [
    "2 + 6"
   ]
  },
  {
   "cell_type": "markdown",
   "metadata": {
    "colab_type": "text",
    "id": "ephNtWL8k9Up"
   },
   "source": [
    "## Built in Python Commands\n",
    "#### You can also execute functions from the builtin library that is available on loading the interpreter"
   ]
  },
  {
   "cell_type": "code",
   "execution_count": 6,
   "metadata": {
    "colab": {
     "base_uri": "https://localhost:8080/",
     "height": 34
    },
    "colab_type": "code",
    "collapsed": true,
    "id": "C2BejPUpkyRe",
    "jupyter": {
     "outputs_hidden": true
    },
    "outputId": "18b50f0d-85b8-4145-f3af-87db86313ecd"
   },
   "outputs": [
    {
     "name": "stdout",
     "output_type": "stream",
     "text": [
      "Hello Worlds\n"
     ]
    }
   ],
   "source": [
    "print(\"Hello Worlds\")"
   ]
  },
  {
   "cell_type": "markdown",
   "metadata": {
    "colab_type": "text",
    "id": "aHrHGm5mlXTg"
   },
   "source": [
    "Getting input from the user\n",
    "\n"
   ]
  },
  {
   "cell_type": "code",
   "execution_count": null,
   "metadata": {
    "colab": {
     "base_uri": "https://localhost:8080/",
     "height": 51
    },
    "colab_type": "code",
    "id": "zQ6ab1UoleY3",
    "outputId": "7ee21a61-d558-44b2-ec33-dedc5042d8f9"
   },
   "outputs": [
    {
     "name": "stdout",
     "output_type": "stream",
     "text": [
      "Enter your name:Fred\n"
     ]
    },
    {
     "data": {
      "text/plain": [
       "'Fred'"
      ]
     },
     "execution_count": 5,
     "metadata": {
      "tags": []
     },
     "output_type": "execute_result"
    }
   ],
   "source": [
    "input(\"Enter your name:\")"
   ]
  },
  {
   "cell_type": "markdown",
   "metadata": {
    "colab_type": "text",
    "id": "H6OGqJOgyoCK"
   },
   "source": [
    "## Creating variables"
   ]
  },
  {
   "cell_type": "code",
   "execution_count": null,
   "metadata": {
    "colab": {},
    "colab_type": "code",
    "id": "vMApQzykyxOQ"
   },
   "outputs": [],
   "source": [
    "first_name = \"Amy\"\n",
    "age = 20"
   ]
  },
  {
   "cell_type": "markdown",
   "metadata": {
    "colab_type": "text",
    "id": "xDrco8rYy5At"
   },
   "source": [
    "## Combining Variables and Commands\n"
   ]
  },
  {
   "cell_type": "code",
   "execution_count": null,
   "metadata": {
    "colab": {
     "base_uri": "https://localhost:8080/",
     "height": 54
    },
    "colab_type": "code",
    "id": "BR5QfFBvzFVP",
    "outputId": "2ef8d901-62fa-49d2-a554-c3c09f76daa3"
   },
   "outputs": [
    {
     "name": "stdout",
     "output_type": "stream",
     "text": [
      "Enter your name:Beth\n",
      "Hi Beth\n"
     ]
    }
   ],
   "source": [
    "first_name = input(\"Enter your name:\")\n",
    "print (\"Hi\", first_name)"
   ]
  },
  {
   "cell_type": "markdown",
   "metadata": {
    "colab_type": "text",
    "id": "YAo228w7Mtue"
   },
   "source": [
    "## Using other Modules"
   ]
  },
  {
   "cell_type": "markdown",
   "metadata": {
    "colab_type": "text",
    "id": "SdkIt8KkNF7T"
   },
   "source": [
    "Python has access to the functions in the builtin library. If you need anything else you need to import it from reusable modules that are part of the standard library or written by other team members.\n",
    "\n",
    "**Here** we are importing the random module to generate a random number. Keep running it!"
   ]
  },
  {
   "cell_type": "code",
   "execution_count": null,
   "metadata": {
    "colab": {},
    "colab_type": "code",
    "id": "Br38Vf2SMwgJ"
   },
   "outputs": [],
   "source": [
    "import random\n",
    "my_num = random.randint(1, 50)\n",
    "print(my_num)"
   ]
  },
  {
   "cell_type": "markdown",
   "metadata": {
    "colab_type": "text",
    "id": "dDUUnHGizdbV"
   },
   "source": [
    "# *Data* Type\n",
    "### Python infers data type based on what you assign to your variable"
   ]
  },
  {
   "cell_type": "code",
   "execution_count": null,
   "metadata": {
    "colab": {
     "base_uri": "https://localhost:8080/",
     "height": 35
    },
    "colab_type": "code",
    "id": "-aIz-95uzbFZ",
    "outputId": "04c6b86b-3106-484c-8e5b-a7410c549f70"
   },
   "outputs": [
    {
     "data": {
      "text/plain": [
       "str"
      ]
     },
     "execution_count": 8,
     "metadata": {
      "tags": []
     },
     "output_type": "execute_result"
    }
   ],
   "source": [
    "name = \"Beth\"\n",
    "type(name)\n",
    "\n"
   ]
  },
  {
   "cell_type": "code",
   "execution_count": null,
   "metadata": {
    "colab": {},
    "colab_type": "code",
    "id": "ootVa-WM9ZYY"
   },
   "outputs": [],
   "source": [
    "age = 21\n",
    "type(age)"
   ]
  },
  {
   "cell_type": "code",
   "execution_count": null,
   "metadata": {
    "colab": {
     "base_uri": "https://localhost:8080/",
     "height": 34
    },
    "colab_type": "code",
    "id": "qeOSPLD69n3Y",
    "outputId": "91427c85-3067-42e5-bfce-c94f97406885"
   },
   "outputs": [
    {
     "data": {
      "text/plain": [
       "float"
      ]
     },
     "execution_count": 1,
     "metadata": {
      "tags": []
     },
     "output_type": "execute_result"
    }
   ],
   "source": [
    "price = 9.99\n",
    "type(price)"
   ]
  },
  {
   "cell_type": "markdown",
   "metadata": {
    "colab_type": "text",
    "id": "6b5oF0NE_-bi"
   },
   "source": [
    "#### Integers are whole numbers floats are numbers that store the fractional part of the number"
   ]
  },
  {
   "cell_type": "markdown",
   "metadata": {
    "colab_type": "text",
    "id": "p2y0kJ88ATSi"
   },
   "source": [
    "## Number Operations"
   ]
  },
  {
   "cell_type": "code",
   "execution_count": null,
   "metadata": {
    "colab": {},
    "colab_type": "code",
    "id": "BHW3MuT4AjK6"
   },
   "outputs": [],
   "source": [
    "count = 1\n",
    "count = count + 1\n",
    "print(count)"
   ]
  },
  {
   "cell_type": "markdown",
   "metadata": {
    "colab_type": "text",
    "id": "wbe8b-wQAtpm"
   },
   "source": [
    "Compound operations allow for simple math operations using a more concise syntax. Code below is the equivalent of above"
   ]
  },
  {
   "cell_type": "code",
   "execution_count": null,
   "metadata": {
    "colab": {},
    "colab_type": "code",
    "id": "kOEbvlaBA5aO"
   },
   "outputs": [],
   "source": [
    "count = 1\n",
    "count += 1\n",
    "print(count)"
   ]
  },
  {
   "cell_type": "markdown",
   "metadata": {
    "colab_type": "text",
    "id": "wX74mtyWBAEA"
   },
   "source": [
    "### Other Math operators include:\n",
    "- \\* for multiply\n",
    "- \\- for subtract\n",
    "- / for divide\n",
    "- // for integer divide\n",
    "- % for remainder (modulo) division\n",
    "\n",
    "Each operator has a compound equivalent\n"
   ]
  },
  {
   "cell_type": "markdown",
   "metadata": {
    "colab_type": "text",
    "id": "Sd7bAOgsLpae"
   },
   "source": [
    "### What will be the result of the following operation?"
   ]
  },
  {
   "cell_type": "code",
   "execution_count": null,
   "metadata": {
    "colab": {},
    "colab_type": "code",
    "id": "1TxXw4UzLhnS"
   },
   "outputs": [],
   "source": [
    "count = 2\n",
    "count *= 3\n",
    "print(count)"
   ]
  },
  {
   "cell_type": "markdown",
   "metadata": {
    "colab_type": "text",
    "id": "B1vo0k3u_6ej"
   },
   "source": [
    "## Operating on Types"
   ]
  },
  {
   "cell_type": "markdown",
   "metadata": {
    "colab_type": "text",
    "id": "zkEBWeIU-LPQ"
   },
   "source": [
    "### Combining Types"
   ]
  },
  {
   "cell_type": "markdown",
   "metadata": {
    "colab_type": "text",
    "id": "OsecymIz-atq"
   },
   "source": [
    "### Types can be combined/joined using the + operator"
   ]
  },
  {
   "cell_type": "code",
   "execution_count": null,
   "metadata": {
    "colab": {},
    "colab_type": "code",
    "id": "JmNAbfEI-YfX"
   },
   "outputs": [],
   "source": [
    "first_name = \"Amy\"\n",
    "last_name = \"Anderson\"\n",
    "full_name = first_name + \" \" + last_name\n",
    "print(full_name)"
   ]
  },
  {
   "cell_type": "markdown",
   "metadata": {
    "colab_type": "text",
    "id": "cKvP3e94-9Uu"
   },
   "source": [
    "### But only if the types are compatible"
   ]
  },
  {
   "cell_type": "code",
   "execution_count": null,
   "metadata": {
    "colab": {},
    "colab_type": "code",
    "id": "GgJsRTMF_EBH"
   },
   "outputs": [],
   "source": [
    "age = 21\n",
    "message = first_name + \" is \" + age"
   ]
  },
  {
   "cell_type": "markdown",
   "metadata": {
    "colab_type": "text",
    "id": "FxXQDzNhK0ts"
   },
   "source": [
    "### int and str don't mix!"
   ]
  },
  {
   "cell_type": "markdown",
   "metadata": {
    "colab_type": "text",
    "id": "a9EWBcZm_dD7"
   },
   "source": [
    "### Instead convert the age from an integer to as string using the str function"
   ]
  },
  {
   "cell_type": "code",
   "execution_count": null,
   "metadata": {
    "colab": {},
    "colab_type": "code",
    "id": "v3eCwd1B_RT3"
   },
   "outputs": [],
   "source": [
    "message = first_name + \" is \" + str(age)\n",
    "print(message)"
   ]
  },
  {
   "cell_type": "markdown",
   "metadata": {
    "colab_type": "text",
    "id": "1_LGNpNo41VJ"
   },
   "source": [
    "## Lists and Tuples"
   ]
  },
  {
   "cell_type": "code",
   "execution_count": null,
   "metadata": {
    "colab": {},
    "colab_type": "code",
    "id": "Qr5v1uyF44gE"
   },
   "outputs": [],
   "source": [
    "names = [\"Fred\", \"Amy\", \"Raj\", \"Bob\"]\n",
    "print(names[1])\n"
   ]
  },
  {
   "cell_type": "markdown",
   "metadata": {
    "colab_type": "text",
    "id": "eG6uScvF5ke3"
   },
   "source": [
    "### List can be updated"
   ]
  },
  {
   "cell_type": "code",
   "execution_count": null,
   "metadata": {
    "colab": {},
    "colab_type": "code",
    "id": "2IqFEcty5c8Q"
   },
   "outputs": [],
   "source": [
    "names = [\"Fred\", \"Amy\", \"Raj\", \"Bob\"]\n",
    "print(names[1])\n",
    "names[1] = \"Mina\"\n",
    "print(names)"
   ]
  },
  {
   "cell_type": "markdown",
   "metadata": {
    "colab_type": "text",
    "id": "6Ww-FexB52s_"
   },
   "source": [
    "### Tuples can't be changed"
   ]
  },
  {
   "cell_type": "code",
   "execution_count": null,
   "metadata": {
    "colab": {},
    "colab_type": "code",
    "id": "x55ZF2GH58Pm",
    "jupyter": {
     "source_hidden": true
    }
   },
   "outputs": [],
   "source": [
    "names = \"Fred\", \"Amy\", \"Raj\", \"Bob\"\n",
    "print(names[1])\n",
    "names[1] = \"Mina\"\n",
    "print(names)"
   ]
  },
  {
   "cell_type": "markdown",
   "metadata": {
    "colab_type": "text",
    "id": "zOSNxs6O_98j"
   },
   "source": [
    "# Controlling Execution Flow"
   ]
  },
  {
   "cell_type": "markdown",
   "metadata": {
    "colab_type": "text",
    "id": "7gCMx-GCAH-D"
   },
   "source": [
    "## While Loops\n",
    "### Keep executing code while a state is true"
   ]
  },
  {
   "cell_type": "code",
   "execution_count": null,
   "metadata": {
    "colab": {},
    "colab_type": "code",
    "id": "2npFkCwmAVPT"
   },
   "outputs": [],
   "source": [
    "count = 0\n",
    "while count < 20:\n",
    "  print(count)\n",
    "  count += 1"
   ]
  },
  {
   "cell_type": "markdown",
   "metadata": {
    "colab_type": "text",
    "id": "D5d1DTDMso8U"
   },
   "source": [
    "Keep asking for the pin number inside the while loop until either a valid pin number is entered or the attempts variables reaches a value of 3\n"
   ]
  },
  {
   "cell_type": "markdown",
   "metadata": {
    "colab_type": "text",
    "id": "K9KCGabztTOt"
   },
   "source": [
    "else runs when the while clause evaluates to false"
   ]
  },
  {
   "cell_type": "code",
   "execution_count": null,
   "metadata": {
    "colab": {
     "base_uri": "https://localhost:8080/",
     "height": 90
    },
    "colab_type": "code",
    "id": "UvitNioDrvyY",
    "outputId": "40c920ab-720f-4525-dbe3-3dc2004b0731"
   },
   "outputs": [
    {
     "name": "stdout",
     "output_type": "stream",
     "text": [
      "Enter your PIN:26262\n",
      "Access Denied\n",
      "Enter your PIN:1234\n",
      "Access Granted\n"
     ]
    }
   ],
   "source": [
    "master_pin = \"1234\"\n",
    "pin = None\n",
    "attempts = 0 \n",
    "\n",
    "while pin != master_pin and attempts < 3:\n",
    "  pin = input(\"Enter your PIN:\")\n",
    "  if pin == master_pin:\n",
    "    print(\"Access Granted\")\n",
    "  else:\n",
    "    print(\"Access Denied\")\n",
    "    attempts += 1\n",
    "else:\n",
    "\n",
    "  if attempts == 3:\n",
    "    print(\"Account Locked\")\n",
    "  "
   ]
  },
  {
   "cell_type": "markdown",
   "metadata": {
    "colab_type": "text",
    "id": "lvtkwzmttlq5"
   },
   "source": [
    "### For loops will execute either a set number of times "
   ]
  },
  {
   "cell_type": "code",
   "execution_count": null,
   "metadata": {
    "colab": {},
    "colab_type": "code",
    "id": "q5LWJVpdtfwk"
   },
   "outputs": [],
   "source": [
    "for num in range(20):\n",
    "  print(\"Hello for the\", num+1, \"time\")"
   ]
  },
  {
   "cell_type": "markdown",
   "metadata": {
    "colab_type": "text",
    "id": "9h-9VexG2fB3"
   },
   "source": [
    "### Exiting Loops early\n",
    "#### Use break to exit from a for or whil loop"
   ]
  },
  {
   "cell_type": "code",
   "execution_count": null,
   "metadata": {
    "colab": {},
    "colab_type": "code",
    "id": "XtWy8SwH2tEh"
   },
   "outputs": [],
   "source": [
    "for num in range(20):\n",
    "  if num == 10: break\n",
    "  print(\"Hello for the\", num+1, \"time\")"
   ]
  },
  {
   "cell_type": "markdown",
   "metadata": {
    "colab_type": "text",
    "id": "d9y3qe-l23Hz"
   },
   "source": [
    "#### Use continue  to skip to the next iteration"
   ]
  },
  {
   "cell_type": "code",
   "execution_count": null,
   "metadata": {
    "colab": {},
    "colab_type": "code",
    "id": "Mmxxa1iM27gv"
   },
   "outputs": [],
   "source": [
    "for num in range(20):\n",
    "  if num == 10: continue\n",
    "  print(\"Hello for the\", num+1, \"time\")"
   ]
  },
  {
   "cell_type": "markdown",
   "metadata": {
    "colab_type": "text",
    "id": "Izok7J1b3ElP"
   },
   "source": [
    "### Use a for loop to process a collection of data"
   ]
  },
  {
   "cell_type": "code",
   "execution_count": null,
   "metadata": {
    "colab": {},
    "colab_type": "code",
    "id": "twhOVf8m3Psr",
    "jupyter": {
     "source_hidden": true
    }
   },
   "outputs": [],
   "source": [
    "movies = [\"Star Wars\", \"Jaws\", \"Mr Bean The Movie\"]\n",
    "for movie in movies:\n",
    "  print(movie)"
   ]
  },
  {
   "cell_type": "markdown",
   "metadata": {
    "colab_type": "text",
    "id": "-Jd1VwpY2XJD"
   },
   "source": [
    "[Day2](https://colab.research.google.com/drive/1M6hL_bUqTK-E-wjyLz8YuJvG3fGMbbbx)"
   ]
  }
 ],
 "metadata": {
  "colab": {
   "collapsed_sections": [],
   "name": "Day1.ipynb",
   "provenance": [],
   "toc_visible": true
  },
  "kernelspec": {
   "display_name": "Python 3",
   "language": "python",
   "name": "python3"
  },
  "language_info": {
   "codemirror_mode": {
    "name": "ipython",
    "version": 3
   },
   "file_extension": ".py",
   "mimetype": "text/x-python",
   "name": "python",
   "nbconvert_exporter": "python",
   "pygments_lexer": "ipython3",
   "version": "3.7.4"
  }
 },
 "nbformat": 4,
 "nbformat_minor": 4
}
