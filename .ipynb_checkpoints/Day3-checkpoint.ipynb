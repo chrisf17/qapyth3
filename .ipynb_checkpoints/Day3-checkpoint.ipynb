{
 "cells": [
  {
   "cell_type": "markdown",
   "metadata": {
    "colab_type": "text",
    "id": "eZG6FoWvPAax"
   },
   "source": [
    "# Functions\n",
    "\n",
    "Python is a scripting language but that doesn't mean you have to write everything in one long monolithic script.\n",
    "\n",
    "Just like an author doesn't write an entire book in one chapter we don't write our code in one module. Instead we break the code down into reusable chunks called functions.\n",
    "\n",
    "Each function is written as a discrete, self contained, resuable block of code, ideally responsible for doing one thing.\n",
    "\n",
    "## Defining a Function\n",
    "\n",
    "Use the **def** keyword, give the function a name, add some round brackets followed by **:**\n",
    " and then ...\n",
    " \n",
    " Indent the code that belongs to the function by four spaces.\n",
    " \n",
    " \n",
    "**def do_something():**\n",
    "\n",
    "    print(\"I am doing something\")\n",
    "    \n",
    "\n",
    "##Calling a Function\n",
    "\n",
    "Just use the name of the function followed by round brackets to effect the invocation.\n",
    "\n",
    "**do_something()**\n",
    "\n",
    "\n",
    "\n"
   ]
  },
  {
   "cell_type": "code",
   "execution_count": null,
   "metadata": {
    "colab": {
     "base_uri": "https://localhost:8080/",
     "height": 34
    },
    "colab_type": "code",
    "id": "4GiSIxbINClX",
    "outputId": "a229d672-a50b-4853-8cdf-356a373dd8dd"
   },
   "outputs": [
    {
     "name": "stdout",
     "output_type": "stream",
     "text": [
      "Hello Louise\n"
     ]
    }
   ],
   "source": [
    "def say_hello():\n",
    "    print(\"Hello Louise\")\n",
    "\n",
    "\n",
    "say_hello()\n",
    "  "
   ]
  },
  {
   "cell_type": "markdown",
   "metadata": {
    "colab_type": "text",
    "id": "E_g-l5O1LJYF"
   },
   "source": [
    "## Parameters\n",
    "\n",
    "To change the behaviour of a function you need to pass data into it in the form of parameters. "
   ]
  },
  {
   "cell_type": "code",
   "execution_count": null,
   "metadata": {
    "colab": {
     "base_uri": "https://localhost:8080/",
     "height": 34
    },
    "colab_type": "code",
    "id": "2R9Qp-cVLKMw",
    "outputId": "be1d25a5-bf55-41df-dcee-b500338f918a"
   },
   "outputs": [
    {
     "name": "stdout",
     "output_type": "stream",
     "text": [
      "Hello Beth\n"
     ]
    }
   ],
   "source": [
    "def say_hello(first_name):\n",
    "    print(f\"Hello {first_name}\")\n",
    "\n",
    "\n",
    "say_hello(\"Beth\")"
   ]
  },
  {
   "cell_type": "markdown",
   "metadata": {
    "colab_type": "text",
    "id": "UA-rODFcTzdP"
   },
   "source": [
    "If you don't pass expected parameters look what happens!"
   ]
  },
  {
   "cell_type": "code",
   "execution_count": null,
   "metadata": {
    "colab": {
     "base_uri": "https://localhost:8080/",
     "height": 198
    },
    "colab_type": "code",
    "id": "1pWbysgkT5Zd",
    "outputId": "854b1f04-848b-4b84-c606-9f25a88f9348"
   },
   "outputs": [
    {
     "ename": "TypeError",
     "evalue": "ignored",
     "output_type": "error",
     "traceback": [
      "\u001b[0;31m---------------------------------------------------------------------------\u001b[0m",
      "\u001b[0;31mTypeError\u001b[0m                                 Traceback (most recent call last)",
      "\u001b[0;32m<ipython-input-3-c5b1ffe07d6d>\u001b[0m in \u001b[0;36m<module>\u001b[0;34m()\u001b[0m\n\u001b[1;32m      3\u001b[0m \u001b[0;34m\u001b[0m\u001b[0m\n\u001b[1;32m      4\u001b[0m \u001b[0;34m\u001b[0m\u001b[0m\n\u001b[0;32m----> 5\u001b[0;31m \u001b[0msay_hello\u001b[0m\u001b[0;34m(\u001b[0m\u001b[0;34m)\u001b[0m\u001b[0;34m\u001b[0m\u001b[0;34m\u001b[0m\u001b[0m\n\u001b[0m",
      "\u001b[0;31mTypeError\u001b[0m: say_hello() missing 1 required positional argument: 'first_name'"
     ]
    }
   ],
   "source": [
    "def say_hello(first_name):\n",
    "    print(f\"Hello {first_name}\")\n",
    "\n",
    "\n",
    "say_hello()"
   ]
  },
  {
   "cell_type": "markdown",
   "metadata": {
    "colab_type": "text",
    "id": "LF7Yw88OUCt6"
   },
   "source": [
    "Parameters can be made optional by providing a default value.\n",
    "\n",
    "Here we are allowing first_name to default to **World** if it's not supplied as a parameters. That means no error"
   ]
  },
  {
   "cell_type": "code",
   "execution_count": null,
   "metadata": {
    "colab": {
     "base_uri": "https://localhost:8080/",
     "height": 34
    },
    "colab_type": "code",
    "id": "yqmil5RBUFv1",
    "outputId": "a707f17d-a61c-4a47-fae4-fcb324245b6e"
   },
   "outputs": [
    {
     "name": "stdout",
     "output_type": "stream",
     "text": [
      "Hello World\n"
     ]
    }
   ],
   "source": [
    "def say_hello(first_name=\"World\"):\n",
    "    print(f\"Hello {first_name}\")\n",
    "\n",
    "\n",
    "say_hello()"
   ]
  },
  {
   "cell_type": "markdown",
   "metadata": {
    "colab_type": "text",
    "id": "K8Eyrnwj84Wa"
   },
   "source": [
    "## Multiple Parameters\n",
    "\n",
    "Functions can have more than one parameter and can be passed data in the order they appear in the parameter list"
   ]
  },
  {
   "cell_type": "code",
   "execution_count": null,
   "metadata": {
    "colab": {
     "base_uri": "https://localhost:8080/",
     "height": 34
    },
    "colab_type": "code",
    "id": "g_utXvkT9Llo",
    "outputId": "761a1e2d-2361-4e54-a74c-88eae2ff8c87"
   },
   "outputs": [
    {
     "name": "stdout",
     "output_type": "stream",
     "text": [
      "Hello Beth McGregor\n"
     ]
    }
   ],
   "source": [
    "def say_hello(first_name, last_name):\n",
    "    print(f\"Hello {first_name} {last_name}\")\n",
    "\n",
    "\n",
    "say_hello(\"Beth\", \"McGregor\")"
   ]
  },
  {
   "cell_type": "markdown",
   "metadata": {
    "colab_type": "text",
    "id": "14ynqEzE-Ne4"
   },
   "source": [
    "## Named Parameters\n",
    "\n",
    "To pass parameters out of order/sequence you need to name your parameters"
   ]
  },
  {
   "cell_type": "code",
   "execution_count": null,
   "metadata": {
    "colab": {
     "base_uri": "https://localhost:8080/",
     "height": 34
    },
    "colab_type": "code",
    "id": "tW6g77wu-2Ul",
    "outputId": "b750461b-f4a2-4560-aef0-3772506ac44f"
   },
   "outputs": [
    {
     "name": "stdout",
     "output_type": "stream",
     "text": [
      "Hello Beth McGregor\n"
     ]
    }
   ],
   "source": [
    "def say_hello(first_name, last_name):\n",
    "    print(f\"Hello {first_name} {last_name}\")\n",
    "\n",
    "\n",
    "say_hello(last_name = \"McGregor\", first_name = \"Beth\")"
   ]
  },
  {
   "cell_type": "markdown",
   "metadata": {
    "colab_type": "text",
    "id": "RtIsXiZhJobL"
   },
   "source": [
    "## Enforcing Named Parameters\n",
    "\n",
    "To ensure functions are always called with named parameters use an asterisk as a first parameter then if a function is called with named parameters an error will be thrown"
   ]
  },
  {
   "cell_type": "code",
   "execution_count": null,
   "metadata": {
    "colab": {
     "base_uri": "https://localhost:8080/",
     "height": 215
    },
    "colab_type": "code",
    "id": "XjJIEPTIKiMe",
    "outputId": "efe8021f-36fa-4659-c217-f0260dc4d85a"
   },
   "outputs": [
    {
     "name": "stdout",
     "output_type": "stream",
     "text": [
      "Hello Beth McGregor\n"
     ]
    },
    {
     "ename": "TypeError",
     "evalue": "ignored",
     "output_type": "error",
     "traceback": [
      "\u001b[0;31m---------------------------------------------------------------------------\u001b[0m",
      "\u001b[0;31mTypeError\u001b[0m                                 Traceback (most recent call last)",
      "\u001b[0;32m<ipython-input-1-4e39983b7482>\u001b[0m in \u001b[0;36m<module>\u001b[0;34m()\u001b[0m\n\u001b[1;32m      5\u001b[0m \u001b[0msay_hello\u001b[0m\u001b[0;34m(\u001b[0m\u001b[0mlast_name\u001b[0m \u001b[0;34m=\u001b[0m \u001b[0;34m\"McGregor\"\u001b[0m\u001b[0;34m,\u001b[0m \u001b[0mfirst_name\u001b[0m \u001b[0;34m=\u001b[0m \u001b[0;34m\"Beth\"\u001b[0m\u001b[0;34m)\u001b[0m\u001b[0;34m\u001b[0m\u001b[0;34m\u001b[0m\u001b[0m\n\u001b[1;32m      6\u001b[0m \u001b[0;34m\u001b[0m\u001b[0m\n\u001b[0;32m----> 7\u001b[0;31m \u001b[0msay_hello\u001b[0m\u001b[0;34m(\u001b[0m\u001b[0;34m\"Fred\"\u001b[0m\u001b[0;34m,\u001b[0m \u001b[0;34m\"Bloggs\"\u001b[0m\u001b[0;34m)\u001b[0m\u001b[0;34m\u001b[0m\u001b[0;34m\u001b[0m\u001b[0m\n\u001b[0m",
      "\u001b[0;31mTypeError\u001b[0m: say_hello() takes 0 positional arguments but 2 were given"
     ]
    }
   ],
   "source": [
    "def say_hello(*, first_name, last_name):\n",
    "    print(f\"Hello {first_name} {last_name}\")\n",
    "\n",
    "\n",
    "say_hello(last_name = \"McGregor\", first_name = \"Beth\")\n",
    "\n",
    "say_hello(\"Fred\", \"Bloggs\")\n"
   ]
  },
  {
   "cell_type": "markdown",
   "metadata": {
    "colab_type": "text",
    "id": "VFhPbExYhi2U"
   },
   "source": [
    "## Scope: What happens inside a function stays inside a function!\n",
    "\n",
    "You can declare variables inside your functions."
   ]
  },
  {
   "cell_type": "code",
   "execution_count": null,
   "metadata": {
    "colab": {
     "base_uri": "https://localhost:8080/",
     "height": 215
    },
    "colab_type": "code",
    "id": "3Y0K30L3vklv",
    "outputId": "513a5554-4d36-4bee-d84c-e4fef204a7fb"
   },
   "outputs": [
    {
     "name": "stdout",
     "output_type": "stream",
     "text": [
      "Hello Beth\n"
     ]
    },
    {
     "ename": "NameError",
     "evalue": "ignored",
     "output_type": "error",
     "traceback": [
      "\u001b[0;31m---------------------------------------------------------------------------\u001b[0m",
      "\u001b[0;31mNameError\u001b[0m                                 Traceback (most recent call last)",
      "\u001b[0;32m<ipython-input-1-dc4d5a239a41>\u001b[0m in \u001b[0;36m<module>\u001b[0;34m()\u001b[0m\n\u001b[1;32m      6\u001b[0m \u001b[0msay_hello\u001b[0m\u001b[0;34m(\u001b[0m\u001b[0;34m\"Beth\"\u001b[0m\u001b[0;34m)\u001b[0m\u001b[0;34m\u001b[0m\u001b[0;34m\u001b[0m\u001b[0m\n\u001b[1;32m      7\u001b[0m \u001b[0;34m\u001b[0m\u001b[0m\n\u001b[0;32m----> 8\u001b[0;31m \u001b[0mprint\u001b[0m\u001b[0;34m(\u001b[0m\u001b[0mmessage\u001b[0m\u001b[0;34m)\u001b[0m\u001b[0;34m\u001b[0m\u001b[0;34m\u001b[0m\u001b[0m\n\u001b[0m",
      "\u001b[0;31mNameError\u001b[0m: name 'message' is not defined"
     ]
    }
   ],
   "source": [
    "def say_hello(first_name):\n",
    "\n",
    "    message = f\"Hello {first_name}\"\n",
    "    print(message)\n",
    "\n",
    "say_hello(\"Beth\")\n",
    "\n",
    "print(message)"
   ]
  },
  {
   "cell_type": "markdown",
   "metadata": {
    "colab_type": "text",
    "id": "hu0N1gi9vzst"
   },
   "source": [
    "Notice how the **message** variable inside the **say_hello** function can be printed inside the function but we get an error when we try to print it on the outside.\n",
    "\n",
    "That's because the data you define within a function is local just to that function and lives in memory only as long as the function is exctuting\n",
    "\n",
    "If you want to give the outside world access to data inside a function you have to return it"
   ]
  },
  {
   "cell_type": "markdown",
   "metadata": {
    "colab_type": "text",
    "id": "kKjmUK6JvbCI"
   },
   "source": [
    "## Returning Data from Functions\n",
    "\n",
    "A function can return any kind of object. That means although data is private inside a function it can be copied to the outside."
   ]
  },
  {
   "cell_type": "code",
   "execution_count": null,
   "metadata": {
    "colab": {
     "base_uri": "https://localhost:8080/",
     "height": 34
    },
    "colab_type": "code",
    "id": "331MvgiWEOW0",
    "outputId": "9fbbf01b-fb79-4c80-fb80-56dce2bcef1c"
   },
   "outputs": [
    {
     "name": "stdout",
     "output_type": "stream",
     "text": [
      "8\n"
     ]
    }
   ],
   "source": [
    "def add(first, second):\n",
    "  \n",
    "    \n",
    "    # local variable\n",
    "    result = first + second \n",
    "    \n",
    "    return result # instead of print out result we return it\n",
    "\n",
    "# Returned data is caught in a catching cariable in this case called added_data\n",
    "added_data = add(5, 3)\n",
    "print(added_data)\n"
   ]
  },
  {
   "cell_type": "markdown",
   "metadata": {
    "colab_type": "text",
    "id": "d9f43cIqVjEO"
   },
   "source": [
    "## Variadic Parameters\n",
    "\n",
    "A variadic parameter allows more than one value to be passed to it when its function is invoked"
   ]
  },
  {
   "cell_type": "code",
   "execution_count": 1,
   "metadata": {
    "colab": {
     "base_uri": "https://localhost:8080/",
     "height": 102
    },
    "colab_type": "code",
    "id": "Tow3eBOdWV_g",
    "outputId": "1289c306-d7ee-47c2-d648-323a3c6691ce"
   },
   "outputs": [
    {
     "name": "stdout",
     "output_type": "stream",
     "text": [
      "Smoothie Strawberry Burst contains:\n",
      "('Strawberries', 'Banana', 'Mango')\n",
      "Strawberries\n",
      "Banana\n",
      "Mango\n"
     ]
    }
   ],
   "source": [
    "def make_smoothie(name, *fruits):\n",
    "    print(f\"Smoothie {name} contains:\")\n",
    "    print(fruits)\n",
    "    for fruit in fruits:\n",
    "      print(fruit)\n",
    "      \n",
    "make_smoothie(\"Strawberry Burst\", \"Strawberries\", \"Banana\", \"Mango\") \n"
   ]
  },
  {
   "cell_type": "markdown",
   "metadata": {
    "colab_type": "text",
    "id": "lmHgkgGCX1PP"
   },
   "source": [
    "Notice above we have a function with two parameters but we passed it four. The \\*fruits indicates a variadic parameter which appear as the last parameter and can be passed multiple values.\n",
    "\n",
    "The data is received as a tuple\n",
    "\n",
    "## Python Keyword Parameters\n",
    "\n",
    "Keyword parameters allow dynamically defined parameters to be passed to a function and recieved as a dictionary\n",
    "\n",
    "Declare a parameter using **param_name"
   ]
  },
  {
   "cell_type": "code",
   "execution_count": null,
   "metadata": {
    "colab": {
     "base_uri": "https://localhost:8080/",
     "height": 68
    },
    "colab_type": "code",
    "id": "GmrtxY-J7rro",
    "outputId": "76e2b1fc-9446-45fd-8e60-2da8078668e0"
   },
   "outputs": [
    {
     "name": "stdout",
     "output_type": "stream",
     "text": [
      "Movie Title:Star Wars\n",
      "{'year': 1977, 'duration': '1h22m', 'director': 'Steven Spielberg'}\n",
      "Steven Spielberg\n"
     ]
    }
   ],
   "source": [
    "def display_movie(title, **details):\n",
    "    print(f\"Movie Title:{title}\")\n",
    "    print(details)\n",
    "    print(details[\"director\"])\n",
    "\n",
    "display_movie(\"Star Wars\", year=1977, duration=\"1h22m\", director=\"Steven Spielberg\")\n",
    "  "
   ]
  },
  {
   "cell_type": "markdown",
   "metadata": {
    "colab_type": "text",
    "id": "KbQq4ThGLJM4"
   },
   "source": [
    "## Variable Scope\n",
    "\n",
    "When you declare a variable in your module it can be accessed by any module level code written below it but not above it\n",
    "\n",
    "That's why the code below errors because we try to print y before it is declared\n",
    "\n",
    "\n"
   ]
  },
  {
   "cell_type": "code",
   "execution_count": null,
   "metadata": {
    "colab": {
     "base_uri": "https://localhost:8080/",
     "height": 246
    },
    "colab_type": "code",
    "id": "okcrOC4YMEzd",
    "outputId": "77a15f1c-8e00-4bb4-e1a7-45e0efbf07a5"
   },
   "outputs": [
    {
     "name": "stdout",
     "output_type": "stream",
     "text": [
      "10\n"
     ]
    },
    {
     "ename": "NameError",
     "evalue": "ignored",
     "output_type": "error",
     "traceback": [
      "\u001b[0;31m---------------------------------------------------------------------------\u001b[0m",
      "\u001b[0;31mNameError\u001b[0m                                 Traceback (most recent call last)",
      "\u001b[0;32m<ipython-input-1-a3cb15b7df1c>\u001b[0m in \u001b[0;36m<module>\u001b[0;34m()\u001b[0m\n\u001b[1;32m      1\u001b[0m \u001b[0mx\u001b[0m \u001b[0;34m=\u001b[0m \u001b[0;36m10\u001b[0m\u001b[0;34m\u001b[0m\u001b[0;34m\u001b[0m\u001b[0m\n\u001b[1;32m      2\u001b[0m \u001b[0mprint\u001b[0m\u001b[0;34m(\u001b[0m\u001b[0mx\u001b[0m\u001b[0;34m)\u001b[0m\u001b[0;34m\u001b[0m\u001b[0;34m\u001b[0m\u001b[0m\n\u001b[0;32m----> 3\u001b[0;31m \u001b[0mprint\u001b[0m\u001b[0;34m(\u001b[0m\u001b[0my\u001b[0m\u001b[0;34m)\u001b[0m\u001b[0;34m\u001b[0m\u001b[0;34m\u001b[0m\u001b[0m\n\u001b[0m\u001b[1;32m      4\u001b[0m \u001b[0my\u001b[0m \u001b[0;34m=\u001b[0m \u001b[0;36m20\u001b[0m\u001b[0;34m\u001b[0m\u001b[0;34m\u001b[0m\u001b[0m\n\u001b[1;32m      5\u001b[0m \u001b[0mprint\u001b[0m\u001b[0;34m(\u001b[0m\u001b[0my\u001b[0m\u001b[0;34m)\u001b[0m\u001b[0;34m\u001b[0m\u001b[0;34m\u001b[0m\u001b[0m\n",
      "\u001b[0;31mNameError\u001b[0m: name 'y' is not defined"
     ]
    }
   ],
   "source": [
    "x = 10\n",
    "print(x)\n",
    "print(y) \n",
    "y = 20\n",
    "print(y)"
   ]
  },
  {
   "cell_type": "markdown",
   "metadata": {
    "colab_type": "text",
    "id": "TMA_8QDgJTT_"
   },
   "source": [
    "### Functions can see data declared in their module\n",
    "\n",
    "Functions have access to:\n",
    "\n",
    "- Any variables declared in their containing module \n",
    "\n",
    "- Any functions declared in their containing module \n",
    "\n",
    "- Any the publicly accessible content of any other imported modules\n"
   ]
  },
  {
   "cell_type": "code",
   "execution_count": null,
   "metadata": {
    "colab": {
     "base_uri": "https://localhost:8080/",
     "height": 51
    },
    "colab_type": "code",
    "id": "Yet5KT0aKSC5",
    "outputId": "77f8c575-e527-4bea-bacc-d0a4f03f61ae"
   },
   "outputs": [
    {
     "name": "stdout",
     "output_type": "stream",
     "text": [
      "print_vars() -> x:10, y:20\n",
      "module -> x:10\n"
     ]
    }
   ],
   "source": [
    "x = 10 # global variable accessible to all code of module and any module that imports it\n",
    "\n",
    "def print_vars():\n",
    "  \n",
    "    y = 20 # Local variable only accessible inside print_vars\n",
    "  \n",
    "    print(f\"print_vars() -> x:{x}, y:{y}\")\n",
    "\n",
    "print_vars()\n",
    "print(f\"module -> x:{x}\")\n",
    "#print(f\"module -> y:{y}\")"
   ]
  },
  {
   "cell_type": "markdown",
   "metadata": {
    "colab_type": "text",
    "id": "URaCMFPSKRMS"
   },
   "source": [
    "Try uncommenting the code line 11 and run it again. You should get an error because y isn't accessible from outside the function\n",
    "\n"
   ]
  },
  {
   "cell_type": "markdown",
   "metadata": {
    "colab_type": "text",
    "id": "9QwTTqdoMEel"
   },
   "source": [
    "### Local Scope\n",
    "\n"
   ]
  },
  {
   "cell_type": "markdown",
   "metadata": {
    "colab_type": "text",
    "id": "20257SpPMRuv"
   },
   "source": [
    "When you declare a variableit joins the local variables collection for that functions. You can actually see this happen by printing the locals() function. locals() returns a dictionary containing all variables in the local scope of the current contect (function or module)"
   ]
  },
  {
   "cell_type": "code",
   "execution_count": null,
   "metadata": {
    "colab": {
     "base_uri": "https://localhost:8080/",
     "height": 34
    },
    "colab_type": "code",
    "id": "P9X9H3DfMsX4",
    "outputId": "2dc4de03-d9eb-4b5c-c7fb-ea2029645771"
   },
   "outputs": [
    {
     "name": "stdout",
     "output_type": "stream",
     "text": [
      "{'y': 20}\n"
     ]
    }
   ],
   "source": [
    "x = 10\n",
    "def print_vars():\n",
    "  \n",
    "    y = 20 # Local variable only accessible inside print_vars\n",
    "  \n",
    "    print(locals())\n",
    "\n",
    "print_vars()\n"
   ]
  },
  {
   "cell_type": "markdown",
   "metadata": {
    "colab_type": "text",
    "id": "8aDuv3AZM8hJ"
   },
   "source": [
    "You could also print the globally defined variables which are the ones defined outside of the local scope"
   ]
  },
  {
   "cell_type": "code",
   "execution_count": null,
   "metadata": {
    "colab": {
     "base_uri": "https://localhost:8080/",
     "height": 71
    },
    "colab_type": "code",
    "id": "cN10N3N3NGMU",
    "outputId": "e886f831-05fb-4d79-bb8d-2d67c7155853"
   },
   "outputs": [
    {
     "name": "stdout",
     "output_type": "stream",
     "text": [
      "{'y': 20}\n",
      "{'__name__': '__main__', '__doc__': 'Automatically created module for IPython interactive environment', '__package__': None, '__loader__': None, '__spec__': None, '__builtin__': <module 'builtins' (built-in)>, '__builtins__': <module 'builtins' (built-in)>, '_ih': ['', 'x = 10\\nprint(x)\\nprint(y) \\ny = 20\\nprint(y)', 'x = 10\\n\\ndef print_vars():\\n  \\n    y = 20\\n  \\n    print(f\"x:{x}, y:{y}\")\\n\\nprint_vars()', 'x = 10 # global variable accessible to all code of module and any module that imports it\\n\\ndef print_vars():\\n  \\n    y = 20 # Local variable only accessible inside print_vars\\n  \\n    print(f\"print_vars -> x:{x}, y:{y}\")\\n\\nprint_vars()\\nprint(\"\")', 'x = 10 # global variable accessible to all code of module and any module that imports it\\n\\ndef print_vars():\\n  \\n    y = 20 # Local variable only accessible inside print_vars\\n  \\n    print(f\"print_vars() -> x:{x}, y:{y}\")\\n\\nprint_vars()\\nprint(f\"module -> x:{x}\")\\n#print(f\"module -> y:{y}\")', 'x = 10\\ndef print_vars():\\n  \\n    y = 20 # Local variable only accessible inside print_vars\\n  \\n    print(locals())\\n\\nprint_vars()', 'x = 10\\ndef print_vars():\\n  \\n    y = 20 # Local variable only accessible inside print_vars\\n  \\n    print(locals())\\n    print(globals())\\n    \\n\\nprint_vars()', 'x = 10\\ndef print_vars():\\n  \\n    y = 20 # Local variable only accessible inside print_vars\\n  \\n    print(locals())\\n    print(globals()[\"x\"])\\n    \\n\\nprint_vars()', 'x = 10\\ndef print_vars():\\n  \\n    y = 20 # Local variable only accessible inside print_vars\\n  \\n    print(locals())\\n    print(globals())\\n    \\n\\nprint_vars()', 'x = 10\\ndef print_vars():\\n  \\n    y = 20 # Local variable only accessible inside print_vars\\n  \\n    print(locals())\\n    print(globals())\\n    \\n\\nprint_vars()'], '_oh': {}, '_dh': ['/content'], '_sh': <module 'IPython.core.shadowns' from '/usr/local/lib/python3.6/dist-packages/IPython/core/shadowns.py'>, 'In': ['', 'x = 10\\nprint(x)\\nprint(y) \\ny = 20\\nprint(y)', 'x = 10\\n\\ndef print_vars():\\n  \\n    y = 20\\n  \\n    print(f\"x:{x}, y:{y}\")\\n\\nprint_vars()', 'x = 10 # global variable accessible to all code of module and any module that imports it\\n\\ndef print_vars():\\n  \\n    y = 20 # Local variable only accessible inside print_vars\\n  \\n    print(f\"print_vars -> x:{x}, y:{y}\")\\n\\nprint_vars()\\nprint(\"\")', 'x = 10 # global variable accessible to all code of module and any module that imports it\\n\\ndef print_vars():\\n  \\n    y = 20 # Local variable only accessible inside print_vars\\n  \\n    print(f\"print_vars() -> x:{x}, y:{y}\")\\n\\nprint_vars()\\nprint(f\"module -> x:{x}\")\\n#print(f\"module -> y:{y}\")', 'x = 10\\ndef print_vars():\\n  \\n    y = 20 # Local variable only accessible inside print_vars\\n  \\n    print(locals())\\n\\nprint_vars()', 'x = 10\\ndef print_vars():\\n  \\n    y = 20 # Local variable only accessible inside print_vars\\n  \\n    print(locals())\\n    print(globals())\\n    \\n\\nprint_vars()', 'x = 10\\ndef print_vars():\\n  \\n    y = 20 # Local variable only accessible inside print_vars\\n  \\n    print(locals())\\n    print(globals()[\"x\"])\\n    \\n\\nprint_vars()', 'x = 10\\ndef print_vars():\\n  \\n    y = 20 # Local variable only accessible inside print_vars\\n  \\n    print(locals())\\n    print(globals())\\n    \\n\\nprint_vars()', 'x = 10\\ndef print_vars():\\n  \\n    y = 20 # Local variable only accessible inside print_vars\\n  \\n    print(locals())\\n    print(globals())\\n    \\n\\nprint_vars()'], 'Out': {}, 'get_ipython': <bound method InteractiveShell.get_ipython of <google.colab._shell.Shell object at 0x7f29ab57f240>>, 'exit': <IPython.core.autocall.ZMQExitAutocall object at 0x7f29ab3416d8>, 'quit': <IPython.core.autocall.ZMQExitAutocall object at 0x7f29ab3416d8>, '_': '', '__': '', '___': '', '_i': 'x = 10\\ndef print_vars():\\n  \\n    y = 20 # Local variable only accessible inside print_vars\\n  \\n    print(locals())\\n    print(globals())\\n    \\n\\nprint_vars()', '_ii': 'x = 10\\ndef print_vars():\\n  \\n    y = 20 # Local variable only accessible inside print_vars\\n  \\n    print(locals())\\n    print(globals()[\"x\"])\\n    \\n\\nprint_vars()', '_iii': 'x = 10\\ndef print_vars():\\n  \\n    y = 20 # Local variable only accessible inside print_vars\\n  \\n    print(locals())\\n    print(globals())\\n    \\n\\nprint_vars()', '_i1': 'x = 10\\nprint(x)\\nprint(y) \\ny = 20\\nprint(y)', 'x': 10, '_i2': 'x = 10\\n\\ndef print_vars():\\n  \\n    y = 20\\n  \\n    print(f\"x:{x}, y:{y}\")\\n\\nprint_vars()', 'print_vars': <function print_vars at 0x7f2995cc61e0>, '_i3': 'x = 10 # global variable accessible to all code of module and any module that imports it\\n\\ndef print_vars():\\n  \\n    y = 20 # Local variable only accessible inside print_vars\\n  \\n    print(f\"print_vars -> x:{x}, y:{y}\")\\n\\nprint_vars()\\nprint(\"\")', '_i4': 'x = 10 # global variable accessible to all code of module and any module that imports it\\n\\ndef print_vars():\\n  \\n    y = 20 # Local variable only accessible inside print_vars\\n  \\n    print(f\"print_vars() -> x:{x}, y:{y}\")\\n\\nprint_vars()\\nprint(f\"module -> x:{x}\")\\n#print(f\"module -> y:{y}\")', '_i5': 'x = 10\\ndef print_vars():\\n  \\n    y = 20 # Local variable only accessible inside print_vars\\n  \\n    print(locals())\\n\\nprint_vars()', '_i6': 'x = 10\\ndef print_vars():\\n  \\n    y = 20 # Local variable only accessible inside print_vars\\n  \\n    print(locals())\\n    print(globals())\\n    \\n\\nprint_vars()', '_i7': 'x = 10\\ndef print_vars():\\n  \\n    y = 20 # Local variable only accessible inside print_vars\\n  \\n    print(locals())\\n    print(globals()[\"x\"])\\n    \\n\\nprint_vars()', '_i8': 'x = 10\\ndef print_vars():\\n  \\n    y = 20 # Local variable only accessible inside print_vars\\n  \\n    print(locals())\\n    print(globals())\\n    \\n\\nprint_vars()', '_i9': 'x = 10\\ndef print_vars():\\n  \\n    y = 20 # Local variable only accessible inside print_vars\\n  \\n    print(locals())\\n    print(globals())\\n    \\n\\nprint_vars()'}\n"
     ]
    }
   ],
   "source": [
    "x = 10\n",
    "def print_vars():\n",
    "  \n",
    "    y = 20 # Local variable only accessible inside print_vars\n",
    "  \n",
    "    print(locals())\n",
    "    print(globals())\n",
    "    \n",
    "\n",
    "print_vars()\n"
   ]
  },
  {
   "cell_type": "markdown",
   "metadata": {
    "colab_type": "text",
    "id": "SSmT9V6kOZde"
   },
   "source": [
    "If you look hard enough you will see x is a dictionary item defined inside the globals() dictionary.\n",
    "\n",
    "If you declare a variable at the module level it joins globals() \n",
    "\n",
    "Declare a variables within a function and it joins the locals() for that function and is only acessible inside the function."
   ]
  },
  {
   "cell_type": "markdown",
   "metadata": {
    "colab_type": "text",
    "id": "gfn4En8zPUQV"
   },
   "source": [
    "### We always create local function variables, unless ...\n",
    "\n",
    "Variables assigned to inside functions are always created as new local variables \n"
   ]
  },
  {
   "cell_type": "code",
   "execution_count": null,
   "metadata": {
    "colab": {
     "base_uri": "https://localhost:8080/",
     "height": 51
    },
    "colab_type": "code",
    "id": "vhgrR_TE4vxX",
    "outputId": "fa74d9c2-055d-4319-8623-56cec69bdf60"
   },
   "outputs": [
    {
     "name": "stdout",
     "output_type": "stream",
     "text": [
      "{'y': 20, 'x': 99}\n",
      "Global x is 10\n"
     ]
    }
   ],
   "source": [
    "x = 10\n",
    "def print_vars():\n",
    "  \n",
    "    x = 99 # Creates a new local x variable as wel as the global x variable \n",
    "    y = 20 # Local variable only accessible inside print_vars\n",
    "  \n",
    "    print(locals())\n",
    "    \n",
    "\n",
    "print_vars()\n",
    "print(f\"Global x is {x}\")\n"
   ]
  },
  {
   "cell_type": "markdown",
   "metadata": {
    "colab_type": "text",
    "id": "w2LFZbPu8whX"
   },
   "source": [
    "To allow a function to update a global variable you must declare the variable **global** inside the function"
   ]
  },
  {
   "cell_type": "code",
   "execution_count": null,
   "metadata": {
    "colab": {
     "base_uri": "https://localhost:8080/",
     "height": 51
    },
    "colab_type": "code",
    "id": "w05xnid78_JX",
    "outputId": "c7eea197-35d5-4fca-83a9-2a72d2b862e8"
   },
   "outputs": [
    {
     "name": "stdout",
     "output_type": "stream",
     "text": [
      "{'y': 20}\n",
      "Global x is 99\n"
     ]
    }
   ],
   "source": [
    "x = 10\n",
    "def print_vars():\n",
    "    global x\n",
    "    x = 99 # Creates a new local x variable as wel as the global x variable \n",
    "    y = 20 # Local variable only accessible inside print_vars\n",
    "  \n",
    "    print(locals())\n",
    "    \n",
    "\n",
    "print_vars()\n",
    "print(f\"Global x is {x}\")\n"
   ]
  },
  {
   "cell_type": "markdown",
   "metadata": {
    "colab_type": "text",
    "id": "mZlUeuqMNB6i"
   },
   "source": [
    "## Functions and Variables\n",
    "\n",
    "If you print a function's usin just its name (withoy parantheses) it will display the name of the function and its address.\n",
    "\n"
   ]
  },
  {
   "cell_type": "code",
   "execution_count": null,
   "metadata": {
    "colab": {
     "base_uri": "https://localhost:8080/",
     "height": 51
    },
    "colab_type": "code",
    "id": "34uCkZ0TcLYg",
    "outputId": "194003f0-430c-4293-8b55-b30932e2a429"
   },
   "outputs": [
    {
     "name": "stdout",
     "output_type": "stream",
     "text": [
      "Hello World\n",
      "<function say_hello at 0x7f260be9ca60>\n"
     ]
    }
   ],
   "source": [
    "def say_hello():\n",
    "  print(\"Hello World\")\n",
    "\n",
    "say_hello()\n",
    "print(say_hello)"
   ]
  },
  {
   "cell_type": "markdown",
   "metadata": {
    "colab_type": "text",
    "id": "U4woHl4Vc4FE"
   },
   "source": [
    "A function's name is essentially just a refernce to the function code and parameter list.\n",
    "\n",
    "Assigning a function name to another variable creates an alias for that function"
   ]
  },
  {
   "cell_type": "code",
   "execution_count": null,
   "metadata": {
    "colab": {
     "base_uri": "https://localhost:8080/",
     "height": 34
    },
    "colab_type": "code",
    "id": "IzqWgl58dHN9",
    "outputId": "58611ec4-3352-4330-faab-0bad7d75bb3c"
   },
   "outputs": [
    {
     "name": "stdout",
     "output_type": "stream",
     "text": [
      "Hello World\n"
     ]
    }
   ],
   "source": [
    "def say_hello():\n",
    "  print(\"Hello World\")\n",
    "\n",
    "zzz = say_hello\n",
    "zzz() # You can invoke the function via its aliased reference"
   ]
  },
  {
   "cell_type": "markdown",
   "metadata": {
    "colab_type": "text",
    "id": "Auu7a_nndh1z"
   },
   "source": [
    "Because you can access a function via a reference variable you can pass function to ther functions.\n",
    "\n",
    "Below a list of data and the **add** function is passed into the **do_math** function. **do_math** then performs the math operation **add** on the list without actually knowing what kind of operatiion it is .\n",
    "\n",
    "Try changing the code to make **do_math** use the **multiply** instead of the **add**\n"
   ]
  },
  {
   "cell_type": "code",
   "execution_count": null,
   "metadata": {
    "colab": {
     "base_uri": "https://localhost:8080/",
     "height": 68
    },
    "colab_type": "code",
    "id": "4VKo6DHJdt8Z",
    "outputId": "24b6e00d-2bef-4820-8524-62268534292e"
   },
   "outputs": [
    {
     "name": "stdout",
     "output_type": "stream",
     "text": [
      "12\n",
      "22\n",
      "32\n"
     ]
    }
   ],
   "source": [
    "def do_math(data, operation):\n",
    "  for value in data:\n",
    "    result = operation(value, 2)\n",
    "    print(result)\n",
    "\n",
    "def add(p1, p2):\n",
    "  return p1 + p2\n",
    "\n",
    "def multiply(p1, p2):\n",
    "  return p1 * p2\n",
    "\n",
    "do_math([10, 20, 30], add)"
   ]
  },
  {
   "cell_type": "markdown",
   "metadata": {
    "colab_type": "text",
    "id": "h8cXzxFK4vG8"
   },
   "source": [
    "## Lambda Expressions\n",
    "\n",
    "Lambda expressions are essentially very concise functions. The **add** function could be rewritten as a lambda using the following syntax\n",
    "\n",
    "\n",
    "\n"
   ]
  },
  {
   "cell_type": "code",
   "execution_count": null,
   "metadata": {
    "colab": {
     "base_uri": "https://localhost:8080/",
     "height": 34
    },
    "colab_type": "code",
    "id": "ePoUBeBHua0e",
    "outputId": "512ed6d2-1bea-4567-a15b-423c3f0ab4d4"
   },
   "outputs": [
    {
     "data": {
      "text/plain": [
       "12"
      ]
     },
     "execution_count": 3,
     "metadata": {
      "tags": []
     },
     "output_type": "execute_result"
    }
   ],
   "source": [
    "add = lambda p1, p2: p1 + p2\n",
    "add(10, 2)\n"
   ]
  },
  {
   "cell_type": "markdown",
   "metadata": {
    "colab_type": "text",
    "id": "YqIPJs75uoOC"
   },
   "source": [
    "The \n",
    "\n",
    "```\n",
    "lambda p1, p2: p1 + p2 \n",
    "```\n",
    "could be passed directly to **do_math**. Notice how the lambda doesn't require a **return** statement which is implicit\n",
    "\n",
    "The code block above could be rewritten using a lambda as:"
   ]
  },
  {
   "cell_type": "code",
   "execution_count": null,
   "metadata": {
    "colab": {
     "base_uri": "https://localhost:8080/",
     "height": 68
    },
    "colab_type": "code",
    "id": "zZ_vfvu_5M7_",
    "outputId": "e0404e76-c833-4920-e779-91aeda14d452"
   },
   "outputs": [
    {
     "name": "stdout",
     "output_type": "stream",
     "text": [
      "12\n",
      "22\n",
      "32\n"
     ]
    }
   ],
   "source": [
    "def do_math(data, operation):\n",
    "  for value in data:\n",
    "    result = operation(value, 2)\n",
    "    print(result)\n",
    "\n",
    "do_math([10, 20, 30], lambda p1, p2: p1+p2)"
   ]
  },
  {
   "cell_type": "markdown",
   "metadata": {
    "colab_type": "text",
    "id": "TJ9om9c_59f_"
   },
   "source": [
    "## Nested Functions\n",
    "\n",
    "Functions can be nested inside of each other alowing a much reduced data scope to be produced.\n",
    "\n"
   ]
  },
  {
   "cell_type": "code",
   "execution_count": null,
   "metadata": {
    "colab": {
     "base_uri": "https://localhost:8080/",
     "height": 34
    },
    "colab_type": "code",
    "id": "HQk28D3l6QYf",
    "outputId": "b8e14f20-e846-45d9-9d58-a5979ba2a1d3"
   },
   "outputs": [
    {
     "name": "stdout",
     "output_type": "stream",
     "text": [
      "1\n"
     ]
    }
   ],
   "source": [
    "def outer_func():\n",
    "  \n",
    "  count = 1\n",
    "  \n",
    "  def inner_func():\n",
    "    print(count)\n",
    "  \n",
    "  inner_func()\n",
    "\n",
    "outer_func()"
   ]
  },
  {
   "cell_type": "markdown",
   "metadata": {
    "colab_type": "text",
    "id": "9PvBpZ9E6txT"
   },
   "source": [
    "The count variable in the outer function can be accessed by the inner function. Functions can always see into their parent scope\n",
    "\n",
    "Variables declared in inner_func are only accessible there."
   ]
  },
  {
   "cell_type": "markdown",
   "metadata": {
    "colab_type": "text",
    "id": "4eW41wlLYNVG"
   },
   "source": [
    "### Non Local Nested Function Variables\n",
    "\n",
    "To update variables defined in an outer function from an inner function you must declare them as nonlocal rather thann global"
   ]
  },
  {
   "cell_type": "code",
   "execution_count": null,
   "metadata": {
    "colab": {
     "base_uri": "https://localhost:8080/",
     "height": 34
    },
    "colab_type": "code",
    "id": "AIEcXUOBYfvh",
    "outputId": "23420883-4935-4977-bac7-1a978ee53d29"
   },
   "outputs": [
    {
     "name": "stdout",
     "output_type": "stream",
     "text": [
      "2\n"
     ]
    }
   ],
   "source": [
    "def outer_func():\n",
    "  \n",
    "  count = 1\n",
    "  \n",
    "  def inner_func():\n",
    "    nonlocal count\n",
    "    count += 1\n",
    "    print(count)\n",
    "  \n",
    "  inner_func()\n",
    "\n",
    "outer_func()"
   ]
  },
  {
   "cell_type": "markdown",
   "metadata": {
    "colab_type": "text",
    "id": "IYGB086gY5JQ"
   },
   "source": [
    "### Closures\n",
    "\n",
    "The scope created by a nested function can be retained by passing an internal refernce held within the function outside of the function\n"
   ]
  },
  {
   "cell_type": "code",
   "execution_count": null,
   "metadata": {
    "colab": {
     "base_uri": "https://localhost:8080/",
     "height": 68
    },
    "colab_type": "code",
    "id": "Jq5oxE0EZK7F",
    "outputId": "0387d55b-1a3e-4e53-b79b-f118e0394359"
   },
   "outputs": [
    {
     "name": "stdout",
     "output_type": "stream",
     "text": [
      "2\n",
      "3\n",
      "4\n"
     ]
    }
   ],
   "source": [
    "def outer_func():\n",
    "  \n",
    "  count = 1\n",
    "  \n",
    "  def inner_func():\n",
    "    nonlocal count\n",
    "    count += 1\n",
    "    print(count)\n",
    "  \n",
    "  return inner_func\n",
    "\n",
    "counter = outer_func()\n",
    "counter()\n",
    "counter()\n",
    "counter()\n"
   ]
  },
  {
   "cell_type": "markdown",
   "metadata": {
    "colab_type": "text",
    "id": "QLuB9WHXZi7N"
   },
   "source": [
    "Above a reference to the inner function is passed outside and assigned to the the **counter** variable. That makes the **counter** variable a reference variable pointing to the **inner_func** function. The counter variable can therefore be used to invoke the inner function by just running **counter()**. The variable state of outer_func is kept alive between calls to **inner_func**"
   ]
  },
  {
   "cell_type": "markdown",
   "metadata": {
    "colab_type": "text",
    "id": "x8C6E3WtPK0N"
   },
   "source": [
    "# Classes and OOP\n",
    "\n",
    "When you bake a cake you probably use a recipe. The recipe describes the ingredients and the actions you need to take. Using the same recipe you can create multiple cakes all of which might occupy a different space on your kitchen table. A recipe is a blueprint or a template for ceaing multiple instances of cakes.\n",
    "\n",
    "Classes in Python allow us to define the blueprint for creating specific types of objects. We define the type, whetheritas a Car, a Customer or a Rocket.\n",
    "\n",
    "We also define the attributes for our classes. A car might have spee, registration, make and model attributes for example.\n",
    "\n",
    "A class in Python can be defined as simpley as below. (pass means do nothing)"
   ]
  },
  {
   "cell_type": "code",
   "execution_count": null,
   "metadata": {
    "colab": {},
    "colab_type": "code",
    "id": "Bi8ZbbJSwYDm"
   },
   "outputs": [],
   "source": [
    "class Car:\n",
    "    \n",
    "    pass\n",
    "    \n",
    "   \n",
    "\n"
   ]
  },
  {
   "cell_type": "markdown",
   "metadata": {
    "colab_type": "text",
    "id": "Xvol-PoNxWyB"
   },
   "source": [
    "To create an instance of Car (or bake a cake!). This create a new instance of a Car object in memory"
   ]
  },
  {
   "cell_type": "code",
   "execution_count": null,
   "metadata": {
    "colab": {},
    "colab_type": "code",
    "id": "OpcO_sO-xaY3"
   },
   "outputs": [],
   "source": [
    "my_car = Car()\n"
   ]
  },
  {
   "cell_type": "markdown",
   "metadata": {
    "colab_type": "text",
    "id": "L_t9kC2YxeKW"
   },
   "source": [
    "Fill in the cars details by attaching attributes:"
   ]
  },
  {
   "cell_type": "code",
   "execution_count": null,
   "metadata": {
    "colab": {},
    "colab_type": "code",
    "id": "4LAKOOjcxgq2"
   },
   "outputs": [],
   "source": [
    "my_car.speed = 0\n",
    "my_car.registration = \"ABC123\"\n"
   ]
  },
  {
   "cell_type": "markdown",
   "metadata": {
    "colab_type": "text",
    "id": "Oodq7TKUxjAf"
   },
   "source": [
    "Convert the car object into a string by printing it"
   ]
  },
  {
   "cell_type": "markdown",
   "metadata": {
    "colab_type": "text",
    "id": "DVvAWYZQOudr"
   },
   "source": []
  },
  {
   "cell_type": "code",
   "execution_count": null,
   "metadata": {
    "colab": {
     "base_uri": "https://localhost:8080/",
     "height": 34
    },
    "colab_type": "code",
    "id": "wHxf9vldxsi9",
    "outputId": "35c62c45-7e6a-4010-e686-66e46d6cb8ad"
   },
   "outputs": [
    {
     "name": "stdout",
     "output_type": "stream",
     "text": [
      "<__main__.Car object at 0x7f73af3a00b8>\n"
     ]
    }
   ],
   "source": [
    "print(my_car)"
   ]
  },
  {
   "cell_type": "markdown",
   "metadata": {
    "colab_type": "text",
    "id": "JTH8pptaxpsp"
   },
   "source": [
    "Car attributes are stored in a dictionary called \\__dict__"
   ]
  },
  {
   "cell_type": "code",
   "execution_count": null,
   "metadata": {
    "colab": {
     "base_uri": "https://localhost:8080/",
     "height": 34
    },
    "colab_type": "code",
    "id": "qrneZW2IE2Zn",
    "outputId": "25002344-fd2b-4a04-c735-941402f1ed17"
   },
   "outputs": [
    {
     "data": {
      "text/plain": [
       "{'registration': 'ABC123', 'speed': 0}"
      ]
     },
     "execution_count": 19,
     "metadata": {
      "tags": []
     },
     "output_type": "execute_result"
    }
   ],
   "source": [
    "my_car.__dict__"
   ]
  },
  {
   "cell_type": "markdown",
   "metadata": {
    "colab_type": "text",
    "id": "217z5sf9FUGW"
   },
   "source": [
    "## Initialization \n",
    "\n",
    "Defining a class's attributes first via a class initializer gives a consistent mechanism for creating an object and allows the class to act as a template for those objects \n",
    "\n",
    "By adding a \\__init__ method you can control how objects are initialised and allow them to have a consitent form\n",
    "\n",
    "The **self** parameter ini the __init__ method is a reference to the current object being processed and is passed in automatically by Python. All Python class instance methods will have a self parameter. You can use it to refer to the instance attributes of the object"
   ]
  },
  {
   "cell_type": "code",
   "execution_count": null,
   "metadata": {
    "colab": {},
    "colab_type": "code",
    "id": "KTjnD362FwrK"
   },
   "outputs": [],
   "source": [
    "class Car:\n",
    "    \n",
    "    def __init__(self):\n",
    "        self.speed = 0 \n",
    "        self.registration = None\n",
    "     "
   ]
  },
  {
   "cell_type": "markdown",
   "metadata": {
    "colab_type": "text",
    "id": "9ovNvvjIHn1x"
   },
   "source": [
    "## Converting objects to strings\n",
    "\n",
    "How do you convert a Car to a string. Python doesn't do a great job of it.\n",
    "\n",
    "We can override the **\\__str__** method to take control of the conversion"
   ]
  },
  {
   "cell_type": "code",
   "execution_count": null,
   "metadata": {
    "colab": {},
    "colab_type": "code",
    "id": "h7uRt2J_ZFDg"
   },
   "outputs": [],
   "source": []
  },
  {
   "cell_type": "code",
   "execution_count": null,
   "metadata": {
    "colab": {
     "base_uri": "https://localhost:8080/",
     "height": 34
    },
    "colab_type": "code",
    "id": "psYC8ZMLIAPl",
    "outputId": "e979f422-6787-4658-8121-11d840987506"
   },
   "outputs": [
    {
     "name": "stdout",
     "output_type": "stream",
     "text": [
      "Car with reg ABC123 is travelling at 25mph\n"
     ]
    }
   ],
   "source": [
    "class Car:\n",
    "    \n",
    "    def __init__(self):\n",
    "        self.speed = 0 \n",
    "        self.registration = None\n",
    "        \n",
    "    def __str__(self):\n",
    "      \n",
    "      return f\"Car with reg {self.registration} is travelling at {self.speed}mph\"\n",
    "\n",
    "\n",
    "my_car = Car()\n",
    "my_car.registration = \"ABC123\"\n",
    "my_car.speed = 25\n",
    "print(my_car)"
   ]
  },
  {
   "cell_type": "markdown",
   "metadata": {
    "colab_type": "text",
    "id": "v3KBlexTqUTu"
   },
   "source": [
    "## Encapsulation\n",
    "\n",
    "Allowing direct access to an object's data from outside of the object isn't ideal. The user of the object could assign invalid data values to object's attributes.\n",
    "\n",
    "\n",
    "\n",
    "```\n",
    "my_car.speed = 10000\n",
    "```\n",
    "\n",
    "That's way faster than my actual car can travel!\n",
    "\n",
    "Encapsulation involves hiding data inside an object so that its only accessible to code within the object.\n",
    "\n",
    "To do that you have to initialise the object data with __ prefixing it\n",
    "\n",
    "```\n",
    "def __init__(self):\n",
    "    self.__speed = 0 \n",
    "    \n",
    "\n",
    "```\n",
    "\n",
    "When you do this you make the \\__speed hidden from external access.\n",
    "\n",
    "Your code will error if you try to access hidden attributes.\n",
    "\n",
    "\n",
    "\n",
    "\n"
   ]
  },
  {
   "cell_type": "markdown",
   "metadata": {
    "colab_type": "text",
    "id": "yqRVatUB52uX"
   },
   "source": []
  },
  {
   "cell_type": "code",
   "execution_count": null,
   "metadata": {
    "colab": {
     "base_uri": "https://localhost:8080/",
     "height": 197
    },
    "colab_type": "code",
    "id": "UizJYEOItvZ2",
    "outputId": "e66b147c-ea25-4ef3-cbd3-e73532cd130a"
   },
   "outputs": [
    {
     "ename": "AttributeError",
     "evalue": "ignored",
     "output_type": "error",
     "traceback": [
      "\u001b[0;31m---------------------------------------------------------------------------\u001b[0m",
      "\u001b[0;31mAttributeError\u001b[0m                            Traceback (most recent call last)",
      "\u001b[0;32m<ipython-input-7-c4b7de6f6066>\u001b[0m in \u001b[0;36m<module>\u001b[0;34m()\u001b[0m\n\u001b[1;32m     11\u001b[0m \u001b[0;34m\u001b[0m\u001b[0m\n\u001b[1;32m     12\u001b[0m \u001b[0mmy_car\u001b[0m \u001b[0;34m=\u001b[0m \u001b[0mCar\u001b[0m\u001b[0;34m(\u001b[0m\u001b[0;34m)\u001b[0m\u001b[0;34m\u001b[0m\u001b[0;34m\u001b[0m\u001b[0m\n\u001b[0;32m---> 13\u001b[0;31m \u001b[0mprint\u001b[0m\u001b[0;34m(\u001b[0m\u001b[0mmy_car\u001b[0m\u001b[0;34m.\u001b[0m\u001b[0m__speed\u001b[0m\u001b[0;34m)\u001b[0m\u001b[0;34m\u001b[0m\u001b[0;34m\u001b[0m\u001b[0m\n\u001b[0m",
      "\u001b[0;31mAttributeError\u001b[0m: 'Car' object has no attribute '__speed'"
     ]
    }
   ],
   "source": [
    "class Car:\n",
    "    \n",
    "    def __init__(self):\n",
    "        self.__speed = 0 \n",
    "        self.registration = None\n",
    "        \n",
    "    def __str__(self):\n",
    "      \n",
    "      return f\"Car with reg {self.registration} is travelling at {self.__speed}mph\"\n",
    "\n",
    "\n",
    "my_car = Car()\n",
    "print(my_car.__speed)"
   ]
  },
  {
   "cell_type": "markdown",
   "metadata": {
    "colab_type": "text",
    "id": "MBo3COwJx1iF"
   },
   "source": [
    "### When hidden is not really hidden\n",
    "\n",
    "Hidden isn't really hidden in Python\n",
    "\n",
    "You can still access the \\__speed attribute using the \\__dict__ attribute of the object.\n",
    "\n",
    "To access it from \\__dict__ you have to prefix with the name of the class it belongs to\n",
    "\n",
    "\n",
    "\n",
    "```\n",
    "speed = my_car.__dict__[\"_Car__speed\"]\n",
    "```\n",
    "\n"
   ]
  },
  {
   "cell_type": "code",
   "execution_count": null,
   "metadata": {
    "colab": {
     "base_uri": "https://localhost:8080/",
     "height": 34
    },
    "colab_type": "code",
    "id": "9J11TuaVyUY4",
    "outputId": "c5f66f2e-a4d4-4373-e1e0-8b43c53884b2"
   },
   "outputs": [
    {
     "name": "stdout",
     "output_type": "stream",
     "text": [
      "Car with reg None is travelling at 100000mph\n"
     ]
    }
   ],
   "source": [
    "class Car:\n",
    "    \n",
    "    def __init__(self):\n",
    "        self.__speed = 0 \n",
    "        self.registration = None\n",
    "        \n",
    "    def __str__(self):\n",
    "      \n",
    "      return f\"Car with reg {self.registration} is travelling at {self.__speed}mph\"\n",
    "\n",
    "\n",
    "my_car = Car()\n",
    "my_car.__dict__[\"_Car__speed\"] = 100000\n",
    "print(my_car)"
   ]
  },
  {
   "cell_type": "markdown",
   "metadata": {
    "colab_type": "text",
    "id": "8h4uKKg29Qe9"
   },
   "source": [
    "### When you can add an attribute whenever you like\n",
    "\n",
    "Python objects allow attributes to be attached dynamically."
   ]
  },
  {
   "cell_type": "code",
   "execution_count": null,
   "metadata": {
    "colab": {
     "base_uri": "https://localhost:8080/",
     "height": 34
    },
    "colab_type": "code",
    "id": "Ik0Hs5Y99fd_",
    "outputId": "f9c0aad4-8d3b-4e79-8552-d6ea2debfbd5"
   },
   "outputs": [
    {
     "name": "stdout",
     "output_type": "stream",
     "text": [
      "{'_Car__speed': 0, 'registration': None, 'sleigh_bells': 99}\n"
     ]
    }
   ],
   "source": [
    "class Car:\n",
    "    \n",
    "    def __init__(self):\n",
    "        self.__speed = 0 \n",
    "        self.registration = None\n",
    "        \n",
    "    def __str__(self):\n",
    "      \n",
    "      return f\"Car with reg {self.registration} is travelling at {self.__speed}mph\"\n",
    "\n",
    "my_car = Car()\n",
    "my_car.sleigh_bells = 99\n",
    "print(my_car.__dict__)"
   ]
  },
  {
   "cell_type": "markdown",
   "metadata": {
    "colab_type": "text",
    "id": "jqmoXGO_-H0h"
   },
   "source": [
    "## Slots\n",
    "\n",
    "Slots removes the dependence on a __dict__ dictionary to track object attribute membership and isntead uses a static internal structure\n",
    "\n",
    "`__slots__ = []`\n",
    "\n",
    "declared within the class does the trick. Any member variables need to defined in the list"
   ]
  },
  {
   "cell_type": "code",
   "execution_count": null,
   "metadata": {
    "colab": {
     "base_uri": "https://localhost:8080/",
     "height": 215
    },
    "colab_type": "code",
    "id": "pgwk2rvg-s7b",
    "outputId": "e9fe2ce1-e811-4af8-bdc1-bf7ba0a61b51"
   },
   "outputs": [
    {
     "ename": "AttributeError",
     "evalue": "ignored",
     "output_type": "error",
     "traceback": [
      "\u001b[0;31m---------------------------------------------------------------------------\u001b[0m",
      "\u001b[0;31mAttributeError\u001b[0m                            Traceback (most recent call last)",
      "\u001b[0;32m<ipython-input-2-65fa9431ff1b>\u001b[0m in \u001b[0;36m<module>\u001b[0;34m()\u001b[0m\n\u001b[1;32m     11\u001b[0m \u001b[0;34m\u001b[0m\u001b[0m\n\u001b[1;32m     12\u001b[0m \u001b[0mmy_car\u001b[0m \u001b[0;34m=\u001b[0m \u001b[0mCar\u001b[0m\u001b[0;34m(\u001b[0m\u001b[0;34m)\u001b[0m\u001b[0;34m\u001b[0m\u001b[0;34m\u001b[0m\u001b[0m\n\u001b[0;32m---> 13\u001b[0;31m \u001b[0mmy_car\u001b[0m\u001b[0;34m.\u001b[0m\u001b[0msleigh_bells\u001b[0m \u001b[0;34m=\u001b[0m \u001b[0;36m99\u001b[0m\u001b[0;34m\u001b[0m\u001b[0;34m\u001b[0m\u001b[0m\n\u001b[0m\u001b[1;32m     14\u001b[0m \u001b[0mprint\u001b[0m\u001b[0;34m(\u001b[0m\u001b[0mmy_car\u001b[0m\u001b[0;34m.\u001b[0m\u001b[0m__dict__\u001b[0m\u001b[0;34m)\u001b[0m\u001b[0;34m\u001b[0m\u001b[0;34m\u001b[0m\u001b[0m\n",
      "\u001b[0;31mAttributeError\u001b[0m: 'Car' object has no attribute 'sleigh_bells'"
     ]
    }
   ],
   "source": [
    "class Car:\n",
    "    \n",
    "    __slots__ = [\"__speed\", \"registration\"]\n",
    "    def __init__(self):\n",
    "        self.__speed = 0 \n",
    "        self.registration = None\n",
    "        \n",
    "    def __str__(self):\n",
    "      \n",
    "      return f\"Car with reg {self.registration} is travelling at {self.__speed}mph\"\n",
    "\n",
    "my_car = Car()\n",
    "my_car.sleigh_bells = 99\n"
   ]
  },
  {
   "cell_type": "markdown",
   "metadata": {
    "colab_type": "text",
    "id": "9vBWfCc9-9kb"
   },
   "source": [
    "And no dictionary"
   ]
  },
  {
   "cell_type": "code",
   "execution_count": null,
   "metadata": {
    "colab": {
     "base_uri": "https://localhost:8080/",
     "height": 198
    },
    "colab_type": "code",
    "id": "x8k4a0vK_AVQ",
    "outputId": "53dbaeab-dc39-42b3-bc48-14ff782abb1a"
   },
   "outputs": [
    {
     "ename": "AttributeError",
     "evalue": "ignored",
     "output_type": "error",
     "traceback": [
      "\u001b[0;31m---------------------------------------------------------------------------\u001b[0m",
      "\u001b[0;31mAttributeError\u001b[0m                            Traceback (most recent call last)",
      "\u001b[0;32m<ipython-input-3-ec268c0d4655>\u001b[0m in \u001b[0;36m<module>\u001b[0;34m()\u001b[0m\n\u001b[1;32m     11\u001b[0m \u001b[0;34m\u001b[0m\u001b[0m\n\u001b[1;32m     12\u001b[0m \u001b[0mmy_car\u001b[0m \u001b[0;34m=\u001b[0m \u001b[0mCar\u001b[0m\u001b[0;34m(\u001b[0m\u001b[0;34m)\u001b[0m\u001b[0;34m\u001b[0m\u001b[0;34m\u001b[0m\u001b[0m\n\u001b[0;32m---> 13\u001b[0;31m \u001b[0mprint\u001b[0m\u001b[0;34m(\u001b[0m\u001b[0mmy_car\u001b[0m\u001b[0;34m.\u001b[0m\u001b[0m__dict__\u001b[0m\u001b[0;34m)\u001b[0m\u001b[0;34m\u001b[0m\u001b[0;34m\u001b[0m\u001b[0m\n\u001b[0m",
      "\u001b[0;31mAttributeError\u001b[0m: 'Car' object has no attribute '__dict__'"
     ]
    }
   ],
   "source": [
    "class Car:\n",
    "    \n",
    "    __slots__ = [\"__speed\", \"registration\"]\n",
    "    def __init__(self):\n",
    "        self.__speed = 0 \n",
    "        self.registration = None\n",
    "        \n",
    "    def __str__(self):\n",
    "      \n",
    "      return f\"Car with reg {self.registration} is travelling at {self.__speed}mph\"\n",
    "\n",
    "my_car = Car()\n",
    "print(my_car.__dict__)\n"
   ]
  },
  {
   "cell_type": "markdown",
   "metadata": {
    "colab_type": "text",
    "id": "qaNTkL2tuSmi"
   },
   "source": [
    "## Adding Functions to Classes\n",
    "\n",
    "Classes can contain functions( or methods). \n",
    "\n",
    "Here we are adding an **accelerate** method to the Car class"
   ]
  },
  {
   "cell_type": "code",
   "execution_count": null,
   "metadata": {
    "colab": {
     "base_uri": "https://localhost:8080/",
     "height": 34
    },
    "colab_type": "code",
    "id": "o2QYSvhtvguv",
    "outputId": "b71b56a4-aa2a-47d5-baf4-5ea6de670623"
   },
   "outputs": [
    {
     "name": "stdout",
     "output_type": "stream",
     "text": [
      "Car with reg None is travelling at 5mph\n"
     ]
    }
   ],
   "source": [
    "class Car:\n",
    "    \n",
    "    \n",
    "    \n",
    "    def __init__(self):\n",
    "        self.__speed = 0 \n",
    "        self.registration = None\n",
    "    \n",
    "    def accelerate(self, amount):\n",
    "      \n",
    "      self.__speed += amount\n",
    "      \n",
    "      \n",
    "    def __str__(self):\n",
    "      \n",
    "      return f\"Car with reg {self.registration} is travelling at {self.__speed}mph\"\n",
    "\n",
    "\n",
    "my_car = Car()\n",
    "\n",
    "my_car.accelerate(5)\n",
    "print(my_car)"
   ]
  },
  {
   "cell_type": "markdown",
   "metadata": {
    "colab_type": "text",
    "id": "78OM9nzs15AU"
   },
   "source": [
    "## Properties\n",
    "\n",
    "To allow controlled access to an object's hidden attributes you can use functions that have been wrapped into specific data accessor called a property\n",
    "\n",
    "\n",
    "\n",
    "```\n",
    "speed = property()\n",
    "speed = speed.getter(get_speed)\n",
    "speed = speed.setter(set_speed)\n",
    "\n",
    "```\n",
    "\n",
    "\n"
   ]
  },
  {
   "cell_type": "code",
   "execution_count": null,
   "metadata": {
    "colab": {
     "base_uri": "https://localhost:8080/",
     "height": 34
    },
    "colab_type": "code",
    "id": "TBcLNJG9BfHe",
    "outputId": "3613fc29-0243-4057-86d5-fd0c41cf23d0"
   },
   "outputs": [
    {
     "name": "stdout",
     "output_type": "stream",
     "text": [
      "30\n"
     ]
    }
   ],
   "source": [
    "class Car:\n",
    "    \n",
    "    \n",
    "    \n",
    "    def get_speed(self):\n",
    "      return self.__speed\n",
    "    \n",
    "    def set_speed(self, speed):\n",
    "      self.__speed = speed\n",
    "    \n",
    "    \n",
    "    speed = property()\n",
    "    speed = speed.getter(get_speed)\n",
    "    speed = speed.setter(set_speed)\n",
    "    \n",
    "    def __init__(self):\n",
    "        self.__speed = 0 \n",
    "        self.registration = None\n",
    "    \n",
    "    def accelerate(self, amount):\n",
    "      \n",
    "      self.__speed += amount\n",
    "      \n",
    "      \n",
    "    def __str__(self):\n",
    "      \n",
    "      return f\"Car with reg {self.registration} is travelling at {self.__speed}mph\"\n",
    "\n",
    "\n",
    "my_car = Car()\n",
    "my_car.speed = 25\n",
    "my_car.accelerate(5)\n",
    "print(my_car.speed)"
   ]
  },
  {
   "cell_type": "markdown",
   "metadata": {
    "colab_type": "text",
    "id": "rb2pCTlGanX0"
   },
   "source": [
    "### Using Decorators to create Properties\n",
    "\n",
    "You can achieve the same result using Python's decorator syntax. It makes the generation of properties a lot simpler than the above code\n",
    "\n",
    "\n",
    "\n",
    "```\n",
    "@property\n",
    "def speed(self):\n",
    "    return self.__speed\n",
    "```\n",
    "\n",
    "Produces a property called speed with a getter automatically defined\n",
    "\n",
    "The setter is defined using:\n",
    "\n",
    "```\n",
    "@speed.setter\n",
    "def speed(self):\n",
    "    return self.__speed\n",
    "```\n"
   ]
  },
  {
   "cell_type": "code",
   "execution_count": null,
   "metadata": {
    "colab": {
     "base_uri": "https://localhost:8080/",
     "height": 34
    },
    "colab_type": "code",
    "id": "s5VGGjIebmO7",
    "outputId": "485469ec-98f1-4d2c-9e85-238d8c108831"
   },
   "outputs": [
    {
     "name": "stdout",
     "output_type": "stream",
     "text": [
      "30\n"
     ]
    }
   ],
   "source": [
    "class Car:\n",
    "    \n",
    "    def __init__(self):\n",
    "        self.__speed = 0 \n",
    "        self.registration = None\n",
    "    \n",
    "    def accelerate(self, amount):\n",
    "      \n",
    "      self.__speed += amount\n",
    "      \n",
    "    @property\n",
    "    def speed(self):\n",
    "      return self.__speed\n",
    "    \n",
    "    @speed.setter\n",
    "    def speed(self, speed):\n",
    "      self.__speed = speed\n",
    "\n",
    "      \n",
    "    def __str__(self):\n",
    "      \n",
    "      return f\"Car with reg {self.registration} is travelling at {self.__speed}mph\"\n",
    "\n",
    "\n",
    "my_car = Car()\n",
    "my_car.speed = 25\n",
    "my_car.accelerate(5)\n",
    "print(my_car.speed)"
   ]
  },
  {
   "cell_type": "code",
   "execution_count": null,
   "metadata": {
    "colab": {},
    "colab_type": "code",
    "id": "djxe958d8Q1T"
   },
   "outputs": [],
   "source": []
  },
  {
   "cell_type": "markdown",
   "metadata": {
    "colab_type": "text",
    "id": "Y9qmalIyb8A8"
   },
   "source": [
    "### Why bother? -> Encapsulation\n",
    "\n",
    "If you use properties you can control access to data via code. That means you can retain control of how the data inside an object is manipulated from the inside and prevent (as much as is possible) direct manipulation from outside of the object\n",
    "\n",
    "Below we are using the setter to prevent an invalid speed being assigned to the internal speed variable\n",
    "\n",
    "```\n",
    "@speed.setter\n",
    "def speed(self, speed):\n",
    "    if speed <= 120:\n",
    "        self.__speed = speed\n",
    "```\n"
   ]
  },
  {
   "cell_type": "markdown",
   "metadata": {
    "colab_type": "text",
    "id": "16NvRnp0wffV"
   },
   "source": [
    "## Inheritance\n",
    "\n",
    "Python supports class inheritance which means a class can inherit the attributes and methods of another. \n",
    "\n",
    "One of the great benefits of inheritance is reuse and extension. You can create a new by bey extending and existing one without having to alter the existing class.\n",
    "\n"
   ]
  },
  {
   "cell_type": "code",
   "execution_count": null,
   "metadata": {
    "colab": {
     "base_uri": "https://localhost:8080/",
     "height": 425
    },
    "colab_type": "code",
    "id": "CBwwNHw5xbJ8",
    "outputId": "0c20c4a2-f55c-41f9-d1a2-cbf9f096b5f3"
   },
   "outputs": [
    {
     "name": "stdout",
     "output_type": "stream",
     "text": [
      "Car with reg None is travelling at 5mph\n",
      "Car with reg None is travelling at 10mph\n",
      "Car with reg None is travelling at 15mph\n",
      "Car with reg None is travelling at 20mph\n",
      "Car with reg None is travelling at 25mph\n",
      "Car with reg None is travelling at 30mph\n",
      "Car with reg None is travelling at 35mph\n",
      "Car with reg None is travelling at 40mph\n",
      "Car with reg None is travelling at 45mph\n",
      "Car with reg None is travelling at 50mph\n",
      "Car with reg None is travelling at 55mph\n",
      "Car with reg None is travelling at 60mph\n",
      "Car with reg None is travelling at 65mph\n",
      "Car with reg None is travelling at 70mph\n",
      "Car with reg None is travelling at 75mph\n",
      "Car with reg None is travelling at 80mph\n",
      "Car with reg None is travelling at 85mph\n",
      "Car with reg None is travelling at 90mph\n",
      "Car with reg None is travelling at 95mph\n",
      "Car with reg None is travelling at 100mph\n",
      "Car with reg None is travelling at 105mph\n",
      "Car with reg None is travelling at 110mph\n",
      "Car with reg None is travelling at 115mph\n",
      "Car with reg None is travelling at 120mph\n"
     ]
    }
   ],
   "source": [
    "import time\n",
    "class Car:\n",
    "    \n",
    "    def __init__(self):\n",
    "        self.__speed = 0 \n",
    "        self.registration = None\n",
    "    \n",
    "    def accelerate(self, amount):\n",
    "      time.sleep(0.08 * amount)\n",
    "      self.__speed += amount\n",
    "\n",
    "    @property\n",
    "    def max_speed(self):\n",
    "      return 120\n",
    "\n",
    "    @property\n",
    "    def speed(self):\n",
    "      return self.__speed\n",
    "    \n",
    "    @speed.setter\n",
    "    def speed(self, speed):\n",
    "      self.__speed = speed\n",
    "\n",
    "      \n",
    "    def __str__(self):\n",
    "      \n",
    "      return f\"Car with reg {self.registration} is travelling at {self.__speed}mph\"\n",
    "\n",
    "my_car = Car()\n",
    "while my_car.speed < my_car.max_speed:\n",
    "  my_car.accelerate(5)\n",
    "  print(my_car)"
   ]
  },
  {
   "cell_type": "markdown",
   "metadata": {
    "colab_type": "text",
    "id": "zyyzyeKXyCI0"
   },
   "source": [
    "Let's imagine we want to create a new car type called Racing Car. Racing cars will apparntly accelerate more quickly than standard cars.\n",
    "\n",
    "We can extend the existing Car class:\n",
    "\n",
    "* Add any new functionality\n",
    "* Override the functionality in Car that doesn't quite work for RacingCar\n",
    "\n",
    "To create an inherited class we indicate the name of the class we inherit from\n",
    "\n",
    "\n",
    "\n",
    "```\n",
    "class RacingCar(Car):\n",
    "    pass\n",
    "```\n",
    "\n",
    "We also need to call the **\\__init__** functions for the inherited base classes explitly in the **\\__init__** of the derived class.\n",
    "\n",
    "```\n",
    "class RacingCar(Car):\n",
    "      def __init__(self):\n",
    "          super().__init__()\n",
    "```\n",
    "\n",
    "Another way to do the same thing which can be very useful especailly when using multiple inheritance\n",
    "\n",
    "```\n",
    "class RacingCar(Car):\n",
    "      def __init__(self):\n",
    "          Car().__init__(self)\n",
    "```\n",
    "\n",
    "\n",
    "\n"
   ]
  },
  {
   "cell_type": "code",
   "execution_count": null,
   "metadata": {
    "colab": {
     "base_uri": "https://localhost:8080/",
     "height": 425
    },
    "colab_type": "code",
    "id": "x6Wyq5fFyzti",
    "outputId": "3e3583ad-86f4-4378-fc2c-03b07f1a4e81"
   },
   "outputs": [
    {
     "name": "stdout",
     "output_type": "stream",
     "text": [
      "Car with reg None is travelling at 5mph\n",
      "Car with reg None is travelling at 10mph\n",
      "Car with reg None is travelling at 15mph\n",
      "Car with reg None is travelling at 20mph\n",
      "Car with reg None is travelling at 25mph\n",
      "Car with reg None is travelling at 30mph\n",
      "Car with reg None is travelling at 35mph\n",
      "Car with reg None is travelling at 40mph\n",
      "Car with reg None is travelling at 45mph\n",
      "Car with reg None is travelling at 50mph\n",
      "Car with reg None is travelling at 55mph\n",
      "Car with reg None is travelling at 60mph\n",
      "Car with reg None is travelling at 65mph\n",
      "Car with reg None is travelling at 70mph\n",
      "Car with reg None is travelling at 75mph\n",
      "Car with reg None is travelling at 80mph\n",
      "Car with reg None is travelling at 85mph\n",
      "Car with reg None is travelling at 90mph\n",
      "Car with reg None is travelling at 95mph\n",
      "Car with reg None is travelling at 100mph\n",
      "Car with reg None is travelling at 105mph\n",
      "Car with reg None is travelling at 110mph\n",
      "Car with reg None is travelling at 115mph\n",
      "Car with reg None is travelling at 120mph\n"
     ]
    }
   ],
   "source": [
    "class RacingCar(Car):\n",
    "  \n",
    "    def __init__(self, spoilers):\n",
    "        \n",
    "        super().__init__()\n",
    "        self.__spoilers = spoilers\n",
    "  \n",
    "      \n",
    "    @property\n",
    "    def spoilers(self):\n",
    "      return self.__spoilers\n",
    "\n",
    "my_car = RacingCar(1)\n",
    "while my_car.speed < my_car.max_speed:\n",
    "  my_car.accelerate(5)\n",
    "  print(my_car)"
   ]
  },
  {
   "cell_type": "markdown",
   "metadata": {
    "colab_type": "text",
    "id": "qJrbPvuJ4D5V"
   },
   "source": [
    "###Overriding Methods\n",
    "\n",
    "As well as adding new code you can also replace code in the base"
   ]
  },
  {
   "cell_type": "code",
   "execution_count": null,
   "metadata": {
    "colab": {
     "base_uri": "https://localhost:8080/",
     "height": 425
    },
    "colab_type": "code",
    "id": "KkdPCd-J4OfO",
    "outputId": "d123f48f-5ea6-4bcf-e212-a02e1a26cbbb"
   },
   "outputs": [
    {
     "name": "stdout",
     "output_type": "stream",
     "text": [
      "Car with reg None is travelling at 5mph\n",
      "Car with reg None is travelling at 10mph\n",
      "Car with reg None is travelling at 15mph\n",
      "Car with reg None is travelling at 20mph\n",
      "Car with reg None is travelling at 25mph\n",
      "Car with reg None is travelling at 30mph\n",
      "Car with reg None is travelling at 35mph\n",
      "Car with reg None is travelling at 40mph\n",
      "Car with reg None is travelling at 45mph\n",
      "Car with reg None is travelling at 50mph\n",
      "Car with reg None is travelling at 55mph\n",
      "Car with reg None is travelling at 60mph\n",
      "Car with reg None is travelling at 65mph\n",
      "Car with reg None is travelling at 70mph\n",
      "Car with reg None is travelling at 75mph\n",
      "Car with reg None is travelling at 80mph\n",
      "Car with reg None is travelling at 85mph\n",
      "Car with reg None is travelling at 90mph\n",
      "Car with reg None is travelling at 95mph\n",
      "Car with reg None is travelling at 100mph\n",
      "Car with reg None is travelling at 105mph\n",
      "Car with reg None is travelling at 110mph\n",
      "Car with reg None is travelling at 115mph\n",
      "Car with reg None is travelling at 120mph\n"
     ]
    }
   ],
   "source": [
    "class RacingCar(Car):\n",
    "  \n",
    "    def __init__(self, spoilers):\n",
    "        \n",
    "        super().__init__()\n",
    "        self.__spoilers = spoilers\n",
    "    \n",
    "    def accelerate(self, amount):\n",
    "      time.sleep(0.04 * amount)\n",
    "      self.speed += amount\n",
    "    \n",
    "    @property\n",
    "    def spoilers(self):\n",
    "      return self.__spoilers\n",
    "\n",
    "my_car = RacingCar(1)\n",
    "while my_car.speed < my_car.max_speed:\n",
    "  my_car.accelerate(5)\n",
    "  print(my_car)"
   ]
  },
  {
   "cell_type": "markdown",
   "metadata": {
    "colab_type": "text",
    "id": "fORYj9pv5Sd4"
   },
   "source": [
    "### Overriding and reusing the base functionality\n",
    "\n",
    "When you overrid a method you may want to reuse the code from the base as well.\n",
    "\n",
    "Here we override the max_speed property but call the max_speed from the base Car. The resultant max_speed is 80 plus the max_speed of the base class"
   ]
  },
  {
   "cell_type": "code",
   "execution_count": null,
   "metadata": {
    "colab": {
     "base_uri": "https://localhost:8080/",
     "height": 697
    },
    "colab_type": "code",
    "id": "7SHCDTxm5e51",
    "outputId": "44b9047c-e30b-471c-c192-5a55cd5d1969"
   },
   "outputs": [
    {
     "name": "stdout",
     "output_type": "stream",
     "text": [
      "Car with reg None is travelling at 5mph\n",
      "Car with reg None is travelling at 10mph\n",
      "Car with reg None is travelling at 15mph\n",
      "Car with reg None is travelling at 20mph\n",
      "Car with reg None is travelling at 25mph\n",
      "Car with reg None is travelling at 30mph\n",
      "Car with reg None is travelling at 35mph\n",
      "Car with reg None is travelling at 40mph\n",
      "Car with reg None is travelling at 45mph\n",
      "Car with reg None is travelling at 50mph\n",
      "Car with reg None is travelling at 55mph\n",
      "Car with reg None is travelling at 60mph\n",
      "Car with reg None is travelling at 65mph\n",
      "Car with reg None is travelling at 70mph\n",
      "Car with reg None is travelling at 75mph\n",
      "Car with reg None is travelling at 80mph\n",
      "Car with reg None is travelling at 85mph\n",
      "Car with reg None is travelling at 90mph\n",
      "Car with reg None is travelling at 95mph\n",
      "Car with reg None is travelling at 100mph\n",
      "Car with reg None is travelling at 105mph\n",
      "Car with reg None is travelling at 110mph\n",
      "Car with reg None is travelling at 115mph\n",
      "Car with reg None is travelling at 120mph\n",
      "Car with reg None is travelling at 125mph\n",
      "Car with reg None is travelling at 130mph\n",
      "Car with reg None is travelling at 135mph\n",
      "Car with reg None is travelling at 140mph\n",
      "Car with reg None is travelling at 145mph\n",
      "Car with reg None is travelling at 150mph\n",
      "Car with reg None is travelling at 155mph\n",
      "Car with reg None is travelling at 160mph\n",
      "Car with reg None is travelling at 165mph\n",
      "Car with reg None is travelling at 170mph\n",
      "Car with reg None is travelling at 175mph\n",
      "Car with reg None is travelling at 180mph\n",
      "Car with reg None is travelling at 185mph\n",
      "Car with reg None is travelling at 190mph\n",
      "Car with reg None is travelling at 195mph\n",
      "Car with reg None is travelling at 200mph\n"
     ]
    }
   ],
   "source": [
    "class RacingCar(Car):\n",
    "  \n",
    "    def __init__(self, spoilers):\n",
    "        \n",
    "        super().__init__()\n",
    "        self.__spoilers = spoilers\n",
    "    \n",
    "    def accelerate(self, amount):\n",
    "      time.sleep(0.04 * amount)\n",
    "      self.speed += amount\n",
    "\n",
    "    @property\n",
    "    def max_speed(self):\n",
    "      return super().max_speed + 80\n",
    "  \n",
    "    @property\n",
    "    def spoilers(self):\n",
    "      return self.__spoilers\n",
    "\n",
    "my_car = RacingCar(1)\n",
    "while my_car.speed < my_car.max_speed:\n",
    "  my_car.accelerate(5)\n",
    "  print(my_car)"
   ]
  },
  {
   "cell_type": "markdown",
   "metadata": {
    "colab_type": "text",
    "id": "RfpRZ8I9_db1"
   },
   "source": [
    "## Abstract Classes\n",
    "\n",
    "The abc module allows you to define what are effectively abstract classes. Just as in C++ we can use abstract classes to act as an interface definition for use in composition."
   ]
  },
  {
   "cell_type": "code",
   "execution_count": null,
   "metadata": {
    "colab": {},
    "colab_type": "code",
    "id": "E-H6kurp_wmq"
   },
   "outputs": [],
   "source": [
    "from abc import *\n",
    "\n",
    "class Accelerable(ABC):\n",
    "  \n",
    "  @abstractproperty\n",
    "  def speed(self):\n",
    "    pass\n",
    "  @abstractproperty\n",
    "  def max_speed(self):\n",
    "    pass\n",
    "  @abstractmethod\n",
    "  def accelerate(self, amount):\n",
    "    pass\n",
    "  \n",
    "  \n"
   ]
  },
  {
   "cell_type": "markdown",
   "metadata": {
    "colab_type": "text",
    "id": "FfVsFeaXPQR-"
   },
   "source": [
    "# Modules and Packages\n",
    "\n",
    "Modules can import and reuse other modules. Every time you create a new .py file you potentially crete a new reusable module that can be imported by others.\n",
    "\n",
    "The **import** statement can be used to import one module into another\n",
    "\n",
    "Below we are importing the math module and reusing the contents to access the value of pi and to run the factorial function. Notice how we prefix each variables or function access with the name of the module."
   ]
  },
  {
   "cell_type": "code",
   "execution_count": null,
   "metadata": {
    "colab": {
     "base_uri": "https://localhost:8080/",
     "height": 51
    },
    "colab_type": "code",
    "id": "qsX623S76HRR",
    "outputId": "cca7d52a-9cfb-4593-dd33-2bd0ea85a042"
   },
   "outputs": [
    {
     "name": "stdout",
     "output_type": "stream",
     "text": [
      "3.141592653589793\n",
      "120\n"
     ]
    }
   ],
   "source": [
    "import math\n",
    "print(math.pi)\n",
    "print(math.factorial(5))"
   ]
  },
  {
   "cell_type": "markdown",
   "metadata": {
    "colab_type": "text",
    "id": "APE8yMurqCC_"
   },
   "source": [
    "### Aliasing Modules\n",
    "\n",
    "You can rename imported modules when you import them for reuse with your modules\n",
    "\n"
   ]
  },
  {
   "cell_type": "code",
   "execution_count": null,
   "metadata": {
    "colab": {
     "base_uri": "https://localhost:8080/",
     "height": 34
    },
    "colab_type": "code",
    "id": "BWVU1wjTqU3P",
    "outputId": "f159f1f3-4e2e-4525-e35a-a68033052d4a"
   },
   "outputs": [
    {
     "data": {
      "text/plain": [
       "26"
      ]
     },
     "execution_count": 4,
     "metadata": {
      "tags": []
     },
     "output_type": "execute_result"
    }
   ],
   "source": [
    "import random as rnd\n",
    "rnd.randint(1, 50)"
   ]
  },
  {
   "cell_type": "markdown",
   "metadata": {
    "colab_type": "text",
    "id": "LJ53uNqht5LH"
   },
   "source": [
    "## Packages\n",
    "\n",
    "It's possible to create folders that group modules together. These are known as packages and will typically contain an initialisation script call **\\__init__.py\n",
    "\n",
    "Packages act as namespaces for the code contained within and can be used as an organization tool."
   ]
  },
  {
   "cell_type": "markdown",
   "metadata": {
    "colab_type": "text",
    "id": "5vh5-UVMquTp"
   },
   "source": [
    "## Fine control of import\n",
    "\n",
    "When you have a hierrarchy of modules and packages you can control more easily the importing the contents of this hierarchy using ** from .. import**\n",
    "\n",
    "**from .. import** allows you to import either modules or individual contents of modules such as functions, classes, variables into the current modules context.\n",
    "\n",
    "Below the code is importing from the module the pi variables and the factorial function into the current context which  it can then use directly without having to prefix them with the name of the module to which they belong"
   ]
  },
  {
   "cell_type": "code",
   "execution_count": null,
   "metadata": {
    "colab": {
     "base_uri": "https://localhost:8080/",
     "height": 51
    },
    "colab_type": "code",
    "id": "yagqT3QovYlq",
    "outputId": "87f75add-a0a5-4f0b-d95b-67425bcecbd0"
   },
   "outputs": [
    {
     "name": "stdout",
     "output_type": "stream",
     "text": [
      "3.141592653589793\n",
      "120\n"
     ]
    }
   ],
   "source": [
    "from math import pi, factorial\n",
    "print(pi)\n",
    "print(factorial(5))"
   ]
  },
  {
   "cell_type": "markdown",
   "metadata": {
    "colab_type": "text",
    "id": "X9BJd3o9nN7A"
   },
   "source": [
    "## Modules and search Paths\n",
    "\n",
    "Python has a predefined set of folders that it checks when an import statement is called. These folders include the current directory of the executin script and the library folders for the platform installation.\n",
    "\n",
    "It's also possible to set the **PYTHONPATH** environment variable to a ollection of paths that Python will look in.\n",
    "\n",
    "Finally you can tell Python in code where to look\n",
    "\n",
    "\n",
    "\n",
    "```\n",
    "import sys\n",
    "sys.path.append(r\"c:\\libs\\mylibs\")\n",
    "```\n",
    "\n"
   ]
  },
  {
   "cell_type": "markdown",
   "metadata": {
    "colab_type": "text",
    "id": "X64tnNNePBgI"
   },
   "source": [
    "# Data Storage and File Handling\n",
    "\n",
    "Python files can be simply created using the open function. You can specify the file mode.\n",
    "\n",
    "The basic modes available include:\n",
    "\n",
    "* r - Read\n",
    "* w - Write\n",
    "* a Append\n",
    "\n",
    "You can open for read/write (by placing + on the end of the accessor eg r+) and binary modes (rb)\n",
    "\n",
    "Below we simply use the open method to open a file for write. We then write some raw data to it. Then we open the same file for read and read the data back in again."
   ]
  },
  {
   "cell_type": "code",
   "execution_count": null,
   "metadata": {
    "colab": {
     "base_uri": "https://localhost:8080/",
     "height": 68
    },
    "colab_type": "code",
    "id": "Knmk50xswPjs",
    "jupyter": {
     "source_hidden": true
    },
    "outputId": "1fcc9ef1-e3fa-4b03-ebc3-00829e73f3d9"
   },
   "outputs": [
    {
     "name": "stdout",
     "output_type": "stream",
     "text": [
      "Star Wars, 1977\n",
      "Jaws, 1975\n",
      "\n"
     ]
    }
   ],
   "source": [
    "my_file = open(\"data.txt\", \"w\")\n",
    "my_file.write(\"Star Wars, 1977\\n\")\n",
    "my_file.write(\"Jaws, 1975\\n\")\n",
    "my_file.close()\n",
    "\n",
    "my_file = open(\"data.txt\", \"r\")\n",
    "data = my_file.read()\n",
    "my_file.close()\n",
    "print(data)\n",
    "\n"
   ]
  },
  {
   "cell_type": "markdown",
   "metadata": {
    "colab_type": "text",
    "id": "zAaIE9Zclnuq"
   },
   "source": [
    "[Day 4](https://colab.research.google.com/drive/18W-MF87wkd1EzGw7w53cVHUFkSwSHCvt)"
   ]
  }
 ],
 "metadata": {
  "colab": {
   "collapsed_sections": [],
   "name": "Day3.ipynb",
   "provenance": [],
   "toc_visible": true
  },
  "kernelspec": {
   "display_name": "Python 3",
   "language": "python",
   "name": "python3"
  },
  "language_info": {
   "codemirror_mode": {
    "name": "ipython",
    "version": 3
   },
   "file_extension": ".py",
   "mimetype": "text/x-python",
   "name": "python",
   "nbconvert_exporter": "python",
   "pygments_lexer": "ipython3",
   "version": "3.8.4"
  }
 },
 "nbformat": 4,
 "nbformat_minor": 4
}
