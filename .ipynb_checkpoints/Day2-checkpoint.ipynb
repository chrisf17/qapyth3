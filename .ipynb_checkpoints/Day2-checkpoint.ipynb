{
 "cells": [
  {
   "cell_type": "markdown",
   "metadata": {
    "colab_type": "text",
    "id": "YFGnRlU5XIOC"
   },
   "source": [
    "# Strings\n"
   ]
  },
  {
   "cell_type": "markdown",
   "metadata": {
    "colab_type": "text",
    "id": "MW3tvYTIu-De"
   },
   "source": [
    "## Creating\n",
    "Strings in Python 3 are collections of unicode characters\n",
    "\n"
   ]
  },
  {
   "cell_type": "markdown",
   "metadata": {
    "colab_type": "text",
    "id": "FVbYmWLavwyL"
   },
   "source": [
    "### Defining a literal immutable string\n",
    "\n",
    "Strings in Python are immutable which means once defined they dont change\n",
    "\n"
   ]
  },
  {
   "cell_type": "code",
   "execution_count": null,
   "metadata": {
    "colab": {},
    "colab_type": "code",
    "id": "dEeW1gU-W7fq"
   },
   "outputs": [],
   "source": [
    "message = \"The quick fox jumbed over the fence\""
   ]
  },
  {
   "cell_type": "markdown",
   "metadata": {
    "colab_type": "text",
    "id": "aw1ug4x76nQQ"
   },
   "source": [
    "Strings can be joined to each other"
   ]
  },
  {
   "cell_type": "code",
   "execution_count": null,
   "metadata": {
    "colab": {
     "base_uri": "https://localhost:8080/",
     "height": 34
    },
    "colab_type": "code",
    "id": "R0arOcts6qxc",
    "outputId": "0d2e436a-b79f-4501-b54a-67c9b52e1aed"
   },
   "outputs": [
    {
     "name": "stdout",
     "output_type": "stream",
     "text": [
      "Hello Fred\n"
     ]
    }
   ],
   "source": [
    "name = \"Fred\"\n",
    "greeting = \"Hello\"\n",
    "message = greeting + \" \" + name\n",
    "print(message)"
   ]
  },
  {
   "cell_type": "markdown",
   "metadata": {
    "colab_type": "text",
    "id": "w-E2eOSv65hS"
   },
   "source": [
    "Strings can be repeated - Try this, it gives a surprising result"
   ]
  },
  {
   "cell_type": "code",
   "execution_count": null,
   "metadata": {
    "colab": {
     "base_uri": "https://localhost:8080/",
     "height": 34
    },
    "colab_type": "code",
    "id": "PpiGDcWW64uA",
    "outputId": "41510ac4-37a8-4b30-a1ec-0bfeed95d7a4"
   },
   "outputs": [
    {
     "data": {
      "text/plain": [
       "'Hello Hello Hello Hello Hello '"
      ]
     },
     "execution_count": 1,
     "metadata": {
      "tags": []
     },
     "output_type": "execute_result"
    }
   ],
   "source": [
    "\"Hello \" * 5"
   ]
  },
  {
   "cell_type": "markdown",
   "metadata": {
    "colab_type": "text",
    "id": "gkFNI63gXsNn"
   },
   "source": [
    "It's also possible to refer to individual unicode characters by character code"
   ]
  },
  {
   "cell_type": "code",
   "execution_count": null,
   "metadata": {
    "colab": {
     "base_uri": "https://localhost:8080/",
     "height": 51
    },
    "colab_type": "code",
    "id": "hqXZ_uIbX1vt",
    "outputId": "6e00dd27-9798-47f4-8296-a18ecac3db39"
   },
   "outputs": [
    {
     "name": "stdout",
     "output_type": "stream",
     "text": [
      "€\n",
      "€\n"
     ]
    }
   ],
   "source": [
    "euro = \"\\u20ac\"\n",
    "print(euro)\n",
    "euro = \"\\N{euro sign}\"\n",
    "print(euro)"
   ]
  },
  {
   "cell_type": "markdown",
   "metadata": {
    "colab_type": "text",
    "id": "_rG-YTFQZYmD"
   },
   "source": [
    "Special character or Escape Sequences can be included in your strings.\n",
    "\n",
    "\\n Newline\n",
    "\n",
    "\\t Tab\n",
    "\n",
    "\\\\ Backslash\n",
    "\n",
    "\\\" Quote\n",
    "\n",
    "etc"
   ]
  },
  {
   "cell_type": "code",
   "execution_count": null,
   "metadata": {
    "colab": {
     "base_uri": "https://localhost:8080/",
     "height": 51
    },
    "colab_type": "code",
    "id": "AZJn-0MLZYHo",
    "outputId": "dd212ca9-4430-4d88-be20-47461f3e452e"
   },
   "outputs": [
    {
     "name": "stdout",
     "output_type": "stream",
     "text": [
      "Hello \n",
      " world\n"
     ]
    }
   ],
   "source": [
    "message = \"Hello \\n world\"\n",
    "print(message)"
   ]
  },
  {
   "cell_type": "markdown",
   "metadata": {
    "colab_type": "text",
    "id": "MJGZ0ylpZ4J_"
   },
   "source": [
    "#### Raw Strings\n",
    "Treat the string as raw by prefixing it with \"r\". Escpe sequences will be treated as literal values and not interpreted"
   ]
  },
  {
   "cell_type": "code",
   "execution_count": null,
   "metadata": {
    "colab": {
     "base_uri": "https://localhost:8080/",
     "height": 34
    },
    "colab_type": "code",
    "id": "Ple9oHpaaEP4",
    "outputId": "7475921b-4869-4972-a89b-2c262b0d5853"
   },
   "outputs": [
    {
     "name": "stdout",
     "output_type": "stream",
     "text": [
      "Hello \\n world\n"
     ]
    }
   ],
   "source": [
    "message = r\"Hello \\n world\"\n",
    "print(message)"
   ]
  },
  {
   "cell_type": "markdown",
   "metadata": {
    "colab_type": "text",
    "id": "8bTzom8i8U9a"
   },
   "source": [
    "### Strings are objects and object have methods\n",
    "\n",
    "Based on the str class and so have useful functions that we can use to manipulate existing strings to create new ones\n",
    "\n",
    "\n",
    "\n",
    "\n",
    "\n",
    "\n",
    "\n",
    "\n",
    "\n",
    "\n",
    "\n",
    "\n",
    "\n",
    "\n",
    "\n",
    "\n",
    "\n",
    "\n",
    "\n",
    "\n",
    "\n",
    "\n",
    "\n",
    "\n",
    "\n",
    "\n",
    "\n",
    "\n",
    "\n",
    "\n",
    "\n",
    "\n",
    "\n",
    "\n",
    "\n",
    "\n",
    "\n",
    "\n",
    "\n",
    "\n",
    "\n",
    "\n",
    "\n",
    "\n",
    "\n",
    "\n",
    "\n",
    "\n",
    "\n",
    "\n",
    "\n",
    "\n",
    "\n",
    "\n",
    "\n",
    "\n",
    "\n",
    "\n",
    "\n",
    "\n",
    "\n",
    "\n",
    "\n",
    "\n",
    "\n",
    "\n",
    "\n",
    "\n",
    "\n",
    "\n",
    "\n",
    "\n",
    "\n",
    "\n",
    "\n",
    "\n",
    "\n",
    "\n",
    "\n"
   ]
  },
  {
   "cell_type": "code",
   "execution_count": null,
   "metadata": {
    "colab": {
     "base_uri": "https://localhost:8080/",
     "height": 34
    },
    "colab_type": "code",
    "id": "_t3s9lfdYyBi",
    "outputId": "7243098c-bb17-4acc-f0c0-cc045bd5e4ee"
   },
   "outputs": [
    {
     "name": "stdout",
     "output_type": "stream",
     "text": [
      "NO NEED TO SHOUT\n"
     ]
    }
   ],
   "source": [
    "message = \"No need to shout\"\n",
    "second_message = message.upper()\n",
    "print(second_message)"
   ]
  },
  {
   "cell_type": "markdown",
   "metadata": {
    "colab_type": "text",
    "id": "Wi1CGOHaZQrx"
   },
   "source": [
    "### To find the position of one string in another use find"
   ]
  },
  {
   "cell_type": "code",
   "execution_count": null,
   "metadata": {
    "colab": {
     "base_uri": "https://localhost:8080/",
     "height": 34
    },
    "colab_type": "code",
    "id": "SWJ6zvrmZYEY",
    "outputId": "86ff87b8-183c-4bbf-be2e-54fa94e87616"
   },
   "outputs": [
    {
     "name": "stdout",
     "output_type": "stream",
     "text": [
      "11\n"
     ]
    }
   ],
   "source": [
    "\n",
    "message = \"The clever fox jumped over the fence\"\n",
    "pos = message.find(\"fox\")\n",
    "print(pos)\n"
   ]
  },
  {
   "cell_type": "markdown",
   "metadata": {
    "colab_type": "text",
    "id": "uOlMfMOibDS5"
   },
   "source": [
    "### Replace one string with another"
   ]
  },
  {
   "cell_type": "code",
   "execution_count": null,
   "metadata": {
    "colab": {
     "base_uri": "https://localhost:8080/",
     "height": 34
    },
    "colab_type": "code",
    "id": "kXdQzzm3bH0_",
    "outputId": "d6767c17-85a4-46f5-fcad-231f54090bdb"
   },
   "outputs": [
    {
     "data": {
      "text/plain": [
       "'The clever cat jumped over the fence'"
      ]
     },
     "execution_count": 3,
     "metadata": {
      "tags": []
     },
     "output_type": "execute_result"
    }
   ],
   "source": [
    "message = \"The clever fox jumped over the fence\"\n",
    "message.replace(\"fox\", \"cat\")"
   ]
  },
  {
   "cell_type": "markdown",
   "metadata": {
    "colab_type": "text",
    "id": "y2u4BQmS7bD_"
   },
   "source": [
    "## Formatting Strings\n",
    "\n",
    "Joining data together to form a string can become complicated and buggy"
   ]
  },
  {
   "cell_type": "code",
   "execution_count": null,
   "metadata": {
    "colab": {
     "base_uri": "https://localhost:8080/",
     "height": 34
    },
    "colab_type": "code",
    "id": "Dkype8aFE9ps",
    "outputId": "597ec6be-645a-4d46-b29b-707835c9f7b7"
   },
   "outputs": [
    {
     "data": {
      "text/plain": [
       "'Mina wants to sell her iPhone for 129.98727'"
      ]
     },
     "execution_count": 4,
     "metadata": {
      "tags": []
     },
     "output_type": "execute_result"
    }
   ],
   "source": [
    "name = \"Mina\"\n",
    "device = \"iPhone\"\n",
    "selling_price = 129.98727\n",
    "\n",
    "# Dubious?\n",
    "name + \" wants to sell her \" + device + \" for \" + str(selling_price)\n"
   ]
  },
  {
   "cell_type": "markdown",
   "metadata": {
    "colab_type": "text",
    "id": "ccgTJExUGhuD"
   },
   "source": [
    "String formatting aims to reduce the comlexity"
   ]
  },
  {
   "cell_type": "code",
   "execution_count": null,
   "metadata": {
    "colab": {
     "base_uri": "https://localhost:8080/",
     "height": 34
    },
    "colab_type": "code",
    "id": "SJI2jr6AGrV_",
    "outputId": "aca2b9db-269d-4994-85f1-1bd62cbcb56f"
   },
   "outputs": [
    {
     "data": {
      "text/plain": [
       "'Mina wants to sell her iPhone for 129.98727'"
      ]
     },
     "execution_count": 5,
     "metadata": {
      "tags": []
     },
     "output_type": "execute_result"
    }
   ],
   "source": [
    "name = \"Mina\"\n",
    "device = \"iPhone\"\n",
    "selling_price = 129.98727\n",
    "\n",
    "\"{0} wants to sell her {1} for {2}\".format(name, device, selling_price)"
   ]
  },
  {
   "cell_type": "markdown",
   "metadata": {
    "colab_type": "text",
    "id": "S3UE7fVAM-Di"
   },
   "source": [
    "where {0}, {1} and {2} are placeholders that will be replaced by the data stored in name, device and selling_price"
   ]
  },
  {
   "cell_type": "markdown",
   "metadata": {
    "colab_type": "text",
    "id": "swGpL_zBNdc_"
   },
   "source": [
    "###Field Formatting\n",
    "Each insertion point can be formatted using the following syntax\n",
    "\n",
    "{ position : fill align sign # 0 width . precision type }\n"
   ]
  },
  {
   "cell_type": "code",
   "execution_count": null,
   "metadata": {
    "colab": {
     "base_uri": "https://localhost:8080/",
     "height": 34
    },
    "colab_type": "code",
    "id": "QL9yqtdzI8NW",
    "outputId": "13779b0f-d9a8-4975-b341-bc4a4fbc8d2b"
   },
   "outputs": [
    {
     "data": {
      "text/plain": [
       "'*****Hello*****'"
      ]
     },
     "execution_count": 2,
     "metadata": {
      "tags": []
     },
     "output_type": "execute_result"
    }
   ],
   "source": [
    "# Within a space of 15 chars center (^) the data, fills he gaps with * chars and \n",
    "# treat the data as a strin (s)\n",
    "\"{0:*^15s}\".format(\"Hello\")"
   ]
  },
  {
   "cell_type": "markdown",
   "metadata": {
    "colab_type": "text",
    "id": "iMWaICA7f7pN"
   },
   "source": [
    "fill - Can be any character above we a re using a *\n",
    "\n",
    "align - < for left align, ^ center align, > right align\n",
    "\n",
    "sign - + forces numbers to be displayed either with a + for positive or - for negative numbers\n",
    "\n",
    "\\# or 0 - pads numbers with spaces or zeroes\n",
    "\n",
    "width - determines the field size to be presented in characters (can align within this space)\n",
    "\n",
    ".precision - how many decimal places\n",
    "\n",
    "type - d for int, s for string, f for float (see documentation for more)\n",
    "\n"
   ]
  },
  {
   "cell_type": "code",
   "execution_count": null,
   "metadata": {
    "colab": {
     "base_uri": "https://localhost:8080/",
     "height": 51
    },
    "colab_type": "code",
    "id": "9M47NTvJgnFN",
    "outputId": "92cc6836-250a-4e42-8639-0fad84a7fbb7"
   },
   "outputs": [
    {
     "name": "stdout",
     "output_type": "stream",
     "text": [
      "      23\n",
      "00000023\n"
     ]
    }
   ],
   "source": [
    "print(\"{0:#8d}\".format(23))\n",
    "print(\"{0:08d}\".format(23))\n"
   ]
  },
  {
   "cell_type": "markdown",
   "metadata": {
    "colab_type": "text",
    "id": "iJgTjAxhkNUU"
   },
   "source": [
    "Here is a float formatted to two decimal points"
   ]
  },
  {
   "cell_type": "code",
   "execution_count": null,
   "metadata": {
    "colab": {
     "base_uri": "https://localhost:8080/",
     "height": 34
    },
    "colab_type": "code",
    "id": "H0fBVnG7kaLm",
    "outputId": "524f303c-70fa-4d8e-9d39-9c27c0d8727e"
   },
   "outputs": [
    {
     "data": {
      "text/plain": [
       "'    128.87     '"
      ]
     },
     "execution_count": 20,
     "metadata": {
      "tags": []
     },
     "output_type": "execute_result"
    }
   ],
   "source": [
    "\"{0:^15.2f}\".format(128.872626)"
   ]
  },
  {
   "cell_type": "markdown",
   "metadata": {
    "colab_type": "text",
    "id": "xtRPgS7hoei6"
   },
   "source": [
    "###Format Strings (introduced in Python 3.6) make life a little easier again\n",
    "\n",
    "Just prefix your string with an f\n",
    "\n",
    "The variables container with {} will be substituted."
   ]
  },
  {
   "cell_type": "code",
   "execution_count": null,
   "metadata": {
    "colab": {
     "base_uri": "https://localhost:8080/",
     "height": 34
    },
    "colab_type": "code",
    "id": "UICATAlhotn6",
    "outputId": "e9d4e780-dfb7-47a4-c9f4-67e8392330b6"
   },
   "outputs": [
    {
     "data": {
      "text/plain": [
       "'Mina wants to sell her iPhone for 129.98727'"
      ]
     },
     "execution_count": 7,
     "metadata": {
      "tags": []
     },
     "output_type": "execute_result"
    }
   ],
   "source": [
    "name = \"Mina\"\n",
    "device = \"iPhone\"\n",
    "selling_price = 129.98727\n",
    "\n",
    "f\"{name} wants to sell her {device} for {selling_price}\""
   ]
  },
  {
   "cell_type": "markdown",
   "metadata": {
    "colab_type": "text",
    "id": "Cipp1H-Po1qh"
   },
   "source": [
    "## Slicing Strings\n",
    "\n",
    "Strings are treated by Python a collections or liists of characters. Each character can be accessed by position\n"
   ]
  },
  {
   "cell_type": "markdown",
   "metadata": {
    "colab_type": "text",
    "id": "vELBf4LJpgtP"
   },
   "source": [
    "Positive numbers will access characters from the left side of the string starting with the first character at character position 0\n",
    "\n",
    "\n",
    "The code below will print the first letter \"H\" of Hello World\n"
   ]
  },
  {
   "cell_type": "code",
   "execution_count": null,
   "metadata": {
    "colab": {
     "base_uri": "https://localhost:8080/",
     "height": 34
    },
    "colab_type": "code",
    "id": "fxac0U_TovFk",
    "outputId": "c2be8a46-eaea-4920-a28c-57af1c21bdda"
   },
   "outputs": [
    {
     "name": "stdout",
     "output_type": "stream",
     "text": [
      "H\n"
     ]
    }
   ],
   "source": [
    "message = \"Hello World\"\n",
    "print(message[0])"
   ]
  },
  {
   "cell_type": "markdown",
   "metadata": {
    "colab_type": "text",
    "id": "0oJmNPBkqN_D"
   },
   "source": [
    "Characters can also be retrieved from the right side of a string using negative numbers starting with -1 which refers to the rightmost character. Increasing negative numbers retrieves characters further to the right within the string.\n",
    "\n",
    "\n",
    "The code below prints ** d ** followed by ** l **"
   ]
  },
  {
   "cell_type": "code",
   "execution_count": null,
   "metadata": {
    "colab": {
     "base_uri": "https://localhost:8080/",
     "height": 34
    },
    "colab_type": "code",
    "id": "NeCdLDl5qosB",
    "outputId": "66060014-0d06-4926-d1c9-70b53d8dd4a5"
   },
   "outputs": [
    {
     "name": "stdout",
     "output_type": "stream",
     "text": [
      "d l\n"
     ]
    }
   ],
   "source": [
    "message = \"Hello World\"\n",
    "print(message[-1], message[-2])"
   ]
  },
  {
   "cell_type": "markdown",
   "metadata": {
    "colab_type": "text",
    "id": "iDtqCPNW1xO0"
   },
   "source": [
    "####Character Ranges\n",
    "As well as accessing individual characters you can also access a range of characters from the target string\n"
   ]
  },
  {
   "cell_type": "markdown",
   "metadata": {
    "colab_type": "text",
    "id": "3Yq6dIyr2xdJ"
   },
   "source": [
    "Below we are accessing characters starting from character zero (or T) upto but not including the character at position 4 (or c)"
   ]
  },
  {
   "cell_type": "code",
   "execution_count": null,
   "metadata": {
    "colab": {},
    "colab_type": "code",
    "id": "hlkXEj1N2HU8"
   },
   "outputs": [],
   "source": [
    "message = \"The clever fox jumped over the fence\"\n",
    "sub_str = message[0:4]\n",
    "print(sub_str)"
   ]
  },
  {
   "cell_type": "markdown",
   "metadata": {
    "colab_type": "text",
    "id": "SXFtQf-WM6Km"
   },
   "source": [
    "# Collections\n",
    "\n",
    "Collections allow more than one piece of data to be stored in a variable at one time\n",
    "\n",
    "## Lists\n",
    "\n",
    "In Python lists store data in sequences that are accessible via unique indexes.\n",
    "\n",
    "Lists are defined using [ ] and can either be empty as [ ] or contain comma seperated values [12, 33, 23, 22 ]\n"
   ]
  },
  {
   "cell_type": "markdown",
   "metadata": {
    "colab_type": "text",
    "id": "t2GQ41ZBxG6L"
   },
   "source": [
    "To simply define an empty list you would write the following"
   ]
  },
  {
   "cell_type": "code",
   "execution_count": null,
   "metadata": {
    "colab": {
     "base_uri": "https://localhost:8080/",
     "height": 34
    },
    "colab_type": "code",
    "id": "GYLFByefxGSH",
    "outputId": "40fdb05e-61bd-425c-823e-7aab756144ad"
   },
   "outputs": [
    {
     "data": {
      "text/plain": [
       "[]"
      ]
     },
     "execution_count": 12,
     "metadata": {
      "tags": []
     },
     "output_type": "execute_result"
    }
   ],
   "source": [
    "names = [] # or\n",
    "names = list()\n",
    "names"
   ]
  },
  {
   "cell_type": "markdown",
   "metadata": {
    "colab_type": "text",
    "id": "lsUYgRA9xeI-"
   },
   "source": [
    "To initialise a list with data write:"
   ]
  },
  {
   "cell_type": "code",
   "execution_count": null,
   "metadata": {
    "colab": {},
    "colab_type": "code",
    "id": "i_a4_CWDb2B5"
   },
   "outputs": [],
   "source": [
    "names = [\"Fred\", \"Mina\", \"Bob\", \"Tam\"]\n",
    "print(names)"
   ]
  },
  {
   "cell_type": "markdown",
   "metadata": {
    "colab_type": "text",
    "id": "TDdVag6bcxxF"
   },
   "source": [
    "## List Indexing\n",
    "Lists are indexed in an identical way to strings\n",
    "\n",
    "Positive numbers will access items from the left side of the list starting with the first item at position 0"
   ]
  },
  {
   "cell_type": "code",
   "execution_count": null,
   "metadata": {
    "colab": {
     "base_uri": "https://localhost:8080/",
     "height": 34
    },
    "colab_type": "code",
    "id": "n_kSCJMbce7C",
    "outputId": "4bf35de2-dc04-4026-aaf1-66f234be927c"
   },
   "outputs": [
    {
     "name": "stdout",
     "output_type": "stream",
     "text": [
      "Fred Tam\n"
     ]
    }
   ],
   "source": [
    "names = [\"Fred\", \"Mina\", \"Bob\", \"Tam\"]\n",
    "first = names[0]\n",
    "last =  names [-1]\n",
    "print(first, last)"
   ]
  },
  {
   "cell_type": "code",
   "execution_count": null,
   "metadata": {
    "colab": {},
    "colab_type": "code",
    "id": "Lmb0D7qxqyuP"
   },
   "outputs": [],
   "source": [
    "####List Slicing\n",
    "\n",
    "Lists can be sliced in a similar way to strings with [from:upto(not including)] syntax"
   ]
  },
  {
   "cell_type": "code",
   "execution_count": null,
   "metadata": {
    "colab": {
     "base_uri": "https://localhost:8080/",
     "height": 34
    },
    "colab_type": "code",
    "id": "tXHN_AeqrSFT",
    "outputId": "1fc116ee-cc2e-4873-d2e7-bd448cd76294"
   },
   "outputs": [
    {
     "data": {
      "text/plain": [
       "['Fred', 'Mina', 'Bob']"
      ]
     },
     "execution_count": 8,
     "metadata": {
      "tags": []
     },
     "output_type": "execute_result"
    }
   ],
   "source": [
    "names = [\"Fred\", \"Mina\", \"Bob\", \"Tam\"]\n",
    "names[0:3] # Starting with item at position 0 upto not including item at position 3"
   ]
  },
  {
   "cell_type": "markdown",
   "metadata": {
    "colab_type": "text",
    "id": "_QqwqmLTr9L6"
   },
   "source": [
    "Checking Membership with in"
   ]
  },
  {
   "cell_type": "code",
   "execution_count": null,
   "metadata": {
    "colab": {
     "base_uri": "https://localhost:8080/",
     "height": 34
    },
    "colab_type": "code",
    "id": "kaCNDnvOr8j8",
    "outputId": "b6e8f943-8ecf-4796-996e-6e4e2a8750cf"
   },
   "outputs": [
    {
     "data": {
      "text/plain": [
       "True"
      ]
     },
     "execution_count": 10,
     "metadata": {
      "tags": []
     },
     "output_type": "execute_result"
    }
   ],
   "source": [
    "\"Bob\" in [\"Fred\", \"Mina\", \"Bob\", \"Tam\"]"
   ]
  },
  {
   "cell_type": "markdown",
   "metadata": {
    "colab_type": "text",
    "id": "YOF6fIhswzPC"
   },
   "source": [
    "## Modifying Lists\n",
    "\n",
    "Lists are mutable types and so can be changed"
   ]
  },
  {
   "cell_type": "code",
   "execution_count": null,
   "metadata": {
    "colab": {
     "base_uri": "https://localhost:8080/",
     "height": 34
    },
    "colab_type": "code",
    "id": "N6DCym-yuuBb",
    "outputId": "c23c9e2b-1a4b-48b9-de97-ef8f5097570c"
   },
   "outputs": [
    {
     "name": "stdout",
     "output_type": "stream",
     "text": [
      "['Fred', 'Raz', 'Bob', 'Tam']\n"
     ]
    }
   ],
   "source": [
    "names = [\"Fred\", \"Mina\", \"Bob\", \"Tam\"]\n",
    "names[1] = \"Raz\"\n",
    "print(names)"
   ]
  },
  {
   "cell_type": "markdown",
   "metadata": {
    "colab_type": "text",
    "id": "qJAN5v6aWTgg"
   },
   "source": [
    "You can also add to the end of list using **append**"
   ]
  },
  {
   "cell_type": "code",
   "execution_count": null,
   "metadata": {
    "colab": {
     "base_uri": "https://localhost:8080/",
     "height": 34
    },
    "colab_type": "code",
    "id": "kQWbVUqHWXzY",
    "outputId": "a92982c5-6023-483e-b406-039f58390d61"
   },
   "outputs": [
    {
     "name": "stdout",
     "output_type": "stream",
     "text": [
      "['Fred', 'Mina', 'Bob', 'Tam', 'Suzy', 'James']\n"
     ]
    }
   ],
   "source": [
    "names = [\"Fred\", \"Mina\", \"Bob\", \"Tam\"]\n",
    "names.append(\"Suzy\")\n",
    "names.append(\"James\")\n",
    "print(names)\n"
   ]
  },
  {
   "cell_type": "markdown",
   "metadata": {
    "colab_type": "text",
    "id": "TVKUSM8KWyCb"
   },
   "source": [
    "To add multiple items to the end of a lis either use **+= or extend**"
   ]
  },
  {
   "cell_type": "code",
   "execution_count": null,
   "metadata": {
    "colab": {
     "base_uri": "https://localhost:8080/",
     "height": 52
    },
    "colab_type": "code",
    "id": "GZfnmT1GW6od",
    "outputId": "c1e05bed-6441-4c71-b6e8-da0f99dc9821"
   },
   "outputs": [
    {
     "name": "stdout",
     "output_type": "stream",
     "text": [
      "['Fred', 'Mina', 'Bob', 'Tam', 'Suzy', 'James']\n",
      "['Fred', 'Mina', 'Bob', 'Tam', 'Suzy', 'James', 'Simon', 'Bez']\n"
     ]
    }
   ],
   "source": [
    "names = [\"Fred\", \"Mina\", \"Bob\", \"Tam\"]\n",
    "names += [\"Suzy\", \"James\"]\n",
    "print(names)\n",
    "\n",
    "names.extend([\"Simon\", \"Bez\"])\n",
    "print(names)\n"
   ]
  },
  {
   "cell_type": "markdown",
   "metadata": {
    "colab_type": "text",
    "id": "Y-E1N37jKsaA"
   },
   "source": [
    "To replace items in a list use ranges.\n",
    "\n",
    "Here we are replacing list items 1:4 which is 1 thru 3 (not including 4) with [\"Simon\", \"Bez\"]"
   ]
  },
  {
   "cell_type": "code",
   "execution_count": null,
   "metadata": {
    "colab": {
     "base_uri": "https://localhost:8080/",
     "height": 52
    },
    "colab_type": "code",
    "id": "-DdUpOlzKwQe",
    "outputId": "5a95f3fc-5a9d-4a11-dc66-3726a1994180"
   },
   "outputs": [
    {
     "name": "stdout",
     "output_type": "stream",
     "text": [
      "['Fred', 'Mina', 'Bob', 'Suzy', 'Tam']\n",
      "['Fred', 'Simon', 'Bez', 'Tam']\n"
     ]
    }
   ],
   "source": [
    "names = [\"Fred\", \"Mina\", \"Bob\", \"Suzy\", \"Tam\"]\n",
    "print(names)\n",
    "names[1:4] = [\"Simon\", \"Bez\"]\n",
    "print(names)\n"
   ]
  },
  {
   "cell_type": "markdown",
   "metadata": {
    "colab_type": "text",
    "id": "w1MUabSPHXw-"
   },
   "source": [
    "To insert to a specific location use **insert**"
   ]
  },
  {
   "cell_type": "code",
   "execution_count": null,
   "metadata": {
    "colab": {},
    "colab_type": "code",
    "id": "cHkkEArfZ6Tg"
   },
   "outputs": [],
   "source": [
    "names = [\"Fred\", \"Mina\", \"Bob\", \"Tam\"]\n",
    "print(names)\n",
    "names.insert(1, \"Bez\")\n",
    "print(names)"
   ]
  },
  {
   "cell_type": "markdown",
   "metadata": {
    "colab_type": "text",
    "id": "XSjd6s1bJkdZ"
   },
   "source": [
    "You can also use the range syntax to insert multiple items at a specific location\n",
    "\n",
    "\n",
    "Code below inserts two items starting at position 1 uptobut not including position 1.This means it doesn't do a replacement"
   ]
  },
  {
   "cell_type": "code",
   "execution_count": null,
   "metadata": {
    "colab": {
     "base_uri": "https://localhost:8080/",
     "height": 52
    },
    "colab_type": "code",
    "id": "7kdtD55PLtwb",
    "outputId": "ef0ddf84-a5c9-40b0-ac1a-8689a705e198"
   },
   "outputs": [
    {
     "name": "stdout",
     "output_type": "stream",
     "text": [
      "['Fred', 'Mina', 'Bob', 'Suzy', 'Tam']\n",
      "['Fred', 'Simon', 'Bez', 'Mina', 'Bob', 'Suzy', 'Tam']\n"
     ]
    }
   ],
   "source": [
    "names = [\"Fred\", \"Mina\", \"Bob\", \"Suzy\", \"Tam\"]\n",
    "print(names)\n",
    "names[1:1] = [\"Simon\", \"Bez\"]\n",
    "print(names)\n"
   ]
  },
  {
   "cell_type": "markdown",
   "metadata": {
    "colab_type": "text",
    "id": "F6aZSmzSe7OS"
   },
   "source": [
    "### Removing Items from Lists"
   ]
  },
  {
   "cell_type": "markdown",
   "metadata": {
    "colab_type": "text",
    "id": "n7bDi7kDqCV_"
   },
   "source": [
    "**pop** removes the item from the right side of the list and returns its.\n",
    "\n",
    "You can also pass an index number as a parameter to return the item at that position in the list "
   ]
  },
  {
   "cell_type": "code",
   "execution_count": null,
   "metadata": {
    "colab": {
     "base_uri": "https://localhost:8080/",
     "height": 70
    },
    "colab_type": "code",
    "id": "njajDeILqeYw",
    "outputId": "89e912ce-76f4-40a7-ef39-f0e404fd15ff"
   },
   "outputs": [
    {
     "name": "stdout",
     "output_type": "stream",
     "text": [
      "['Fred', 'Mina', 'Bob', 'Suzy', 'Tam']\n",
      "Tam\n",
      "['Fred', 'Mina', 'Bob', 'Suzy']\n"
     ]
    }
   ],
   "source": [
    "names = [\"Fred\", \"Mina\", \"Bob\", \"Suzy\", \"Tam\"]\n",
    "print(names)\n",
    "popped_name = names.pop()\n",
    "print(popped_name)\n",
    "print(names)"
   ]
  },
  {
   "cell_type": "markdown",
   "metadata": {
    "colab_type": "text",
    "id": "zME0YohhrX2Y"
   },
   "source": [
    "## Multi Dimensional Lists"
   ]
  },
  {
   "cell_type": "markdown",
   "metadata": {
    "colab_type": "text",
    "id": "ywQqy5-lrbO9"
   },
   "source": [
    "Lists can contain every other object type in Python that includes other lists.\n",
    "\n",
    "Its possible to define a list within a list such as:\n",
    "\n",
    "[\"Fred\", \"Amy\", [\"Suzy\", \"Tom\"], \"Bob\"]\n",
    "\n",
    "Item at position 2 is a list rather than a str"
   ]
  },
  {
   "cell_type": "code",
   "execution_count": null,
   "metadata": {
    "colab": {
     "base_uri": "https://localhost:8080/",
     "height": 70
    },
    "colab_type": "code",
    "id": "vvvl0dUzr5CA",
    "outputId": "a31a387b-dead-4690-da2c-c6546ab573e1"
   },
   "outputs": [
    {
     "name": "stdout",
     "output_type": "stream",
     "text": [
      "Fred\n",
      "['Suzy', 'Tom']\n",
      "Tom\n"
     ]
    }
   ],
   "source": [
    "friends = [\"Fred\", \"Amy\", [\"Suzy\", \"Tom\"], \"Bob\"]\n",
    "print(friends[0])# first item in list\n",
    "print(friends[2]) # third item as list\n",
    "print(friends[2][1]) # second item of embedded list"
   ]
  },
  {
   "cell_type": "markdown",
   "metadata": {
    "colab_type": "text",
    "id": "D3C1m8Z0srrz"
   },
   "source": [
    "# Tuples"
   ]
  },
  {
   "cell_type": "markdown",
   "metadata": {
    "colab_type": "text",
    "id": "bqhDqPj_st27"
   },
   "source": [
    "Lists are read/write. Tuples are effectively immutable or read only lists.\n",
    "\n",
    "You can define a tuple using ( ) instead of [ ]\n",
    "\n",
    "names = (\"Fred\", \"Amy\", \"Bob\")\n",
    "\n",
    "would be a read only tuple although you could miss out the ( ) and it would still be ok."
   ]
  },
  {
   "cell_type": "code",
   "execution_count": null,
   "metadata": {
    "colab": {
     "base_uri": "https://localhost:8080/",
     "height": 52
    },
    "colab_type": "code",
    "id": "mcLscMfstOjd",
    "outputId": "eaf85f9f-9418-4a62-b258-e24800b3832a"
   },
   "outputs": [
    {
     "name": "stdout",
     "output_type": "stream",
     "text": [
      "('Fred', 'Amy', 'Bob')\n",
      "Fred\n"
     ]
    }
   ],
   "source": [
    "names = (\"Fred\", \"Amy\", \"Bob\")\n",
    "print(names)\n",
    "print(names[0])"
   ]
  },
  {
   "cell_type": "markdown",
   "metadata": {
    "colab_type": "text",
    "id": "FAb_jolniqt9"
   },
   "source": [
    "## Upacking Tuples (or lists)\n",
    "\n",
    "Tuples can be accessed using the same indexing and slicing techniques as lists as long as the access is read only\n",
    "\n",
    "Tuples and list members can also be unpacked into defined variables."
   ]
  },
  {
   "cell_type": "code",
   "execution_count": null,
   "metadata": {
    "colab": {
     "base_uri": "https://localhost:8080/",
     "height": 34
    },
    "colab_type": "code",
    "id": "QDKsS0ZejPna",
    "outputId": "b81f1921-9ef5-474f-bb47-b3ffb117da64"
   },
   "outputs": [
    {
     "name": "stdout",
     "output_type": "stream",
     "text": [
      "21 Fred 11 The High St\n"
     ]
    }
   ],
   "source": [
    "details = \"Fred\", 21, \"11 The High St\"\n",
    "first_name, age, address = details\n",
    "print(age,first_name, address)"
   ]
  },
  {
   "cell_type": "markdown",
   "metadata": {
    "colab_type": "text",
    "id": "Ia8lGwRJlTo2"
   },
   "source": [
    "###Uneven unpacking\n",
    "\n",
    "What happens if you try to unpack a list or a tuple into fewer variables than items in the list or tuple?"
   ]
  },
  {
   "cell_type": "code",
   "execution_count": null,
   "metadata": {
    "colab": {
     "base_uri": "https://localhost:8080/",
     "height": 198
    },
    "colab_type": "code",
    "id": "i39GILQAli1Z",
    "outputId": "d668ae60-df01-4de9-8ba2-7edc0c8fed15"
   },
   "outputs": [
    {
     "ename": "ValueError",
     "evalue": "ignored",
     "output_type": "error",
     "traceback": [
      "\u001b[0;31m---------------------------------------------------------------------------\u001b[0m",
      "\u001b[0;31mValueError\u001b[0m                                Traceback (most recent call last)",
      "\u001b[0;32m<ipython-input-9-c507fdd5da8f>\u001b[0m in \u001b[0;36m<module>\u001b[0;34m()\u001b[0m\n\u001b[1;32m      1\u001b[0m \u001b[0mdetails\u001b[0m \u001b[0;34m=\u001b[0m \u001b[0;34m[\u001b[0m\u001b[0;34m\"Fred\"\u001b[0m\u001b[0;34m,\u001b[0m \u001b[0;36m21\u001b[0m\u001b[0;34m,\u001b[0m \u001b[0;34m\"11 The High St\"\u001b[0m\u001b[0;34m,\u001b[0m \u001b[0;34m\"27834\"\u001b[0m\u001b[0;34m]\u001b[0m\u001b[0;34m\u001b[0m\u001b[0;34m\u001b[0m\u001b[0m\n\u001b[0;32m----> 2\u001b[0;31m \u001b[0mfirst_name\u001b[0m\u001b[0;34m,\u001b[0m \u001b[0mage\u001b[0m\u001b[0;34m,\u001b[0m \u001b[0maddress\u001b[0m \u001b[0;34m=\u001b[0m \u001b[0mdetails\u001b[0m\u001b[0;34m\u001b[0m\u001b[0;34m\u001b[0m\u001b[0m\n\u001b[0m\u001b[1;32m      3\u001b[0m \u001b[0mprint\u001b[0m\u001b[0;34m(\u001b[0m\u001b[0mage\u001b[0m\u001b[0;34m,\u001b[0m\u001b[0mfirst_name\u001b[0m\u001b[0;34m,\u001b[0m \u001b[0maddress\u001b[0m\u001b[0;34m)\u001b[0m\u001b[0;34m\u001b[0m\u001b[0;34m\u001b[0m\u001b[0m\n",
      "\u001b[0;31mValueError\u001b[0m: too many values to unpack (expected 3)"
     ]
    }
   ],
   "source": [
    "details = [\"Fred\", 21, \"11 The High St\", \"27834\"]\n",
    "first_name, age, address = details\n",
    "print(age,first_name, address)"
   ]
  },
  {
   "cell_type": "markdown",
   "metadata": {
    "colab_type": "text",
    "id": "XW_mLeY0lwXx"
   },
   "source": [
    "That's right you get an error!\n",
    "\n",
    "To overcome this problem use the * syntax on the last parameter which copies the remaining list items into the last variable as a list"
   ]
  },
  {
   "cell_type": "code",
   "execution_count": null,
   "metadata": {
    "colab": {
     "base_uri": "https://localhost:8080/",
     "height": 68
    },
    "colab_type": "code",
    "id": "PdTGxHZtmEtn",
    "outputId": "5ee04439-4359-42d2-d9aa-645876f36a58"
   },
   "outputs": [
    {
     "name": "stdout",
     "output_type": "stream",
     "text": [
      "21\n",
      "Fred\n",
      "['11 The High St', '27834']\n"
     ]
    }
   ],
   "source": [
    "details = [\"Fred\", 21, \"11 The High St\", \"27834\"]\n",
    "first_name, age, *extra_details = details\n",
    "print(age)\n",
    "print(first_name)\n",
    "print(extra_details)"
   ]
  },
  {
   "cell_type": "markdown",
   "metadata": {
    "colab_type": "text",
    "id": "9opFjOmvmlaB"
   },
   "source": [
    "# Dictionaries\n",
    "\n",
    "If a list or tuple is a numbered list of items, a dictionary is a keyed (or hashed) list where the key/hash is an identifier that uniquely identifies the item in the dictionary.\n",
    "\n",
    "You could have a dictionary of employees for example where the key would be the employee id or social security number. Anything that uniquely identifies the item works well.\n",
    "\n",
    "The point is that you can use the key to retrieve the item without having to search the entire dictionary. Kind of like an actual dictionary."
   ]
  },
  {
   "cell_type": "code",
   "execution_count": null,
   "metadata": {
    "colab": {
     "base_uri": "https://localhost:8080/",
     "height": 51
    },
    "colab_type": "code",
    "id": "sNwjvqR3nWFf",
    "outputId": "b57b4c53-efc8-43dd-d732-13012831bfee"
   },
   "outputs": [
    {
     "name": "stdout",
     "output_type": "stream",
     "text": [
      "Enter the employee's id:22-323-89\n",
      "Employee with id 22-323-89 is Beth McGregor\n"
     ]
    }
   ],
   "source": [
    "employees = {\"12-333-44\":\"Fred Bloggs\",\n",
    "            \"22-323-89\":\"Beth McGregor\",\n",
    "            \"12-567-43\": \"Ravi Cox\"}\n",
    "\n",
    "employee_id = input(\"Enter the employee's id:\")\n",
    "print(f\"Employee with id {employee_id} is {employees[employee_id]}\")"
   ]
  },
  {
   "cell_type": "markdown",
   "metadata": {
    "colab_type": "text",
    "id": "AmKi0ZUmovV-"
   },
   "source": [
    "Dictionaries are made up of key:value pairs sperated by commas. In Python dictionaries are contained inside { }\n",
    "\n",
    "They can be preppulated (as above) or generated dynamically"
   ]
  },
  {
   "cell_type": "code",
   "execution_count": null,
   "metadata": {
    "colab": {
     "base_uri": "https://localhost:8080/",
     "height": 34
    },
    "colab_type": "code",
    "id": "v-N-uBa6pOvo",
    "outputId": "752cf34e-5911-408b-82ac-580401d5608a"
   },
   "outputs": [
    {
     "name": "stdout",
     "output_type": "stream",
     "text": [
      "{'12-333-44': 'Fred Bloggs', '22-323-89': 'Beth McGregor', '12-567-43': 'Ravi Cox', '99-888-77': 'Tom Thomas'}\n"
     ]
    }
   ],
   "source": [
    "employees = {\"12-333-44\":\"Fred Bloggs\",\n",
    "            \"22-323-89\":\"Beth McGregor\",\n",
    "            \"12-567-43\": \"Ravi Cox\"}\n",
    "\n",
    "employees[\"99-888-77\"] = \"Tom Thomas\"\n",
    "\n",
    "print(employees)"
   ]
  },
  {
   "cell_type": "markdown",
   "metadata": {
    "colab_type": "text",
    "id": "YWAVMVNdpgJa"
   },
   "source": [
    "Two dictionaries can be joined:"
   ]
  },
  {
   "cell_type": "code",
   "execution_count": null,
   "metadata": {
    "colab": {
     "base_uri": "https://localhost:8080/",
     "height": 54
    },
    "colab_type": "code",
    "id": "sJJHXHfUpjWo",
    "outputId": "76d5e876-8688-4f13-f3e8-ba224aecdfc1"
   },
   "outputs": [
    {
     "name": "stdout",
     "output_type": "stream",
     "text": [
      "{'12-333-44': 'Fred Bloggs', '22-323-89': 'Beth McGregor', '99-888-77': 'Tom Thomas', '12-567-43': 'Ravi Cox'}\n"
     ]
    }
   ],
   "source": [
    "employees = {\"12-333-44\":\"Fred Bloggs\",\n",
    "            \"22-323-89\":\"Beth McGregor\"}\n",
    "\n",
    "new_hires = { \"99-888-77\": \"Tom Thomas\", \"12-567-43\": \"Ravi Cox\"}\n",
    "\n",
    "employees.update(new_hires)\n",
    "\n",
    "print(employees)"
   ]
  },
  {
   "cell_type": "markdown",
   "metadata": {
    "colab_type": "text",
    "id": "xZa8HA5OqBSq"
   },
   "source": [
    "Items can be popped from a dictionary"
   ]
  },
  {
   "cell_type": "code",
   "execution_count": null,
   "metadata": {
    "colab": {
     "base_uri": "https://localhost:8080/",
     "height": 68
    },
    "colab_type": "code",
    "id": "xZg_yIKdqFL6",
    "outputId": "f1fa054d-15ac-4cc5-89c6-9c86f3b138a4"
   },
   "outputs": [
    {
     "name": "stdout",
     "output_type": "stream",
     "text": [
      "{'12-333-44': 'Fred Bloggs', '22-323-89': 'Beth McGregor', '12-567-43': 'Ravi Cox'}\n",
      "Beth McGregor\n",
      "{'12-333-44': 'Fred Bloggs', '12-567-43': 'Ravi Cox'}\n"
     ]
    }
   ],
   "source": [
    "employees = {\"12-333-44\":\"Fred Bloggs\",\n",
    "            \"22-323-89\":\"Beth McGregor\",\n",
    "            \"12-567-43\": \"Ravi Cox\"}\n",
    "print(employees)\n",
    "print(employees.pop(\"22-323-89\"))\n",
    "print(employees)"
   ]
  },
  {
   "cell_type": "markdown",
   "metadata": {
    "colab_type": "text",
    "id": "atbRr-7rqoMJ"
   },
   "source": [
    "## Indexing into a Dictionary?\n",
    "\n",
    "Dictionaries have the following methods which return different parts of the dictionaries as lists or tuples\n",
    "\n",
    "**keys** returns a \"list\" of all of the dictionaries keys\n",
    "\n",
    "**values** returns a \"list\" of all of the dictionaries values\n",
    "\n",
    "**items** returns a tuple of each of the dictionaties items as a key, value tuple\n",
    "\n",
    "(list in this case is actually an iterator that will be covered later)"
   ]
  },
  {
   "cell_type": "code",
   "execution_count": null,
   "metadata": {
    "colab": {
     "base_uri": "https://localhost:8080/",
     "height": 88
    },
    "colab_type": "code",
    "id": "FgPRdD95rfmQ",
    "outputId": "df987af2-80dc-4e63-b699-0cd694dd072e"
   },
   "outputs": [
    {
     "name": "stdout",
     "output_type": "stream",
     "text": [
      "dict_keys(['12-333-44', '22-323-89', '12-567-43'])\n",
      "dict_values(['Fred Bloggs', 'Beth McGregor', 'Ravi Cox'])\n",
      "dict_items([('12-333-44', 'Fred Bloggs'), ('22-323-89', 'Beth McGregor'), ('12-567-43', 'Ravi Cox')])\n"
     ]
    }
   ],
   "source": [
    "employees = {\"12-333-44\":\"Fred Bloggs\",\n",
    "            \"22-323-89\":\"Beth McGregor\",\n",
    "            \"12-567-43\": \"Ravi Cox\"}\n",
    "print(employees.keys())\n",
    "print(employees.values())\n",
    "print(employees.items())"
   ]
  },
  {
   "cell_type": "markdown",
   "metadata": {
    "colab_type": "text",
    "id": "HZIes0eFsJlK"
   },
   "source": [
    "# Data Sets\n",
    "\n",
    "Data sets are unique unordered collections of data items. They provide a set of set membership operators that can be really useful when comparing and contrasting data sets.\n",
    "\n",
    "A data set can be an invaluable structure to use in data comparison and is often a simple to use alternative to wrting for loops and if statements to achieve the same result.\n",
    "\n",
    "Define a data set using { }\n",
    "\n",
    "Operations include:\n",
    "\n",
    "**Union (or | )**  - Joins datasets and eliminates duplicates \n",
    "\n",
    "**Intersection (or & )**  - Elements common to both sets \n",
    "\n",
    "**Difference (or - )**  - Elements with items common in second set subtracted "
   ]
  },
  {
   "cell_type": "code",
   "execution_count": null,
   "metadata": {
    "colab": {
     "base_uri": "https://localhost:8080/",
     "height": 119
    },
    "colab_type": "code",
    "id": "Xn4TEZBEs6UO",
    "outputId": "9836d9c1-0fd3-4bed-ac49-e0d38d26c66e"
   },
   "outputs": [
    {
     "name": "stdout",
     "output_type": "stream",
     "text": [
      "Union {'Amy', 'Fred', 'Bob', 'Beth', 'Tam'}\n",
      "Union {'Amy', 'Fred', 'Bob', 'Beth', 'Tam'}\n",
      "Intersection {'Amy'}\n",
      "Intersection {'Amy'}\n",
      "Difference {'Fred', 'Bob'}\n",
      "Difference {'Fred', 'Bob'}\n"
     ]
    }
   ],
   "source": [
    "set1 = {\"Fred\", \"Amy\", \"Bob\"}\n",
    "set2 = {\"Beth\", \"Amy\", \"Tam\"}\n",
    "\n",
    "print(\"Union\", set1.union(set2))\n",
    "print(\"Union\", set1 | set2)\n",
    "\n",
    "print(\"Intersection\", set1.intersection(set2))\n",
    "print(\"Intersection\", set1 & set2)\n",
    "\n",
    "print(\"Difference\", set1.difference(set2))\n",
    "print(\"Difference\", set1 - set2)\n"
   ]
  },
  {
   "cell_type": "markdown",
   "metadata": {
    "colab_type": "text",
    "id": "EdXf65t4vFkV"
   },
   "source": [
    "### Converting between lists and sets\n",
    "\n",
    "You can convert a set to a list and back again using list() and set() passing the item to be converted.\n",
    "\n",
    "set() will eliminate duplicates in the list."
   ]
  },
  {
   "cell_type": "code",
   "execution_count": null,
   "metadata": {
    "colab": {
     "base_uri": "https://localhost:8080/",
     "height": 68
    },
    "colab_type": "code",
    "id": "c_VaiOYhvgnO",
    "outputId": "36150d3d-c671-4971-85fc-e7a3d969009a"
   },
   "outputs": [
    {
     "name": "stdout",
     "output_type": "stream",
     "text": [
      "['Fred', 'Amy', 'Bob', 'Amy']\n",
      "{'Amy', 'Fred', 'Bob'}\n",
      "['Amy', 'Fred', 'Bob']\n"
     ]
    }
   ],
   "source": [
    "names = [\"Fred\", \"Amy\", \"Bob\", \"Amy\"]\n",
    "\n",
    "set1 = set(names)\n",
    "\n",
    "print(names)\n",
    "print(set1)\n",
    "\n",
    "names2 = list(set1)\n",
    "print(names2)"
   ]
  },
  {
   "cell_type": "markdown",
   "metadata": {
    "colab_type": "text",
    "id": "pJxOXUX1v7Tu"
   },
   "source": [
    "# Regular Expressions\n",
    "\n",
    "A regular expression is a syntax for defining pattern that you can use to describe the stucture of a string\n",
    "\n",
    "You can write a regular expression to define the structure of an email or a zip code or social security number. These kinds of data don't always follow an exact pattern but often have some variance or flexibility in the way they are defined and the data they can contain. \n",
    "\n",
    "A regular expression can define a flexible pattern to match all or part of a string."
   ]
  },
  {
   "cell_type": "markdown",
   "metadata": {
    "colab_type": "text",
    "id": "0k5swlBzSyP_"
   },
   "source": [
    "## Character Multiplicty\n",
    "\n",
    "It makes sense to first look at the basic syntax of regular expressions and then look at how we can apply the syntax in Python.\n",
    "\n",
    "###Simple Pattern Matching\n",
    "\n",
    "\n",
    "To match the string \n",
    "\n",
    "**abc** \n",
    "\n",
    "we can use the regular expression\n",
    "\n",
    "abc\n",
    "\n",
    "This uses exact character matching. however if we wanted to match a more flexible pattern such as the following:\n",
    "\n",
    "**abc**\n",
    "\n",
    "**abbc**\n",
    "\n",
    "The simple regex abc won't work.\n",
    "\n",
    "###Multiplicity Operators\n",
    "\n",
    "Regular expression syntax allows the following multiplivity specifiers to be laced next to characteres to indicate their occurrence pattern\n",
    "\n",
    "> ?  = 0 or 1\n",
    "\n",
    "> \\*  = 0 or more\n",
    "\n",
    "> \\+ = 1 or more \n",
    "\n",
    "\n",
    "To match:\n",
    "\n",
    "**abc**\n",
    "\n",
    "**abbc**\n",
    "\n",
    "we couldwrite the pattern\n",
    "\n",
    "ab+c\n",
    "\n",
    "or\n",
    "\n",
    "ab\\*c\n",
    "\n",
    "### Fixed or Ranged Multiplicity\n",
    "\n",
    "The above gives quite flexible control over character multiplicty. To more precisely control it you can use fixed or ranged multiplicity using { }\n",
    "\n",
    "ab{1, 3}c\n",
    "\n",
    "Is expecing there to be between 1 and three **b** characters\n",
    "\n",
    "{, 5}would indicate upto 5 #, {3, } would indicate at least 3 but then many\n",
    "\n",
    "\n",
    "\n",
    "\n"
   ]
  },
  {
   "cell_type": "markdown",
   "metadata": {
    "colab_type": "text",
    "id": "oXJETpOlXNeb"
   },
   "source": [
    "## Character Flexibility\n",
    "\n",
    "Character flexibility means we can be more flexible about which characters we expect to see in the target string. Previously we fixed the expected characted to a range of one possible value each time\n",
    "\n",
    "Now we will provide a character range using [ ]\n",
    "\n",
    "Below, instead of describing a single character we are describing three possible alternatives a, x or z. Either one can occur in our sequence\n",
    "\n",
    "**[axz]**\n",
    "\n",
    "So the regex:\n",
    "[axz]bc\n",
    "\n",
    "Would match\n",
    "\n",
    "abc\n",
    "xbc\n",
    "zbc\n",
    "\n",
    "If you combine it with the multiplicty specifiers from earlier we could have:\n",
    "\n",
    "[axz]*bc\n",
    "\n",
    "matching \n",
    "\n",
    "zzxxaabc\n",
    "\n",
    "azxbc\n",
    "\n",
    "etc.\n",
    "\n",
    "You could also have\n",
    "\n",
    "[axz]{2,3}bc\n",
    "\n"
   ]
  },
  {
   "cell_type": "markdown",
   "metadata": {
    "colab_type": "text",
    "id": "28Y7gsp3IsTn"
   },
   "source": [
    "## Character Ranges\n",
    "\n",
    "[A-Z] includes all uppercase characters between A and Z\n",
    "\n",
    "[a-z] includes all lowercase characters between a and z\n",
    "\n",
    "[A-z] includes all upper and lower case characters between A and z\n",
    "\n",
    "[0-9] Numbers\n",
    "\n",
    "\n"
   ]
  },
  {
   "cell_type": "markdown",
   "metadata": {
    "colab_type": "text",
    "id": "1QEUQcF1Jidm"
   },
   "source": [
    "## Escape Sequences\n",
    "\n",
    "To avoid having to define ranges there are some shortcuts defined in the form of escape sequences\n",
    "\n",
    "\\d - short for [0-9]\n",
    "\n",
    "\\w - [A-z0-9]\n",
    "\n",
    "\\s - Any whitespace\n",
    "\n",
    "\\b - Word boundary (includes . and , )\n",
    "\n",
    "The uppercase variants of the above \\D \\W \\S \\B indicte not that character class. So \\D means not numbers etc. "
   ]
  },
  {
   "cell_type": "markdown",
   "metadata": {
    "colab_type": "text",
    "id": "MBKDEPZxIAHf"
   },
   "source": [
    "## Optionals\n",
    "\n",
    "Use the pipe charcater | to indicator an or or optional\n",
    "\n",
    "cat | dog\n",
    "\n",
    "which can then be used to match the occurences in the following string. See **findall** later.\n",
    "\n",
    "\"A dog can run faster than a cat in most situations\""
   ]
  },
  {
   "cell_type": "markdown",
   "metadata": {
    "colab_type": "text",
    "id": "Yggz8aIbhUIh"
   },
   "source": [
    "## Regex and Python\n",
    "\n",
    "To use regex in Python use the **re** module\n",
    "\n",
    "You can then use one of a number of functions to perform regex processing\n",
    "\n",
    "match - matches your regex from the start of every sting it is compared against\n",
    "\n",
    "**search** - Matches anywhere in the string\n",
    "\n",
    "**findall** - Returns all matching sequences in string\n",
    "\n",
    "**sub/subn** - Performs a more powerful replace function using regex\n",
    "\n",
    "**split** - Is a more powerful string splitting function using regex\n",
    "\n"
   ]
  },
  {
   "cell_type": "code",
   "execution_count": null,
   "metadata": {
    "colab": {
     "base_uri": "https://localhost:8080/",
     "height": 85
    },
    "colab_type": "code",
    "id": "VRwnJ554v8NO",
    "outputId": "e797c8db-ee83-4abd-fdd2-c9aa715cdc95"
   },
   "outputs": [
    {
     "name": "stdout",
     "output_type": "stream",
     "text": [
      "<_sre.SRE_Match object; span=(0, 4), match='adef'>\n",
      "0\n",
      "4\n",
      "(0, 4)\n"
     ]
    }
   ],
   "source": [
    "import re\n",
    "\n",
    "result = re.match(r\"a[bcd]ef\", \"adef\")\n",
    "print(result)\n",
    "print(result.start()) # The start position of the match\n",
    "print(result.end()) # The end position of the match\n",
    "\n",
    "print(result.span()) # Both start and end as a tuple\n"
   ]
  },
  {
   "cell_type": "markdown",
   "metadata": {
    "colab_type": "text",
    "id": "JhIEYUJixEZY"
   },
   "source": [
    "It will return None if no match is found and always matches to the start of the string\n",
    "\n",
    "That's why the following fails:"
   ]
  },
  {
   "cell_type": "code",
   "execution_count": null,
   "metadata": {
    "colab": {
     "base_uri": "https://localhost:8080/",
     "height": 34
    },
    "colab_type": "code",
    "id": "7JWmLFg9xVgk",
    "outputId": "3b8381a2-351d-4af6-de5c-ba4fbf461922"
   },
   "outputs": [
    {
     "name": "stdout",
     "output_type": "stream",
     "text": [
      "None\n"
     ]
    }
   ],
   "source": [
    "import re\n",
    "\n",
    "result = re.match(r\"a[bcd]ef\", \"xyadef\")\n",
    "print(result)\n"
   ]
  },
  {
   "cell_type": "markdown",
   "metadata": {
    "colab_type": "text",
    "id": "DTDpQ4pqxb3n"
   },
   "source": [
    "For this to work we need to use **search**"
   ]
  },
  {
   "cell_type": "code",
   "execution_count": null,
   "metadata": {
    "colab": {
     "base_uri": "https://localhost:8080/",
     "height": 85
    },
    "colab_type": "code",
    "id": "HomhAcKbxnZJ",
    "outputId": "af090a5e-5d22-4a9b-884f-2c09c73ee635"
   },
   "outputs": [
    {
     "name": "stdout",
     "output_type": "stream",
     "text": [
      "<_sre.SRE_Match object; span=(2, 6), match='adef'>\n",
      "2\n",
      "6\n",
      "(2, 6)\n"
     ]
    }
   ],
   "source": [
    "import re\n",
    "\n",
    "result = re.search(r\"a[bcd]ef\", \"xyadef\")\n",
    "print(result)\n",
    "print(result.start())\n",
    "print(result.end())\n",
    "\n",
    "print(result.span())\n"
   ]
  },
  {
   "cell_type": "markdown",
   "metadata": {
    "colab_type": "text",
    "id": "xh7kD-XbmkWz"
   },
   "source": [
    "## Regex Groups\n",
    "\n",
    "Assuming we have a string with the following content\n",
    "\n",
    "message = \"The event is on 12 Jan 2019 at 17:00 and all are welcome\"\n",
    "\n",
    "To match the date we could write the regex"
   ]
  },
  {
   "cell_type": "code",
   "execution_count": null,
   "metadata": {
    "colab": {
     "base_uri": "https://localhost:8080/",
     "height": 34
    },
    "colab_type": "code",
    "id": "FtV9ZfFjou3q",
    "outputId": "8eca39ea-46e2-43f5-cab6-3fb7f037cae2"
   },
   "outputs": [
    {
     "name": "stdout",
     "output_type": "stream",
     "text": [
      "<_sre.SRE_Match object; span=(16, 27), match='12 Jan 2019'>\n"
     ]
    }
   ],
   "source": [
    "import re\n",
    "\n",
    "\n",
    "message = \"The event is on 12 Jan 2019 at 17:00 and all delegates are welcome\"\n",
    "\n",
    "pattern = \"\\d{2} \\w{3} \\d{4}\" # 2 digits 1 space 3 any characters A-z0-9_ 1 space 4 digits\n",
    "\n",
    "result = re.search(pattern, message)\n",
    "\n",
    "print(result)"
   ]
  },
  {
   "cell_type": "markdown",
   "metadata": {
    "colab_type": "text",
    "id": "GgR9v3wFtDiL"
   },
   "source": [
    "Placing brackets around parts of the pattern creates groups\n",
    "\n",
    "pattern = \"(\\d{2}) (\\w{3}) (\\d{4})\"\n",
    "\n",
    "Each group can then be accessed seperately using the **groups()** function which returns a tuple containing the matched content for each group\n",
    "\n"
   ]
  },
  {
   "cell_type": "code",
   "execution_count": null,
   "metadata": {
    "colab": {
     "base_uri": "https://localhost:8080/",
     "height": 85
    },
    "colab_type": "code",
    "id": "mwUuKmSJuN-b",
    "outputId": "0e59946b-383f-46f2-8e6f-89115ff9c92b"
   },
   "outputs": [
    {
     "name": "stdout",
     "output_type": "stream",
     "text": [
      "Groups: ('12', 'Jan', '2019')\n",
      "Day Group: 12\n",
      "Month Group: Jan\n",
      "Year Group: 2019\n"
     ]
    }
   ],
   "source": [
    "import re\n",
    "\n",
    "\n",
    "message = \"The event is on 12 Jan 2019 at 17:00 and all delegates are welcome\"\n",
    "\n",
    "pattern = \"(\\d{2}) (\\w{3}) (\\d{4})\" # 2 digits 1 space 3 any characters A-z0-9_ 1 space 4 digits\n",
    "\n",
    "result = re.search(pattern, message)\n",
    "\n",
    "print(\"Groups:\", result.groups())\n",
    "print(\"Day Group:\", result.groups()[0])\n",
    "print(\"Month Group:\", result.groups()[1])\n",
    "print(\"Year Group:\", result.groups()[2])\n",
    "\n"
   ]
  },
  {
   "cell_type": "markdown",
   "metadata": {
    "colab_type": "text",
    "id": "m3QrpqMHG9NU"
   },
   "source": [
    "## Multi part search\n",
    "\n",
    "So far we have performed single matches, To find all occurences of a pattern we use, the aptly named **findall** function.\n",
    "\n"
   ]
  },
  {
   "cell_type": "code",
   "execution_count": null,
   "metadata": {
    "colab": {
     "base_uri": "https://localhost:8080/",
     "height": 34
    },
    "colab_type": "code",
    "id": "SJps_2LoK7gW",
    "outputId": "7b0e4912-092a-4ac8-ef95-f7a5a88a5508"
   },
   "outputs": [
    {
     "name": "stdout",
     "output_type": "stream",
     "text": [
      "[' dog ', 'cat ']\n"
     ]
    }
   ],
   "source": [
    "import re\n",
    "\n",
    "message =\"A dog can run faster than a cat in most situations\"\n",
    "pattern = r\"cat | dog | panda | cheetah\"\n",
    "\n",
    "result = re.findall(pattern, message)\n",
    "print(result)"
   ]
  },
  {
   "cell_type": "markdown",
   "metadata": {
    "colab_type": "text",
    "id": "8aiyQH8-Li5T"
   },
   "source": [
    "Notice how the found patterns are returned in a list"
   ]
  },
  {
   "cell_type": "markdown",
   "metadata": {
    "colab_type": "text",
    "id": "CMDytXNEc8gp"
   },
   "source": [
    "## Substitution\n",
    "\n",
    "The equivalent if the string **replace** function in regex is **sub** and **subn**.\n",
    "\n",
    "Withnthese methods you can search for a pattern in a string and replace it with another value. You can limit the number of replacesments and (using **subn**) find out how many replacements were made.\n",
    "\n",
    "\n"
   ]
  },
  {
   "cell_type": "code",
   "execution_count": null,
   "metadata": {
    "colab": {
     "base_uri": "https://localhost:8080/",
     "height": 68
    },
    "colab_type": "code",
    "id": "6DZ5gsdmeQD6",
    "outputId": "42753f74-b52e-4374-cdc3-c922125374b9"
   },
   "outputs": [
    {
     "name": "stdout",
     "output_type": "stream",
     "text": [
      "sub: A cheetah can run faster than a rabbit assuming the cheetah is healthy\n",
      "subn: ('A cheetah can run faster than a rabbit assuming the cheetah is healthy', 2)\n",
      "subn: ('A cheetah can run faster than a rabbit assuming the dog is healthy', 1)\n"
     ]
    }
   ],
   "source": [
    "import re\n",
    "\n",
    "message =\"A dog can run faster than a rabbit assuming the dog is healthy\"\n",
    "pattern = r\"cat|dog|panda\"\n",
    "\n",
    "result = re.sub(pattern, \"cheetah\", message)\n",
    "print(\"sub:\", result)\n",
    "\n",
    "# returns a tuple including replacement string and number of replacements\n",
    "result = re.subn(pattern, \"cheetah\", message) \n",
    "print(\"subn:\", result)\n",
    "\n",
    "# Limit the number of replacements to 1\n",
    "result = re.subn(pattern, \"cheetah\", message, 1) \n",
    "print(\"subn:\", result)\n"
   ]
  },
  {
   "cell_type": "markdown",
   "metadata": {
    "colab_type": "text",
    "id": "xQy62rtgo4ry"
   },
   "source": [
    "### Reverse Substitution\n",
    "\n",
    "The groups established using a parsing regex can then be referenced using a second expression in the substitution.\n",
    "\n",
    "The second expression can refer to each group by numbers and rearange the order of output in the subsitiution.\n",
    "\n",
    "Below the day, month and year are all identified as groups (groups 1, 2, 3). In the second expression on line 5 - \"\\2 \\1\" we are defining how the dates are to be substiuted by outputting the content of group 2 ( **\\2** or the month) followed by group 1 (**\\1** or the day)\n",
    "\n",
    "\n"
   ]
  },
  {
   "cell_type": "code",
   "execution_count": null,
   "metadata": {
    "colab": {
     "base_uri": "https://localhost:8080/",
     "height": 34
    },
    "colab_type": "code",
    "id": "14CnPbhBp6Rd",
    "outputId": "4d69228c-cc52-471e-8159-8400417e7fea"
   },
   "outputs": [
    {
     "name": "stdout",
     "output_type": "stream",
     "text": [
      "subn: ('Term starts on Jan 7 and finishes on Apr 5 with a one week break commencing Feb 16', 3)\n"
     ]
    }
   ],
   "source": [
    "import re\n",
    "message = \"Term starts on 7 Jan 2019 and finishes on 5 Apr 2019 with a one week break commencing 16 Feb 2019\"\n",
    "pattern = r\"(\\d{,2}) (Jan|Feb|Mar|Apr|May|Jun|Jul|Aug|Sep|Oct|Nov|Dec) \\d{4}\"\n",
    "\n",
    "result = re.subn(pattern, r\"\\2 \\1\", message) \n",
    "print(\"subn:\", result)"
   ]
  },
  {
   "cell_type": "markdown",
   "metadata": {
    "colab_type": "text",
    "id": "EA4wRFIy7AUK"
   },
   "source": [
    "## Split\n",
    "\n",
    "\n",
    "You can also use a regex to define the pattern to use to split a complex data string.\n",
    "\n",
    "Below is a comman and colon sperated string that we are splitting using a regex pattern.\n",
    "\n",
    "When the string you are processing in delimited using more complex criteria, regex is great."
   ]
  },
  {
   "cell_type": "code",
   "execution_count": null,
   "metadata": {
    "colab": {
     "base_uri": "https://localhost:8080/",
     "height": 35
    },
    "colab_type": "code",
    "id": "fzHqLMEv7GiZ",
    "outputId": "bd818d37-ae63-41de-d9e6-61e0ea36e3ab"
   },
   "outputs": [
    {
     "data": {
      "text/plain": [
       "['Star Wars', '1977', 'Steven Spielberg', '1h21']"
      ]
     },
     "execution_count": 1,
     "metadata": {
      "tags": []
     },
     "output_type": "execute_result"
    }
   ],
   "source": [
    "import re\n",
    "\n",
    "data = \"Star Wars,1977:Steven Spielberg:1h21\"\n",
    "\n",
    "re.split(r\"[:,]\", data)"
   ]
  },
  {
   "cell_type": "markdown",
   "metadata": {
    "colab_type": "text",
    "id": "pvperjW9-Ve1"
   },
   "source": [
    "[Day 3](https://colab.research.google.com/drive/19CptuwktiLxrlG5Zy_SVCiqPCRIy_fX4)"
   ]
  }
 ],
 "metadata": {
  "colab": {
   "collapsed_sections": [
    "Wi1CGOHaZQrx",
    "uOlMfMOibDS5",
    "xtRPgS7hoei6",
    "iDtqCPNW1xO0",
    "atbRr-7rqoMJ",
    "EdXf65t4vFkV",
    "0k5swlBzSyP_"
   ],
   "name": "Day2.ipynb",
   "provenance": []
  },
  "kernelspec": {
   "display_name": "Python 3",
   "language": "python",
   "name": "python3"
  },
  "language_info": {
   "codemirror_mode": {
    "name": "ipython",
    "version": 3
   },
   "file_extension": ".py",
   "mimetype": "text/x-python",
   "name": "python",
   "nbconvert_exporter": "python",
   "pygments_lexer": "ipython3",
   "version": "3.8.4"
  }
 },
 "nbformat": 4,
 "nbformat_minor": 4
}
