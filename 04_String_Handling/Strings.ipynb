{
 "cells": [
  {
   "cell_type": "markdown",
   "metadata": {},
   "source": [
    "# Strings\n",
    "\n",
    "Strings in Python 3 are sequences of unicode (multibyte) characters. There is a tutorial at the end of the quicklabs.\n"
   ]
  },
  {
   "cell_type": "markdown",
   "metadata": {},
   "source": [
    "## Quick Lab 1\n",
    "\n",
    "### ToDo 1\n",
    "* Look at the code below\n",
    "* Using string slicing print just part of the message string for \"The quick fox\""
   ]
  },
  {
   "cell_type": "code",
   "execution_count": 2,
   "metadata": {},
   "outputs": [
    {
     "name": "stdout",
     "output_type": "stream",
     "text": [
      "The quick fox, jumped over the fence\n"
     ]
    }
   ],
   "source": [
    "message = \"The quick fox, jumped over the fence\"\n",
    "print(message)"
   ]
  },
  {
   "cell_type": "markdown",
   "metadata": {},
   "source": [
    "### ToDo 2\n",
    "* How does the message string below differ to the one above?\n",
    "* Run the code to see the diference\n",
    "* Using string slicing change the the print so that a blank line is not displayed after the message\n",
    "**Hint: You need to remove the newline char**"
   ]
  },
  {
   "cell_type": "code",
   "execution_count": 5,
   "metadata": {},
   "outputs": [
    {
     "name": "stdout",
     "output_type": "stream",
     "text": [
      "The quick fox, jumped over the fence\n",
      "\n"
     ]
    }
   ],
   "source": [
    "message = \"The quick fox, jumped over the fence\\n\"\n",
    "print(message)"
   ]
  },
  {
   "cell_type": "markdown",
   "metadata": {},
   "source": [
    "### ToDo 3\n",
    "\n",
    "By default message[0:-1] is actually saying message[0:-1:1]\n",
    "\n",
    "Translated that means - Starting at char 0 return every 1 char upto but not including the char at -1 (the end char)\n",
    "\n",
    "The last index 1 is the stride. If we set it to one (the default) it means every 1 char in ascending sequence order.\n",
    "A negative index would be descending sequence order. To return negative orders you would start at the end and end at the beginning!\n",
    "\n",
    "Try below\n"
   ]
  },
  {
   "cell_type": "code",
   "execution_count": 26,
   "metadata": {},
   "outputs": [
    {
     "data": {
      "text/plain": [
       "'\\necnef eht revo depmuj ,xof kciuq eh'"
      ]
     },
     "execution_count": 26,
     "metadata": {},
     "output_type": "execute_result"
    }
   ],
   "source": [
    "message[-1:0:-1]\n",
    "\n"
   ]
  },
  {
   "cell_type": "markdown",
   "metadata": {},
   "source": [
    "* Can you fix it to give\n",
    "\n",
    "`\n",
    "necnef eht revo depmuj ,xof kciuq ehT\n",
    "`"
   ]
  },
  {
   "cell_type": "code",
   "execution_count": null,
   "metadata": {},
   "outputs": [],
   "source": [
    "message[-1:0:-1]\n"
   ]
  },
  {
   "cell_type": "markdown",
   "metadata": {},
   "source": [
    "## Quick Lab 2\n",
    "\n",
    "Try running the order printing code below.\n",
    "\n",
    "We want it to look like this\n",
    "\n",
    "```\n",
    "Order No         :            2365\n",
    "Total Price      :        7,867.25\n",
    "Discount %       :               5\n",
    "Tax %            :              20\n",
    "Total            :        8,968.67\n",
    "```\n",
    "\n",
    "Hints:\n",
    "\n",
    "To print a number within 20 spaces\n"
   ]
  },
  {
   "cell_type": "code",
   "execution_count": 54,
   "metadata": {},
   "outputs": [
    {
     "name": "stdout",
     "output_type": "stream",
     "text": [
      "                1234\n"
     ]
    }
   ],
   "source": [
    "\n",
    "num = 1234\n",
    "print(f\"{num:>20}\")"
   ]
  },
  {
   "cell_type": "markdown",
   "metadata": {},
   "source": [
    "To format it as a float with 2 decimal places we would do"
   ]
  },
  {
   "cell_type": "code",
   "execution_count": 45,
   "metadata": {},
   "outputs": [
    {
     "name": "stdout",
     "output_type": "stream",
     "text": [
      "             1234.23\n"
     ]
    }
   ],
   "source": [
    "num = 1234.232\n",
    "print(f\"{num:>20.2f}\")"
   ]
  },
  {
   "cell_type": "markdown",
   "metadata": {},
   "source": [
    "To add a thousands separator we would"
   ]
  },
  {
   "cell_type": "code",
   "execution_count": 46,
   "metadata": {},
   "outputs": [
    {
     "name": "stdout",
     "output_type": "stream",
     "text": [
      "            1,234.23\n"
     ]
    }
   ],
   "source": [
    "num = 1234.232\n",
    "print(f\"{num:>20,.2f}\")"
   ]
  },
  {
   "cell_type": "markdown",
   "metadata": {},
   "source": [
    "### To Do\n",
    "\n",
    "Try formatting the following print statements to display the variables within 15 spaces\n",
    "\n",
    "If you have time try to zero fill the Order Number"
   ]
  },
  {
   "cell_type": "code",
   "execution_count": 64,
   "metadata": {},
   "outputs": [
    {
     "name": "stdout",
     "output_type": "stream",
     "text": [
      "Order No         : 2365\n",
      "Total Price      : 7867.25\n",
      "Discount %       : 5.0\n",
      "Tax %            : 20.0\n",
      "Total            : 8968.665\n"
     ]
    }
   ],
   "source": [
    "order_no = 2365\n",
    "total_price = 7867.25\n",
    "tax_percent = 0.2\n",
    "discount_percent = 0.05\n",
    "discount = total_price * discount_percent\n",
    "tax = (total_price - discount) * tax_percent\n",
    "total_plus_tax = total_price - discount + tax\n",
    "\n",
    "print(f\"Order No         : {order_no}\")\n",
    "print(f\"Total Price      : {total_price}\")\n",
    "print(f\"Discount %       : {discount_percent * 100}\")\n",
    "print(f\"Tax %            : {tax_percent * 100}\")\n",
    "print(f\"Total            : {total_plus_tax}\")\n"
   ]
  },
  {
   "cell_type": "markdown",
   "metadata": {},
   "source": [
    "## Quick Lab 3 - String Methods\n",
    "\n",
    "Strings in Python are immutable. That means you never change a string you always create a new string from an old one.\n",
    "\n",
    "Strings have methods you can use to manipulate your string objects.\n",
    "\n",
    "upper() returns your string in upper case. No prizes for guessing what lower() does."
   ]
  },
  {
   "cell_type": "code",
   "execution_count": 58,
   "metadata": {},
   "outputs": [
    {
     "name": "stdout",
     "output_type": "stream",
     "text": [
      "FRED BLOGGS\n",
      "Fred Bloggs\n"
     ]
    }
   ],
   "source": [
    "name = \"fred bloggs\"\n",
    "print(name.upper())\n",
    "print(name.title())"
   ]
  },
  {
   "cell_type": "markdown",
   "metadata": {},
   "source": [
    "There are two methods to help you find the position of one string inside another\n",
    "* find\n",
    "* index"
   ]
  },
  {
   "cell_type": "code",
   "execution_count": 59,
   "metadata": {},
   "outputs": [
    {
     "data": {
      "text/plain": [
       "10"
      ]
     },
     "execution_count": 59,
     "metadata": {},
     "output_type": "execute_result"
    }
   ],
   "source": [
    "message = \"The quick fox jumped over the dog\"\n",
    "message.find(\"fox\")"
   ]
  },
  {
   "cell_type": "code",
   "execution_count": 60,
   "metadata": {},
   "outputs": [
    {
     "data": {
      "text/plain": [
       "-1"
      ]
     },
     "execution_count": 60,
     "metadata": {},
     "output_type": "execute_result"
    }
   ],
   "source": [
    "message = \"The quick fox jumped over the dog\"\n",
    "message.find(\"car\")"
   ]
  },
  {
   "cell_type": "markdown",
   "metadata": {},
   "source": [
    "### To Do 1\n",
    "* Run the code below and you will see it does the same as find\n",
    "* Now change fox to cat\n",
    "You choose how you want to handle it."
   ]
  },
  {
   "cell_type": "code",
   "execution_count": 63,
   "metadata": {},
   "outputs": [
    {
     "data": {
      "text/plain": [
       "10"
      ]
     },
     "execution_count": 63,
     "metadata": {},
     "output_type": "execute_result"
    }
   ],
   "source": [
    "message = \"The quick fox jumped over the dog\"\n",
    "message.index(\"fox\")"
   ]
  },
  {
   "cell_type": "markdown",
   "metadata": {},
   "source": [
    "#### Replacing Strings\n",
    "\n",
    "\n",
    "### To Do 2 Use replace to do string replacement.\n",
    "\n",
    "Below use the replace method to replace all fox strinsg with cat"
   ]
  },
  {
   "cell_type": "code",
   "execution_count": 65,
   "metadata": {},
   "outputs": [
    {
     "data": {
      "text/plain": [
       "'The quick cat jumped over the cat'"
      ]
     },
     "execution_count": 65,
     "metadata": {},
     "output_type": "execute_result"
    }
   ],
   "source": [
    "message = \"The quick fox jumped over the fox\"\n"
   ]
  },
  {
   "cell_type": "markdown",
   "metadata": {},
   "source": [
    "### To Do 3 - Limit replacement\n",
    "\n",
    "Now just replace the first element found"
   ]
  },
  {
   "cell_type": "code",
   "execution_count": 66,
   "metadata": {},
   "outputs": [
    {
     "data": {
      "text/plain": [
       "'The quick cat jumped over the fox'"
      ]
     },
     "execution_count": 66,
     "metadata": {},
     "output_type": "execute_result"
    }
   ],
   "source": [
    "message = \"The quick fox jumped over the fox\"\n"
   ]
  },
  {
   "cell_type": "markdown",
   "metadata": {},
   "source": [
    "### To Do 4\n",
    "\n",
    "* Execute the code below, what did it do?\n",
    "* Try returning just the second movie in the list returned"
   ]
  },
  {
   "cell_type": "code",
   "execution_count": 67,
   "metadata": {},
   "outputs": [
    {
     "data": {
      "text/plain": [
       "['Star Wars, George Lucas, 1977',\n",
       " 'Legally Blonde,Robert Luketic, 2001',\n",
       " 'Jaws,Steven Speilberg,1975']"
      ]
     },
     "execution_count": 67,
     "metadata": {},
     "output_type": "execute_result"
    }
   ],
   "source": [
    "data = \"Star Wars, George Lucas, 1977\\nLegally Blonde,Robert Luketic, 2001\\nJaws,Steven Speilberg,1975\\n\"\n",
    "data.splitlines()\n"
   ]
  },
  {
   "cell_type": "markdown",
   "metadata": {},
   "source": [
    "* Now try running the function *split* against the following string\n",
    "* "
   ]
  },
  {
   "cell_type": "code",
   "execution_count": 70,
   "metadata": {},
   "outputs": [
    {
     "data": {
      "text/plain": [
       "['Legally Blonde', 'Robert Luketic', ' 2001']"
      ]
     },
     "execution_count": 70,
     "metadata": {},
     "output_type": "execute_result"
    }
   ],
   "source": [
    "data = \"Legally Blonde,Robert Luketic, 2001\"\n",
    "data.split(\",\")"
   ]
  },
  {
   "cell_type": "markdown",
   "metadata": {},
   "source": [
    "* Using a for loop \n",
    "* Print the director of every movie in the data string below\n",
    "\n",
    "The results should be\n",
    "```\n",
    "George Lucas\n",
    "Robert Luketic\n",
    "Steven Speilberg\n",
    "Jurassic Park\n",
    "```"
   ]
  },
  {
   "cell_type": "code",
   "execution_count": 79,
   "metadata": {},
   "outputs": [],
   "source": [
    "data = \"Star Wars,George Lucas,1977\\nLegally Blonde,Robert Luketic,2001\\nJaws,Steven Speilberg,1975\\n,Jurassic Park,Steven Spielberg,1993\\n\"\n"
   ]
  },
  {
   "cell_type": "code",
   "execution_count": null,
   "metadata": {},
   "outputs": [],
   "source": []
  },
  {
   "cell_type": "markdown",
   "metadata": {
    "colab_type": "text",
    "id": "YFGnRlU5XIOC"
   },
   "source": [
    "# Strings Tutorial\n"
   ]
  },
  {
   "cell_type": "markdown",
   "metadata": {
    "colab_type": "text",
    "id": "MW3tvYTIu-De"
   },
   "source": [
    "## Creating\n",
    "Strings in Python 3 are collections of unicode characters\n",
    "\n"
   ]
  },
  {
   "cell_type": "markdown",
   "metadata": {
    "colab_type": "text",
    "id": "FVbYmWLavwyL"
   },
   "source": [
    "### Defining a literal immutable string\n",
    "\n",
    "Strings in Python are immutable which means once defined they dont change\n",
    "\n"
   ]
  },
  {
   "cell_type": "code",
   "execution_count": null,
   "metadata": {
    "colab": {},
    "colab_type": "code",
    "id": "dEeW1gU-W7fq"
   },
   "outputs": [],
   "source": [
    "message = \"The quick fox jumbed over the fence\""
   ]
  },
  {
   "cell_type": "markdown",
   "metadata": {
    "colab_type": "text",
    "id": "aw1ug4x76nQQ"
   },
   "source": [
    "Strings can be joined to each other"
   ]
  },
  {
   "cell_type": "code",
   "execution_count": null,
   "metadata": {
    "colab": {
     "base_uri": "https://localhost:8080/",
     "height": 34
    },
    "colab_type": "code",
    "id": "R0arOcts6qxc",
    "outputId": "0d2e436a-b79f-4501-b54a-67c9b52e1aed"
   },
   "outputs": [
    {
     "name": "stdout",
     "output_type": "stream",
     "text": [
      "Hello Fred\n"
     ]
    }
   ],
   "source": [
    "name = \"Fred\"\n",
    "greeting = \"Hello\"\n",
    "message = greeting + \" \" + name\n",
    "print(message)"
   ]
  },
  {
   "cell_type": "markdown",
   "metadata": {
    "colab_type": "text",
    "id": "w-E2eOSv65hS"
   },
   "source": [
    "Strings can be repeated - Try this, it gives a surprising result"
   ]
  },
  {
   "cell_type": "code",
   "execution_count": null,
   "metadata": {
    "colab": {
     "base_uri": "https://localhost:8080/",
     "height": 34
    },
    "colab_type": "code",
    "id": "PpiGDcWW64uA",
    "outputId": "41510ac4-37a8-4b30-a1ec-0bfeed95d7a4"
   },
   "outputs": [
    {
     "data": {
      "text/plain": [
       "'Hello Hello Hello Hello Hello '"
      ]
     },
     "execution_count": 1,
     "metadata": {
      "tags": []
     },
     "output_type": "execute_result"
    }
   ],
   "source": [
    "\"Hello \" * 5"
   ]
  },
  {
   "cell_type": "markdown",
   "metadata": {
    "colab_type": "text",
    "id": "gkFNI63gXsNn"
   },
   "source": [
    "It's also possible to refer to individual unicode characters by character code"
   ]
  },
  {
   "cell_type": "code",
   "execution_count": null,
   "metadata": {
    "colab": {
     "base_uri": "https://localhost:8080/",
     "height": 51
    },
    "colab_type": "code",
    "id": "hqXZ_uIbX1vt",
    "outputId": "6e00dd27-9798-47f4-8296-a18ecac3db39"
   },
   "outputs": [
    {
     "name": "stdout",
     "output_type": "stream",
     "text": [
      "€\n",
      "€\n"
     ]
    }
   ],
   "source": [
    "euro = \"\\u20ac\"\n",
    "print(euro)\n",
    "euro = \"\\N{euro sign}\"\n",
    "print(euro)"
   ]
  },
  {
   "cell_type": "markdown",
   "metadata": {
    "colab_type": "text",
    "id": "_rG-YTFQZYmD"
   },
   "source": [
    "Special character or Escape Sequences can be included in your strings.\n",
    "\n",
    "\\n Newline\n",
    "\n",
    "\\t Tab\n",
    "\n",
    "\\\\ Backslash\n",
    "\n",
    "\\\" Quote\n",
    "\n",
    "etc"
   ]
  },
  {
   "cell_type": "code",
   "execution_count": null,
   "metadata": {
    "colab": {
     "base_uri": "https://localhost:8080/",
     "height": 51
    },
    "colab_type": "code",
    "id": "AZJn-0MLZYHo",
    "outputId": "dd212ca9-4430-4d88-be20-47461f3e452e"
   },
   "outputs": [
    {
     "name": "stdout",
     "output_type": "stream",
     "text": [
      "Hello \n",
      " world\n"
     ]
    }
   ],
   "source": [
    "message = \"Hello \\n world\"\n",
    "print(message)"
   ]
  },
  {
   "cell_type": "markdown",
   "metadata": {
    "colab_type": "text",
    "id": "MJGZ0ylpZ4J_"
   },
   "source": [
    "#### Raw Strings\n",
    "Treat the string as raw by prefixing it with \"r\". Escpe sequences will be treated as literal values and not interpreted"
   ]
  },
  {
   "cell_type": "code",
   "execution_count": null,
   "metadata": {
    "colab": {
     "base_uri": "https://localhost:8080/",
     "height": 34
    },
    "colab_type": "code",
    "id": "Ple9oHpaaEP4",
    "outputId": "7475921b-4869-4972-a89b-2c262b0d5853"
   },
   "outputs": [
    {
     "name": "stdout",
     "output_type": "stream",
     "text": [
      "Hello \\n world\n"
     ]
    }
   ],
   "source": [
    "message = r\"Hello \\n world\"\n",
    "print(message)"
   ]
  },
  {
   "cell_type": "markdown",
   "metadata": {
    "colab_type": "text",
    "id": "8bTzom8i8U9a"
   },
   "source": [
    "### Strings are objects and object have methods\n",
    "\n",
    "Based on the str class and so have useful functions that we can use to manipulate existing strings to create new ones\n",
    "\n",
    "\n",
    "\n",
    "\n",
    "\n",
    "\n",
    "\n",
    "\n",
    "\n",
    "\n",
    "\n",
    "\n",
    "\n",
    "\n",
    "\n",
    "\n",
    "\n",
    "\n",
    "\n",
    "\n",
    "\n",
    "\n",
    "\n",
    "\n",
    "\n",
    "\n",
    "\n",
    "\n",
    "\n",
    "\n",
    "\n",
    "\n",
    "\n",
    "\n",
    "\n",
    "\n",
    "\n",
    "\n",
    "\n",
    "\n",
    "\n",
    "\n",
    "\n",
    "\n",
    "\n",
    "\n",
    "\n",
    "\n",
    "\n",
    "\n",
    "\n",
    "\n",
    "\n",
    "\n",
    "\n",
    "\n",
    "\n",
    "\n",
    "\n",
    "\n",
    "\n",
    "\n",
    "\n",
    "\n",
    "\n",
    "\n",
    "\n",
    "\n",
    "\n",
    "\n",
    "\n",
    "\n",
    "\n",
    "\n",
    "\n",
    "\n",
    "\n",
    "\n",
    "\n"
   ]
  },
  {
   "cell_type": "code",
   "execution_count": null,
   "metadata": {
    "colab": {
     "base_uri": "https://localhost:8080/",
     "height": 34
    },
    "colab_type": "code",
    "id": "_t3s9lfdYyBi",
    "outputId": "7243098c-bb17-4acc-f0c0-cc045bd5e4ee"
   },
   "outputs": [
    {
     "name": "stdout",
     "output_type": "stream",
     "text": [
      "NO NEED TO SHOUT\n"
     ]
    }
   ],
   "source": [
    "message = \"No need to shout\"\n",
    "second_message = message.upper()\n",
    "print(second_message)"
   ]
  },
  {
   "cell_type": "markdown",
   "metadata": {
    "colab_type": "text",
    "id": "Wi1CGOHaZQrx"
   },
   "source": [
    "### To find the position of one string in another use find"
   ]
  },
  {
   "cell_type": "code",
   "execution_count": null,
   "metadata": {
    "colab": {
     "base_uri": "https://localhost:8080/",
     "height": 34
    },
    "colab_type": "code",
    "id": "SWJ6zvrmZYEY",
    "outputId": "86ff87b8-183c-4bbf-be2e-54fa94e87616"
   },
   "outputs": [
    {
     "name": "stdout",
     "output_type": "stream",
     "text": [
      "11\n"
     ]
    }
   ],
   "source": [
    "\n",
    "message = \"The clever fox jumped over the fence\"\n",
    "pos = message.find(\"fox\")\n",
    "print(pos)\n"
   ]
  },
  {
   "cell_type": "markdown",
   "metadata": {
    "colab_type": "text",
    "id": "uOlMfMOibDS5"
   },
   "source": [
    "### Replace one string with another"
   ]
  },
  {
   "cell_type": "code",
   "execution_count": null,
   "metadata": {
    "colab": {
     "base_uri": "https://localhost:8080/",
     "height": 34
    },
    "colab_type": "code",
    "id": "kXdQzzm3bH0_",
    "outputId": "d6767c17-85a4-46f5-fcad-231f54090bdb"
   },
   "outputs": [
    {
     "data": {
      "text/plain": [
       "'The clever cat jumped over the fence'"
      ]
     },
     "execution_count": 3,
     "metadata": {
      "tags": []
     },
     "output_type": "execute_result"
    }
   ],
   "source": [
    "message = \"The clever fox jumped over the fence\"\n",
    "message.replace(\"fox\", \"cat\")"
   ]
  },
  {
   "cell_type": "markdown",
   "metadata": {
    "colab_type": "text",
    "id": "y2u4BQmS7bD_"
   },
   "source": [
    "## Formatting Strings\n",
    "\n",
    "Joining data together to form a string can become complicated and buggy"
   ]
  },
  {
   "cell_type": "code",
   "execution_count": null,
   "metadata": {
    "colab": {
     "base_uri": "https://localhost:8080/",
     "height": 34
    },
    "colab_type": "code",
    "id": "Dkype8aFE9ps",
    "outputId": "597ec6be-645a-4d46-b29b-707835c9f7b7"
   },
   "outputs": [
    {
     "data": {
      "text/plain": [
       "'Mina wants to sell her iPhone for 129.98727'"
      ]
     },
     "execution_count": 4,
     "metadata": {
      "tags": []
     },
     "output_type": "execute_result"
    }
   ],
   "source": [
    "name = \"Mina\"\n",
    "device = \"iPhone\"\n",
    "selling_price = 129.98727\n",
    "\n",
    "# Dubious?\n",
    "name + \" wants to sell her \" + device + \" for \" + str(selling_price)\n"
   ]
  },
  {
   "cell_type": "markdown",
   "metadata": {
    "colab_type": "text",
    "id": "ccgTJExUGhuD"
   },
   "source": [
    "String formatting aims to reduce the comlexity"
   ]
  },
  {
   "cell_type": "code",
   "execution_count": null,
   "metadata": {
    "colab": {
     "base_uri": "https://localhost:8080/",
     "height": 34
    },
    "colab_type": "code",
    "id": "SJI2jr6AGrV_",
    "outputId": "aca2b9db-269d-4994-85f1-1bd62cbcb56f"
   },
   "outputs": [
    {
     "data": {
      "text/plain": [
       "'Mina wants to sell her iPhone for 129.98727'"
      ]
     },
     "execution_count": 5,
     "metadata": {
      "tags": []
     },
     "output_type": "execute_result"
    }
   ],
   "source": [
    "name = \"Mina\"\n",
    "device = \"iPhone\"\n",
    "selling_price = 129.98727\n",
    "\n",
    "\"{0} wants to sell her {1} for {2}\".format(name, device, selling_price)"
   ]
  },
  {
   "cell_type": "markdown",
   "metadata": {
    "colab_type": "text",
    "id": "S3UE7fVAM-Di"
   },
   "source": [
    "where {0}, {1} and {2} are placeholders that will be replaced by the data stored in name, device and selling_price"
   ]
  },
  {
   "cell_type": "markdown",
   "metadata": {
    "colab_type": "text",
    "id": "swGpL_zBNdc_"
   },
   "source": [
    "###Field Formatting\n",
    "Each insertion point can be formatted using the following syntax\n",
    "\n",
    "{ position : fill align sign # 0 width . precision type }\n"
   ]
  },
  {
   "cell_type": "code",
   "execution_count": null,
   "metadata": {
    "colab": {
     "base_uri": "https://localhost:8080/",
     "height": 34
    },
    "colab_type": "code",
    "id": "QL9yqtdzI8NW",
    "outputId": "13779b0f-d9a8-4975-b341-bc4a4fbc8d2b"
   },
   "outputs": [
    {
     "data": {
      "text/plain": [
       "'*****Hello*****'"
      ]
     },
     "execution_count": 2,
     "metadata": {
      "tags": []
     },
     "output_type": "execute_result"
    }
   ],
   "source": [
    "# Within a space of 15 chars center (^) the data, fills he gaps with * chars and \n",
    "# treat the data as a strin (s)\n",
    "\"{0:*^15s}\".format(\"Hello\")"
   ]
  },
  {
   "cell_type": "markdown",
   "metadata": {
    "colab_type": "text",
    "id": "iMWaICA7f7pN"
   },
   "source": [
    "fill - Can be any character above we a re using a *\n",
    "\n",
    "align - < for left align, ^ center align, > right align\n",
    "\n",
    "sign - + forces numbers to be displayed either with a + for positive or - for negative numbers\n",
    "\n",
    "\\# or 0 - pads numbers with spaces or zeroes\n",
    "\n",
    "width - determines the field size to be presented in characters (can align within this space)\n",
    "\n",
    ".precision - how many decimal places\n",
    "\n",
    "type - d for int, s for string, f for float (see documentation for more)\n",
    "\n"
   ]
  },
  {
   "cell_type": "code",
   "execution_count": null,
   "metadata": {
    "colab": {
     "base_uri": "https://localhost:8080/",
     "height": 51
    },
    "colab_type": "code",
    "id": "9M47NTvJgnFN",
    "outputId": "92cc6836-250a-4e42-8639-0fad84a7fbb7"
   },
   "outputs": [
    {
     "name": "stdout",
     "output_type": "stream",
     "text": [
      "      23\n",
      "00000023\n"
     ]
    }
   ],
   "source": [
    "print(\"{0:#8d}\".format(23))\n",
    "print(\"{0:08d}\".format(23))\n"
   ]
  },
  {
   "cell_type": "markdown",
   "metadata": {
    "colab_type": "text",
    "id": "iJgTjAxhkNUU"
   },
   "source": [
    "Here is a float formatted to two decimal points"
   ]
  },
  {
   "cell_type": "code",
   "execution_count": null,
   "metadata": {
    "colab": {
     "base_uri": "https://localhost:8080/",
     "height": 34
    },
    "colab_type": "code",
    "id": "H0fBVnG7kaLm",
    "outputId": "524f303c-70fa-4d8e-9d39-9c27c0d8727e"
   },
   "outputs": [
    {
     "data": {
      "text/plain": [
       "'    128.87     '"
      ]
     },
     "execution_count": 20,
     "metadata": {
      "tags": []
     },
     "output_type": "execute_result"
    }
   ],
   "source": [
    "\"{0:^15.2f}\".format(128.872626)"
   ]
  },
  {
   "cell_type": "markdown",
   "metadata": {
    "colab_type": "text",
    "id": "xtRPgS7hoei6"
   },
   "source": [
    "###Format Strings (introduced in Python 3.6) make life a little easier again\n",
    "\n",
    "Just prefix your string with an f\n",
    "\n",
    "The variables container with {} will be substituted."
   ]
  },
  {
   "cell_type": "code",
   "execution_count": null,
   "metadata": {
    "colab": {
     "base_uri": "https://localhost:8080/",
     "height": 34
    },
    "colab_type": "code",
    "id": "UICATAlhotn6",
    "outputId": "e9d4e780-dfb7-47a4-c9f4-67e8392330b6"
   },
   "outputs": [
    {
     "data": {
      "text/plain": [
       "'Mina wants to sell her iPhone for 129.98727'"
      ]
     },
     "execution_count": 7,
     "metadata": {
      "tags": []
     },
     "output_type": "execute_result"
    }
   ],
   "source": [
    "name = \"Mina\"\n",
    "device = \"iPhone\"\n",
    "selling_price = 129.98727\n",
    "\n",
    "f\"{name} wants to sell her {device} for {selling_price}\""
   ]
  },
  {
   "cell_type": "markdown",
   "metadata": {
    "colab_type": "text",
    "id": "Cipp1H-Po1qh"
   },
   "source": [
    "## Slicing Strings\n",
    "\n",
    "Strings are treated by Python a collections or liists of characters. Each character can be accessed by position\n"
   ]
  },
  {
   "cell_type": "markdown",
   "metadata": {
    "colab_type": "text",
    "id": "vELBf4LJpgtP"
   },
   "source": [
    "Positive numbers will access characters from the left side of the string starting with the first character at character position 0\n",
    "\n",
    "\n",
    "The code below will print the first letter \"H\" of Hello World\n"
   ]
  },
  {
   "cell_type": "code",
   "execution_count": null,
   "metadata": {
    "colab": {
     "base_uri": "https://localhost:8080/",
     "height": 34
    },
    "colab_type": "code",
    "id": "fxac0U_TovFk",
    "outputId": "c2be8a46-eaea-4920-a28c-57af1c21bdda"
   },
   "outputs": [
    {
     "name": "stdout",
     "output_type": "stream",
     "text": [
      "H\n"
     ]
    }
   ],
   "source": [
    "message = \"Hello World\"\n",
    "print(message[0])"
   ]
  },
  {
   "cell_type": "markdown",
   "metadata": {
    "colab_type": "text",
    "id": "0oJmNPBkqN_D"
   },
   "source": [
    "Characters can also be retrieved from the right side of a string using negative numbers starting with -1 which refers to the rightmost character. Increasing negative numbers retrieves characters further to the right within the string.\n",
    "\n",
    "\n",
    "The code below prints ** d ** followed by ** l **"
   ]
  },
  {
   "cell_type": "code",
   "execution_count": null,
   "metadata": {
    "colab": {
     "base_uri": "https://localhost:8080/",
     "height": 34
    },
    "colab_type": "code",
    "id": "NeCdLDl5qosB",
    "outputId": "66060014-0d06-4926-d1c9-70b53d8dd4a5"
   },
   "outputs": [
    {
     "name": "stdout",
     "output_type": "stream",
     "text": [
      "d l\n"
     ]
    }
   ],
   "source": [
    "message = \"Hello World\"\n",
    "print(message[-1], message[-2])"
   ]
  },
  {
   "cell_type": "markdown",
   "metadata": {
    "colab_type": "text",
    "id": "iDtqCPNW1xO0"
   },
   "source": [
    "####Character Ranges\n",
    "As well as accessing individual characters you can also access a range of characters from the target string\n"
   ]
  },
  {
   "cell_type": "markdown",
   "metadata": {
    "colab_type": "text",
    "id": "3Yq6dIyr2xdJ"
   },
   "source": [
    "Below we are accessing characters starting from character zero (or T) upto but not including the character at position 4 (or c)"
   ]
  },
  {
   "cell_type": "code",
   "execution_count": null,
   "metadata": {
    "colab": {},
    "colab_type": "code",
    "id": "hlkXEj1N2HU8",
    "jupyter": {
     "source_hidden": true
    }
   },
   "outputs": [],
   "source": [
    "message = \"The clever fox jumped over the fence\"\n",
    "sub_str = message[0:4]\n",
    "print(sub_str)"
   ]
  }
 ],
 "metadata": {
  "kernelspec": {
   "display_name": "Python 3",
   "language": "python",
   "name": "python3"
  },
  "language_info": {
   "codemirror_mode": {
    "name": "ipython",
    "version": 3
   },
   "file_extension": ".py",
   "mimetype": "text/x-python",
   "name": "python",
   "nbconvert_exporter": "python",
   "pygments_lexer": "ipython3",
   "version": "3.7.4"
  }
 },
 "nbformat": 4,
 "nbformat_minor": 4
}
