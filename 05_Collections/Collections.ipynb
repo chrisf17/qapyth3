{
 "cells": [
  {
   "cell_type": "markdown",
   "metadata": {},
   "source": [
    "# Collections \n",
    "\n",
    "There is a tutorial at the end of this quick lab. You may want to review it first :)\n",
    "\n",
    "## Quick Lab 1\n",
    "\n",
    "In this lab you will explore Lists\n",
    "\n",
    "### To Do 1: Create a list\n",
    "\n",
    "* Create a list variable called top5 initialised with four of your favourite movie titles\n",
    "* Add your last fave (sic) movie to the end of the list\n",
    "* Print your movie list or write a for loop to individually print each item\n"
   ]
  },
  {
   "cell_type": "code",
   "execution_count": 5,
   "metadata": {},
   "outputs": [],
   "source": [
    "# top5 = []\n",
    "\n",
    "\n",
    "\n",
    "#for title in top5:\n",
    "#    print(title)\n"
   ]
  },
  {
   "cell_type": "markdown",
   "metadata": {},
   "source": [
    "### To Do 2: Replace Stuff\n",
    "\n",
    "* Replace the 2nd movie with a movie you have seen in last year\n",
    "* Replace 3rd and 4th movies with the best 2 or 3 movies you have seen in the last 5 years (no duplicates)\n",
    "\n",
    "**Make sure you have executed the previous code cell or this next one won't work!**"
   ]
  },
  {
   "cell_type": "code",
   "execution_count": 6,
   "metadata": {},
   "outputs": [],
   "source": []
  },
  {
   "cell_type": "markdown",
   "metadata": {},
   "source": [
    "### To Do 3: Use pop\n",
    "* Allow the user to enter the title of a movie\n",
    "* Use the pop() method to pop the last item and print the removed item\n",
    "* Append the new movie title entered by the user to the list\n",
    "* Print the list\n",
    "\n",
    "**Make sure you have executed the previous code cell or this next one won't work!**"
   ]
  },
  {
   "cell_type": "code",
   "execution_count": null,
   "metadata": {},
   "outputs": [],
   "source": []
  },
  {
   "cell_type": "markdown",
   "metadata": {},
   "source": [
    "## To Do 4: Slice a list\n",
    "\n",
    "Lists can be sliced just like strings.\n",
    "\n",
    "For the following list return the first three elements."
   ]
  },
  {
   "cell_type": "code",
   "execution_count": null,
   "metadata": {},
   "outputs": [],
   "source": [
    "elements = [\"One\", \"Two\", \"Three\", \"Four\", \"Five\", \"Six\", \"Seven\"]\n",
    "print(elements)"
   ]
  },
  {
   "cell_type": "markdown",
   "metadata": {},
   "source": [
    "### Now return\n",
    "* Five, Six, Seven\n",
    "* Two, Three, Four, Five, Six"
   ]
  },
  {
   "cell_type": "code",
   "execution_count": null,
   "metadata": {},
   "outputs": [],
   "source": [
    "elements = [\"One\", \"Two\", \"Three\", \"Four\", \"Five\", \"Six\", \"Seven\"]\n",
    "print(elements)"
   ]
  },
  {
   "cell_type": "markdown",
   "metadata": {},
   "source": [
    "## Strides\n",
    "\n",
    "When we index we usually access every one element. But what if we wanted every two. Use a stride index.\n",
    "\n",
    "The following will return every number using a stride index of 1 (the default)\n",
    "```\n",
    ">>> numbers = [1, 2, 3, 4, 5, 6, 7, 8]\n",
    ">>> numbers[0::1]\n",
    "[1, 2, 3, 4, 5, 6, 7, 8]\n",
    "\n",
    "```\n",
    "But the following stride index of two returns overy other number\n",
    "```\n",
    ">>> numbers = [1, 2, 3, 4, 5, 6, 7, 8]\n",
    ">>> numbers[0::2]\n",
    "[1, 3, 5, 7]\n",
    "\n",
    "```\n",
    "\n",
    "### Using the data below and with a stride\n",
    "* Starting from 'One' Return every other number except the last one"
   ]
  },
  {
   "cell_type": "code",
   "execution_count": 2,
   "metadata": {
    "collapsed": true,
    "jupyter": {
     "outputs_hidden": true
    }
   },
   "outputs": [
    {
     "name": "stdout",
     "output_type": "stream",
     "text": [
      "['One', 'Three', 'Five']\n"
     ]
    }
   ],
   "source": [
    "elements = [\"One\", \"Two\", \"Three\", \"Four\", \"Five\", \"Six\", \"Seven\"]\n",
    "print(elements)"
   ]
  },
  {
   "cell_type": "markdown",
   "metadata": {
    "colab_type": "text",
    "id": "SXFtQf-WM6Km"
   },
   "source": [
    "# Collections Tutorial\n",
    "\n",
    "Collections allow more than one piece of data to be stored in a variable at one time\n",
    "\n",
    "## Lists\n",
    "\n",
    "In Python lists store data in sequences that are accessible via unique indexes.\n",
    "\n",
    "Lists are defined using [ ] and can either be empty as [ ] or contain comma seperated values [12, 33, 23, 22 ]\n"
   ]
  },
  {
   "cell_type": "markdown",
   "metadata": {
    "colab_type": "text",
    "id": "t2GQ41ZBxG6L"
   },
   "source": [
    "To simply define an empty list you would write the following"
   ]
  },
  {
   "cell_type": "code",
   "execution_count": null,
   "metadata": {
    "colab": {
     "base_uri": "https://localhost:8080/",
     "height": 34
    },
    "colab_type": "code",
    "id": "GYLFByefxGSH",
    "outputId": "40fdb05e-61bd-425c-823e-7aab756144ad"
   },
   "outputs": [
    {
     "data": {
      "text/plain": [
       "[]"
      ]
     },
     "execution_count": 12,
     "metadata": {
      "tags": []
     },
     "output_type": "execute_result"
    }
   ],
   "source": [
    "names = [] # or\n",
    "names = list()\n",
    "names"
   ]
  },
  {
   "cell_type": "markdown",
   "metadata": {
    "colab_type": "text",
    "id": "lsUYgRA9xeI-"
   },
   "source": [
    "To initialise a list with data write:"
   ]
  },
  {
   "cell_type": "code",
   "execution_count": null,
   "metadata": {
    "colab": {},
    "colab_type": "code",
    "id": "i_a4_CWDb2B5"
   },
   "outputs": [],
   "source": [
    "names = [\"Fred\", \"Mina\", \"Bob\", \"Tam\"]\n",
    "print(names)"
   ]
  },
  {
   "cell_type": "markdown",
   "metadata": {
    "colab_type": "text",
    "id": "TDdVag6bcxxF"
   },
   "source": [
    "## List Indexing\n",
    "Lists are indexed in an identical way to strings\n",
    "\n",
    "Positive numbers will access items from the left side of the list starting with the first item at position 0"
   ]
  },
  {
   "cell_type": "code",
   "execution_count": null,
   "metadata": {
    "colab": {
     "base_uri": "https://localhost:8080/",
     "height": 34
    },
    "colab_type": "code",
    "id": "n_kSCJMbce7C",
    "outputId": "4bf35de2-dc04-4026-aaf1-66f234be927c"
   },
   "outputs": [
    {
     "name": "stdout",
     "output_type": "stream",
     "text": [
      "Fred Tam\n"
     ]
    }
   ],
   "source": [
    "names = [\"Fred\", \"Mina\", \"Bob\", \"Tam\"]\n",
    "first = names[0]\n",
    "last =  names [-1]\n",
    "print(first, last)"
   ]
  },
  {
   "cell_type": "code",
   "execution_count": null,
   "metadata": {
    "colab": {},
    "colab_type": "code",
    "id": "Lmb0D7qxqyuP"
   },
   "outputs": [],
   "source": [
    "####List Slicing\n",
    "\n",
    "Lists can be sliced in a similar way to strings with [from:upto(not including)] syntax"
   ]
  },
  {
   "cell_type": "code",
   "execution_count": null,
   "metadata": {
    "colab": {
     "base_uri": "https://localhost:8080/",
     "height": 34
    },
    "colab_type": "code",
    "id": "tXHN_AeqrSFT",
    "outputId": "1fc116ee-cc2e-4873-d2e7-bd448cd76294"
   },
   "outputs": [
    {
     "data": {
      "text/plain": [
       "['Fred', 'Mina', 'Bob']"
      ]
     },
     "execution_count": 8,
     "metadata": {
      "tags": []
     },
     "output_type": "execute_result"
    }
   ],
   "source": [
    "names = [\"Fred\", \"Mina\", \"Bob\", \"Tam\"]\n",
    "names[0:3] # Starting with item at position 0 upto not including item at position 3"
   ]
  },
  {
   "cell_type": "markdown",
   "metadata": {
    "colab_type": "text",
    "id": "_QqwqmLTr9L6"
   },
   "source": [
    "Checking Membership with in"
   ]
  },
  {
   "cell_type": "code",
   "execution_count": null,
   "metadata": {
    "colab": {
     "base_uri": "https://localhost:8080/",
     "height": 34
    },
    "colab_type": "code",
    "id": "kaCNDnvOr8j8",
    "outputId": "b6e8f943-8ecf-4796-996e-6e4e2a8750cf"
   },
   "outputs": [
    {
     "data": {
      "text/plain": [
       "True"
      ]
     },
     "execution_count": 10,
     "metadata": {
      "tags": []
     },
     "output_type": "execute_result"
    }
   ],
   "source": [
    "\"Bob\" in [\"Fred\", \"Mina\", \"Bob\", \"Tam\"]"
   ]
  },
  {
   "cell_type": "markdown",
   "metadata": {
    "colab_type": "text",
    "id": "YOF6fIhswzPC"
   },
   "source": [
    "## Modifying Lists\n",
    "\n",
    "Lists are mutable types and so can be changed"
   ]
  },
  {
   "cell_type": "code",
   "execution_count": null,
   "metadata": {
    "colab": {
     "base_uri": "https://localhost:8080/",
     "height": 34
    },
    "colab_type": "code",
    "id": "N6DCym-yuuBb",
    "outputId": "c23c9e2b-1a4b-48b9-de97-ef8f5097570c"
   },
   "outputs": [
    {
     "name": "stdout",
     "output_type": "stream",
     "text": [
      "['Fred', 'Raz', 'Bob', 'Tam']\n"
     ]
    }
   ],
   "source": [
    "names = [\"Fred\", \"Mina\", \"Bob\", \"Tam\"]\n",
    "names[1] = \"Raz\"\n",
    "print(names)"
   ]
  },
  {
   "cell_type": "markdown",
   "metadata": {
    "colab_type": "text",
    "id": "qJAN5v6aWTgg"
   },
   "source": [
    "You can also add to the end of list using **append**"
   ]
  },
  {
   "cell_type": "code",
   "execution_count": null,
   "metadata": {
    "colab": {
     "base_uri": "https://localhost:8080/",
     "height": 34
    },
    "colab_type": "code",
    "id": "kQWbVUqHWXzY",
    "outputId": "a92982c5-6023-483e-b406-039f58390d61"
   },
   "outputs": [
    {
     "name": "stdout",
     "output_type": "stream",
     "text": [
      "['Fred', 'Mina', 'Bob', 'Tam', 'Suzy', 'James']\n"
     ]
    }
   ],
   "source": [
    "names = [\"Fred\", \"Mina\", \"Bob\", \"Tam\"]\n",
    "names.append(\"Suzy\")\n",
    "names.append(\"James\")\n",
    "print(names)\n"
   ]
  },
  {
   "cell_type": "markdown",
   "metadata": {
    "colab_type": "text",
    "id": "TVKUSM8KWyCb"
   },
   "source": [
    "To add multiple items to the end of a lis either use **+= or extend**"
   ]
  },
  {
   "cell_type": "code",
   "execution_count": null,
   "metadata": {
    "colab": {
     "base_uri": "https://localhost:8080/",
     "height": 52
    },
    "colab_type": "code",
    "id": "GZfnmT1GW6od",
    "outputId": "c1e05bed-6441-4c71-b6e8-da0f99dc9821"
   },
   "outputs": [
    {
     "name": "stdout",
     "output_type": "stream",
     "text": [
      "['Fred', 'Mina', 'Bob', 'Tam', 'Suzy', 'James']\n",
      "['Fred', 'Mina', 'Bob', 'Tam', 'Suzy', 'James', 'Simon', 'Bez']\n"
     ]
    }
   ],
   "source": [
    "names = [\"Fred\", \"Mina\", \"Bob\", \"Tam\"]\n",
    "names += [\"Suzy\", \"James\"]\n",
    "print(names)\n",
    "\n",
    "names.extend([\"Simon\", \"Bez\"])\n",
    "print(names)\n"
   ]
  },
  {
   "cell_type": "markdown",
   "metadata": {
    "colab_type": "text",
    "id": "Y-E1N37jKsaA"
   },
   "source": [
    "To replace items in a list use ranges.\n",
    "\n",
    "Here we are replacing list items 1:4 which is 1 thru 3 (not including 4) with [\"Simon\", \"Bez\"]"
   ]
  },
  {
   "cell_type": "code",
   "execution_count": null,
   "metadata": {
    "colab": {
     "base_uri": "https://localhost:8080/",
     "height": 52
    },
    "colab_type": "code",
    "id": "-DdUpOlzKwQe",
    "outputId": "5a95f3fc-5a9d-4a11-dc66-3726a1994180"
   },
   "outputs": [
    {
     "name": "stdout",
     "output_type": "stream",
     "text": [
      "['Fred', 'Mina', 'Bob', 'Suzy', 'Tam']\n",
      "['Fred', 'Simon', 'Bez', 'Tam']\n"
     ]
    }
   ],
   "source": [
    "names = [\"Fred\", \"Mina\", \"Bob\", \"Suzy\", \"Tam\"]\n",
    "print(names)\n",
    "names[1:4] = [\"Simon\", \"Bez\"]\n",
    "print(names)\n"
   ]
  },
  {
   "cell_type": "markdown",
   "metadata": {
    "colab_type": "text",
    "id": "w1MUabSPHXw-"
   },
   "source": [
    "To insert to a specific location use **insert**"
   ]
  },
  {
   "cell_type": "code",
   "execution_count": null,
   "metadata": {
    "colab": {},
    "colab_type": "code",
    "id": "cHkkEArfZ6Tg"
   },
   "outputs": [],
   "source": [
    "names = [\"Fred\", \"Mina\", \"Bob\", \"Tam\"]\n",
    "print(names)\n",
    "names.insert(1, \"Bez\")\n",
    "print(names)"
   ]
  },
  {
   "cell_type": "markdown",
   "metadata": {
    "colab_type": "text",
    "id": "XSjd6s1bJkdZ"
   },
   "source": [
    "You can also use the range syntax to insert multiple items at a specific location\n",
    "\n",
    "\n",
    "Code below inserts two items starting at position 1 uptobut not including position 1.This means it doesn't do a replacement"
   ]
  },
  {
   "cell_type": "code",
   "execution_count": null,
   "metadata": {
    "colab": {
     "base_uri": "https://localhost:8080/",
     "height": 52
    },
    "colab_type": "code",
    "id": "7kdtD55PLtwb",
    "outputId": "ef0ddf84-a5c9-40b0-ac1a-8689a705e198"
   },
   "outputs": [
    {
     "name": "stdout",
     "output_type": "stream",
     "text": [
      "['Fred', 'Mina', 'Bob', 'Suzy', 'Tam']\n",
      "['Fred', 'Simon', 'Bez', 'Mina', 'Bob', 'Suzy', 'Tam']\n"
     ]
    }
   ],
   "source": [
    "names = [\"Fred\", \"Mina\", \"Bob\", \"Suzy\", \"Tam\"]\n",
    "print(names)\n",
    "names[1:1] = [\"Simon\", \"Bez\"]\n",
    "print(names)\n"
   ]
  },
  {
   "cell_type": "markdown",
   "metadata": {
    "colab_type": "text",
    "id": "F6aZSmzSe7OS"
   },
   "source": [
    "### Removing Items from Lists"
   ]
  },
  {
   "cell_type": "markdown",
   "metadata": {
    "colab_type": "text",
    "id": "n7bDi7kDqCV_"
   },
   "source": [
    "**pop** removes the item from the right side of the list and returns its.\n",
    "\n",
    "You can also pass an index number as a parameter to return the item at that position in the list "
   ]
  },
  {
   "cell_type": "code",
   "execution_count": null,
   "metadata": {
    "colab": {
     "base_uri": "https://localhost:8080/",
     "height": 70
    },
    "colab_type": "code",
    "id": "njajDeILqeYw",
    "outputId": "89e912ce-76f4-40a7-ef39-f0e404fd15ff"
   },
   "outputs": [
    {
     "name": "stdout",
     "output_type": "stream",
     "text": [
      "['Fred', 'Mina', 'Bob', 'Suzy', 'Tam']\n",
      "Tam\n",
      "['Fred', 'Mina', 'Bob', 'Suzy']\n"
     ]
    }
   ],
   "source": [
    "names = [\"Fred\", \"Mina\", \"Bob\", \"Suzy\", \"Tam\"]\n",
    "print(names)\n",
    "popped_name = names.pop()\n",
    "print(popped_name)\n",
    "print(names)"
   ]
  },
  {
   "cell_type": "markdown",
   "metadata": {
    "colab_type": "text",
    "id": "zME0YohhrX2Y"
   },
   "source": [
    "## Multi Dimensional Lists"
   ]
  },
  {
   "cell_type": "markdown",
   "metadata": {
    "colab_type": "text",
    "id": "ywQqy5-lrbO9"
   },
   "source": [
    "Lists can contain every other object type in Python that includes other lists.\n",
    "\n",
    "Its possible to define a list within a list such as:\n",
    "\n",
    "[\"Fred\", \"Amy\", [\"Suzy\", \"Tom\"], \"Bob\"]\n",
    "\n",
    "Item at position 2 is a list rather than a str"
   ]
  },
  {
   "cell_type": "code",
   "execution_count": null,
   "metadata": {
    "colab": {
     "base_uri": "https://localhost:8080/",
     "height": 70
    },
    "colab_type": "code",
    "id": "vvvl0dUzr5CA",
    "outputId": "a31a387b-dead-4690-da2c-c6546ab573e1"
   },
   "outputs": [
    {
     "name": "stdout",
     "output_type": "stream",
     "text": [
      "Fred\n",
      "['Suzy', 'Tom']\n",
      "Tom\n"
     ]
    }
   ],
   "source": [
    "friends = [\"Fred\", \"Amy\", [\"Suzy\", \"Tom\"], \"Bob\"]\n",
    "print(friends[0])# first item in list\n",
    "print(friends[2]) # third item as list\n",
    "print(friends[2][1]) # second item of embedded list"
   ]
  },
  {
   "cell_type": "markdown",
   "metadata": {
    "colab_type": "text",
    "id": "D3C1m8Z0srrz"
   },
   "source": [
    "# Tuples"
   ]
  },
  {
   "cell_type": "markdown",
   "metadata": {
    "colab_type": "text",
    "id": "bqhDqPj_st27"
   },
   "source": [
    "Lists are read/write. Tuples are effectively immutable or read only lists. Very useful if you want to pass them to other functions and not risk them being changed in the process!\n",
    "\n",
    "You can define a tuple using ( ) instead of [ ] (but it's actually just the comma seperated values that make the tuple)\n",
    "\n",
    "names = (\"Fred\", \"Amy\", \"Bob\")\n",
    "\n",
    "would be a read only tuple although you could miss out the ( ) and it would still be ok."
   ]
  },
  {
   "cell_type": "code",
   "execution_count": null,
   "metadata": {
    "colab": {
     "base_uri": "https://localhost:8080/",
     "height": 52
    },
    "colab_type": "code",
    "id": "mcLscMfstOjd",
    "outputId": "eaf85f9f-9418-4a62-b258-e24800b3832a"
   },
   "outputs": [
    {
     "name": "stdout",
     "output_type": "stream",
     "text": [
      "('Fred', 'Amy', 'Bob')\n",
      "Fred\n"
     ]
    }
   ],
   "source": [
    "names = (\"Fred\", \"Amy\", \"Bob\")\n",
    "print(names)\n",
    "print(names[0])"
   ]
  },
  {
   "cell_type": "markdown",
   "metadata": {
    "colab_type": "text",
    "id": "FAb_jolniqt9"
   },
   "source": [
    "## Upacking Tuples (or lists)\n",
    "\n",
    "Tuples can be accessed using the same indexing and slicing techniques as lists as long as the access is read only\n",
    "\n",
    "Tuples and list members can also be unpacked into defined variables."
   ]
  },
  {
   "cell_type": "code",
   "execution_count": null,
   "metadata": {
    "colab": {
     "base_uri": "https://localhost:8080/",
     "height": 34
    },
    "colab_type": "code",
    "id": "QDKsS0ZejPna",
    "outputId": "b81f1921-9ef5-474f-bb47-b3ffb117da64"
   },
   "outputs": [
    {
     "name": "stdout",
     "output_type": "stream",
     "text": [
      "21 Fred 11 The High St\n"
     ]
    }
   ],
   "source": [
    "details = \"Fred\", 21, \"11 The High St\"\n",
    "first_name, age, address = details\n",
    "print(age,first_name, address)"
   ]
  },
  {
   "cell_type": "markdown",
   "metadata": {
    "colab_type": "text",
    "id": "Ia8lGwRJlTo2"
   },
   "source": [
    "###Uneven unpacking\n",
    "\n",
    "What happens if you try to unpack a list or a tuple into fewer variables than items in the list or tuple?"
   ]
  },
  {
   "cell_type": "code",
   "execution_count": null,
   "metadata": {
    "colab": {
     "base_uri": "https://localhost:8080/",
     "height": 198
    },
    "colab_type": "code",
    "id": "i39GILQAli1Z",
    "outputId": "d668ae60-df01-4de9-8ba2-7edc0c8fed15"
   },
   "outputs": [
    {
     "ename": "ValueError",
     "evalue": "ignored",
     "output_type": "error",
     "traceback": [
      "\u001b[0;31m---------------------------------------------------------------------------\u001b[0m",
      "\u001b[0;31mValueError\u001b[0m                                Traceback (most recent call last)",
      "\u001b[0;32m<ipython-input-9-c507fdd5da8f>\u001b[0m in \u001b[0;36m<module>\u001b[0;34m()\u001b[0m\n\u001b[1;32m      1\u001b[0m \u001b[0mdetails\u001b[0m \u001b[0;34m=\u001b[0m \u001b[0;34m[\u001b[0m\u001b[0;34m\"Fred\"\u001b[0m\u001b[0;34m,\u001b[0m \u001b[0;36m21\u001b[0m\u001b[0;34m,\u001b[0m \u001b[0;34m\"11 The High St\"\u001b[0m\u001b[0;34m,\u001b[0m \u001b[0;34m\"27834\"\u001b[0m\u001b[0;34m]\u001b[0m\u001b[0;34m\u001b[0m\u001b[0;34m\u001b[0m\u001b[0m\n\u001b[0;32m----> 2\u001b[0;31m \u001b[0mfirst_name\u001b[0m\u001b[0;34m,\u001b[0m \u001b[0mage\u001b[0m\u001b[0;34m,\u001b[0m \u001b[0maddress\u001b[0m \u001b[0;34m=\u001b[0m \u001b[0mdetails\u001b[0m\u001b[0;34m\u001b[0m\u001b[0;34m\u001b[0m\u001b[0m\n\u001b[0m\u001b[1;32m      3\u001b[0m \u001b[0mprint\u001b[0m\u001b[0;34m(\u001b[0m\u001b[0mage\u001b[0m\u001b[0;34m,\u001b[0m\u001b[0mfirst_name\u001b[0m\u001b[0;34m,\u001b[0m \u001b[0maddress\u001b[0m\u001b[0;34m)\u001b[0m\u001b[0;34m\u001b[0m\u001b[0;34m\u001b[0m\u001b[0m\n",
      "\u001b[0;31mValueError\u001b[0m: too many values to unpack (expected 3)"
     ]
    }
   ],
   "source": [
    "details = [\"Fred\", 21, \"11 The High St\", \"27834\"]\n",
    "first_name, age, address = details\n",
    "print(age,first_name, address)"
   ]
  },
  {
   "cell_type": "markdown",
   "metadata": {
    "colab_type": "text",
    "id": "XW_mLeY0lwXx"
   },
   "source": [
    "That's right you get an error!\n",
    "\n",
    "To overcome this problem use the * syntax on the last parameter which copies the remaining list items into the last variable as a list"
   ]
  },
  {
   "cell_type": "code",
   "execution_count": null,
   "metadata": {
    "colab": {
     "base_uri": "https://localhost:8080/",
     "height": 68
    },
    "colab_type": "code",
    "id": "PdTGxHZtmEtn",
    "outputId": "5ee04439-4359-42d2-d9aa-645876f36a58"
   },
   "outputs": [
    {
     "name": "stdout",
     "output_type": "stream",
     "text": [
      "21\n",
      "Fred\n",
      "['11 The High St', '27834']\n"
     ]
    }
   ],
   "source": [
    "details = [\"Fred\", 21, \"11 The High St\", \"27834\"]\n",
    "first_name, age, *extra_details = details\n",
    "print(age)\n",
    "print(first_name)\n",
    "print(extra_details)"
   ]
  },
  {
   "cell_type": "markdown",
   "metadata": {
    "colab_type": "text",
    "id": "9opFjOmvmlaB"
   },
   "source": [
    "# Dictionaries\n",
    "\n",
    "If a list or tuple is a numbered list of items, a dictionary is a keyed (or hashed) list where the key/hash is an identifier that uniquely identifies the item in the dictionary.\n",
    "\n",
    "You could have a dictionary of employees for example where the key would be the employee id or social security number. Anything that uniquely identifies the item works well.\n",
    "\n",
    "The point is that you can use the key to retrieve the item without having to search the entire dictionary. Kind of like an actual dictionary."
   ]
  },
  {
   "cell_type": "code",
   "execution_count": null,
   "metadata": {
    "colab": {
     "base_uri": "https://localhost:8080/",
     "height": 51
    },
    "colab_type": "code",
    "id": "sNwjvqR3nWFf",
    "outputId": "b57b4c53-efc8-43dd-d732-13012831bfee"
   },
   "outputs": [
    {
     "name": "stdout",
     "output_type": "stream",
     "text": [
      "Enter the employee's id:22-323-89\n",
      "Employee with id 22-323-89 is Beth McGregor\n"
     ]
    }
   ],
   "source": [
    "employees = {\"12-333-44\":\"Fred Bloggs\",\n",
    "            \"22-323-89\":\"Beth McGregor\",\n",
    "            \"12-567-43\": \"Ravi Cox\"}\n",
    "\n",
    "employee_id = input(\"Enter the employee's id:\")\n",
    "print(f\"Employee with id {employee_id} is {employees[employee_id]}\")"
   ]
  },
  {
   "cell_type": "markdown",
   "metadata": {
    "colab_type": "text",
    "id": "AmKi0ZUmovV-"
   },
   "source": [
    "Dictionaries are made up of key:value pairs sperated by commas. In Python dictionaries are contained inside { }\n",
    "\n",
    "They can be preppulated (as above) or generated dynamically"
   ]
  },
  {
   "cell_type": "code",
   "execution_count": null,
   "metadata": {
    "colab": {
     "base_uri": "https://localhost:8080/",
     "height": 34
    },
    "colab_type": "code",
    "id": "v-N-uBa6pOvo",
    "outputId": "752cf34e-5911-408b-82ac-580401d5608a"
   },
   "outputs": [
    {
     "name": "stdout",
     "output_type": "stream",
     "text": [
      "{'12-333-44': 'Fred Bloggs', '22-323-89': 'Beth McGregor', '12-567-43': 'Ravi Cox', '99-888-77': 'Tom Thomas'}\n"
     ]
    }
   ],
   "source": [
    "employees = {\"12-333-44\":\"Fred Bloggs\",\n",
    "            \"22-323-89\":\"Beth McGregor\",\n",
    "            \"12-567-43\": \"Ravi Cox\"}\n",
    "\n",
    "employees[\"99-888-77\"] = \"Tom Thomas\"\n",
    "\n",
    "print(employees)"
   ]
  },
  {
   "cell_type": "markdown",
   "metadata": {
    "colab_type": "text",
    "id": "YWAVMVNdpgJa"
   },
   "source": [
    "Two dictionaries can be joined:"
   ]
  },
  {
   "cell_type": "code",
   "execution_count": null,
   "metadata": {
    "colab": {
     "base_uri": "https://localhost:8080/",
     "height": 54
    },
    "colab_type": "code",
    "id": "sJJHXHfUpjWo",
    "outputId": "76d5e876-8688-4f13-f3e8-ba224aecdfc1"
   },
   "outputs": [
    {
     "name": "stdout",
     "output_type": "stream",
     "text": [
      "{'12-333-44': 'Fred Bloggs', '22-323-89': 'Beth McGregor', '99-888-77': 'Tom Thomas', '12-567-43': 'Ravi Cox'}\n"
     ]
    }
   ],
   "source": [
    "employees = {\"12-333-44\":\"Fred Bloggs\",\n",
    "            \"22-323-89\":\"Beth McGregor\"}\n",
    "\n",
    "new_hires = { \"99-888-77\": \"Tom Thomas\", \"12-567-43\": \"Ravi Cox\"}\n",
    "\n",
    "employees.update(new_hires)\n",
    "\n",
    "print(employees)"
   ]
  },
  {
   "cell_type": "markdown",
   "metadata": {
    "colab_type": "text",
    "id": "xZa8HA5OqBSq"
   },
   "source": [
    "Items can be popped from a dictionary"
   ]
  },
  {
   "cell_type": "code",
   "execution_count": null,
   "metadata": {
    "colab": {
     "base_uri": "https://localhost:8080/",
     "height": 68
    },
    "colab_type": "code",
    "id": "xZg_yIKdqFL6",
    "outputId": "f1fa054d-15ac-4cc5-89c6-9c86f3b138a4"
   },
   "outputs": [
    {
     "name": "stdout",
     "output_type": "stream",
     "text": [
      "{'12-333-44': 'Fred Bloggs', '22-323-89': 'Beth McGregor', '12-567-43': 'Ravi Cox'}\n",
      "Beth McGregor\n",
      "{'12-333-44': 'Fred Bloggs', '12-567-43': 'Ravi Cox'}\n"
     ]
    }
   ],
   "source": [
    "employees = {\"12-333-44\":\"Fred Bloggs\",\n",
    "            \"22-323-89\":\"Beth McGregor\",\n",
    "            \"12-567-43\": \"Ravi Cox\"}\n",
    "print(employees)\n",
    "print(employees.pop(\"22-323-89\"))\n",
    "print(employees)"
   ]
  },
  {
   "cell_type": "markdown",
   "metadata": {
    "colab_type": "text",
    "id": "atbRr-7rqoMJ"
   },
   "source": [
    "## Indexing into a Dictionary?\n",
    "\n",
    "Dictionaries have the following methods which return different parts of the dictionaries as lists or tuples\n",
    "\n",
    "**keys** returns a \"list\" of all of the dictionaries keys\n",
    "\n",
    "**values** returns a \"list\" of all of the dictionaries values\n",
    "\n",
    "**items** returns a tuple of each of the dictionaties items as a key, value tuple\n",
    "\n",
    "(list in this case is actually an iterator that will be covered later)"
   ]
  },
  {
   "cell_type": "code",
   "execution_count": null,
   "metadata": {
    "colab": {
     "base_uri": "https://localhost:8080/",
     "height": 88
    },
    "colab_type": "code",
    "id": "FgPRdD95rfmQ",
    "outputId": "df987af2-80dc-4e63-b699-0cd694dd072e"
   },
   "outputs": [
    {
     "name": "stdout",
     "output_type": "stream",
     "text": [
      "dict_keys(['12-333-44', '22-323-89', '12-567-43'])\n",
      "dict_values(['Fred Bloggs', 'Beth McGregor', 'Ravi Cox'])\n",
      "dict_items([('12-333-44', 'Fred Bloggs'), ('22-323-89', 'Beth McGregor'), ('12-567-43', 'Ravi Cox')])\n"
     ]
    }
   ],
   "source": [
    "employees = {\"12-333-44\":\"Fred Bloggs\",\n",
    "            \"22-323-89\":\"Beth McGregor\",\n",
    "            \"12-567-43\": \"Ravi Cox\"}\n",
    "print(employees.keys())\n",
    "print(employees.values())\n",
    "print(employees.items())"
   ]
  },
  {
   "cell_type": "markdown",
   "metadata": {},
   "source": [
    "## Labs 2 - Dictionaries\n",
    "\n",
    "You will be working in PyCharm for this Lab"
   ]
  },
  {
   "cell_type": "code",
   "execution_count": null,
   "metadata": {},
   "outputs": [],
   "source": []
  }
 ],
 "metadata": {
  "kernelspec": {
   "display_name": "Python 3",
   "language": "python",
   "name": "python3"
  },
  "language_info": {
   "codemirror_mode": {
    "name": "ipython",
    "version": 3
   },
   "file_extension": ".py",
   "mimetype": "text/x-python",
   "name": "python",
   "nbconvert_exporter": "python",
   "pygments_lexer": "ipython3",
   "version": "3.7.4"
  }
 },
 "nbformat": 4,
 "nbformat_minor": 4
}
