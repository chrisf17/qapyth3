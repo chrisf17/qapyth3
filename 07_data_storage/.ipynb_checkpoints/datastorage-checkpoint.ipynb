{
 "cells": [
  {
   "cell_type": "markdown",
   "metadata": {},
   "source": [
    "# Data Storage\n",
    "\n",
    "There is a tutorial at the end of the quick labs. You may want to look at it first?\n",
    "\n",
    "## QuickLab 1\n",
    "\n",
    "## ToDo 1\n",
    "\n",
    "1. Write the messier text to a file called data.txt"
   ]
  },
  {
   "cell_type": "code",
   "execution_count": null,
   "metadata": {},
   "outputs": [],
   "source": [
    "messier = \"\"\"\n",
    "M40   Winnecke 4                        Double star             Ursa Major\n",
    "M42   Great Orion Nebula                Starforming nebula      Orion\n",
    "M43   De Mairan's Nebula                Starforming nebula      Orion\n",
    "M44   Beehive Cluster                   Open cluster            Cancer\n",
    "M45   Pleiades                          Open cluster            Taurus\n",
    "M49                                     Elliptical galaxy       Virgo\n",
    "M50                                     Open cluster            Monoceros\n",
    "M51   Whirlpool Galaxy                  Spiral galaxy           Canes Venatici\n",
    "M52                                     Open cluster            Cassiopeia\n",
    "M53                                     Globular cluster        Coma Berenices\n",
    "M54                                     Globular cluster        Sagittarius\n",
    "M56                                     Globular cluster        Lyra\n",
    "M57   Ring Nebula                       Planetary nebula        Lyra\n",
    "M58                                     Spiral galaxy           Virgo\n",
    "\"\"\"\n",
    "\n",
    "# ToDo 1:\n"
   ]
  },
  {
   "cell_type": "markdown",
   "metadata": {},
   "source": [
    "2. Delete the file to clean up\n",
    "### Hint: \n",
    "```\n",
    "os.remove\n",
    "```\n"
   ]
  },
  {
   "cell_type": "code",
   "execution_count": null,
   "metadata": {},
   "outputs": [],
   "source": [
    "# ToDo 2:\n"
   ]
  },
  {
   "cell_type": "markdown",
   "metadata": {},
   "source": [
    "### EXTRA\n",
    "\n",
    "3. for each line\n",
    "   * print the messier number and title of those lines with titles\n",
    "\n",
    "### Hint: \n",
    "```\n",
    "   line[0:3]  \n",
    "   line[6:24] \n",
    "   .isspace()\n",
    "```"
   ]
  },
  {
   "cell_type": "code",
   "execution_count": null,
   "metadata": {},
   "outputs": [],
   "source": [
    "# ToDo 3:\n"
   ]
  },
  {
   "cell_type": "markdown",
   "metadata": {
    "colab_type": "text",
    "id": "X64tnNNePBgI"
   },
   "source": [
    "# Data Storage and File Handling\n",
    "\n",
    "Python files can be simply created using the open function. You can specify the file mode.\n",
    "\n",
    "The basic text file modes available include:\n",
    "\n",
    "* r - Read\n",
    "* w - Write\n",
    "* a Append\n",
    "\n",
    "You can open for read/write (by placing + on the end of the accessor eg r+) and binary modes (rb)\n",
    "\n",
    "Below we simply use the open method to open a file for write. We then write some raw data to it. Then we open the same file for read and read the data back in again."
   ]
  },
  {
   "cell_type": "code",
   "execution_count": null,
   "metadata": {
    "colab": {
     "base_uri": "https://localhost:8080/",
     "height": 68
    },
    "colab_type": "code",
    "id": "Knmk50xswPjs",
    "outputId": "1fcc9ef1-e3fa-4b03-ebc3-00829e73f3d9"
   },
   "outputs": [
    {
     "name": "stdout",
     "output_type": "stream",
     "text": [
      "Star Wars, 1977\n",
      "Jaws, 1975\n",
      "\n"
     ]
    }
   ],
   "source": [
    "my_file = open(\"movies.txt\", \"w\")\n",
    "my_file.write(\"Star Wars, 1977\\n\")\n",
    "my_file.write(\"Jaws, 1975\\n\")\n",
    "my_file.close()\n",
    "\n",
    "my_file = open(\"movies.txt\", \"r\")\n",
    "data = my_file.read()\n",
    "my_file.close()\n",
    "print(data)\n",
    "\n"
   ]
  },
  {
   "cell_type": "markdown",
   "metadata": {},
   "source": [
    "## Using with\n",
    "\n",
    "To ensure the file is closed even in the evnt of an error use *with* to open the file."
   ]
  },
  {
   "cell_type": "code",
   "execution_count": null,
   "metadata": {},
   "outputs": [],
   "source": [
    "with open(\"movies.txt\", \"w\") as my_file:\n",
    "    my_file.write(\"Star Wars, 1977\\n\")\n",
    "    my_file.write(\"Jaws, 1975\\n\")\n"
   ]
  },
  {
   "cell_type": "markdown",
   "metadata": {},
   "source": [
    "Now we don't need a close!\n",
    "\n",
    "## Using a for loop to iterate through a file\n",
    "\n",
    "for loops can iterate through text files. The text file will be read line by line.\n"
   ]
  },
  {
   "cell_type": "code",
   "execution_count": 16,
   "metadata": {},
   "outputs": [
    {
     "name": "stdout",
     "output_type": "stream",
     "text": [
      "Star Wars, 1977\n",
      "Jaws, 1975\n"
     ]
    }
   ],
   "source": [
    "with open(\"movies.txt\", \"w\") as my_file:\n",
    "    my_file.write(\"Star Wars, 1977\\n\")\n",
    "    my_file.write(\"Jaws, 1975\\n\")\n",
    "\n",
    "with open(\"movies.txt\", \"r\") as my_file:\n",
    "    for line in my_file:\n",
    "        print(line, end=\"\")\n"
   ]
  },
  {
   "cell_type": "markdown",
   "metadata": {},
   "source": [
    "## Other Data Storage Options\n",
    "\n",
    "Direct file access leaves you to do most of the work. Python provides some useful libraries that can make data peristance easier.\n",
    "\n",
    "### Pickling\n",
    "\n",
    "Allows Python objects to be \"dehydrated\" into a stream and written to disk. Later it can be read back into an object again.\n",
    "\n",
    "It works with binary rather than text files.\n"
   ]
  },
  {
   "cell_type": "code",
   "execution_count": 15,
   "metadata": {},
   "outputs": [
    {
     "name": "stdout",
     "output_type": "stream",
     "text": [
      "{'name': 'Fred', 'age': 21}\n"
     ]
    }
   ],
   "source": [
    "import pickle as p\n",
    "\n",
    "data = {\"name\":\"Fred\", \"age\": 21}\n",
    "\n",
    "with open(\"movies.p\", \"wb\") as data_file :\n",
    "    p.dump(data, data_file)\n",
    "\n",
    "with open(\"movies.p\", \"rb\") as data_file :\n",
    "    person = p.load(data_file)\n",
    "    print(person)\n"
   ]
  }
 ],
 "metadata": {
  "kernelspec": {
   "display_name": "Python 3",
   "language": "python",
   "name": "python3"
  },
  "language_info": {
   "codemirror_mode": {
    "name": "ipython",
    "version": 3
   },
   "file_extension": ".py",
   "mimetype": "text/x-python",
   "name": "python",
   "nbconvert_exporter": "python",
   "pygments_lexer": "ipython3",
   "version": "3.7.4"
  }
 },
 "nbformat": 4,
 "nbformat_minor": 4
}
