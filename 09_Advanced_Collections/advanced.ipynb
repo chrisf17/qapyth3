{
 "cells": [
  {
   "cell_type": "markdown",
   "metadata": {},
   "source": [
    "# Advanced Collections\n",
    "\n",
    "\n",
    "## QuickLab 1\n",
    "\n",
    "### ToDo 1: Produce a new list, upper_names, of uppercased names"
   ]
  },
  {
   "cell_type": "code",
   "execution_count": null,
   "metadata": {},
   "outputs": [],
   "source": [
    "names = ['Sherlock Holmes', 'John Watson', 'John Adler', 'Irene Adler']\n",
    "\n",
    "upper_names = None\n"
   ]
  },
  {
   "cell_type": "markdown",
   "metadata": {},
   "source": [
    "### ToDo 2: Produce a new list, twice_ages, of doubled ages\n"
   ]
  },
  {
   "cell_type": "code",
   "execution_count": null,
   "metadata": {},
   "outputs": [],
   "source": [
    "ages = list(range(20, 30))\n",
    "\n",
    "twice_ages = None"
   ]
  },
  {
   "cell_type": "markdown",
   "metadata": {},
   "source": [
    "### ToDo 3: Produce a new list, first_names, of just the first names"
   ]
  },
  {
   "cell_type": "code",
   "execution_count": null,
   "metadata": {},
   "outputs": [],
   "source": [
    "names = ['Sherlock Holmes', 'John Watson', 'John Adler', 'Irene Adler']\n",
    "\n",
    "first_names = None\n"
   ]
  },
  {
   "cell_type": "markdown",
   "metadata": {},
   "source": [
    "### ToDo 4: Produce a new list, is_adler, of bools where True if person is an Adler\n"
   ]
  },
  {
   "cell_type": "code",
   "execution_count": null,
   "metadata": {},
   "outputs": [],
   "source": [
    "names = ['Sherlock Holmes', 'John Watson', 'John Adler', 'Irene Adler']\n",
    "\n",
    "is_adler = None\n"
   ]
  },
  {
   "cell_type": "markdown",
   "metadata": {},
   "source": [
    "### Question: What do the following comprehensions produce? Why?\n",
    "```\n",
    "names = ['Sherlock Holmes', 'John Watson', 'John Adler', 'Irene Adler']\n",
    "ages = list(range(20, 30))\n",
    "\n",
    "a = ['{1}, {0}'.format(*name.split()) for name in names]\n",
    "b = [age * 2 for age in ages if 20 < age < 25]\n",
    "c = {n: a for n, a in zip(names, ages)}\n",
    "d = {n.split()[0] for n in names}\n",
    "e = {n.split()[1] for n in names}\n",
    "\n",
    "```\n",
    "\n",
    "Notes:\n"
   ]
  },
  {
   "cell_type": "markdown",
   "metadata": {},
   "source": [
    "## Extra Credit:\n",
    "\n",
    "* Redo above using lambda and map ( see tutorial below if not sure)\n",
    "\n",
    "## Quicklab 2\n",
    "\n",
    "1. Create a range from 0 to 5\n",
    "\n",
    "2. Transform that range to a list of '.' (dots)\n",
    "\n",
    "3. join each element on a space, and print it out ie., so that you're printing a string of dots\n",
    "\n",
    "3. transform a range(5) again, instead of '.' for every element, have your previous list, call this grid that is, every element of five should now be a list of dots\n",
    "\n",
    "4. write this in one line, without using any intermediate variables (ie. nest for-comprehensions)\n",
    "\n",
    "5. join this grid: each row should be joined together by ' ', and all the rows by \\n\n",
    "\n",
    "#### HINTS:\n",
    "* start by transforming your list of lists (grid) into a single list of strings\n",
    "* then join these with a newline\n"
   ]
  },
  {
   "cell_type": "code",
   "execution_count": null,
   "metadata": {},
   "outputs": [],
   "source": [
    "# TODO Quicklab 2\n"
   ]
  },
  {
   "cell_type": "markdown",
   "metadata": {},
   "source": [
    "## Quick Lab 3 - Generators\n",
    "\n",
    "### ToDo 1\n",
    "\n",
    "1. Improve the following fibonacci function so that it acts as a generator\n",
    "2. What's the benefit?"
   ]
  },
  {
   "cell_type": "code",
   "execution_count": 11,
   "metadata": {},
   "outputs": [
    {
     "name": "stdout",
     "output_type": "stream",
     "text": [
      "0\n",
      "1\n",
      "1\n",
      "2\n",
      "3\n",
      "5\n",
      "8\n",
      "13\n",
      "21\n",
      "34\n",
      "55\n",
      "89\n",
      "144\n",
      "233\n",
      "377\n",
      "610\n",
      "987\n",
      "1597\n",
      "2584\n",
      "4181\n",
      "6765\n"
     ]
    }
   ],
   "source": [
    "def fibonacci(count = 20):\n",
    "\n",
    "    values = [0, 1 ]\n",
    "    first, second = values\n",
    "    generated = len(values)\n",
    "    while generated <= count:\n",
    "        fib_n = first + second\n",
    "        values +=[fib_n]\n",
    "        first, second = second, fib_n\n",
    "        generated += 1\n",
    "\n",
    "    return values\n",
    "\n",
    "\n",
    "for i in fibonacci():\n",
    "    print(i)"
   ]
  },
  {
   "cell_type": "markdown",
   "metadata": {
    "colab_type": "text",
    "id": "Q4XtkLjo18N_"
   },
   "source": [
    "# Advanced Collections Tutorial\n",
    "\n",
    "Python has a filter function that can be used to filter elements out of iterables.\n",
    "\n",
    "It returns an iterable and takes the form\n",
    "\n",
    "filter(\\<function or lambda\\>, \\<iterable tio be filtered\\>)\n"
   ]
  },
  {
   "cell_type": "code",
   "execution_count": null,
   "metadata": {
    "colab": {
     "base_uri": "https://localhost:8080/",
     "height": 85
    },
    "colab_type": "code",
    "id": "PBXoTk0z2pk0",
    "outputId": "710da68f-3344-453d-c972-9e54731896ad"
   },
   "outputs": [
    {
     "name": "stdout",
     "output_type": "stream",
     "text": [
      "<filter object at 0x7f3a1ff64f60>\n",
      "['Fred', 'Beth']\n",
      "Fred\n",
      "Beth\n"
     ]
    }
   ],
   "source": [
    "names = [\"Fred\", \"Amy\", \"Beth\", \"Bob\"]\n",
    "filtered_names = filter(lambda name: len(name) > 3, names)\n",
    "print(filtered_names) # returns a filter object (iterable)\n",
    "print(list(filtered_names)) # filter object can be converted to a list\n",
    "\n",
    "# Iterate over the filter object\n",
    "for name in filter(lambda name: len(name) > 3, names):\n",
    "  print(name)"
   ]
  },
  {
   "cell_type": "markdown",
   "metadata": {},
   "source": [
    "### Mapping with map\n",
    "\n",
    "The  map function allow you to create on structure from another.\n",
    "\n",
    "```\n",
    "map(<function or lambda>, iterable)\n",
    "```"
   ]
  },
  {
   "cell_type": "code",
   "execution_count": 7,
   "metadata": {},
   "outputs": [
    {
     "name": "stdout",
     "output_type": "stream",
     "text": [
      "<map object at 0x05F27B68>\n",
      "['FRED', 'AMY', 'BETH', 'BOB']\n"
     ]
    }
   ],
   "source": [
    "names = [\"Fred\", \"Amy\", \"Beth\", \"Bob\"]\n",
    "mapped_names = map(lambda n:n.upper(), names)\n",
    "print(mapped_names) # Produces a map object\n",
    "print(list(mapped_names)) # Cover it to a list to print it"
   ]
  },
  {
   "cell_type": "markdown",
   "metadata": {
    "colab_type": "text",
    "id": "_dIGRQyF2cOO"
   },
   "source": [
    "## List Comprehensions\n",
    "\n",
    "Another way to do the similar things is to use a list comprehension of which there are two parts\n",
    "\n",
    "* List Construction\n",
    "* List Filtering\n",
    "\n",
    "### List Construction\n",
    "\n",
    "Place a loop inside either [], () or {} depending on what you are trying to produce (list dictionary, set or tuple).\n",
    "\n",
    "results = [ \\<var\\> for \\<var\\> in \\<data container\\> ]\n",
    "\n",
    "\\<var\\> is a variable retrieved from the loop and used to populate the new structure.\n",
    "\n",
    "\n"
   ]
  },
  {
   "cell_type": "code",
   "execution_count": null,
   "metadata": {
    "colab": {
     "base_uri": "https://localhost:8080/",
     "height": 34
    },
    "colab_type": "code",
    "id": "X1ABllUH5vX1",
    "outputId": "50d3a573-7905-45c4-bd9a-77fd980b5268"
   },
   "outputs": [
    {
     "name": "stdout",
     "output_type": "stream",
     "text": [
      "['Fred', 'Amy', 'Beth', 'Bob']\n"
     ]
    }
   ],
   "source": [
    "names = [\"Fred\", \"Amy\", \"Beth\", \"Bob\"]\n",
    "# List construction\n",
    "filtered_names = [name for name in names] # Returns a filter\n",
    "print(list(filtered_names))"
   ]
  },
  {
   "cell_type": "markdown",
   "metadata": {
    "colab_type": "text",
    "id": "H9WOdhhwyc2x"
   },
   "source": [
    "### Processing List Data\n",
    "\n",
    "The variable used to populate the list/tuple/dictionary can be preprocessed prior to population.\n",
    "\n",
    "Below each name is coverted to upper case prior to populating the list."
   ]
  },
  {
   "cell_type": "code",
   "execution_count": null,
   "metadata": {
    "colab": {
     "base_uri": "https://localhost:8080/",
     "height": 34
    },
    "colab_type": "code",
    "id": "zF9vpff9y9sq",
    "outputId": "b0d24108-f796-4417-d4f8-c9527c1a4066"
   },
   "outputs": [
    {
     "name": "stdout",
     "output_type": "stream",
     "text": [
      "['FRED', 'AMY', 'BETH', 'BOB']\n"
     ]
    }
   ],
   "source": [
    "names = [\"Fred\", \"Amy\", \"Beth\", \"Bob\"]\n",
    "# Put names i upper case\n",
    "filtered_names = [name.upper() for name in names] # Returns a filter\n",
    "print(list(filtered_names))"
   ]
  },
  {
   "cell_type": "markdown",
   "metadata": {
    "colab_type": "text",
    "id": "z7jYd5oNzTJa"
   },
   "source": [
    "### Filtering\n",
    "\n",
    "As well as prperocessing data it's also possible to filter the data populating the result."
   ]
  },
  {
   "cell_type": "code",
   "execution_count": null,
   "metadata": {
    "colab": {
     "base_uri": "https://localhost:8080/",
     "height": 34
    },
    "colab_type": "code",
    "id": "lVh7SE7EzRJH",
    "outputId": "5487b678-918d-4c38-88cb-5298b52901af"
   },
   "outputs": [
    {
     "name": "stdout",
     "output_type": "stream",
     "text": [
      "['FRED', 'BETH']\n"
     ]
    }
   ],
   "source": [
    "names = [\"Fred\", \"Amy\", \"Beth\", \"Bob\"]\n",
    "# Put names i upper case\n",
    "filtered_names = [name.upper() for name in names if len(name) > 3] # Returns a filter\n",
    "print(list(filtered_names))"
   ]
  },
  {
   "cell_type": "markdown",
   "metadata": {},
   "source": [
    "### Tuple Comprehension\n",
    "Look what happens when you define a tuple comprehension using ()"
   ]
  },
  {
   "cell_type": "code",
   "execution_count": 24,
   "metadata": {},
   "outputs": [
    {
     "name": "stdout",
     "output_type": "stream",
     "text": [
      "<generator object <genexpr> at 0x00D44DF0>\n"
     ]
    }
   ],
   "source": [
    "names = [\"Fred\", \"Amy\", \"Beth\", \"Bob\"]\n",
    "\n",
    "filtered_names = (name for name in names if len(name) > 3)\n",
    "print(filtered_names)"
   ]
  },
  {
   "cell_type": "markdown",
   "metadata": {},
   "source": [
    "It produces a generator object\n",
    "\n",
    "### Generators\n",
    "\n",
    "Generators are functions that yield their data individually rather than all at once in a collection.\n",
    "\n",
    "As a result they can be iterated through one by one without having to consume large amounts of memory.\n",
    "A simple generator function uses a yield statement to yield a data vale when it is available to be consumed\n"
   ]
  },
  {
   "cell_type": "code",
   "execution_count": 25,
   "metadata": {},
   "outputs": [
    {
     "name": "stdout",
     "output_type": "stream",
     "text": [
      "10\n",
      "20\n",
      "30\n"
     ]
    }
   ],
   "source": [
    "def generate_numbers():\n",
    "    \n",
    "    yield 10\n",
    "    yield 20\n",
    "    yield 30\n",
    "\n",
    "    \n",
    "for i in generate_numbers():\n",
    "    print(i)"
   ]
  },
  {
   "cell_type": "markdown",
   "metadata": {},
   "source": [
    "Better than return thre numbers in a list?\n",
    "\n",
    "What about the following?\n",
    "* We could generate 20,000 numbers and only consume the memory needed for one per iteration"
   ]
  },
  {
   "cell_type": "code",
   "execution_count": 26,
   "metadata": {},
   "outputs": [
    {
     "name": "stdout",
     "output_type": "stream",
     "text": [
      "0\n",
      "1\n",
      "2\n",
      "3\n",
      "4\n",
      "5\n",
      "6\n",
      "7\n",
      "8\n",
      "9\n",
      "10\n",
      "11\n",
      "12\n",
      "13\n",
      "14\n",
      "15\n",
      "16\n",
      "17\n",
      "18\n",
      "19\n"
     ]
    }
   ],
   "source": [
    "def generate_numbers(count):\n",
    "    \n",
    "    start = 0\n",
    "    while start < count:\n",
    "        yield start\n",
    "        start +=1\n",
    "    \n",
    "for i in generate_numbers(20):\n",
    "    print(i)"
   ]
  },
  {
   "cell_type": "markdown",
   "metadata": {},
   "source": [
    "Tuple comprehensions returning generators can avoid duplicating data structures and using more memory than necessary."
   ]
  },
  {
   "cell_type": "markdown",
   "metadata": {},
   "source": [
    "## Set and Dictionary Comprehensions\n",
    "\n",
    "You can create other data structures using the same technique.\n",
    "\n",
    "### Set comprehension\n",
    "\n",
    "Sets are defined using {}. This code creates a set comprehension.\n",
    "\n",
    "Notice the subtlke difference!"
   ]
  },
  {
   "cell_type": "code",
   "execution_count": 12,
   "metadata": {},
   "outputs": [
    {
     "data": {
      "text/plain": [
       "['Amy', 'Fred', 'Beth', 'Bob']"
      ]
     },
     "execution_count": 12,
     "metadata": {},
     "output_type": "execute_result"
    }
   ],
   "source": [
    "names = [\"Fred\", \"Amy\", \"Fred\", \"Beth\", \"Bob\"]\n",
    "\n",
    "new_names = {name for name in names}\n",
    "\n",
    "list(new_names)"
   ]
  },
  {
   "cell_type": "code",
   "execution_count": null,
   "metadata": {},
   "outputs": [],
   "source": [
    "### Dictionary Comprehnsion\n",
    "\n",
    "Dictionaries have key: value pairs inside { }\n",
    "    \n",
    "We could make a simple dictionary:"
   ]
  },
  {
   "cell_type": "code",
   "execution_count": 22,
   "metadata": {},
   "outputs": [
    {
     "name": "stdout",
     "output_type": "stream",
     "text": [
      "{'Fred': {'length': 4, 'upper': 'FRED', 'lower': 'fred'}, 'Amy': {'length': 3, 'upper': 'AMY', 'lower': 'amy'}, 'Beth': {'length': 4, 'upper': 'BETH', 'lower': 'beth'}, 'Bob': {'length': 3, 'upper': 'BOB', 'lower': 'bob'}}\n",
      "{'length': 3, 'upper': 'AMY', 'lower': 'amy'}\n"
     ]
    }
   ],
   "source": [
    "names = [\"Fred\", \"Amy\", \"Beth\", \"Bob\"]\n",
    "\n",
    "name_details = {name:len(name) for name in names if len(name) > 0}\n",
    "\n",
    "print(name_details)\n",
    "\n",
    "\n",
    "\n"
   ]
  },
  {
   "cell_type": "markdown",
   "metadata": {},
   "source": [
    "or a more complex dictionary"
   ]
  },
  {
   "cell_type": "code",
   "execution_count": 23,
   "metadata": {},
   "outputs": [
    {
     "name": "stdout",
     "output_type": "stream",
     "text": [
      "{'Fred': {'length': 4, 'upper': 'FRED', 'lower': 'fred'}, 'Amy': {'length': 3, 'upper': 'AMY', 'lower': 'amy'}, 'Beth': {'length': 4, 'upper': 'BETH', 'lower': 'beth'}, 'Bob': {'length': 3, 'upper': 'BOB', 'lower': 'bob'}}\n",
      "{'length': 3, 'upper': 'AMY', 'lower': 'amy'}\n"
     ]
    }
   ],
   "source": [
    "name_details = {name: {\"length\": len(name),\n",
    "                       \"upper\": name.upper(),\n",
    "                       \"lower\": name.lower()\n",
    "                      } for name in names}\n",
    "\n",
    "print(name_details)\n",
    "print(name_details[\"Amy\"])"
   ]
  },
  {
   "cell_type": "markdown",
   "metadata": {
    "colab_type": "text",
    "id": "C43-ZQSm0vmB"
   },
   "source": [
    "# Copying Collections\n",
    "\n",
    "When you copy a collection using just a variable all you copy is the reference pointing to the collection\n",
    "\n",
    "Below we assign **fruit** to **lunch**, then change the second item in lunch\n",
    "\n",
    "Printing both lists reveals they are both contain the same contents."
   ]
  },
  {
   "cell_type": "code",
   "execution_count": null,
   "metadata": {
    "colab": {
     "base_uri": "https://localhost:8080/",
     "height": 51
    },
    "colab_type": "code",
    "id": "B2XAw0vN1J28",
    "outputId": "c82b5ade-5fe4-402b-e15f-71c713495ca6"
   },
   "outputs": [
    {
     "name": "stdout",
     "output_type": "stream",
     "text": [
      "['Apple', 'Kiwi', 'Pear', 'Banana']\n",
      "['Apple', 'Kiwi', 'Pear', 'Banana']\n"
     ]
    }
   ],
   "source": [
    "fruit = [\"Apple\", \"Orange\", \"Pear\", \"Banana\"]\n",
    "lunch = fruit\n",
    "fruit[1] = \"Kiwi\"\n",
    "print(fruit)\n",
    "print(lunch)\n"
   ]
  },
  {
   "cell_type": "markdown",
   "metadata": {
    "colab_type": "text",
    "id": "QOu6FRV1u-Xc"
   },
   "source": [
    "### Shallow Copying a List\n",
    "\n",
    "A shallow copy can be made by using list slicing \n",
    "\n",
    "\n",
    "\n",
    "\n",
    "```\n",
    "lunch = fruit[:]\n",
    "```\n",
    "\n"
   ]
  },
  {
   "cell_type": "code",
   "execution_count": null,
   "metadata": {
    "colab": {
     "base_uri": "https://localhost:8080/",
     "height": 51
    },
    "colab_type": "code",
    "id": "wdBRi3e5vVeC",
    "outputId": "b3d47ca5-19a3-489f-e84a-6c2a2c5cc732"
   },
   "outputs": [
    {
     "name": "stdout",
     "output_type": "stream",
     "text": [
      "['Apple', 'Kiwi', 'Pear', 'Banana']\n",
      "['Apple', 'Orange', 'Pear', 'Banana']\n"
     ]
    }
   ],
   "source": [
    "fruit = [\"Apple\", \"Orange\", \"Pear\", \"Banana\"]\n",
    "lunch = fruit[:]\n",
    "fruit[1] = \"Kiwi\"\n",
    "print(fruit)\n",
    "print(lunch)\n"
   ]
  },
  {
   "cell_type": "markdown",
   "metadata": {
    "colab_type": "text",
    "id": "zYzFicCvvwn6"
   },
   "source": [
    "### Nested Structures\n",
    "\n",
    "When a list contains a list copying using slicing is a problem because it makes only a shallow copy.\n",
    "\n",
    "Code below contains a sub list\n",
    "\n",
    "```\n",
    "fruit = [\"Apple\", \"Orange\", [\"Pear\", \"Kiwi\"] , \"Banana\"]\n",
    "```\n",
    "\n",
    "Copying the list using slicing copies all items in main list but only copies the reference to the sub list.\n",
    "\n",
    "Below copying a nested list and then changing an item in the nested list changes the item for both copies\n",
    "\n"
   ]
  },
  {
   "cell_type": "code",
   "execution_count": null,
   "metadata": {
    "colab": {
     "base_uri": "https://localhost:8080/",
     "height": 51
    },
    "colab_type": "code",
    "id": "aPBJCqKPw03z",
    "outputId": "c27759a2-644f-4365-ebb8-a39feab64b47"
   },
   "outputs": [
    {
     "name": "stdout",
     "output_type": "stream",
     "text": [
      "['Apple', 'Orange', ['Strawberry', 'Kiwi'], 'Banana']\n",
      "['Apple', 'Orange', ['Strawberry', 'Kiwi'], 'Banana']\n"
     ]
    }
   ],
   "source": [
    "fruit = [\"Apple\", \"Orange\", [\"Pear\", \"Kiwi\"] , \"Banana\"]\n",
    "lunch = fruit[:]\n",
    "fruit[2][0] = \"Strawberry\"\n",
    "print(fruit)\n",
    "print(lunch)\n",
    "\n"
   ]
  },
  {
   "cell_type": "markdown",
   "metadata": {
    "colab_type": "text",
    "id": "eksYy7oTxLQA"
   },
   "source": [
    "Using the copy module and the deepcopy functions allows nested structures to be copied also"
   ]
  },
  {
   "cell_type": "code",
   "execution_count": null,
   "metadata": {
    "colab": {
     "base_uri": "https://localhost:8080/",
     "height": 51
    },
    "colab_type": "code",
    "id": "LgpvGnitxUKw",
    "outputId": "6129b7dd-45af-4360-980e-7e9b2fc6b867"
   },
   "outputs": [
    {
     "name": "stdout",
     "output_type": "stream",
     "text": [
      "['Apple', 'Orange', ['Strawberry', 'Kiwi'], 'Banana']\n",
      "['Apple', 'Orange', ['Pear', 'Kiwi'], 'Banana']\n"
     ]
    }
   ],
   "source": [
    "import copy\n",
    "\n",
    "fruit = [\"Apple\", \"Orange\", [\"Pear\", \"Kiwi\"] , \"Banana\"]\n",
    "lunch = copy.deepcopy(fruit)\n",
    "fruit[2][0] = \"Strawberry\"\n",
    "print(fruit)\n",
    "print(lunch)\n"
   ]
  }
 ],
 "metadata": {
  "kernelspec": {
   "display_name": "Python 3",
   "language": "python",
   "name": "python3"
  },
  "language_info": {
   "codemirror_mode": {
    "name": "ipython",
    "version": 3
   },
   "file_extension": ".py",
   "mimetype": "text/x-python",
   "name": "python",
   "nbconvert_exporter": "python",
   "pygments_lexer": "ipython3",
   "version": "3.8.4"
  }
 },
 "nbformat": 4,
 "nbformat_minor": 4
}
