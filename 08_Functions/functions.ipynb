{
 "cells": [
  {
   "cell_type": "markdown",
   "metadata": {},
   "source": [
    "# Functions\n",
    "\n",
    "There is a tutorial at the end of the quick labs. You may want to look at it first?\n",
    "\n",
    "## Quick Lab 1\n",
    "\n",
    "### To Do 1\n",
    "\n",
    "1. Write a function called **display_person_info** that:\n",
    "* Prints the following movie details in a nicely formatted message\n",
    "* Has parameters to accept the variables defined below\n",
    "2. Call the method and pass the variables as arguments to your function\n"
   ]
  },
  {
   "cell_type": "code",
   "execution_count": null,
   "metadata": {},
   "outputs": [],
   "source": [
    "first_name = \"George\"\n",
    "last_name = \"Lucas\"\n",
    "job = \"Movie Director\"\n",
    "country_of_birth = \"USA\"\n",
    "year_of_birth = 1944\n",
    "\n",
    "# ToDo 1:\n"
   ]
  },
  {
   "cell_type": "markdown",
   "metadata": {},
   "source": [
    "### ToDo 2\n",
    "\n",
    "1. Change the function so that the caller has to use named arguments"
   ]
  },
  {
   "cell_type": "code",
   "execution_count": null,
   "metadata": {},
   "outputs": [],
   "source": [
    "### ToDo 2\n"
   ]
  },
  {
   "cell_type": "markdown",
   "metadata": {},
   "source": [
    "### ToDo 3\n",
    "1. Define the function again to add a new parameter that allows the caller to add their own named arguments. Hint - keyword parameter"
   ]
  },
  {
   "cell_type": "code",
   "execution_count": null,
   "metadata": {},
   "outputs": [],
   "source": []
  },
  {
   "cell_type": "markdown",
   "metadata": {},
   "source": [
    "## Quick Lab 2\n",
    "\n",
    "Parameters can have default values which makes them optional (see the tutorial below). \n",
    "\n",
    "### ToDo 1\n",
    "Can you fix the code below? Don't worry if you can't ask your instructor to explain."
   ]
  },
  {
   "cell_type": "code",
   "execution_count": 5,
   "metadata": {},
   "outputs": [
    {
     "name": "stdout",
     "output_type": "stream",
     "text": [
      "['Leaflet', 'Leaflet', 'Leaflet']\n"
     ]
    }
   ],
   "source": [
    "def basket(contents=[]):\n",
    "    contents.append(\"Leaflet\")\n",
    "    return contents\n",
    "\n",
    "basket()\n",
    "basket()\n",
    "print(basket())"
   ]
  },
  {
   "cell_type": "markdown",
   "metadata": {},
   "source": [
    "## QuickLab 3\n",
    "\n",
    "### ToDo 1\n",
    "\n",
    "\n",
    "1. Write a function called *add* with\n",
    "* Two parameters *lhs* and *rhs*\n",
    "* Returns lhs + rhs\n",
    "2. Write code to test the function"
   ]
  },
  {
   "cell_type": "code",
   "execution_count": 2,
   "metadata": {},
   "outputs": [
    {
     "name": "stdout",
     "output_type": "stream",
     "text": [
      "True\n"
     ]
    }
   ],
   "source": [
    "# ToDo 1:\n",
    "\n"
   ]
  },
  {
   "cell_type": "markdown",
   "metadata": {},
   "source": [
    "### ToDo 2\n",
    "\n",
    "\n",
    "1. Write a function called *add* with\n",
    "* One parametercalled **data**\n",
    "2. Return the following based on value of data\n",
    "* 0 if data == \"\"\n",
    "* integer value of data if data is a number or a number string eg \"5\" returns 5\n",
    "* sum of data values if data is a comma separated string of numbers eg \"2, 12\" returns 14\n",
    "* sum of data values if data is , or ; separated string of numbers eg \"2,12;5\" returns 19\n",
    "* What is your most concise solution?\n"
   ]
  },
  {
   "cell_type": "code",
   "execution_count": null,
   "metadata": {},
   "outputs": [],
   "source": [
    "def add(data):\n",
    "    pass"
   ]
  },
  {
   "cell_type": "markdown",
   "metadata": {},
   "source": [
    "## QuickLab 4:\n",
    "\n",
    "### ToDo : Convert the following code into a function that\n",
    "1. Returns a list of fibonnaci numbers\n",
    "2. It should not print inside the function\n",
    "3. It should be passed the count as an argumemt\n",
    "4. Write code to test\n"
   ]
  },
  {
   "cell_type": "code",
   "execution_count": 1,
   "metadata": {},
   "outputs": [
    {
     "name": "stdout",
     "output_type": "stream",
     "text": [
      "0\n",
      "1\n",
      "1\n",
      "2\n",
      "3\n",
      "5\n",
      "8\n",
      "13\n",
      "21\n",
      "34\n",
      "55\n",
      "89\n",
      "144\n",
      "233\n",
      "377\n",
      "610\n",
      "987\n",
      "1597\n",
      "2584\n",
      "4181\n",
      "6765\n"
     ]
    }
   ],
   "source": [
    "count = 20\n",
    "\n",
    "first, second = 0, 1\n",
    "print(first)\n",
    "print(second)\n",
    "\n",
    "generated = 2\n",
    "while generated <= count:\n",
    "    fib_n = first + second\n",
    "    print(fib_n)\n",
    "    first, second = second, fib_n\n",
    "    generated += 1\n"
   ]
  },
  {
   "cell_type": "markdown",
   "metadata": {
    "colab_type": "text",
    "id": "eZG6FoWvPAax"
   },
   "source": [
    "# Functions Tutorial\n",
    "\n",
    "Python is a scripting language but that doesn't mean you have to write everything in one long monolithic script.\n",
    "\n",
    "Just like an author doesn't write an entire book in one chapter we don't write our code in one module. Instead we break the code down into reusable chunks called functions.\n",
    "\n",
    "Each function is written as a discrete, self contained, resuable block of code, ideally responsible for doing one thing.\n",
    "\n",
    "## Defining a Function\n",
    "\n",
    "Use the **def** keyword, give the function a name, add some round brackets followed by **:**\n",
    " and then ...\n",
    " \n",
    " Indent the code that belongs to the function by four spaces.\n",
    " \n",
    " \n",
    "**def do_something():**\n",
    "\n",
    "    print(\"I am doing something\")\n",
    "    \n",
    "\n",
    "##Calling a Function\n",
    "\n",
    "Just use the name of the function followed by round brackets to effect the invocation.\n",
    "\n",
    "**do_something()**\n",
    "\n",
    "\n",
    "\n"
   ]
  },
  {
   "cell_type": "code",
   "execution_count": null,
   "metadata": {
    "colab": {
     "base_uri": "https://localhost:8080/",
     "height": 34
    },
    "colab_type": "code",
    "id": "4GiSIxbINClX",
    "outputId": "a229d672-a50b-4853-8cdf-356a373dd8dd"
   },
   "outputs": [
    {
     "name": "stdout",
     "output_type": "stream",
     "text": [
      "Hello Louise\n"
     ]
    }
   ],
   "source": [
    "def say_hello():\n",
    "    print(\"Hello Louise\")\n",
    "\n",
    "\n",
    "say_hello()\n",
    "  "
   ]
  },
  {
   "cell_type": "markdown",
   "metadata": {
    "colab_type": "text",
    "id": "E_g-l5O1LJYF"
   },
   "source": [
    "## Parameters\n",
    "\n",
    "To change the behaviour of a function you need to pass data into it in the form of parameters. "
   ]
  },
  {
   "cell_type": "code",
   "execution_count": null,
   "metadata": {
    "colab": {
     "base_uri": "https://localhost:8080/",
     "height": 34
    },
    "colab_type": "code",
    "id": "2R9Qp-cVLKMw",
    "outputId": "be1d25a5-bf55-41df-dcee-b500338f918a"
   },
   "outputs": [
    {
     "name": "stdout",
     "output_type": "stream",
     "text": [
      "Hello Beth\n"
     ]
    }
   ],
   "source": [
    "def say_hello(first_name):\n",
    "    print(f\"Hello {first_name}\")\n",
    "\n",
    "\n",
    "say_hello(\"Beth\")"
   ]
  },
  {
   "cell_type": "markdown",
   "metadata": {
    "colab_type": "text",
    "id": "UA-rODFcTzdP"
   },
   "source": [
    "If you don't pass expected parameters look what happens!"
   ]
  },
  {
   "cell_type": "code",
   "execution_count": null,
   "metadata": {
    "colab": {
     "base_uri": "https://localhost:8080/",
     "height": 198
    },
    "colab_type": "code",
    "id": "1pWbysgkT5Zd",
    "outputId": "854b1f04-848b-4b84-c606-9f25a88f9348"
   },
   "outputs": [
    {
     "ename": "TypeError",
     "evalue": "ignored",
     "output_type": "error",
     "traceback": [
      "\u001b[0;31m---------------------------------------------------------------------------\u001b[0m",
      "\u001b[0;31mTypeError\u001b[0m                                 Traceback (most recent call last)",
      "\u001b[0;32m<ipython-input-3-c5b1ffe07d6d>\u001b[0m in \u001b[0;36m<module>\u001b[0;34m()\u001b[0m\n\u001b[1;32m      3\u001b[0m \u001b[0;34m\u001b[0m\u001b[0m\n\u001b[1;32m      4\u001b[0m \u001b[0;34m\u001b[0m\u001b[0m\n\u001b[0;32m----> 5\u001b[0;31m \u001b[0msay_hello\u001b[0m\u001b[0;34m(\u001b[0m\u001b[0;34m)\u001b[0m\u001b[0;34m\u001b[0m\u001b[0;34m\u001b[0m\u001b[0m\n\u001b[0m",
      "\u001b[0;31mTypeError\u001b[0m: say_hello() missing 1 required positional argument: 'first_name'"
     ]
    }
   ],
   "source": [
    "def say_hello(first_name):\n",
    "    print(f\"Hello {first_name}\")\n",
    "\n",
    "\n",
    "say_hello()"
   ]
  },
  {
   "cell_type": "markdown",
   "metadata": {
    "colab_type": "text",
    "id": "LF7Yw88OUCt6"
   },
   "source": [
    "Parameters can be made optional by providing a default value.\n",
    "\n",
    "Here we are allowing first_name to default to **World** if it's not supplied as a parameters. That means no error"
   ]
  },
  {
   "cell_type": "code",
   "execution_count": null,
   "metadata": {
    "colab": {
     "base_uri": "https://localhost:8080/",
     "height": 34
    },
    "colab_type": "code",
    "id": "yqmil5RBUFv1",
    "outputId": "a707f17d-a61c-4a47-fae4-fcb324245b6e"
   },
   "outputs": [
    {
     "name": "stdout",
     "output_type": "stream",
     "text": [
      "Hello World\n"
     ]
    }
   ],
   "source": [
    "def say_hello(first_name=\"World\"):\n",
    "    print(f\"Hello {first_name}\")\n",
    "\n",
    "\n",
    "say_hello()"
   ]
  },
  {
   "cell_type": "markdown",
   "metadata": {
    "colab_type": "text",
    "id": "K8Eyrnwj84Wa"
   },
   "source": [
    "## Multiple Parameters\n",
    "\n",
    "Functions can have more than one parameter and can be passed data in the order they appear in the parameter list"
   ]
  },
  {
   "cell_type": "code",
   "execution_count": null,
   "metadata": {
    "colab": {
     "base_uri": "https://localhost:8080/",
     "height": 34
    },
    "colab_type": "code",
    "id": "g_utXvkT9Llo",
    "outputId": "761a1e2d-2361-4e54-a74c-88eae2ff8c87"
   },
   "outputs": [
    {
     "name": "stdout",
     "output_type": "stream",
     "text": [
      "Hello Beth McGregor\n"
     ]
    }
   ],
   "source": [
    "def say_hello(first_name, last_name):\n",
    "    print(f\"Hello {first_name} {last_name}\")\n",
    "\n",
    "\n",
    "say_hello(\"Beth\", \"McGregor\")"
   ]
  },
  {
   "cell_type": "markdown",
   "metadata": {
    "colab_type": "text",
    "id": "14ynqEzE-Ne4"
   },
   "source": [
    "## Named Parameters\n",
    "\n",
    "To pass parameters out of order/sequence you need to name your parameters"
   ]
  },
  {
   "cell_type": "code",
   "execution_count": null,
   "metadata": {
    "colab": {
     "base_uri": "https://localhost:8080/",
     "height": 34
    },
    "colab_type": "code",
    "id": "tW6g77wu-2Ul",
    "outputId": "b750461b-f4a2-4560-aef0-3772506ac44f"
   },
   "outputs": [
    {
     "name": "stdout",
     "output_type": "stream",
     "text": [
      "Hello Beth McGregor\n"
     ]
    }
   ],
   "source": [
    "def say_hello(first_name, last_name):\n",
    "    print(f\"Hello {first_name} {last_name}\")\n",
    "\n",
    "\n",
    "say_hello(last_name = \"McGregor\", first_name = \"Beth\")"
   ]
  },
  {
   "cell_type": "markdown",
   "metadata": {
    "colab_type": "text",
    "id": "RtIsXiZhJobL"
   },
   "source": [
    "## Enforcing Named Parameters\n",
    "\n",
    "To ensure functions are always called with named parameters use an asterisk as a first parameter then if a function is called with named parameters an error will be thrown"
   ]
  },
  {
   "cell_type": "code",
   "execution_count": null,
   "metadata": {
    "colab": {
     "base_uri": "https://localhost:8080/",
     "height": 215
    },
    "colab_type": "code",
    "id": "XjJIEPTIKiMe",
    "outputId": "efe8021f-36fa-4659-c217-f0260dc4d85a"
   },
   "outputs": [
    {
     "name": "stdout",
     "output_type": "stream",
     "text": [
      "Hello Beth McGregor\n"
     ]
    },
    {
     "ename": "TypeError",
     "evalue": "ignored",
     "output_type": "error",
     "traceback": [
      "\u001b[0;31m---------------------------------------------------------------------------\u001b[0m",
      "\u001b[0;31mTypeError\u001b[0m                                 Traceback (most recent call last)",
      "\u001b[0;32m<ipython-input-1-4e39983b7482>\u001b[0m in \u001b[0;36m<module>\u001b[0;34m()\u001b[0m\n\u001b[1;32m      5\u001b[0m \u001b[0msay_hello\u001b[0m\u001b[0;34m(\u001b[0m\u001b[0mlast_name\u001b[0m \u001b[0;34m=\u001b[0m \u001b[0;34m\"McGregor\"\u001b[0m\u001b[0;34m,\u001b[0m \u001b[0mfirst_name\u001b[0m \u001b[0;34m=\u001b[0m \u001b[0;34m\"Beth\"\u001b[0m\u001b[0;34m)\u001b[0m\u001b[0;34m\u001b[0m\u001b[0;34m\u001b[0m\u001b[0m\n\u001b[1;32m      6\u001b[0m \u001b[0;34m\u001b[0m\u001b[0m\n\u001b[0;32m----> 7\u001b[0;31m \u001b[0msay_hello\u001b[0m\u001b[0;34m(\u001b[0m\u001b[0;34m\"Fred\"\u001b[0m\u001b[0;34m,\u001b[0m \u001b[0;34m\"Bloggs\"\u001b[0m\u001b[0;34m)\u001b[0m\u001b[0;34m\u001b[0m\u001b[0;34m\u001b[0m\u001b[0m\n\u001b[0m",
      "\u001b[0;31mTypeError\u001b[0m: say_hello() takes 0 positional arguments but 2 were given"
     ]
    }
   ],
   "source": [
    "def say_hello(*, first_name, last_name):\n",
    "    print(f\"Hello {first_name} {last_name}\")\n",
    "\n",
    "\n",
    "say_hello(last_name = \"McGregor\", first_name = \"Beth\")\n",
    "\n",
    "say_hello(\"Fred\", \"Bloggs\")\n"
   ]
  },
  {
   "cell_type": "markdown",
   "metadata": {
    "colab_type": "text",
    "id": "VFhPbExYhi2U"
   },
   "source": [
    "## Scope: What happens inside a function stays inside a function!\n",
    "\n",
    "You can declare variables inside your functions."
   ]
  },
  {
   "cell_type": "code",
   "execution_count": null,
   "metadata": {
    "colab": {
     "base_uri": "https://localhost:8080/",
     "height": 215
    },
    "colab_type": "code",
    "id": "3Y0K30L3vklv",
    "outputId": "513a5554-4d36-4bee-d84c-e4fef204a7fb"
   },
   "outputs": [
    {
     "name": "stdout",
     "output_type": "stream",
     "text": [
      "Hello Beth\n"
     ]
    },
    {
     "ename": "NameError",
     "evalue": "ignored",
     "output_type": "error",
     "traceback": [
      "\u001b[0;31m---------------------------------------------------------------------------\u001b[0m",
      "\u001b[0;31mNameError\u001b[0m                                 Traceback (most recent call last)",
      "\u001b[0;32m<ipython-input-1-dc4d5a239a41>\u001b[0m in \u001b[0;36m<module>\u001b[0;34m()\u001b[0m\n\u001b[1;32m      6\u001b[0m \u001b[0msay_hello\u001b[0m\u001b[0;34m(\u001b[0m\u001b[0;34m\"Beth\"\u001b[0m\u001b[0;34m)\u001b[0m\u001b[0;34m\u001b[0m\u001b[0;34m\u001b[0m\u001b[0m\n\u001b[1;32m      7\u001b[0m \u001b[0;34m\u001b[0m\u001b[0m\n\u001b[0;32m----> 8\u001b[0;31m \u001b[0mprint\u001b[0m\u001b[0;34m(\u001b[0m\u001b[0mmessage\u001b[0m\u001b[0;34m)\u001b[0m\u001b[0;34m\u001b[0m\u001b[0;34m\u001b[0m\u001b[0m\n\u001b[0m",
      "\u001b[0;31mNameError\u001b[0m: name 'message' is not defined"
     ]
    }
   ],
   "source": [
    "def say_hello(first_name):\n",
    "\n",
    "    message = f\"Hello {first_name}\"\n",
    "    print(message)\n",
    "\n",
    "say_hello(\"Beth\")\n",
    "\n",
    "print(message)"
   ]
  },
  {
   "cell_type": "markdown",
   "metadata": {
    "colab_type": "text",
    "id": "hu0N1gi9vzst"
   },
   "source": [
    "Notice how the **message** variable inside the **say_hello** function can be printed inside the function but we get an error when we try to print it on the outside.\n",
    "\n",
    "That's because the data you define within a function is local just to that function and lives in memory only as long as the function is exctuting\n",
    "\n",
    "If you want to give the outside world access to data inside a function you have to return it"
   ]
  },
  {
   "cell_type": "markdown",
   "metadata": {
    "colab_type": "text",
    "id": "kKjmUK6JvbCI"
   },
   "source": [
    "## Returning Data from Functions\n",
    "\n",
    "A function can return any kind of object. That means although data is private inside a function it can be copied to the outside."
   ]
  },
  {
   "cell_type": "code",
   "execution_count": null,
   "metadata": {
    "colab": {
     "base_uri": "https://localhost:8080/",
     "height": 34
    },
    "colab_type": "code",
    "id": "331MvgiWEOW0",
    "outputId": "9fbbf01b-fb79-4c80-fb80-56dce2bcef1c"
   },
   "outputs": [
    {
     "name": "stdout",
     "output_type": "stream",
     "text": [
      "8\n"
     ]
    }
   ],
   "source": [
    "def add(first, second):\n",
    "  \n",
    "    \n",
    "    # local variable\n",
    "    result = first + second \n",
    "    \n",
    "    return result # instead of print out result we return it\n",
    "\n",
    "# Returned data is caught in a catching cariable in this case called added_data\n",
    "added_data = add(5, 3)\n",
    "print(added_data)\n"
   ]
  },
  {
   "cell_type": "markdown",
   "metadata": {
    "colab_type": "text",
    "id": "d9f43cIqVjEO"
   },
   "source": [
    "## Variadic Parameters\n",
    "\n",
    "A variadic parameter allows more than one value to be passed to it when its function is invoked"
   ]
  },
  {
   "cell_type": "code",
   "execution_count": 1,
   "metadata": {
    "colab": {
     "base_uri": "https://localhost:8080/",
     "height": 102
    },
    "colab_type": "code",
    "id": "Tow3eBOdWV_g",
    "outputId": "1289c306-d7ee-47c2-d648-323a3c6691ce"
   },
   "outputs": [
    {
     "name": "stdout",
     "output_type": "stream",
     "text": [
      "Smoothie Strawberry Burst contains:\n",
      "('Strawberries', 'Banana', 'Mango')\n",
      "Strawberries\n",
      "Banana\n",
      "Mango\n"
     ]
    }
   ],
   "source": [
    "def make_smoothie(name, *fruits):\n",
    "    print(f\"Smoothie {name} contains:\")\n",
    "    print(fruits)\n",
    "    for fruit in fruits:\n",
    "      print(fruit)\n",
    "      \n",
    "make_smoothie(\"Strawberry Burst\", \"Strawberries\", \"Banana\", \"Mango\") \n"
   ]
  },
  {
   "cell_type": "markdown",
   "metadata": {
    "colab_type": "text",
    "id": "lmHgkgGCX1PP"
   },
   "source": [
    "Notice above we have a function with two parameters but we passed it four. The \\*fruits indicates a variadic parameter which appear as the last parameter and can be passed multiple values.\n",
    "\n",
    "The data is received as a tuple\n",
    "\n",
    "## Python Keyword Parameters\n",
    "\n",
    "Keyword parameters allow dynamically defined parameters to be passed to a function and recieved as a dictionary\n",
    "\n",
    "Declare a parameter using **param_name"
   ]
  },
  {
   "cell_type": "code",
   "execution_count": null,
   "metadata": {
    "colab": {
     "base_uri": "https://localhost:8080/",
     "height": 68
    },
    "colab_type": "code",
    "id": "GmrtxY-J7rro",
    "outputId": "76e2b1fc-9446-45fd-8e60-2da8078668e0"
   },
   "outputs": [
    {
     "name": "stdout",
     "output_type": "stream",
     "text": [
      "Movie Title:Star Wars\n",
      "{'year': 1977, 'duration': '1h22m', 'director': 'Steven Spielberg'}\n",
      "Steven Spielberg\n"
     ]
    }
   ],
   "source": [
    "def display_movie(title, **details):\n",
    "    print(f\"Movie Title:{title}\")\n",
    "    print(details)\n",
    "    print(details[\"director\"])\n",
    "\n",
    "display_movie(\"Star Wars\", year=1977, duration=\"1h22m\", director=\"Steven Spielberg\")\n",
    "  "
   ]
  },
  {
   "cell_type": "markdown",
   "metadata": {
    "colab_type": "text",
    "id": "KbQq4ThGLJM4"
   },
   "source": [
    "## Variable Scope\n",
    "\n",
    "When you declare a variable in your module it can be accessed by any module level code written below it but not above it\n",
    "\n",
    "That's why the code below errors because we try to print y before it is declared\n",
    "\n",
    "\n"
   ]
  },
  {
   "cell_type": "code",
   "execution_count": null,
   "metadata": {
    "colab": {
     "base_uri": "https://localhost:8080/",
     "height": 246
    },
    "colab_type": "code",
    "id": "okcrOC4YMEzd",
    "outputId": "77a15f1c-8e00-4bb4-e1a7-45e0efbf07a5"
   },
   "outputs": [
    {
     "name": "stdout",
     "output_type": "stream",
     "text": [
      "10\n"
     ]
    },
    {
     "ename": "NameError",
     "evalue": "ignored",
     "output_type": "error",
     "traceback": [
      "\u001b[0;31m---------------------------------------------------------------------------\u001b[0m",
      "\u001b[0;31mNameError\u001b[0m                                 Traceback (most recent call last)",
      "\u001b[0;32m<ipython-input-1-a3cb15b7df1c>\u001b[0m in \u001b[0;36m<module>\u001b[0;34m()\u001b[0m\n\u001b[1;32m      1\u001b[0m \u001b[0mx\u001b[0m \u001b[0;34m=\u001b[0m \u001b[0;36m10\u001b[0m\u001b[0;34m\u001b[0m\u001b[0;34m\u001b[0m\u001b[0m\n\u001b[1;32m      2\u001b[0m \u001b[0mprint\u001b[0m\u001b[0;34m(\u001b[0m\u001b[0mx\u001b[0m\u001b[0;34m)\u001b[0m\u001b[0;34m\u001b[0m\u001b[0;34m\u001b[0m\u001b[0m\n\u001b[0;32m----> 3\u001b[0;31m \u001b[0mprint\u001b[0m\u001b[0;34m(\u001b[0m\u001b[0my\u001b[0m\u001b[0;34m)\u001b[0m\u001b[0;34m\u001b[0m\u001b[0;34m\u001b[0m\u001b[0m\n\u001b[0m\u001b[1;32m      4\u001b[0m \u001b[0my\u001b[0m \u001b[0;34m=\u001b[0m \u001b[0;36m20\u001b[0m\u001b[0;34m\u001b[0m\u001b[0;34m\u001b[0m\u001b[0m\n\u001b[1;32m      5\u001b[0m \u001b[0mprint\u001b[0m\u001b[0;34m(\u001b[0m\u001b[0my\u001b[0m\u001b[0;34m)\u001b[0m\u001b[0;34m\u001b[0m\u001b[0;34m\u001b[0m\u001b[0m\n",
      "\u001b[0;31mNameError\u001b[0m: name 'y' is not defined"
     ]
    }
   ],
   "source": [
    "x = 10\n",
    "print(x)\n",
    "print(y) \n",
    "y = 20\n",
    "print(y)"
   ]
  },
  {
   "cell_type": "markdown",
   "metadata": {
    "colab_type": "text",
    "id": "TMA_8QDgJTT_"
   },
   "source": [
    "### Functions can see data declared in their module\n",
    "\n",
    "Functions have access to:\n",
    "\n",
    "- Any variables declared in their containing module \n",
    "\n",
    "- Any functions declared in their containing module \n",
    "\n",
    "- Any the publicly accessible content of any other imported modules\n"
   ]
  },
  {
   "cell_type": "code",
   "execution_count": null,
   "metadata": {
    "colab": {
     "base_uri": "https://localhost:8080/",
     "height": 51
    },
    "colab_type": "code",
    "id": "Yet5KT0aKSC5",
    "outputId": "77f8c575-e527-4bea-bacc-d0a4f03f61ae"
   },
   "outputs": [
    {
     "name": "stdout",
     "output_type": "stream",
     "text": [
      "print_vars() -> x:10, y:20\n",
      "module -> x:10\n"
     ]
    }
   ],
   "source": [
    "x = 10 # global variable accessible to all code of module and any module that imports it\n",
    "\n",
    "def print_vars():\n",
    "  \n",
    "    y = 20 # Local variable only accessible inside print_vars\n",
    "  \n",
    "    print(f\"print_vars() -> x:{x}, y:{y}\")\n",
    "\n",
    "print_vars()\n",
    "print(f\"module -> x:{x}\")\n",
    "#print(f\"module -> y:{y}\")"
   ]
  },
  {
   "cell_type": "markdown",
   "metadata": {
    "colab_type": "text",
    "id": "URaCMFPSKRMS"
   },
   "source": [
    "Try uncommenting the code line 11 and run it again. You should get an error because y isn't accessible from outside the function\n",
    "\n"
   ]
  },
  {
   "cell_type": "markdown",
   "metadata": {
    "colab_type": "text",
    "id": "9QwTTqdoMEel"
   },
   "source": [
    "### Local Scope\n",
    "\n"
   ]
  },
  {
   "cell_type": "markdown",
   "metadata": {
    "colab_type": "text",
    "id": "20257SpPMRuv"
   },
   "source": [
    "When you declare a variableit joins the local variables collection for that functions. You can actually see this happen by printing the locals() function. locals() returns a dictionary containing all variables in the local scope of the current contect (function or module)"
   ]
  },
  {
   "cell_type": "code",
   "execution_count": null,
   "metadata": {
    "colab": {
     "base_uri": "https://localhost:8080/",
     "height": 34
    },
    "colab_type": "code",
    "id": "P9X9H3DfMsX4",
    "outputId": "2dc4de03-d9eb-4b5c-c7fb-ea2029645771"
   },
   "outputs": [
    {
     "name": "stdout",
     "output_type": "stream",
     "text": [
      "{'y': 20}\n"
     ]
    }
   ],
   "source": [
    "x = 10\n",
    "def print_vars():\n",
    "  \n",
    "    y = 20 # Local variable only accessible inside print_vars\n",
    "  \n",
    "    print(locals())\n",
    "\n",
    "print_vars()\n"
   ]
  },
  {
   "cell_type": "markdown",
   "metadata": {
    "colab_type": "text",
    "id": "8aDuv3AZM8hJ"
   },
   "source": [
    "You could also print the globally defined variables which are the ones defined outside of the local scope"
   ]
  },
  {
   "cell_type": "code",
   "execution_count": null,
   "metadata": {
    "colab": {
     "base_uri": "https://localhost:8080/",
     "height": 71
    },
    "colab_type": "code",
    "id": "cN10N3N3NGMU",
    "outputId": "e886f831-05fb-4d79-bb8d-2d67c7155853"
   },
   "outputs": [
    {
     "name": "stdout",
     "output_type": "stream",
     "text": [
      "{'y': 20}\n",
      "{'__name__': '__main__', '__doc__': 'Automatically created module for IPython interactive environment', '__package__': None, '__loader__': None, '__spec__': None, '__builtin__': <module 'builtins' (built-in)>, '__builtins__': <module 'builtins' (built-in)>, '_ih': ['', 'x = 10\\nprint(x)\\nprint(y) \\ny = 20\\nprint(y)', 'x = 10\\n\\ndef print_vars():\\n  \\n    y = 20\\n  \\n    print(f\"x:{x}, y:{y}\")\\n\\nprint_vars()', 'x = 10 # global variable accessible to all code of module and any module that imports it\\n\\ndef print_vars():\\n  \\n    y = 20 # Local variable only accessible inside print_vars\\n  \\n    print(f\"print_vars -> x:{x}, y:{y}\")\\n\\nprint_vars()\\nprint(\"\")', 'x = 10 # global variable accessible to all code of module and any module that imports it\\n\\ndef print_vars():\\n  \\n    y = 20 # Local variable only accessible inside print_vars\\n  \\n    print(f\"print_vars() -> x:{x}, y:{y}\")\\n\\nprint_vars()\\nprint(f\"module -> x:{x}\")\\n#print(f\"module -> y:{y}\")', 'x = 10\\ndef print_vars():\\n  \\n    y = 20 # Local variable only accessible inside print_vars\\n  \\n    print(locals())\\n\\nprint_vars()', 'x = 10\\ndef print_vars():\\n  \\n    y = 20 # Local variable only accessible inside print_vars\\n  \\n    print(locals())\\n    print(globals())\\n    \\n\\nprint_vars()', 'x = 10\\ndef print_vars():\\n  \\n    y = 20 # Local variable only accessible inside print_vars\\n  \\n    print(locals())\\n    print(globals()[\"x\"])\\n    \\n\\nprint_vars()', 'x = 10\\ndef print_vars():\\n  \\n    y = 20 # Local variable only accessible inside print_vars\\n  \\n    print(locals())\\n    print(globals())\\n    \\n\\nprint_vars()', 'x = 10\\ndef print_vars():\\n  \\n    y = 20 # Local variable only accessible inside print_vars\\n  \\n    print(locals())\\n    print(globals())\\n    \\n\\nprint_vars()'], '_oh': {}, '_dh': ['/content'], '_sh': <module 'IPython.core.shadowns' from '/usr/local/lib/python3.6/dist-packages/IPython/core/shadowns.py'>, 'In': ['', 'x = 10\\nprint(x)\\nprint(y) \\ny = 20\\nprint(y)', 'x = 10\\n\\ndef print_vars():\\n  \\n    y = 20\\n  \\n    print(f\"x:{x}, y:{y}\")\\n\\nprint_vars()', 'x = 10 # global variable accessible to all code of module and any module that imports it\\n\\ndef print_vars():\\n  \\n    y = 20 # Local variable only accessible inside print_vars\\n  \\n    print(f\"print_vars -> x:{x}, y:{y}\")\\n\\nprint_vars()\\nprint(\"\")', 'x = 10 # global variable accessible to all code of module and any module that imports it\\n\\ndef print_vars():\\n  \\n    y = 20 # Local variable only accessible inside print_vars\\n  \\n    print(f\"print_vars() -> x:{x}, y:{y}\")\\n\\nprint_vars()\\nprint(f\"module -> x:{x}\")\\n#print(f\"module -> y:{y}\")', 'x = 10\\ndef print_vars():\\n  \\n    y = 20 # Local variable only accessible inside print_vars\\n  \\n    print(locals())\\n\\nprint_vars()', 'x = 10\\ndef print_vars():\\n  \\n    y = 20 # Local variable only accessible inside print_vars\\n  \\n    print(locals())\\n    print(globals())\\n    \\n\\nprint_vars()', 'x = 10\\ndef print_vars():\\n  \\n    y = 20 # Local variable only accessible inside print_vars\\n  \\n    print(locals())\\n    print(globals()[\"x\"])\\n    \\n\\nprint_vars()', 'x = 10\\ndef print_vars():\\n  \\n    y = 20 # Local variable only accessible inside print_vars\\n  \\n    print(locals())\\n    print(globals())\\n    \\n\\nprint_vars()', 'x = 10\\ndef print_vars():\\n  \\n    y = 20 # Local variable only accessible inside print_vars\\n  \\n    print(locals())\\n    print(globals())\\n    \\n\\nprint_vars()'], 'Out': {}, 'get_ipython': <bound method InteractiveShell.get_ipython of <google.colab._shell.Shell object at 0x7f29ab57f240>>, 'exit': <IPython.core.autocall.ZMQExitAutocall object at 0x7f29ab3416d8>, 'quit': <IPython.core.autocall.ZMQExitAutocall object at 0x7f29ab3416d8>, '_': '', '__': '', '___': '', '_i': 'x = 10\\ndef print_vars():\\n  \\n    y = 20 # Local variable only accessible inside print_vars\\n  \\n    print(locals())\\n    print(globals())\\n    \\n\\nprint_vars()', '_ii': 'x = 10\\ndef print_vars():\\n  \\n    y = 20 # Local variable only accessible inside print_vars\\n  \\n    print(locals())\\n    print(globals()[\"x\"])\\n    \\n\\nprint_vars()', '_iii': 'x = 10\\ndef print_vars():\\n  \\n    y = 20 # Local variable only accessible inside print_vars\\n  \\n    print(locals())\\n    print(globals())\\n    \\n\\nprint_vars()', '_i1': 'x = 10\\nprint(x)\\nprint(y) \\ny = 20\\nprint(y)', 'x': 10, '_i2': 'x = 10\\n\\ndef print_vars():\\n  \\n    y = 20\\n  \\n    print(f\"x:{x}, y:{y}\")\\n\\nprint_vars()', 'print_vars': <function print_vars at 0x7f2995cc61e0>, '_i3': 'x = 10 # global variable accessible to all code of module and any module that imports it\\n\\ndef print_vars():\\n  \\n    y = 20 # Local variable only accessible inside print_vars\\n  \\n    print(f\"print_vars -> x:{x}, y:{y}\")\\n\\nprint_vars()\\nprint(\"\")', '_i4': 'x = 10 # global variable accessible to all code of module and any module that imports it\\n\\ndef print_vars():\\n  \\n    y = 20 # Local variable only accessible inside print_vars\\n  \\n    print(f\"print_vars() -> x:{x}, y:{y}\")\\n\\nprint_vars()\\nprint(f\"module -> x:{x}\")\\n#print(f\"module -> y:{y}\")', '_i5': 'x = 10\\ndef print_vars():\\n  \\n    y = 20 # Local variable only accessible inside print_vars\\n  \\n    print(locals())\\n\\nprint_vars()', '_i6': 'x = 10\\ndef print_vars():\\n  \\n    y = 20 # Local variable only accessible inside print_vars\\n  \\n    print(locals())\\n    print(globals())\\n    \\n\\nprint_vars()', '_i7': 'x = 10\\ndef print_vars():\\n  \\n    y = 20 # Local variable only accessible inside print_vars\\n  \\n    print(locals())\\n    print(globals()[\"x\"])\\n    \\n\\nprint_vars()', '_i8': 'x = 10\\ndef print_vars():\\n  \\n    y = 20 # Local variable only accessible inside print_vars\\n  \\n    print(locals())\\n    print(globals())\\n    \\n\\nprint_vars()', '_i9': 'x = 10\\ndef print_vars():\\n  \\n    y = 20 # Local variable only accessible inside print_vars\\n  \\n    print(locals())\\n    print(globals())\\n    \\n\\nprint_vars()'}\n"
     ]
    }
   ],
   "source": [
    "x = 10\n",
    "def print_vars():\n",
    "  \n",
    "    y = 20 # Local variable only accessible inside print_vars\n",
    "  \n",
    "    print(locals())\n",
    "    print(globals())\n",
    "    \n",
    "\n",
    "print_vars()\n"
   ]
  },
  {
   "cell_type": "markdown",
   "metadata": {
    "colab_type": "text",
    "id": "SSmT9V6kOZde"
   },
   "source": [
    "If you look hard enough you will see x is a dictionary item defined inside the globals() dictionary.\n",
    "\n",
    "If you declare a variable at the module level it joins globals() \n",
    "\n",
    "Declare a variables within a function and it joins the locals() for that function and is only acessible inside the function."
   ]
  },
  {
   "cell_type": "markdown",
   "metadata": {
    "colab_type": "text",
    "id": "gfn4En8zPUQV"
   },
   "source": [
    "### We always create local function variables, unless ...\n",
    "\n",
    "Variables assigned to inside functions are always created as new local variables \n"
   ]
  },
  {
   "cell_type": "code",
   "execution_count": null,
   "metadata": {
    "colab": {
     "base_uri": "https://localhost:8080/",
     "height": 51
    },
    "colab_type": "code",
    "id": "vhgrR_TE4vxX",
    "outputId": "fa74d9c2-055d-4319-8623-56cec69bdf60"
   },
   "outputs": [
    {
     "name": "stdout",
     "output_type": "stream",
     "text": [
      "{'y': 20, 'x': 99}\n",
      "Global x is 10\n"
     ]
    }
   ],
   "source": [
    "x = 10\n",
    "def print_vars():\n",
    "  \n",
    "    x = 99 # Creates a new local x variable as wel as the global x variable \n",
    "    y = 20 # Local variable only accessible inside print_vars\n",
    "  \n",
    "    print(locals())\n",
    "    \n",
    "\n",
    "print_vars()\n",
    "print(f\"Global x is {x}\")\n"
   ]
  },
  {
   "cell_type": "markdown",
   "metadata": {
    "colab_type": "text",
    "id": "w2LFZbPu8whX"
   },
   "source": [
    "To allow a function to update a global variable you must declare the variable **global** inside the function"
   ]
  },
  {
   "cell_type": "code",
   "execution_count": null,
   "metadata": {
    "colab": {
     "base_uri": "https://localhost:8080/",
     "height": 51
    },
    "colab_type": "code",
    "id": "w05xnid78_JX",
    "outputId": "c7eea197-35d5-4fca-83a9-2a72d2b862e8"
   },
   "outputs": [
    {
     "name": "stdout",
     "output_type": "stream",
     "text": [
      "{'y': 20}\n",
      "Global x is 99\n"
     ]
    }
   ],
   "source": [
    "x = 10\n",
    "def print_vars():\n",
    "    global x\n",
    "    x = 99 # Creates a new local x variable as wel as the global x variable \n",
    "    y = 20 # Local variable only accessible inside print_vars\n",
    "  \n",
    "    print(locals())\n",
    "    \n",
    "\n",
    "print_vars()\n",
    "print(f\"Global x is {x}\")\n"
   ]
  },
  {
   "cell_type": "markdown",
   "metadata": {
    "colab_type": "text",
    "id": "mZlUeuqMNB6i"
   },
   "source": [
    "## Functions and Variables\n",
    "\n",
    "If you print a function's usin just its name (withoy parantheses) it will display the name of the function and its address.\n",
    "\n"
   ]
  },
  {
   "cell_type": "code",
   "execution_count": null,
   "metadata": {
    "colab": {
     "base_uri": "https://localhost:8080/",
     "height": 51
    },
    "colab_type": "code",
    "id": "34uCkZ0TcLYg",
    "outputId": "194003f0-430c-4293-8b55-b30932e2a429"
   },
   "outputs": [
    {
     "name": "stdout",
     "output_type": "stream",
     "text": [
      "Hello World\n",
      "<function say_hello at 0x7f260be9ca60>\n"
     ]
    }
   ],
   "source": [
    "def say_hello():\n",
    "  print(\"Hello World\")\n",
    "\n",
    "say_hello()\n",
    "print(say_hello)"
   ]
  },
  {
   "cell_type": "markdown",
   "metadata": {
    "colab_type": "text",
    "id": "U4woHl4Vc4FE"
   },
   "source": [
    "A function's name is essentially just a refernce to the function code and parameter list.\n",
    "\n",
    "Assigning a function name to another variable creates an alias for that function"
   ]
  },
  {
   "cell_type": "code",
   "execution_count": null,
   "metadata": {
    "colab": {
     "base_uri": "https://localhost:8080/",
     "height": 34
    },
    "colab_type": "code",
    "id": "IzqWgl58dHN9",
    "outputId": "58611ec4-3352-4330-faab-0bad7d75bb3c"
   },
   "outputs": [
    {
     "name": "stdout",
     "output_type": "stream",
     "text": [
      "Hello World\n"
     ]
    }
   ],
   "source": [
    "def say_hello():\n",
    "  print(\"Hello World\")\n",
    "\n",
    "zzz = say_hello\n",
    "zzz() # You can invoke the function via its aliased reference"
   ]
  },
  {
   "cell_type": "markdown",
   "metadata": {
    "colab_type": "text",
    "id": "Auu7a_nndh1z"
   },
   "source": [
    "Because you can access a function via a reference variable you can pass function to ther functions.\n",
    "\n",
    "Below a list of data and the **add** function is passed into the **do_math** function. **do_math** then performs the math operation **add** on the list without actually knowing what kind of operatiion it is .\n",
    "\n",
    "Try changing the code to make **do_math** use the **multiply** instead of the **add**\n"
   ]
  },
  {
   "cell_type": "code",
   "execution_count": null,
   "metadata": {
    "colab": {
     "base_uri": "https://localhost:8080/",
     "height": 68
    },
    "colab_type": "code",
    "id": "4VKo6DHJdt8Z",
    "outputId": "24b6e00d-2bef-4820-8524-62268534292e"
   },
   "outputs": [
    {
     "name": "stdout",
     "output_type": "stream",
     "text": [
      "12\n",
      "22\n",
      "32\n"
     ]
    }
   ],
   "source": [
    "def do_math(data, operation):\n",
    "  for value in data:\n",
    "    result = operation(value, 2)\n",
    "    print(result)\n",
    "\n",
    "def add(p1, p2):\n",
    "  return p1 + p2\n",
    "\n",
    "def multiply(p1, p2):\n",
    "  return p1 * p2\n",
    "\n",
    "do_math([10, 20, 30], add)"
   ]
  },
  {
   "cell_type": "markdown",
   "metadata": {
    "colab_type": "text",
    "id": "h8cXzxFK4vG8"
   },
   "source": [
    "## Lambda Expressions\n",
    "\n",
    "Lambda expressions are essentially very concise functions. The **add** function could be rewritten as a lambda using the following syntax\n",
    "\n",
    "\n",
    "\n"
   ]
  },
  {
   "cell_type": "code",
   "execution_count": null,
   "metadata": {
    "colab": {
     "base_uri": "https://localhost:8080/",
     "height": 34
    },
    "colab_type": "code",
    "id": "ePoUBeBHua0e",
    "outputId": "512ed6d2-1bea-4567-a15b-423c3f0ab4d4"
   },
   "outputs": [
    {
     "data": {
      "text/plain": [
       "12"
      ]
     },
     "execution_count": 3,
     "metadata": {
      "tags": []
     },
     "output_type": "execute_result"
    }
   ],
   "source": [
    "add = lambda p1, p2: p1 + p2\n",
    "add(10, 2)\n"
   ]
  },
  {
   "cell_type": "markdown",
   "metadata": {
    "colab_type": "text",
    "id": "YqIPJs75uoOC"
   },
   "source": [
    "The \n",
    "\n",
    "```\n",
    "lambda p1, p2: p1 + p2 \n",
    "```\n",
    "could be passed directly to **do_math**. Notice how the lambda doesn't require a **return** statement which is implicit\n",
    "\n",
    "The code block above could be rewritten using a lambda as:"
   ]
  },
  {
   "cell_type": "code",
   "execution_count": null,
   "metadata": {
    "colab": {
     "base_uri": "https://localhost:8080/",
     "height": 68
    },
    "colab_type": "code",
    "id": "zZ_vfvu_5M7_",
    "outputId": "e0404e76-c833-4920-e779-91aeda14d452"
   },
   "outputs": [
    {
     "name": "stdout",
     "output_type": "stream",
     "text": [
      "12\n",
      "22\n",
      "32\n"
     ]
    }
   ],
   "source": [
    "def do_math(data, operation):\n",
    "  for value in data:\n",
    "    result = operation(value, 2)\n",
    "    print(result)\n",
    "\n",
    "do_math([10, 20, 30], lambda p1, p2: p1+p2)"
   ]
  },
  {
   "cell_type": "markdown",
   "metadata": {
    "colab_type": "text",
    "id": "TJ9om9c_59f_"
   },
   "source": [
    "## Nested Functions\n",
    "\n",
    "Functions can be nested inside of each other alowing a much reduced data scope to be produced.\n",
    "\n"
   ]
  },
  {
   "cell_type": "code",
   "execution_count": null,
   "metadata": {
    "colab": {
     "base_uri": "https://localhost:8080/",
     "height": 34
    },
    "colab_type": "code",
    "id": "HQk28D3l6QYf",
    "outputId": "b8e14f20-e846-45d9-9d58-a5979ba2a1d3"
   },
   "outputs": [
    {
     "name": "stdout",
     "output_type": "stream",
     "text": [
      "1\n"
     ]
    }
   ],
   "source": [
    "def outer_func():\n",
    "  \n",
    "  count = 1\n",
    "  \n",
    "  def inner_func():\n",
    "    print(count)\n",
    "  \n",
    "  inner_func()\n",
    "\n",
    "outer_func()"
   ]
  },
  {
   "cell_type": "markdown",
   "metadata": {
    "colab_type": "text",
    "id": "9PvBpZ9E6txT"
   },
   "source": [
    "The count variable in the outer function can be accessed by the inner function. Functions can always see into their parent scope\n",
    "\n",
    "Variables declared in inner_func are only accessible there."
   ]
  },
  {
   "cell_type": "markdown",
   "metadata": {
    "colab_type": "text",
    "id": "4eW41wlLYNVG"
   },
   "source": [
    "### Non Local Nested Function Variables\n",
    "\n",
    "To update variables defined in an outer function from an inner function you must declare them as nonlocal rather thann global"
   ]
  },
  {
   "cell_type": "code",
   "execution_count": null,
   "metadata": {
    "colab": {
     "base_uri": "https://localhost:8080/",
     "height": 34
    },
    "colab_type": "code",
    "id": "AIEcXUOBYfvh",
    "outputId": "23420883-4935-4977-bac7-1a978ee53d29"
   },
   "outputs": [
    {
     "name": "stdout",
     "output_type": "stream",
     "text": [
      "2\n"
     ]
    }
   ],
   "source": [
    "def outer_func():\n",
    "  \n",
    "  count = 1\n",
    "  \n",
    "  def inner_func():\n",
    "    nonlocal count\n",
    "    count += 1\n",
    "    print(count)\n",
    "  \n",
    "  inner_func()\n",
    "\n",
    "outer_func()"
   ]
  },
  {
   "cell_type": "markdown",
   "metadata": {
    "colab_type": "text",
    "id": "IYGB086gY5JQ"
   },
   "source": [
    "### Closures\n",
    "\n",
    "The scope created by a nested function can be retained by passing an internal refernce held within the function outside of the function\n"
   ]
  },
  {
   "cell_type": "code",
   "execution_count": null,
   "metadata": {
    "colab": {
     "base_uri": "https://localhost:8080/",
     "height": 68
    },
    "colab_type": "code",
    "id": "Jq5oxE0EZK7F",
    "outputId": "0387d55b-1a3e-4e53-b79b-f118e0394359"
   },
   "outputs": [
    {
     "name": "stdout",
     "output_type": "stream",
     "text": [
      "2\n",
      "3\n",
      "4\n"
     ]
    }
   ],
   "source": [
    "def outer_func():\n",
    "  \n",
    "  count = 1\n",
    "  \n",
    "  def inner_func():\n",
    "    nonlocal count\n",
    "    count += 1\n",
    "    print(count)\n",
    "  \n",
    "  return inner_func\n",
    "\n",
    "counter = outer_func()\n",
    "counter()\n",
    "counter()\n",
    "counter()\n"
   ]
  },
  {
   "cell_type": "markdown",
   "metadata": {
    "colab_type": "text",
    "id": "QLuB9WHXZi7N"
   },
   "source": [
    "Above a reference to the inner function is passed outside and assigned to the the **counter** variable. That makes the **counter** variable a reference variable pointing to the **inner_func** function. The counter variable can therefore be used to invoke the inner function by just running **counter()**. The variable state of outer_func is kept alive between calls to **inner_func**"
   ]
  }
 ],
 "metadata": {
  "kernelspec": {
   "display_name": "Python 3",
   "language": "python",
   "name": "python3"
  },
  "language_info": {
   "codemirror_mode": {
    "name": "ipython",
    "version": 3
   },
   "file_extension": ".py",
   "mimetype": "text/x-python",
   "name": "python",
   "nbconvert_exporter": "python",
   "pygments_lexer": "ipython3",
   "version": "3.8.4"
  }
 },
 "nbformat": 4,
 "nbformat_minor": 4
}
