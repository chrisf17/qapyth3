{
 "cells": [
  {
   "cell_type": "markdown",
   "metadata": {},
   "source": [
    "# Controlling the Flow of Execution\n",
    "\n",
    "\n",
    "## Quick Lab 1\n",
    "\n",
    "In this lab you are going to capture a pin number an compare it to as master pin\n",
    "\n",
    "### To Do\n",
    "* Ask the user for their pin number\n",
    "* Write an if statement that compares the pin number with the master pin\n",
    "* if the pin number is the same then print \"Access Granted\"\n",
    "* Otherwise print Access Denied\n"
   ]
  },
  {
   "cell_type": "code",
   "execution_count": null,
   "metadata": {},
   "outputs": [],
   "source": [
    "master_pin = \"1234\"\n",
    "pin = None\n",
    "\n",
    "# Asks user for their pin number "
   ]
  },
  {
   "cell_type": "markdown",
   "metadata": {},
   "source": [
    "## Quick Lab 2\n",
    "\n",
    "We will now use a while loop to allow the user to have multiple attempts to enter their pin number\n",
    "\n",
    "### To Do 1\n",
    "\n",
    "* Use a while loop to continually ask for the pin\n",
    "* Exit the while when the pin has been entered successfully\n",
    "\n"
   ]
  },
  {
   "cell_type": "code",
   "execution_count": null,
   "metadata": {},
   "outputs": [],
   "source": [
    "master_pin = \"1234\"\n",
    "pin = None\n",
    "\n",
    "\n",
    "# write a while loop to continually ask for the pin\n",
    "\n",
    "# Asks user for their pin number \n",
    "pin = input(\"Enter your pin:\")\n"
   ]
  },
  {
   "cell_type": "markdown",
   "metadata": {},
   "source": [
    "### To Do 2\n",
    "\n",
    "* Use a while loop to allow just three attempts\n",
    "* if the user has had three unsuccessful attempts then print \"Account Locked\"\n"
   ]
  },
  {
   "cell_type": "code",
   "execution_count": null,
   "metadata": {},
   "outputs": [],
   "source": [
    "master_pin = \"1234\"\n",
    "pin = None\n",
    "attempts = 0 \n",
    "\n",
    "# write a while loop to allow three attempts for the use to enter a valid pin\n",
    "# Asks user for their pin number \n",
    "pin = input(\"Enter your pin:\")\n"
   ]
  },
  {
   "cell_type": "markdown",
   "metadata": {},
   "source": [
    "## Quick Lab 3\n",
    "\n",
    "Lists are varaibles that contain multiple values. Here is a list of names.\n",
    "\n",
    "```\n",
    "names = [\"Fred\", \"Amy\", \"Beth\"]\n",
    "```\n",
    "We can access each element in a list using indexes.\n",
    "```\n",
    ">>> names[0]\n",
    "'Fred'\n",
    "```\n",
    "We can also use for loops to process each element in a list. That's what this lab ia about.\n",
    "\n",
    "### To Do 1\n",
    "\n",
    "* Print all of the titles\n",
    "* Print all of the years\n",
    "* Print all of the directors\n"
   ]
  },
  {
   "cell_type": "code",
   "execution_count": null,
   "metadata": {},
   "outputs": [],
   "source": [
    "titles = [\"Star Wars\", \"Jaws\", \"Jurassic Park\", \"Vanilla Sky\"]\n",
    "years = [1977, 1975, 1993, 2002]\n",
    "directors = [\"George Lucas\", \"Steven Speilberg\", \"Steven Spielberg\", \"Cameron Crowe\"]"
   ]
  },
  {
   "cell_type": "markdown",
   "metadata": {},
   "source": [
    "### To Do 2 \n",
    "\n",
    "All of the movie details are spread accross each of the lists.\n",
    "Star Wars was released in 1977 and directed by George Lucase (All at index position 0 in their lists)\n",
    "* Using one for loop print all movie details using an range function\n"
   ]
  },
  {
   "cell_type": "code",
   "execution_count": null,
   "metadata": {},
   "outputs": [],
   "source": [
    "titles = [\"Star Wars\", \"Jaws\", \"Jurassic Park\", \"Vanilla Sky\"]\n",
    "years = [1977, 1975, 1993, 2002]\n",
    "directors = [\"George Lucas\", \"Steven Speilberg\", \"Steven Spielberg\", \"Cameron Crowe\"]\n",
    "    "
   ]
  },
  {
   "cell_type": "markdown",
   "metadata": {},
   "source": [
    "### To Do 3\n",
    "Try the same code with the data below"
   ]
  },
  {
   "cell_type": "code",
   "execution_count": null,
   "metadata": {},
   "outputs": [],
   "source": [
    "titles = [\"Star Wars\", \"Jaws\", \"Jurassic Park\", \"Vanilla Sky\"]\n",
    "years = [1977, 1975, 1993]\n",
    "directors = [\"George Lucas\", \"Steven Speilberg\", \"Steven Spielberg\", \"Cameron Crowe\"]\n"
   ]
  },
  {
   "cell_type": "markdown",
   "metadata": {},
   "source": [
    "### To Do 4\n",
    "Now use the **zip** method to zip the three lists together"
   ]
  },
  {
   "cell_type": "code",
   "execution_count": null,
   "metadata": {},
   "outputs": [],
   "source": [
    "titles = [\"Star Wars\", \"Jaws\", \"Jurassic Park\", \"Vanilla Sky\"]\n",
    "years = [1977, 1975, 1993]\n",
    "directors = [\"George Lucas\", \"Steven Speilberg\", \"Steven Spielberg\", \"Cameron Crowe\"]\n",
    "\n"
   ]
  },
  {
   "cell_type": "markdown",
   "metadata": {},
   "source": [
    "### To Do 5\n",
    "* Alter the for loop to use the **enumerate** function\n",
    "* Print then update all of the titles to upper case\n",
    "\n",
    "Result should be:\n",
    "\n",
    "```\n",
    "Star Wars\n",
    "Jaws\n",
    "Jurassic Park\n",
    "Vanilla Sky\n",
    "['STAR WARS', 'JAWS', 'JURASSIC PARK', 'VANILLA SKY']\n",
    "```"
   ]
  },
  {
   "cell_type": "code",
   "execution_count": null,
   "metadata": {},
   "outputs": [],
   "source": [
    "titles = [\"Star Wars\", \"Jaws\", \"Jurassic Park\", \"Vanilla Sky\"]\n",
    "\n",
    "for title in titles:\n",
    "    print(title)\n",
    "\n",
    "print(titles)\n"
   ]
  },
  {
   "cell_type": "markdown",
   "metadata": {},
   "source": [
    "## Quick Lab 4\n",
    "\n",
    "In this lab you will use a for loop to search a list of movies.\n"
   ]
  },
  {
   "cell_type": "markdown",
   "metadata": {},
   "source": [
    "### Things to know\n",
    "You can use the **in** operator on a string to test if one string is contained inside another"
   ]
  },
  {
   "cell_type": "code",
   "execution_count": 3,
   "metadata": {},
   "outputs": [
    {
     "name": "stdout",
     "output_type": "stream",
     "text": [
      "No Match\n"
     ]
    }
   ],
   "source": [
    "if \"Tam\" in \"My name is Beth\":\n",
    "    print(\"Match\")\n",
    "else:\n",
    "    print(\"No Match\")\n"
   ]
  },
  {
   "cell_type": "markdown",
   "metadata": {},
   "source": [
    "### To Do 1\n",
    "\n",
    "* Write a for loop to search for the found_movie_text in the top5 list\n",
    "* if assign matching movie title to **found_movie** and finish executing the loop\n",
    "* Print **found_movie**"
   ]
  },
  {
   "cell_type": "code",
   "execution_count": null,
   "metadata": {},
   "outputs": [],
   "source": [
    "top5 = [\"Star Wars\", \"Legally Blonde\"] # Add and change please!\n",
    "search_text = input(\"Enter partial movie title to search for:\")\n",
    "found_movie_title = None\n",
    "\n"
   ]
  }
 ],
 "metadata": {
  "kernelspec": {
   "display_name": "Python 3",
   "language": "python",
   "name": "python3"
  },
  "language_info": {
   "codemirror_mode": {
    "name": "ipython",
    "version": 3
   },
   "file_extension": ".py",
   "mimetype": "text/x-python",
   "name": "python",
   "nbconvert_exporter": "python",
   "pygments_lexer": "ipython3",
   "version": "3.7.4"
  }
 },
 "nbformat": 4,
 "nbformat_minor": 4
}
