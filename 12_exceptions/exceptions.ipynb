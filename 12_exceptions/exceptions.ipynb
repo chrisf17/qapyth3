{
 "cells": [
  {
   "cell_type": "markdown",
   "metadata": {},
   "source": [
    "# Error Handling and Exceptions - QuickLab\n",
    "\n",
    "Before you start the QuickLab you might want to look at the section tutorial below.\n",
    "\n",
    "Even the best coder is gonna have to content with errors. So let's get to it in this very quick QuickLab. After you finish this move on to the challenges.\n",
    "\n",
    "## (VERY) QuickLab\n",
    "\n",
    "1. Stop the following code erroring when the user enter alpha text\n",
    "    * Make sure you catch a ValueError\n",
    "    * Print a meaningful message\n",
    "    * Also print the actual error message\n",
    "2. In PyCharm try the challenges"
   ]
  },
  {
   "cell_type": "code",
   "execution_count": 5,
   "metadata": {},
   "outputs": [
    {
     "name": "stdin",
     "output_type": "stream",
     "text": [
      "What is your age? ddd\n"
     ]
    },
    {
     "ename": "ValueError",
     "evalue": "invalid literal for int() with base 10: 'ddd'",
     "output_type": "error",
     "traceback": [
      "\u001b[0;31m---------------------------------------------------------------------------\u001b[0m",
      "\u001b[0;31mValueError\u001b[0m                                Traceback (most recent call last)",
      "\u001b[0;32m<ipython-input-5-11668ea156db>\u001b[0m in \u001b[0;36m<module>\u001b[0;34m\u001b[0m\n\u001b[0;32m----> 1\u001b[0;31m \u001b[0mage\u001b[0m \u001b[0;34m=\u001b[0m \u001b[0mint\u001b[0m\u001b[0;34m(\u001b[0m\u001b[0minput\u001b[0m\u001b[0;34m(\u001b[0m\u001b[0;34m\"What is your age?\"\u001b[0m\u001b[0;34m)\u001b[0m\u001b[0;34m)\u001b[0m\u001b[0;34m\u001b[0m\u001b[0;34m\u001b[0m\u001b[0m\n\u001b[0m\u001b[1;32m      2\u001b[0m \u001b[0mprint\u001b[0m\u001b[0;34m(\u001b[0m\u001b[0;34mf\"In ten years time you will be {age + 10}\"\u001b[0m\u001b[0;34m)\u001b[0m\u001b[0;34m\u001b[0m\u001b[0;34m\u001b[0m\u001b[0m\n",
      "\u001b[0;31mValueError\u001b[0m: invalid literal for int() with base 10: 'ddd'"
     ]
    }
   ],
   "source": [
    "age = int(input(\"What is your age?\"))\n",
    "print(f\"In ten years time you will be {age + 10}\")"
   ]
  },
  {
   "cell_type": "markdown",
   "metadata": {
    "colab_type": "text",
    "id": "vlvUFP9MEYpi"
   },
   "source": [
    "# Error Handling and Exceptions Tutorial\n",
    "\n",
    "---\n",
    "\n"
   ]
  },
  {
   "cell_type": "markdown",
   "metadata": {
    "colab_type": "text",
    "id": "nDykPALqxkhO"
   },
   "source": [
    "When an error occurs in the Python script and execption object is created that is propagated from the current function/script up through the hierrarchy of function calls until eventually the script crashes.\n",
    "\n",
    "The only way to stop the script crashing when an exception occurs is to catch the exception object and deal with the problem. This allows the normal flow of execution to resume.\n",
    "\n",
    "In Python we use:\n",
    "\n",
    "\n",
    "\n",
    "```\n",
    "try:\n",
    "    # Execute some code that might fail\n",
    "except <Exception Type>:\n",
    "    # Deal with Exception in here when it occurs\n",
    "else:\n",
    "    # Executes If an exception doesn't occur\n",
    "finally:\n",
    "    # Always executes even if there is an exception\n",
    "```\n",
    "\n",
    "### Look at the code below\n",
    "\n",
    "Why does it cause an exception?\n",
    "\n",
    "Notice the \"After call to f1\" isn't printed. That's because an unhandled exception terminates the script.\n"
   ]
  },
  {
   "cell_type": "code",
   "execution_count": null,
   "metadata": {
    "colab": {
     "base_uri": "https://localhost:8080/",
     "height": 375
    },
    "colab_type": "code",
    "id": "3bcOvzMLERWs",
    "outputId": "cd70d0f7-d65f-4e89-b198-d2e60b32a7f0"
   },
   "outputs": [
    {
     "name": "stdout",
     "output_type": "stream",
     "text": [
      "Before Call to f1\n"
     ]
    },
    {
     "ename": "ZeroDivisionError",
     "evalue": "ignored",
     "output_type": "error",
     "traceback": [
      "\u001b[0;31m---------------------------------------------------------------------------\u001b[0m",
      "\u001b[0;31mZeroDivisionError\u001b[0m                         Traceback (most recent call last)",
      "\u001b[0;32m<ipython-input-6-c3fcd8fc5c71>\u001b[0m in \u001b[0;36m<module>\u001b[0;34m()\u001b[0m\n\u001b[1;32m      5\u001b[0m     \u001b[0mf2\u001b[0m\u001b[0;34m(\u001b[0m\u001b[0;36m0\u001b[0m\u001b[0;34m)\u001b[0m\u001b[0;34m\u001b[0m\u001b[0;34m\u001b[0m\u001b[0m\n\u001b[1;32m      6\u001b[0m \u001b[0mprint\u001b[0m\u001b[0;34m(\u001b[0m\u001b[0;34m\"Before Call to f1\"\u001b[0m\u001b[0;34m)\u001b[0m\u001b[0;34m\u001b[0m\u001b[0;34m\u001b[0m\u001b[0m\n\u001b[0;32m----> 7\u001b[0;31m \u001b[0mf1\u001b[0m\u001b[0;34m(\u001b[0m\u001b[0;34m)\u001b[0m\u001b[0;34m\u001b[0m\u001b[0;34m\u001b[0m\u001b[0m\n\u001b[0m\u001b[1;32m      8\u001b[0m \u001b[0mprint\u001b[0m\u001b[0;34m(\u001b[0m\u001b[0;34m\"After Call to f1\"\u001b[0m\u001b[0;34m)\u001b[0m\u001b[0;34m\u001b[0m\u001b[0;34m\u001b[0m\u001b[0m\n",
      "\u001b[0;32m<ipython-input-6-c3fcd8fc5c71>\u001b[0m in \u001b[0;36mf1\u001b[0;34m()\u001b[0m\n\u001b[1;32m      3\u001b[0m     \u001b[0;32mreturn\u001b[0m \u001b[0mresult\u001b[0m\u001b[0;34m\u001b[0m\u001b[0;34m\u001b[0m\u001b[0m\n\u001b[1;32m      4\u001b[0m \u001b[0;32mdef\u001b[0m \u001b[0mf1\u001b[0m\u001b[0;34m(\u001b[0m\u001b[0;34m)\u001b[0m\u001b[0;34m:\u001b[0m\u001b[0;34m\u001b[0m\u001b[0;34m\u001b[0m\u001b[0m\n\u001b[0;32m----> 5\u001b[0;31m     \u001b[0mf2\u001b[0m\u001b[0;34m(\u001b[0m\u001b[0;36m0\u001b[0m\u001b[0;34m)\u001b[0m\u001b[0;34m\u001b[0m\u001b[0;34m\u001b[0m\u001b[0m\n\u001b[0m\u001b[1;32m      6\u001b[0m \u001b[0mprint\u001b[0m\u001b[0;34m(\u001b[0m\u001b[0;34m\"Before Call to f1\"\u001b[0m\u001b[0;34m)\u001b[0m\u001b[0;34m\u001b[0m\u001b[0;34m\u001b[0m\u001b[0m\n\u001b[1;32m      7\u001b[0m \u001b[0mf1\u001b[0m\u001b[0;34m(\u001b[0m\u001b[0;34m)\u001b[0m\u001b[0;34m\u001b[0m\u001b[0;34m\u001b[0m\u001b[0m\n",
      "\u001b[0;32m<ipython-input-6-c3fcd8fc5c71>\u001b[0m in \u001b[0;36mf2\u001b[0;34m(divisor)\u001b[0m\n\u001b[1;32m      1\u001b[0m \u001b[0;32mdef\u001b[0m \u001b[0mf2\u001b[0m\u001b[0;34m(\u001b[0m\u001b[0mdivisor\u001b[0m\u001b[0;34m)\u001b[0m\u001b[0;34m:\u001b[0m\u001b[0;34m\u001b[0m\u001b[0;34m\u001b[0m\u001b[0m\n\u001b[0;32m----> 2\u001b[0;31m     \u001b[0mresult\u001b[0m \u001b[0;34m=\u001b[0m \u001b[0;36m10\u001b[0m \u001b[0;34m/\u001b[0m \u001b[0mdivisor\u001b[0m\u001b[0;34m\u001b[0m\u001b[0;34m\u001b[0m\u001b[0m\n\u001b[0m\u001b[1;32m      3\u001b[0m     \u001b[0;32mreturn\u001b[0m \u001b[0mresult\u001b[0m\u001b[0;34m\u001b[0m\u001b[0;34m\u001b[0m\u001b[0m\n\u001b[1;32m      4\u001b[0m \u001b[0;32mdef\u001b[0m \u001b[0mf1\u001b[0m\u001b[0;34m(\u001b[0m\u001b[0;34m)\u001b[0m\u001b[0;34m:\u001b[0m\u001b[0;34m\u001b[0m\u001b[0;34m\u001b[0m\u001b[0m\n\u001b[1;32m      5\u001b[0m     \u001b[0mf2\u001b[0m\u001b[0;34m(\u001b[0m\u001b[0;36m0\u001b[0m\u001b[0;34m)\u001b[0m\u001b[0;34m\u001b[0m\u001b[0;34m\u001b[0m\u001b[0m\n",
      "\u001b[0;31mZeroDivisionError\u001b[0m: division by zero"
     ]
    }
   ],
   "source": [
    "def f2(divisor):\n",
    "    result = 10 / divisor\n",
    "    return result\n",
    "def f1():\n",
    "    f2(0)\n",
    "print(\"Before Call to f1\")\n",
    "f1()\n",
    "print(\"After Call to f1\")"
   ]
  },
  {
   "cell_type": "markdown",
   "metadata": {
    "colab_type": "text",
    "id": "QOLZ2IVR0Lkf"
   },
   "source": [
    "### Adding an Exception handler\n",
    "\n",
    "Let's make it safe."
   ]
  },
  {
   "cell_type": "code",
   "execution_count": null,
   "metadata": {
    "colab": {
     "base_uri": "https://localhost:8080/",
     "height": 68
    },
    "colab_type": "code",
    "id": "unHIceDk0r8E",
    "outputId": "38d73c3c-a769-491c-db0e-a1927d7e83e4"
   },
   "outputs": [
    {
     "name": "stdout",
     "output_type": "stream",
     "text": [
      "Before Call to f1\n",
      "An error occurred - division by zero\n",
      "After Call to f1\n"
     ]
    }
   ],
   "source": [
    "def f2(divisor):\n",
    "    result = 10 / divisor\n",
    "    return result\n",
    "def f1():\n",
    "  \n",
    "    try:\n",
    "        f2(0)\n",
    "    except Exception as err:\n",
    "        print(\"An error occurred - \" + err.args[0])\n",
    "      \n",
    "    \n",
    "print(\"Before Call to f1\")\n",
    "f1()\n",
    "print(\"After Call to f1\")"
   ]
  },
  {
   "cell_type": "markdown",
   "metadata": {
    "colab_type": "text",
    "id": "LSbawvwS2A4J"
   },
   "source": [
    "If you look at the error message above you will see its a ZeroDivisionError. We can catch that specific specific type of exception as well as the generic Exception that can deal with everything else. \n",
    "\n",
    "Most exceptions in Python inherit from the common Exception class"
   ]
  },
  {
   "cell_type": "code",
   "execution_count": null,
   "metadata": {
    "colab": {
     "base_uri": "https://localhost:8080/",
     "height": 68
    },
    "colab_type": "code",
    "id": "U-bY6Wml2Y7m",
    "outputId": "721fc16e-d530-43b7-8cf7-d8231150a73e"
   },
   "outputs": [
    {
     "name": "stdout",
     "output_type": "stream",
     "text": [
      "Before Call to f1\n",
      "An Divide by zero error occurred - division by zero\n",
      "After Call to f1\n"
     ]
    }
   ],
   "source": [
    "def f2(divisor):\n",
    "    result = 10 / divisor\n",
    "    return result\n",
    "def f1():\n",
    "  \n",
    "    try:\n",
    "        f2(0)\n",
    "    \n",
    "    except ZeroDivisionError as err:\n",
    "        print(\"A Divide by zero error occurred - \" + err.args[0])\n",
    "       \n",
    "    except Exception as err:\n",
    "        print(\"An error occurred - \" + err.args[0])\n",
    "      \n",
    "    \n",
    "print(\"Before Call to f1\")\n",
    "f1()\n",
    "print(\"After Call to f1\")"
   ]
  },
  {
   "cell_type": "markdown",
   "metadata": {
    "colab_type": "text",
    "id": "HRDBlbTL3HUr"
   },
   "source": [
    "The same code could be rewiteen handling the exception at a higher level and using the else and the finally.\n",
    "\n",
    "The **else** only runs if no exception occurs. The **finally** runs almost always\n",
    "\n",
    "**How would you change the code to make the else run?**"
   ]
  },
  {
   "cell_type": "code",
   "execution_count": null,
   "metadata": {
    "colab": {
     "base_uri": "https://localhost:8080/",
     "height": 68
    },
    "colab_type": "code",
    "id": "BDAUsaEI3cJL",
    "outputId": "74fbc92a-4136-4d15-ce2f-d43b44d874e5"
   },
   "outputs": [
    {
     "name": "stdout",
     "output_type": "stream",
     "text": [
      "Before Call to f1\n",
      "An error occurred - division by zero\n",
      "I always run\n"
     ]
    }
   ],
   "source": [
    "def f2(divisor):\n",
    "    result = 10 / divisor\n",
    "    return result\n",
    "def f1():\n",
    "  \n",
    "    f2(0)\n",
    "    \n",
    "    \n",
    "print(\"Before Call to f1\")\n",
    "\n",
    "try:\n",
    "    f1()\n",
    "except Exception as err:\n",
    "    print(\"An error occurred - \" + err.args[0])\n",
    "else:\n",
    "    print(\"After Call to f1\")\n",
    "finally:\n",
    "    print(\"I always run\")\n"
   ]
  },
  {
   "cell_type": "markdown",
   "metadata": {
    "colab_type": "text",
    "id": "S3MEdsvL4bpa"
   },
   "source": [
    "### Raising Exception\n",
    "\n",
    "You can raise your own exception by calling **raise**. You can also create your own exception classes.\n",
    "\n"
   ]
  },
  {
   "cell_type": "code",
   "execution_count": null,
   "metadata": {
    "colab": {
     "base_uri": "https://localhost:8080/",
     "height": 68
    },
    "colab_type": "code",
    "id": "5kk5E6Wq4vn8",
    "outputId": "d50ac5ea-a2b5-412f-9df7-51a077fc0d33"
   },
   "outputs": [
    {
     "name": "stdout",
     "output_type": "stream",
     "text": [
      "Before Call to f1\n",
      "An error occurred - divisor parameter cannot be zero\n",
      "I always run\n"
     ]
    }
   ],
   "source": [
    "# Raising an exception from a function\n",
    "def f2(divisor):\n",
    "    if divisor == 0:\n",
    "        raise ValueError(\"divisor parameter cannot be zero\")\n",
    "    result = 10 / divisor\n",
    "    return result\n",
    "  \n",
    "def f1():\n",
    "  \n",
    "    f2(0)\n",
    "    \n",
    "    \n",
    "print(\"Before Call to f1\")\n",
    "\n",
    "try:\n",
    "    f1()\n",
    "except Exception as err:\n",
    "    print(\"An error occurred - \" + err.args[0])\n",
    "else:\n",
    "    print(\"After Call to f1\")\n",
    "finally:\n",
    "    print(\"I always run\")\n"
   ]
  },
  {
   "cell_type": "code",
   "execution_count": null,
   "metadata": {
    "colab": {
     "base_uri": "https://localhost:8080/",
     "height": 68
    },
    "colab_type": "code",
    "collapsed": true,
    "id": "Hlihnvlq5UCr",
    "jupyter": {
     "outputs_hidden": true
    },
    "outputId": "1a5f3299-7691-46a4-85a0-0ce3ff173447"
   },
   "outputs": [
    {
     "name": "stdout",
     "output_type": "stream",
     "text": [
      "Before Call to f1\n",
      "An parameter error occurred - divisor parameter cannot be zero\n",
      "I always run\n"
     ]
    }
   ],
   "source": [
    "# Writing and using a custom exception\n",
    "\n",
    "class InvalidParameterException(Exception):\n",
    "    pass\n",
    "  \n",
    "\n",
    "def f2(divisor):\n",
    "    if divisor == 0:\n",
    "        raise InvalidParameterException(\"divisor parameter cannot be zero\")\n",
    "    result = 10 / divisor\n",
    "    return result\n",
    "  \n",
    "def f1():\n",
    "  \n",
    "    f2(0)\n",
    "    \n",
    "    \n",
    "print(\"Before Call to f1\")\n",
    "\n",
    "try:\n",
    "    f1()\n",
    "except InvalidParameterException as err:\n",
    "    print(\"An parameter error occurred - \" + err.args[0])\n",
    "else:\n",
    "    print(\"After Call to f1\")\n",
    "finally:\n",
    "    print(\"I always run\")\n"
   ]
  }
 ],
 "metadata": {
  "kernelspec": {
   "display_name": "Python 3",
   "language": "python",
   "name": "python3"
  },
  "language_info": {
   "codemirror_mode": {
    "name": "ipython",
    "version": 3
   },
   "file_extension": ".py",
   "mimetype": "text/x-python",
   "name": "python",
   "nbconvert_exporter": "python",
   "pygments_lexer": "ipython3",
   "version": "3.8.4"
  }
 },
 "nbformat": 4,
 "nbformat_minor": 4
}
