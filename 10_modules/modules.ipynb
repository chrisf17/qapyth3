{
 "cells": [
  {
   "cell_type": "markdown",
   "metadata": {
    "colab_type": "text",
    "id": "FfVsFeaXPQR-"
   },
   "source": [
    "# Modules and Packages\n",
    "\n",
    "Modules can import and reuse other modules. Every time you create a new .py file you potentially crete a new reusable module that can be imported by others.\n",
    "\n",
    "The **import** statement can be used to import one module into another\n",
    "\n",
    "Below we are importing the math module and reusing the contents to access the value of pi and to run the factorial function. Notice how we prefix each variables or function access with the name of the module."
   ]
  },
  {
   "cell_type": "code",
   "execution_count": null,
   "metadata": {
    "colab": {
     "base_uri": "https://localhost:8080/",
     "height": 51
    },
    "colab_type": "code",
    "id": "qsX623S76HRR",
    "outputId": "cca7d52a-9cfb-4593-dd33-2bd0ea85a042"
   },
   "outputs": [
    {
     "name": "stdout",
     "output_type": "stream",
     "text": [
      "3.141592653589793\n",
      "120\n"
     ]
    }
   ],
   "source": [
    "import math\n",
    "print(math.pi)\n",
    "print(math.factorial(5))"
   ]
  },
  {
   "cell_type": "markdown",
   "metadata": {
    "colab_type": "text",
    "id": "APE8yMurqCC_"
   },
   "source": [
    "### Aliasing Modules\n",
    "\n",
    "You can rename imported modules when you import them for reuse with your modules\n",
    "\n"
   ]
  },
  {
   "cell_type": "code",
   "execution_count": null,
   "metadata": {
    "colab": {
     "base_uri": "https://localhost:8080/",
     "height": 34
    },
    "colab_type": "code",
    "id": "BWVU1wjTqU3P",
    "outputId": "f159f1f3-4e2e-4525-e35a-a68033052d4a"
   },
   "outputs": [
    {
     "data": {
      "text/plain": [
       "26"
      ]
     },
     "execution_count": 4,
     "metadata": {
      "tags": []
     },
     "output_type": "execute_result"
    }
   ],
   "source": [
    "import random as rnd\n",
    "rnd.randint(1, 50)"
   ]
  },
  {
   "cell_type": "markdown",
   "metadata": {
    "colab_type": "text",
    "id": "LJ53uNqht5LH"
   },
   "source": [
    "## Packages\n",
    "\n",
    "It's possible to create folders that group modules together. These are known as packages and will typically contain an initialisation script call **\\_\\_init\\_\\_.py**\n",
    "\n",
    "Packages act as namespaces for the code contained within and can be used as an organization tool."
   ]
  },
  {
   "cell_type": "markdown",
   "metadata": {
    "colab_type": "text",
    "id": "5vh5-UVMquTp"
   },
   "source": [
    "## Fine control of import\n",
    "\n",
    "When you have a hierrarchy of modules and packages you can control more easily the importing the contents of this hierarchy using **from .. import \\***\n",
    "\n",
    "**from <module> import \\*** allows you to import either modules or individual contents of modules such as functions, classes, variables into the current modules context.\n",
    "\n",
    "Below the code is importing from the module the pi variables and the factorial function into the current context which  it can then use directly without having to prefix them with the name of the module to which they belong"
   ]
  },
  {
   "cell_type": "code",
   "execution_count": null,
   "metadata": {
    "colab": {
     "base_uri": "https://localhost:8080/",
     "height": 51
    },
    "colab_type": "code",
    "id": "yagqT3QovYlq",
    "outputId": "87f75add-a0a5-4f0b-d95b-67425bcecbd0"
   },
   "outputs": [
    {
     "name": "stdout",
     "output_type": "stream",
     "text": [
      "3.141592653589793\n",
      "120\n"
     ]
    }
   ],
   "source": [
    "from math import pi, factorial\n",
    "print(pi)\n",
    "print(factorial(5))"
   ]
  },
  {
   "cell_type": "markdown",
   "metadata": {
    "colab_type": "text",
    "id": "X9BJd3o9nN7A"
   },
   "source": [
    "## Modules and search Paths\n",
    "\n",
    "Python has a predefined set of folders that it checks when an import statement is called. These folders include the current directory of the executin script and the library folders for the platform installation.\n",
    "\n",
    "It's also possible to set the **PYTHONPATH** environment variable to a ollection of paths that Python will look in.\n",
    "\n",
    "Finally you can tell Python in code where to look\n",
    "\n",
    "\n",
    "\n",
    "```\n",
    "import sys\n",
    "sys.path.append(r\"c:\\libs\\mylibs\")\n",
    "```\n",
    "\n"
   ]
  }
 ],
 "metadata": {
  "kernelspec": {
   "display_name": "Python 3",
   "language": "python",
   "name": "python3"
  },
  "language_info": {
   "codemirror_mode": {
    "name": "ipython",
    "version": 3
   },
   "file_extension": ".py",
   "mimetype": "text/x-python",
   "name": "python",
   "nbconvert_exporter": "python",
   "pygments_lexer": "ipython3",
   "version": "3.8.4"
  }
 },
 "nbformat": 4,
 "nbformat_minor": 4
}
