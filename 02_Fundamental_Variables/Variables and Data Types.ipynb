{
 "cells": [
  {
   "cell_type": "markdown",
   "metadata": {},
   "source": [
    "# Variables and Data Type\n",
    "\n",
    "There is a tutorial at the end of this quick lab. You may want to review it first :)\n"
   ]
  },
  {
   "cell_type": "markdown",
   "metadata": {},
   "source": [
    "## Quick Lab 1\n",
    "\n",
    "### To Do 1\n",
    "\n",
    "Create variables to store the following information about your favourite movie:\n",
    "\n",
    "* Title\n",
    "* Director\n",
    "* Year of Release\n",
    "* Duration (minutes)\n"
   ]
  },
  {
   "cell_type": "code",
   "execution_count": null,
   "metadata": {},
   "outputs": [],
   "source": [
    "# Favourite movie data\n"
   ]
  },
  {
   "cell_type": "markdown",
   "metadata": {},
   "source": [
    "### To Do 2\n",
    "\n",
    "Print out a each of the variables"
   ]
  },
  {
   "cell_type": "code",
   "execution_count": null,
   "metadata": {},
   "outputs": [],
   "source": [
    "# Print your favourite movie details\n"
   ]
  },
  {
   "cell_type": "markdown",
   "metadata": {},
   "source": [
    "## Quick Lab 2\n",
    "\n",
    "### To Do 1\n",
    "\n",
    "* Create a variable called x and assign to it the value 10\n",
    "* Display the type of x (use the type() function)\n",
    "* Display the id of x (use the id() function)\n"
   ]
  },
  {
   "cell_type": "code",
   "execution_count": 9,
   "metadata": {},
   "outputs": [],
   "source": [
    "# Create your x variable here\n"
   ]
  },
  {
   "cell_type": "markdown",
   "metadata": {},
   "source": [
    "### Quick Info\n",
    "\n",
    "The print statement can output more than one value and this might become useful in tis section:\n",
    "```\n",
    "name = \"Fred\"\n",
    "age = 21\n",
    "print(name, age)\n",
    "```\n",
    "\n",
    "### To Do 2\n",
    "\n",
    "\n",
    "* Assign x to a new variable called y\n",
    "* print the type of y\n",
    "* print the id of both x and y. What do you notice?\n",
    "* Assign the value 99 to the age variable\n",
    "* print the id of both x and y. What do you notice now?\n",
    "\n"
   ]
  },
  {
   "cell_type": "code",
   "execution_count": 5,
   "metadata": {},
   "outputs": [
    {
     "name": "stdout",
     "output_type": "stream",
     "text": [
      "10\n"
     ]
    }
   ],
   "source": [
    "x = 10\n",
    "# ToDo 2\n",
    "\n"
   ]
  },
  {
   "cell_type": "markdown",
   "metadata": {},
   "source": [
    "In this section describe in your own words how we got this result.\n",
    "\n",
    "#### Explanation\n",
    "\n"
   ]
  },
  {
   "cell_type": "markdown",
   "metadata": {},
   "source": [
    "## Quick Lab 3\n",
    "\n",
    "\n",
    "Look at the code below. It captures loan information for calculating interest.\n",
    "\n",
    "But the input function returns strings os you will need to:\n",
    "\n",
    "Convert: \n",
    "* principal_str to a float\n",
    "* years_str to an int\n",
    "\n",
    "Once you have done that use the following equation to calculate the final_amount\n",
    "\n",
    "\n",
    "final_amount = princical * (1 + rate)<sup> (years * time_periods)</sup>\n",
    "\n",
    "You will need to work out how to apply this equation.\n"
   ]
  },
  {
   "cell_type": "code",
   "execution_count": 1,
   "metadata": {},
   "outputs": [
    {
     "name": "stdout",
     "output_type": "stream",
     "text": [
      "Enter loan amount:1000\n",
      "Enter interest rate amount:2.5\n",
      "Enter loan period in years:5\n",
      "None\n"
     ]
    }
   ],
   "source": [
    "time_periods = 12\n",
    "principal_str = input(\"Enter loan amount:\")\n",
    "rate_str = input(\"Enter interest rate amount:\")\n",
    "years_str = input(\"Enter loan period in years:\")\n",
    "\n",
    "# TODO - Convert Data and add calculation\n",
    "rate = float(rate_str) / (100.0 * time_periods)\n",
    "\n",
    "final_amount = None\n",
    "print(final_amount)\n"
   ]
  },
  {
   "cell_type": "markdown",
   "metadata": {
    "colab_type": "text",
    "id": "eSpVxkm-lNkK"
   },
   "source": [
    "# Tutorial\n",
    "\n",
    "## Talking Directly to the Interpreter\n",
    "#### You can talk to Python directly from the Python Console and directly execute commands. They could be as simple as basic math operations"
   ]
  },
  {
   "cell_type": "code",
   "execution_count": 8,
   "metadata": {
    "colab": {
     "base_uri": "https://localhost:8080/",
     "height": 34
    },
    "colab_type": "code",
    "id": "8uv5Y_F8lKM_",
    "outputId": "4e7447d2-1e13-4390-e22e-9286dd1620c0"
   },
   "outputs": [
    {
     "data": {
      "text/plain": [
       "8"
      ]
     },
     "execution_count": 8,
     "metadata": {},
     "output_type": "execute_result"
    }
   ],
   "source": [
    "2 + 6"
   ]
  },
  {
   "cell_type": "markdown",
   "metadata": {
    "colab_type": "text",
    "id": "ephNtWL8k9Up"
   },
   "source": [
    "## Built in Python Commands\n",
    "#### You can also execute functions from the builtin library that is available on loading the interpreter"
   ]
  },
  {
   "cell_type": "code",
   "execution_count": 6,
   "metadata": {
    "colab": {
     "base_uri": "https://localhost:8080/",
     "height": 34
    },
    "colab_type": "code",
    "collapsed": true,
    "id": "C2BejPUpkyRe",
    "jupyter": {
     "outputs_hidden": true
    },
    "outputId": "18b50f0d-85b8-4145-f3af-87db86313ecd"
   },
   "outputs": [
    {
     "name": "stdout",
     "output_type": "stream",
     "text": [
      "Hello Worlds\n"
     ]
    }
   ],
   "source": [
    "print(\"Hello Worlds\")"
   ]
  },
  {
   "cell_type": "markdown",
   "metadata": {
    "colab_type": "text",
    "id": "aHrHGm5mlXTg"
   },
   "source": [
    "Getting input from the user\n",
    "\n"
   ]
  },
  {
   "cell_type": "code",
   "execution_count": null,
   "metadata": {
    "colab": {
     "base_uri": "https://localhost:8080/",
     "height": 51
    },
    "colab_type": "code",
    "id": "zQ6ab1UoleY3",
    "outputId": "7ee21a61-d558-44b2-ec33-dedc5042d8f9"
   },
   "outputs": [
    {
     "name": "stdout",
     "output_type": "stream",
     "text": [
      "Enter your name:Fred\n"
     ]
    },
    {
     "data": {
      "text/plain": [
       "'Fred'"
      ]
     },
     "execution_count": 5,
     "metadata": {
      "tags": []
     },
     "output_type": "execute_result"
    }
   ],
   "source": [
    "input(\"Enter your name:\")"
   ]
  },
  {
   "cell_type": "markdown",
   "metadata": {
    "colab_type": "text",
    "id": "H6OGqJOgyoCK"
   },
   "source": [
    "## Creating variables"
   ]
  },
  {
   "cell_type": "code",
   "execution_count": null,
   "metadata": {
    "colab": {},
    "colab_type": "code",
    "id": "vMApQzykyxOQ"
   },
   "outputs": [],
   "source": [
    "first_name = \"Amy\"\n",
    "age = 20"
   ]
  },
  {
   "cell_type": "markdown",
   "metadata": {
    "colab_type": "text",
    "id": "xDrco8rYy5At"
   },
   "source": [
    "## Combining Variables and Commands\n"
   ]
  },
  {
   "cell_type": "code",
   "execution_count": null,
   "metadata": {
    "colab": {
     "base_uri": "https://localhost:8080/",
     "height": 54
    },
    "colab_type": "code",
    "id": "BR5QfFBvzFVP",
    "outputId": "2ef8d901-62fa-49d2-a554-c3c09f76daa3"
   },
   "outputs": [
    {
     "name": "stdout",
     "output_type": "stream",
     "text": [
      "Enter your name:Beth\n",
      "Hi Beth\n"
     ]
    }
   ],
   "source": [
    "first_name = input(\"Enter your name:\")\n",
    "print (\"Hi\", first_name)"
   ]
  },
  {
   "cell_type": "markdown",
   "metadata": {
    "colab_type": "text",
    "id": "YAo228w7Mtue"
   },
   "source": [
    "## Using other Modules"
   ]
  },
  {
   "cell_type": "markdown",
   "metadata": {
    "colab_type": "text",
    "id": "SdkIt8KkNF7T"
   },
   "source": [
    "Python has access to the functions in the builtin library. If you need anything else you need to import it from reusable modules that are part of the standard library or written by other team members.\n",
    "\n",
    "**Here** we are importing the random module to generate a random number. Keep running it!"
   ]
  },
  {
   "cell_type": "code",
   "execution_count": null,
   "metadata": {
    "colab": {},
    "colab_type": "code",
    "id": "Br38Vf2SMwgJ"
   },
   "outputs": [],
   "source": [
    "import random\n",
    "my_num = random.randint(1, 50)\n",
    "print(my_num)"
   ]
  },
  {
   "cell_type": "markdown",
   "metadata": {
    "colab_type": "text",
    "id": "dDUUnHGizdbV"
   },
   "source": [
    "# *Data* Type\n",
    "### Python infers data type based on what you assign to your variable"
   ]
  },
  {
   "cell_type": "code",
   "execution_count": null,
   "metadata": {
    "colab": {
     "base_uri": "https://localhost:8080/",
     "height": 35
    },
    "colab_type": "code",
    "id": "-aIz-95uzbFZ",
    "outputId": "04c6b86b-3106-484c-8e5b-a7410c549f70"
   },
   "outputs": [
    {
     "data": {
      "text/plain": [
       "str"
      ]
     },
     "execution_count": 8,
     "metadata": {
      "tags": []
     },
     "output_type": "execute_result"
    }
   ],
   "source": [
    "name = \"Beth\"\n",
    "type(name)\n",
    "\n"
   ]
  },
  {
   "cell_type": "code",
   "execution_count": null,
   "metadata": {
    "colab": {},
    "colab_type": "code",
    "id": "ootVa-WM9ZYY"
   },
   "outputs": [],
   "source": [
    "age = 21\n",
    "type(age)"
   ]
  },
  {
   "cell_type": "code",
   "execution_count": null,
   "metadata": {
    "colab": {
     "base_uri": "https://localhost:8080/",
     "height": 34
    },
    "colab_type": "code",
    "id": "qeOSPLD69n3Y",
    "outputId": "91427c85-3067-42e5-bfce-c94f97406885"
   },
   "outputs": [
    {
     "data": {
      "text/plain": [
       "float"
      ]
     },
     "execution_count": 1,
     "metadata": {
      "tags": []
     },
     "output_type": "execute_result"
    }
   ],
   "source": [
    "price = 9.99\n",
    "type(price)"
   ]
  },
  {
   "cell_type": "markdown",
   "metadata": {
    "colab_type": "text",
    "id": "6b5oF0NE_-bi"
   },
   "source": [
    "#### Integers are whole numbers floats are numbers that store the fractional part of the number"
   ]
  },
  {
   "cell_type": "markdown",
   "metadata": {
    "colab_type": "text",
    "id": "p2y0kJ88ATSi"
   },
   "source": [
    "## Number Operations"
   ]
  },
  {
   "cell_type": "code",
   "execution_count": null,
   "metadata": {
    "colab": {},
    "colab_type": "code",
    "id": "BHW3MuT4AjK6"
   },
   "outputs": [],
   "source": [
    "count = 1\n",
    "count = count + 1\n",
    "print(count)"
   ]
  },
  {
   "cell_type": "markdown",
   "metadata": {
    "colab_type": "text",
    "id": "wbe8b-wQAtpm"
   },
   "source": [
    "Compound operations allow for simple math operations using a more concise syntax. Code below is the equivalent of above"
   ]
  },
  {
   "cell_type": "code",
   "execution_count": null,
   "metadata": {
    "colab": {},
    "colab_type": "code",
    "id": "kOEbvlaBA5aO"
   },
   "outputs": [],
   "source": [
    "count = 1\n",
    "count += 1\n",
    "print(count)"
   ]
  },
  {
   "cell_type": "markdown",
   "metadata": {
    "colab_type": "text",
    "id": "wX74mtyWBAEA"
   },
   "source": [
    "### Other Math operators include:\n",
    "- \\* for multiply\n",
    "- \\- for subtract\n",
    "- / for divide\n",
    "- // for integer divide\n",
    "- % for remainder (modulo) division\n",
    "\n",
    "Each operator has a compound equivalent\n"
   ]
  },
  {
   "cell_type": "markdown",
   "metadata": {
    "colab_type": "text",
    "id": "Sd7bAOgsLpae"
   },
   "source": [
    "### What will be the result of the following operation?"
   ]
  },
  {
   "cell_type": "code",
   "execution_count": null,
   "metadata": {
    "colab": {},
    "colab_type": "code",
    "id": "1TxXw4UzLhnS"
   },
   "outputs": [],
   "source": [
    "count = 2\n",
    "count *= 3\n",
    "print(count)"
   ]
  },
  {
   "cell_type": "markdown",
   "metadata": {
    "colab_type": "text",
    "id": "B1vo0k3u_6ej"
   },
   "source": [
    "## Operating on Types"
   ]
  },
  {
   "cell_type": "markdown",
   "metadata": {
    "colab_type": "text",
    "id": "zkEBWeIU-LPQ"
   },
   "source": [
    "### Combining Types"
   ]
  },
  {
   "cell_type": "markdown",
   "metadata": {
    "colab_type": "text",
    "id": "OsecymIz-atq"
   },
   "source": [
    "### Types can be combined/joined using the + operator"
   ]
  },
  {
   "cell_type": "code",
   "execution_count": null,
   "metadata": {
    "colab": {},
    "colab_type": "code",
    "id": "JmNAbfEI-YfX"
   },
   "outputs": [],
   "source": [
    "first_name = \"Amy\"\n",
    "last_name = \"Anderson\"\n",
    "full_name = first_name + \" \" + last_name\n",
    "print(full_name)"
   ]
  },
  {
   "cell_type": "markdown",
   "metadata": {
    "colab_type": "text",
    "id": "cKvP3e94-9Uu"
   },
   "source": [
    "### But only if the types are compatible"
   ]
  },
  {
   "cell_type": "code",
   "execution_count": null,
   "metadata": {
    "colab": {},
    "colab_type": "code",
    "id": "GgJsRTMF_EBH"
   },
   "outputs": [],
   "source": [
    "age = 21\n",
    "message = first_name + \" is \" + age"
   ]
  },
  {
   "cell_type": "markdown",
   "metadata": {
    "colab_type": "text",
    "id": "FxXQDzNhK0ts"
   },
   "source": [
    "### int and str don't mix!"
   ]
  },
  {
   "cell_type": "markdown",
   "metadata": {
    "colab_type": "text",
    "id": "a9EWBcZm_dD7"
   },
   "source": [
    "### Instead convert the age from an integer to as string using the str function"
   ]
  },
  {
   "cell_type": "code",
   "execution_count": null,
   "metadata": {
    "colab": {},
    "colab_type": "code",
    "id": "v3eCwd1B_RT3"
   },
   "outputs": [],
   "source": [
    "message = first_name + \" is \" + str(age)\n",
    "print(message)"
   ]
  },
  {
   "cell_type": "markdown",
   "metadata": {
    "colab_type": "text",
    "id": "1_LGNpNo41VJ"
   },
   "source": [
    "## Lists and Tuples"
   ]
  },
  {
   "cell_type": "code",
   "execution_count": null,
   "metadata": {
    "colab": {},
    "colab_type": "code",
    "id": "Qr5v1uyF44gE"
   },
   "outputs": [],
   "source": [
    "names = [\"Fred\", \"Amy\", \"Raj\", \"Bob\"]\n",
    "print(names[1])\n"
   ]
  },
  {
   "cell_type": "markdown",
   "metadata": {
    "colab_type": "text",
    "id": "eG6uScvF5ke3"
   },
   "source": [
    "### List can be updated"
   ]
  },
  {
   "cell_type": "code",
   "execution_count": null,
   "metadata": {
    "colab": {},
    "colab_type": "code",
    "id": "2IqFEcty5c8Q"
   },
   "outputs": [],
   "source": [
    "names = [\"Fred\", \"Amy\", \"Raj\", \"Bob\"]\n",
    "print(names[1])\n",
    "names[1] = \"Mina\"\n",
    "print(names)"
   ]
  },
  {
   "cell_type": "markdown",
   "metadata": {
    "colab_type": "text",
    "id": "6Ww-FexB52s_"
   },
   "source": [
    "### Tuples can't be changed"
   ]
  },
  {
   "cell_type": "code",
   "execution_count": null,
   "metadata": {
    "colab": {},
    "colab_type": "code",
    "id": "x55ZF2GH58Pm",
    "jupyter": {
     "source_hidden": true
    }
   },
   "outputs": [],
   "source": [
    "names = \"Fred\", \"Amy\", \"Raj\", \"Bob\"\n",
    "print(names[1])\n",
    "names[1] = \"Mina\"\n",
    "print(names)"
   ]
  },
  {
   "cell_type": "markdown",
   "metadata": {},
   "source": [
    "## Learning Summary\n",
    "\n",
    "Record any learning points here"
   ]
  }
 ],
 "metadata": {
  "kernelspec": {
   "display_name": "Python 3",
   "language": "python",
   "name": "python3"
  },
  "language_info": {
   "codemirror_mode": {
    "name": "ipython",
    "version": 3
   },
   "file_extension": ".py",
   "mimetype": "text/x-python",
   "name": "python",
   "nbconvert_exporter": "python",
   "pygments_lexer": "ipython3",
   "version": "3.7.4"
  }
 },
 "nbformat": 4,
 "nbformat_minor": 4
}
