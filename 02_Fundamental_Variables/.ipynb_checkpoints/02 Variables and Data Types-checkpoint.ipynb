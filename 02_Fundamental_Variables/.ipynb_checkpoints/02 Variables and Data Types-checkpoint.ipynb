{
 "cells": [
  {
   "cell_type": "markdown",
   "metadata": {},
   "source": [
    "# Exercise 2 - Variables and Data Type\n",
    "\n",
    "## Quick Lab 1\n",
    "\n",
    "Variables in Python have a meaninful name that:\n",
    "* Start with an alpha character or an _\n",
    "* Cannot start with a number\n",
    "* Words within variable names are usually separated by _ eg first_name\n",
    "\n",
    "### To Do 1\n",
    "\n",
    "Create variables to store the following information about your favourite movie:\n",
    "\n",
    "* Title\n",
    "* Director\n",
    "* Year of Release\n",
    "* Duration (minutes)\n"
   ]
  },
  {
   "cell_type": "code",
   "execution_count": null,
   "metadata": {},
   "outputs": [],
   "source": [
    "# Favourite movie data\n"
   ]
  },
  {
   "cell_type": "markdown",
   "metadata": {},
   "source": [
    "### To Do 2\n",
    "\n",
    "Print out a each of the variables"
   ]
  },
  {
   "cell_type": "code",
   "execution_count": null,
   "metadata": {},
   "outputs": [],
   "source": [
    "# Print your favourite movie details\n"
   ]
  },
  {
   "cell_type": "markdown",
   "metadata": {},
   "source": [
    "## Quick Lab 2\n",
    "\n",
    "### To Do 1\n",
    "\n",
    "* Create a variable called x and assign to it the value 10\n",
    "* Display the type of x (use the type() function)\n",
    "* Display the id of x (use the id() function)\n"
   ]
  },
  {
   "cell_type": "code",
   "execution_count": 9,
   "metadata": {},
   "outputs": [],
   "source": [
    "# Create your x variable here\n"
   ]
  },
  {
   "cell_type": "markdown",
   "metadata": {},
   "source": [
    "### Quick Info\n",
    "\n",
    "The print statement can output more than one value and this might become useful in tis section:\n",
    "```\n",
    "name = \"Fred\"\n",
    "age = 21\n",
    "print(name, age)\n",
    "```\n",
    "\n",
    "### To Do 2\n",
    "\n",
    "\n",
    "* Assign x to a new variable called y\n",
    "* print the type of y\n",
    "* print the id of both x and y. What do you notice?\n",
    "* Assign the value 99 to the age variable\n",
    "* print the id of both x and y. What do you notice now?\n",
    "\n"
   ]
  },
  {
   "cell_type": "code",
   "execution_count": 5,
   "metadata": {},
   "outputs": [
    {
     "name": "stdout",
     "output_type": "stream",
     "text": [
      "10\n"
     ]
    }
   ],
   "source": [
    "x = 10\n",
    "# ToDo 2\n",
    "\n"
   ]
  },
  {
   "cell_type": "markdown",
   "metadata": {},
   "source": [
    "In this section describe in your own words how we got this result.\n",
    "\n",
    "#### Explanation\n",
    "\n"
   ]
  },
  {
   "cell_type": "markdown",
   "metadata": {},
   "source": [
    "## Quick Lab 3\n",
    "\n",
    "\n",
    "Look at the code below. It captures loan information for calculating interest.\n",
    "\n",
    "But the input function returns strings os you will need to:\n",
    "\n",
    "Convert: \n",
    "* principal_str to a float\n",
    "* years_str to an int\n",
    "\n",
    "Once you have done that use the following equation to calculate the final_amount\n",
    "\n",
    "\n",
    "final_amount = princical * (1 + rate)<sup> (years * time_periods)</sup>\n",
    "\n",
    "You will need to work out how to apply this equation.\n"
   ]
  },
  {
   "cell_type": "code",
   "execution_count": 1,
   "metadata": {},
   "outputs": [
    {
     "name": "stdout",
     "output_type": "stream",
     "text": [
      "Enter loan amount:1000\n",
      "Enter interest rate amount:2.5\n",
      "Enter loan period in years:5\n",
      "None\n"
     ]
    }
   ],
   "source": [
    "time_periods = 12\n",
    "principal_str = input(\"Enter loan amount:\")\n",
    "rate_str = input(\"Enter interest rate amount:\")\n",
    "years_str = input(\"Enter loan period in years:\")\n",
    "\n",
    "# TODO - Convert Data and add calculation\n",
    "rate = float(rate_str) / (100.0 * time_periods)\n",
    "\n",
    "final_amount = None\n",
    "print(final_amount)\n"
   ]
  },
  {
   "cell_type": "markdown",
   "metadata": {},
   "source": [
    "## Learning Summary\n",
    "\n",
    "Record any learning points here"
   ]
  }
 ],
 "metadata": {
  "kernelspec": {
   "display_name": "Python 3",
   "language": "python",
   "name": "python3"
  },
  "language_info": {
   "codemirror_mode": {
    "name": "ipython",
    "version": 3
   },
   "file_extension": ".py",
   "mimetype": "text/x-python",
   "name": "python",
   "nbconvert_exporter": "python",
   "pygments_lexer": "ipython3",
   "version": "3.7.4"
  }
 },
 "nbformat": 4,
 "nbformat_minor": 4
}
