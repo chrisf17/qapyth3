{
 "cells": [
  {
   "cell_type": "markdown",
   "metadata": {},
   "source": [
    "# Classes and OOP\n",
    "\n",
    "There is a tutorial at the end of the quick labs. You may want to look at it first?\n",
    "\n",
    "## Quick Lab 1\n",
    "\n",
    "### To Do\n",
    "\n",
    "1. Create a Person class\n",
    "2. Initialize the Person class\n",
    "3. Hide attributes"
   ]
  },
  {
   "cell_type": "code",
   "execution_count": 3,
   "metadata": {},
   "outputs": [
    {
     "name": "stdout",
     "output_type": "stream",
     "text": [
      "<class 'NoneType'>\n",
      "<class 'NoneType'>\n",
      "1823624424\n",
      "1823624424\n"
     ]
    }
   ],
   "source": [
    "class Person:\n",
    "    pass\n",
    "\n",
    "# ToDo 1: Create an instance of a Person (in other words create an object of type Person) assign it to variable me\n",
    "me = None\n",
    "# ToDo: Create an instance of a Person (in other words create an object of type Person) assign it to variable you\n",
    "you = None\n",
    "\n",
    "print(type(me))\n",
    "print(type(you))\n",
    "\n",
    "# Will the ids change?\n",
    "\n",
    "print(id(me))\n",
    "print(id(you))\n",
    "\n",
    "\n",
    "\n"
   ]
  },
  {
   "cell_type": "markdown",
   "metadata": {},
   "source": [
    "### ToDo 2: Initialise Person\n",
    "\n",
    "1. Change Person so that it has an \\_\\_init\\_\\_ function defined that\n",
    "    * Adds a first_name, last_name and age attribute to the type definition\n",
    "2. Can you make the errors stop"
   ]
  },
  {
   "cell_type": "code",
   "execution_count": 10,
   "metadata": {},
   "outputs": [
    {
     "ename": "AttributeError",
     "evalue": "'Person' object has no attribute 'first_name'",
     "output_type": "error",
     "traceback": [
      "\u001b[1;31m---------------------------------------------------------------------------\u001b[0m",
      "\u001b[1;31mAttributeError\u001b[0m                            Traceback (most recent call last)",
      "\u001b[1;32m<ipython-input-10-138a8cc44281>\u001b[0m in \u001b[0;36m<module>\u001b[1;34m\u001b[0m\n\u001b[0;32m      7\u001b[0m \u001b[0mme\u001b[0m \u001b[1;33m=\u001b[0m \u001b[0mPerson\u001b[0m\u001b[1;33m(\u001b[0m\u001b[1;34m\"Fred\"\u001b[0m\u001b[1;33m,\u001b[0m \u001b[1;34m\"Bloggs\"\u001b[0m\u001b[1;33m,\u001b[0m \u001b[1;36m25\u001b[0m\u001b[1;33m)\u001b[0m\u001b[1;33m\u001b[0m\u001b[1;33m\u001b[0m\u001b[0m\n\u001b[0;32m      8\u001b[0m \u001b[1;31m##\u001b[0m\u001b[1;33m\u001b[0m\u001b[1;33m\u001b[0m\u001b[1;33m\u001b[0m\u001b[0m\n\u001b[1;32m----> 9\u001b[1;33m \u001b[0mprint\u001b[0m\u001b[1;33m(\u001b[0m\u001b[1;34mf\"Hi {me.first_name} {me.last_name} you are {me.age}\"\u001b[0m\u001b[1;33m)\u001b[0m\u001b[1;33m\u001b[0m\u001b[1;33m\u001b[0m\u001b[0m\n\u001b[0m",
      "\u001b[1;31mAttributeError\u001b[0m: 'Person' object has no attribute 'first_name'"
     ]
    }
   ],
   "source": [
    "class Person:\n",
    "    \n",
    "    def __init__(self, f_name, l_name, age):\n",
    "        # ToDO add attributes\n",
    "        pass\n",
    "\n",
    "me = Person(\"Fred\", \"Bloggs\", 25)\n",
    "##\n",
    "print(f\"Hi {me.first_name} {me.last_name} you are {me.age}\")"
   ]
  },
  {
   "cell_type": "markdown",
   "metadata": {},
   "source": [
    "### ToDo 3: Make attributes hidden\n",
    "\n",
    "1. Change the \\_\\_init\\_\\_ so that it defines hidden attributes\n",
    "    * Prefix the attribute name with double underscore \\_\\_\n",
    "2. Create an instance of a Person (create a Person object passing in name and age details)\n",
    "3. Try printing the name and age details from your object\n",
    "4. Print the \\_\\_dict\\_\\_ attribute of your person object (You may need to comment out the prin code for the other attributes)"
   ]
  },
  {
   "cell_type": "code",
   "execution_count": 14,
   "metadata": {},
   "outputs": [
    {
     "name": "stdout",
     "output_type": "stream",
     "text": [
      "{'_Person__first_name': 'Beth', 'last_name': 'McGregor', 'age': 22}\n"
     ]
    }
   ],
   "source": [
    "class Person:\n",
    "    \n",
    "    def __init__(self, f_name, l_name, age):\n",
    "\n",
    "        self.__first_name = f_name\n",
    "        self.last_name = l_name\n",
    "        self.age = age\n",
    "\n",
    "me = Person(\"Beth\", \"McGregor\", 22)\n",
    "print(me.__dict__)\n",
    "#print(me.first_name)"
   ]
  },
  {
   "cell_type": "markdown",
   "metadata": {},
   "source": [
    "### TODO 4: Properties\n",
    "\n",
    "Lets make the data easily accessible again using properties:\n",
    "1. Take out the comment \"\"\" around the first age method below\n",
    "2. Now add an @property statement above it similar to\n",
    "```\n",
    "    @property\n",
    "    def age(self):\n",
    "        return self.__age\n",
    "\n",
    "```\n",
    "3. Now run the code below again (CTRL ENTER)\n",
    "    * It should work. You have created a property\n",
    "4. Uncomment the second age method\n",
    "5. Add an @age.setter statement above it\n",
    "```\n",
    "    def age(self, value):\n",
    "        self.__age = value\n",
    "```\n",
    "6. You should be able to write code similar to\n",
    "```\n",
    "me.age = 33\n",
    "print(me.age)\n",
    "\n",
    "\n",
    "And it will work using the setter code. Why is this useful?"
   ]
  },
  {
   "cell_type": "code",
   "execution_count": 17,
   "metadata": {},
   "outputs": [
    {
     "name": "stdout",
     "output_type": "stream",
     "text": [
      "21\n"
     ]
    }
   ],
   "source": [
    "class Person:\n",
    "    \n",
    "    def __init__(self, f_name, l_name, age):\n",
    "\n",
    "        self.__first_name = f_name\n",
    "        self.__last_name = l_name\n",
    "        self.__age = age\n",
    "    \"\"\"\n",
    "    def age(self):\n",
    "        return self.__age\n",
    "    \"\"\"\n",
    "    \"\"\"\n",
    "    def age(self, value):\n",
    "        self.__age = value\n",
    "    \"\"\"\n",
    "\n",
    "me = Person(\"Fred\", \"Bloggs\", 21)\n",
    "print(me.age)"
   ]
  },
  {
   "cell_type": "markdown",
   "metadata": {
    "colab_type": "text",
    "id": "x8C6E3WtPK0N"
   },
   "source": [
    "# Classes and OOP Tutorial\n",
    "\n",
    "When you bake a cake you probably use a recipe. The recipe describes the ingredients and the actions you need to take. Using the same recipe you can create multiple cakes all of which might occupy a different space on your kitchen table. A recipe is a blueprint or a template for creating multiple instances of cakes.\n",
    "\n",
    "Classes in Python allow us to define the blueprint for creating specific types of objects. We define the type, whether it is a Car, a Customer or a Rocket.\n",
    "\n",
    "We also define the attributes for our classes. A car might have spee, registration, make and model attributes for example.\n",
    "\n",
    "A class in Python can be defined as simpley as below. (pass means do nothing)"
   ]
  },
  {
   "cell_type": "code",
   "execution_count": null,
   "metadata": {
    "colab": {},
    "colab_type": "code",
    "id": "Bi8ZbbJSwYDm"
   },
   "outputs": [],
   "source": [
    "class Car:\n",
    "    \n",
    "    pass\n",
    "    \n",
    "   \n",
    "\n"
   ]
  },
  {
   "cell_type": "markdown",
   "metadata": {
    "colab_type": "text",
    "id": "Xvol-PoNxWyB"
   },
   "source": [
    "To create an instance of Car (or bake a cake!). This create a new instance of a Car object in memory"
   ]
  },
  {
   "cell_type": "code",
   "execution_count": null,
   "metadata": {
    "colab": {},
    "colab_type": "code",
    "id": "OpcO_sO-xaY3"
   },
   "outputs": [],
   "source": [
    "my_car = Car()\n"
   ]
  },
  {
   "cell_type": "markdown",
   "metadata": {
    "colab_type": "text",
    "id": "L_t9kC2YxeKW"
   },
   "source": [
    "Fill in the cars details by attaching attributes:"
   ]
  },
  {
   "cell_type": "code",
   "execution_count": null,
   "metadata": {
    "colab": {},
    "colab_type": "code",
    "id": "4LAKOOjcxgq2"
   },
   "outputs": [],
   "source": [
    "my_car.speed = 0\n",
    "my_car.registration = \"ABC123\"\n"
   ]
  },
  {
   "cell_type": "markdown",
   "metadata": {
    "colab_type": "text",
    "id": "Oodq7TKUxjAf"
   },
   "source": [
    "Convert the car object into a string by printing it"
   ]
  },
  {
   "cell_type": "markdown",
   "metadata": {
    "colab_type": "text",
    "id": "DVvAWYZQOudr"
   },
   "source": []
  },
  {
   "cell_type": "code",
   "execution_count": null,
   "metadata": {
    "colab": {
     "base_uri": "https://localhost:8080/",
     "height": 34
    },
    "colab_type": "code",
    "id": "wHxf9vldxsi9",
    "outputId": "35c62c45-7e6a-4010-e686-66e46d6cb8ad"
   },
   "outputs": [
    {
     "name": "stdout",
     "output_type": "stream",
     "text": [
      "<__main__.Car object at 0x7f73af3a00b8>\n"
     ]
    }
   ],
   "source": [
    "print(my_car)"
   ]
  },
  {
   "cell_type": "markdown",
   "metadata": {
    "colab_type": "text",
    "id": "JTH8pptaxpsp"
   },
   "source": [
    "Car attributes are stored in a dictionary called \\__dict__"
   ]
  },
  {
   "cell_type": "code",
   "execution_count": null,
   "metadata": {
    "colab": {
     "base_uri": "https://localhost:8080/",
     "height": 34
    },
    "colab_type": "code",
    "id": "qrneZW2IE2Zn",
    "outputId": "25002344-fd2b-4a04-c735-941402f1ed17"
   },
   "outputs": [
    {
     "data": {
      "text/plain": [
       "{'registration': 'ABC123', 'speed': 0}"
      ]
     },
     "execution_count": 19,
     "metadata": {
      "tags": []
     },
     "output_type": "execute_result"
    }
   ],
   "source": [
    "my_car.__dict__"
   ]
  },
  {
   "cell_type": "markdown",
   "metadata": {
    "colab_type": "text",
    "id": "217z5sf9FUGW"
   },
   "source": [
    "## Initialization \n",
    "\n",
    "Defining a class's attributes first via a class initializer gives a consistent mechanism for creating an object and allows the class to act as a template for those objects \n",
    "\n",
    "By adding a \\__init__ method you can control how objects are initialised and allow them to have a consitent form\n",
    "\n",
    "The **self** parameter ini the __init__ method is a reference to the current object being processed and is passed in automatically by Python. All Python class instance methods will have a self parameter. You can use it to refer to the instance attributes of the object"
   ]
  },
  {
   "cell_type": "code",
   "execution_count": null,
   "metadata": {
    "colab": {},
    "colab_type": "code",
    "id": "KTjnD362FwrK"
   },
   "outputs": [],
   "source": [
    "class Car:\n",
    "    \n",
    "    def __init__(self):\n",
    "        self.speed = 0 \n",
    "        self.registration = None\n",
    "     "
   ]
  },
  {
   "cell_type": "markdown",
   "metadata": {
    "colab_type": "text",
    "id": "9ovNvvjIHn1x"
   },
   "source": [
    "## Converting objects to strings\n",
    "\n",
    "How do you convert a Car to a string. Python doesn't do a great job of it.\n",
    "\n",
    "We can override the **\\__str__** method to take control of the conversion"
   ]
  },
  {
   "cell_type": "code",
   "execution_count": null,
   "metadata": {
    "colab": {},
    "colab_type": "code",
    "id": "h7uRt2J_ZFDg"
   },
   "outputs": [],
   "source": []
  },
  {
   "cell_type": "code",
   "execution_count": null,
   "metadata": {
    "colab": {
     "base_uri": "https://localhost:8080/",
     "height": 34
    },
    "colab_type": "code",
    "id": "psYC8ZMLIAPl",
    "outputId": "e979f422-6787-4658-8121-11d840987506"
   },
   "outputs": [
    {
     "name": "stdout",
     "output_type": "stream",
     "text": [
      "Car with reg ABC123 is travelling at 25mph\n"
     ]
    }
   ],
   "source": [
    "class Car:\n",
    "    \n",
    "    def __init__(self):\n",
    "        self.speed = 0 \n",
    "        self.registration = None\n",
    "        \n",
    "    def __str__(self):\n",
    "      \n",
    "      return f\"Car with reg {self.registration} is travelling at {self.speed}mph\"\n",
    "\n",
    "\n",
    "my_car = Car()\n",
    "my_car.registration = \"ABC123\"\n",
    "my_car.speed = 25\n",
    "print(my_car)"
   ]
  },
  {
   "cell_type": "markdown",
   "metadata": {
    "colab_type": "text",
    "id": "v3KBlexTqUTu"
   },
   "source": [
    "## Encapsulation\n",
    "\n",
    "Allowing direct access to an object's data from outside of the object isn't ideal. The user of the object could assign invalid data values to object's attributes.\n",
    "\n",
    "\n",
    "\n",
    "```\n",
    "my_car.speed = 10000\n",
    "```\n",
    "\n",
    "That's way faster than my actual car can travel!\n",
    "\n",
    "Encapsulation involves hiding data inside an object so that its only accessible to code within the object.\n",
    "\n",
    "To do that you have to initialise the object data with __ prefixing it\n",
    "\n",
    "```\n",
    "def __init__(self):\n",
    "    self.__speed = 0 \n",
    "    \n",
    "\n",
    "```\n",
    "\n",
    "When you do this you make the \\__speed hidden from external access.\n",
    "\n",
    "Your code will error if you try to access hidden attributes.\n",
    "\n",
    "\n",
    "\n",
    "\n"
   ]
  },
  {
   "cell_type": "markdown",
   "metadata": {
    "colab_type": "text",
    "id": "yqRVatUB52uX"
   },
   "source": []
  },
  {
   "cell_type": "code",
   "execution_count": null,
   "metadata": {
    "colab": {
     "base_uri": "https://localhost:8080/",
     "height": 197
    },
    "colab_type": "code",
    "id": "UizJYEOItvZ2",
    "outputId": "e66b147c-ea25-4ef3-cbd3-e73532cd130a"
   },
   "outputs": [
    {
     "ename": "AttributeError",
     "evalue": "ignored",
     "output_type": "error",
     "traceback": [
      "\u001b[0;31m---------------------------------------------------------------------------\u001b[0m",
      "\u001b[0;31mAttributeError\u001b[0m                            Traceback (most recent call last)",
      "\u001b[0;32m<ipython-input-7-c4b7de6f6066>\u001b[0m in \u001b[0;36m<module>\u001b[0;34m()\u001b[0m\n\u001b[1;32m     11\u001b[0m \u001b[0;34m\u001b[0m\u001b[0m\n\u001b[1;32m     12\u001b[0m \u001b[0mmy_car\u001b[0m \u001b[0;34m=\u001b[0m \u001b[0mCar\u001b[0m\u001b[0;34m(\u001b[0m\u001b[0;34m)\u001b[0m\u001b[0;34m\u001b[0m\u001b[0;34m\u001b[0m\u001b[0m\n\u001b[0;32m---> 13\u001b[0;31m \u001b[0mprint\u001b[0m\u001b[0;34m(\u001b[0m\u001b[0mmy_car\u001b[0m\u001b[0;34m.\u001b[0m\u001b[0m__speed\u001b[0m\u001b[0;34m)\u001b[0m\u001b[0;34m\u001b[0m\u001b[0;34m\u001b[0m\u001b[0m\n\u001b[0m",
      "\u001b[0;31mAttributeError\u001b[0m: 'Car' object has no attribute '__speed'"
     ]
    }
   ],
   "source": [
    "class Car:\n",
    "    \n",
    "    def __init__(self):\n",
    "        self.__speed = 0 \n",
    "        self.registration = None\n",
    "        \n",
    "    def __str__(self):\n",
    "      \n",
    "      return f\"Car with reg {self.registration} is travelling at {self.__speed}mph\"\n",
    "\n",
    "\n",
    "my_car = Car()\n",
    "print(my_car.__speed)"
   ]
  },
  {
   "cell_type": "markdown",
   "metadata": {
    "colab_type": "text",
    "id": "MBo3COwJx1iF"
   },
   "source": [
    "### When hidden is not really hidden\n",
    "\n",
    "Hidden isn't really hidden in Python\n",
    "\n",
    "You can still access the \\__speed attribute using the \\__dict__ attribute of the object.\n",
    "\n",
    "To access it from \\__dict__ you have to prefix with the name of the class it belongs to\n",
    "\n",
    "\n",
    "\n",
    "```\n",
    "speed = my_car.__dict__[\"_Car__speed\"]\n",
    "```\n",
    "\n"
   ]
  },
  {
   "cell_type": "code",
   "execution_count": null,
   "metadata": {
    "colab": {
     "base_uri": "https://localhost:8080/",
     "height": 34
    },
    "colab_type": "code",
    "id": "9J11TuaVyUY4",
    "outputId": "c5f66f2e-a4d4-4373-e1e0-8b43c53884b2"
   },
   "outputs": [
    {
     "name": "stdout",
     "output_type": "stream",
     "text": [
      "Car with reg None is travelling at 100000mph\n"
     ]
    }
   ],
   "source": [
    "class Car:\n",
    "    \n",
    "    def __init__(self):\n",
    "        self.__speed = 0 \n",
    "        self.registration = None\n",
    "        \n",
    "    def __str__(self):\n",
    "      \n",
    "      return f\"Car with reg {self.registration} is travelling at {self.__speed}mph\"\n",
    "\n",
    "\n",
    "my_car = Car()\n",
    "my_car.__dict__[\"_Car__speed\"] = 100000\n",
    "print(my_car)"
   ]
  },
  {
   "cell_type": "markdown",
   "metadata": {
    "colab_type": "text",
    "id": "8h4uKKg29Qe9"
   },
   "source": [
    "### When you can add an attribute whenever you like\n",
    "\n",
    "Python objects allow attributes to be attached dynamically."
   ]
  },
  {
   "cell_type": "code",
   "execution_count": null,
   "metadata": {
    "colab": {
     "base_uri": "https://localhost:8080/",
     "height": 34
    },
    "colab_type": "code",
    "id": "Ik0Hs5Y99fd_",
    "outputId": "f9c0aad4-8d3b-4e79-8552-d6ea2debfbd5"
   },
   "outputs": [
    {
     "name": "stdout",
     "output_type": "stream",
     "text": [
      "{'_Car__speed': 0, 'registration': None, 'sleigh_bells': 99}\n"
     ]
    }
   ],
   "source": [
    "class Car:\n",
    "    \n",
    "    def __init__(self):\n",
    "        self.__speed = 0 \n",
    "        self.registration = None\n",
    "        \n",
    "    def __str__(self):\n",
    "      \n",
    "      return f\"Car with reg {self.registration} is travelling at {self.__speed}mph\"\n",
    "\n",
    "my_car = Car()\n",
    "my_car.sleigh_bells = 99\n",
    "print(my_car.__dict__)"
   ]
  },
  {
   "cell_type": "markdown",
   "metadata": {
    "colab_type": "text",
    "id": "qaNTkL2tuSmi"
   },
   "source": [
    "## Adding Functions to Classes\n",
    "\n",
    "Classes can contain functions( or methods). \n",
    "\n",
    "Here we are adding an **accelerate** method to the Car class"
   ]
  },
  {
   "cell_type": "code",
   "execution_count": null,
   "metadata": {
    "colab": {
     "base_uri": "https://localhost:8080/",
     "height": 34
    },
    "colab_type": "code",
    "id": "o2QYSvhtvguv",
    "outputId": "b71b56a4-aa2a-47d5-baf4-5ea6de670623"
   },
   "outputs": [
    {
     "name": "stdout",
     "output_type": "stream",
     "text": [
      "Car with reg None is travelling at 5mph\n"
     ]
    }
   ],
   "source": [
    "class Car:\n",
    "    \n",
    "    \n",
    "    \n",
    "    def __init__(self):\n",
    "        self.__speed = 0 \n",
    "        self.registration = None\n",
    "    \n",
    "    def accelerate(self, amount):\n",
    "      \n",
    "      self.__speed += amount\n",
    "      \n",
    "      \n",
    "    def __str__(self):\n",
    "      \n",
    "      return f\"Car with reg {self.registration} is travelling at {self.__speed}mph\"\n",
    "\n",
    "\n",
    "my_car = Car()\n",
    "\n",
    "my_car.accelerate(5)\n",
    "print(my_car)"
   ]
  },
  {
   "cell_type": "markdown",
   "metadata": {
    "colab_type": "text",
    "id": "78OM9nzs15AU"
   },
   "source": [
    "## Properties\n",
    "\n",
    "To allow controlled access to an object's hidden attributes you can use functions that have been wrapped into specific data accessor called a property\n",
    "\n",
    "\n",
    "\n",
    "```\n",
    "speed = property()\n",
    "speed = speed.getter(get_speed)\n",
    "speed = speed.setter(set_speed)\n",
    "\n",
    "```\n",
    "\n",
    "\n"
   ]
  },
  {
   "cell_type": "code",
   "execution_count": null,
   "metadata": {
    "colab": {
     "base_uri": "https://localhost:8080/",
     "height": 34
    },
    "colab_type": "code",
    "id": "TBcLNJG9BfHe",
    "outputId": "3613fc29-0243-4057-86d5-fd0c41cf23d0"
   },
   "outputs": [
    {
     "name": "stdout",
     "output_type": "stream",
     "text": [
      "30\n"
     ]
    }
   ],
   "source": [
    "class Car:\n",
    "    \n",
    "    \n",
    "    \n",
    "    def get_speed(self):\n",
    "      return self.__speed\n",
    "    \n",
    "    def set_speed(self, speed):\n",
    "      self.__speed = speed\n",
    "    \n",
    "    \n",
    "    speed = property()\n",
    "    speed = speed.getter(get_speed)\n",
    "    speed = speed.setter(set_speed)\n",
    "    \n",
    "    def __init__(self):\n",
    "        self.__speed = 0 \n",
    "        self.registration = None\n",
    "    \n",
    "    def accelerate(self, amount):\n",
    "      \n",
    "      self.__speed += amount\n",
    "      \n",
    "      \n",
    "    def __str__(self):\n",
    "      \n",
    "      return f\"Car with reg {self.registration} is travelling at {self.__speed}mph\"\n",
    "\n",
    "\n",
    "my_car = Car()\n",
    "my_car.speed = 25\n",
    "my_car.accelerate(5)\n",
    "print(my_car.speed)"
   ]
  },
  {
   "cell_type": "markdown",
   "metadata": {
    "colab_type": "text",
    "id": "rb2pCTlGanX0"
   },
   "source": [
    "### Using Decorators to create Properties\n",
    "\n",
    "You can achieve the same result using Python's decorator syntax. It makes the generation of properties a lot simpler than the above code\n",
    "\n",
    "\n",
    "\n",
    "```\n",
    "@property\n",
    "def speed(self):\n",
    "    return self.__speed\n",
    "```\n",
    "\n",
    "Produces a property called speed with a getter automatically defined\n",
    "\n",
    "The setter is defined using:\n",
    "\n",
    "```\n",
    "@speed.setter\n",
    "def speed(self):\n",
    "    return self.__speed\n",
    "```\n"
   ]
  },
  {
   "cell_type": "code",
   "execution_count": null,
   "metadata": {
    "colab": {
     "base_uri": "https://localhost:8080/",
     "height": 34
    },
    "colab_type": "code",
    "id": "s5VGGjIebmO7",
    "outputId": "485469ec-98f1-4d2c-9e85-238d8c108831"
   },
   "outputs": [
    {
     "name": "stdout",
     "output_type": "stream",
     "text": [
      "30\n"
     ]
    }
   ],
   "source": [
    "class Car:\n",
    "    \n",
    "    def __init__(self):\n",
    "        self.__speed = 0 \n",
    "        self.registration = None\n",
    "    \n",
    "    def accelerate(self, amount):\n",
    "      \n",
    "      self.__speed += amount\n",
    "      \n",
    "    @property\n",
    "    def speed(self):\n",
    "      return self.__speed\n",
    "    \n",
    "    @speed.setter\n",
    "    def speed(self, speed):\n",
    "      self.__speed = speed\n",
    "\n",
    "      \n",
    "    def __str__(self):\n",
    "      \n",
    "      return f\"Car with reg {self.registration} is travelling at {self.__speed}mph\"\n",
    "\n",
    "\n",
    "my_car = Car()\n",
    "my_car.speed = 25\n",
    "my_car.accelerate(5)\n",
    "print(my_car.speed)"
   ]
  },
  {
   "cell_type": "code",
   "execution_count": null,
   "metadata": {
    "colab": {},
    "colab_type": "code",
    "id": "djxe958d8Q1T"
   },
   "outputs": [],
   "source": []
  },
  {
   "cell_type": "markdown",
   "metadata": {
    "colab_type": "text",
    "id": "Y9qmalIyb8A8"
   },
   "source": [
    "### Why bother? -> Encapsulation\n",
    "\n",
    "If you use properties you can control access to data via code. That means you can retain control of how the data inside an object is manipulated from the inside and prevent (as much as is possible) direct manipulation from outside of the object\n",
    "\n",
    "Below we are using the setter to prevent an invalid speed being assigned to the internal speed variable\n",
    "\n",
    "```\n",
    "@speed.setter\n",
    "def speed(self, speed):\n",
    "    if speed <= 120:\n",
    "        self.__speed = speed\n",
    "```\n"
   ]
  },
  {
   "cell_type": "markdown",
   "metadata": {
    "colab_type": "text",
    "id": "16NvRnp0wffV"
   },
   "source": [
    "## Inheritance\n",
    "\n",
    "Python supports class inheritance which means a class can inherit the attributes and methods of another. \n",
    "\n",
    "One of the great benefits of inheritance is reuse and extension. You can create a new by bey extending and existing one without having to alter the existing class.\n",
    "\n"
   ]
  },
  {
   "cell_type": "code",
   "execution_count": null,
   "metadata": {
    "colab": {
     "base_uri": "https://localhost:8080/",
     "height": 425
    },
    "colab_type": "code",
    "id": "CBwwNHw5xbJ8",
    "outputId": "0c20c4a2-f55c-41f9-d1a2-cbf9f096b5f3"
   },
   "outputs": [
    {
     "name": "stdout",
     "output_type": "stream",
     "text": [
      "Car with reg None is travelling at 5mph\n",
      "Car with reg None is travelling at 10mph\n",
      "Car with reg None is travelling at 15mph\n",
      "Car with reg None is travelling at 20mph\n",
      "Car with reg None is travelling at 25mph\n",
      "Car with reg None is travelling at 30mph\n",
      "Car with reg None is travelling at 35mph\n",
      "Car with reg None is travelling at 40mph\n",
      "Car with reg None is travelling at 45mph\n",
      "Car with reg None is travelling at 50mph\n",
      "Car with reg None is travelling at 55mph\n",
      "Car with reg None is travelling at 60mph\n",
      "Car with reg None is travelling at 65mph\n",
      "Car with reg None is travelling at 70mph\n",
      "Car with reg None is travelling at 75mph\n",
      "Car with reg None is travelling at 80mph\n",
      "Car with reg None is travelling at 85mph\n",
      "Car with reg None is travelling at 90mph\n",
      "Car with reg None is travelling at 95mph\n",
      "Car with reg None is travelling at 100mph\n",
      "Car with reg None is travelling at 105mph\n",
      "Car with reg None is travelling at 110mph\n",
      "Car with reg None is travelling at 115mph\n",
      "Car with reg None is travelling at 120mph\n"
     ]
    }
   ],
   "source": [
    "import time\n",
    "class Car:\n",
    "    \n",
    "    def __init__(self):\n",
    "        self.__speed = 0 \n",
    "        self.registration = None\n",
    "    \n",
    "    def accelerate(self, amount):\n",
    "      time.sleep(0.08 * amount)\n",
    "      self.__speed += amount\n",
    "\n",
    "    @property\n",
    "    def max_speed(self):\n",
    "      return 120\n",
    "\n",
    "    @property\n",
    "    def speed(self):\n",
    "      return self.__speed\n",
    "    \n",
    "    @speed.setter\n",
    "    def speed(self, speed):\n",
    "      self.__speed = speed\n",
    "\n",
    "      \n",
    "    def __str__(self):\n",
    "      \n",
    "      return f\"Car with reg {self.registration} is travelling at {self.__speed}mph\"\n",
    "\n",
    "my_car = Car()\n",
    "while my_car.speed < my_car.max_speed:\n",
    "  my_car.accelerate(5)\n",
    "  print(my_car)"
   ]
  },
  {
   "cell_type": "markdown",
   "metadata": {
    "colab_type": "text",
    "id": "zyyzyeKXyCI0"
   },
   "source": [
    "Let's imagine we want to create a new car type called Racing Car. Racing cars will apparntly accelerate more quickly than standard cars.\n",
    "\n",
    "We can extend the existing Car class:\n",
    "\n",
    "* Add any new functionality\n",
    "* Override the functionality in Car that doesn't quite work for RacingCar\n",
    "\n",
    "To create an inherited class we indicate the name of the class we inherit from\n",
    "\n",
    "\n",
    "\n",
    "```\n",
    "class RacingCar(Car):\n",
    "    pass\n",
    "```\n",
    "\n",
    "We also need to call the **\\__init__** functions for the inherited base classes explitly in the **\\__init__** of the derived class.\n",
    "\n",
    "```\n",
    "class RacingCar(Car):\n",
    "      def __init__(self):\n",
    "          super().__init__()\n",
    "```\n",
    "\n",
    "Another way to do the same thing which can be very useful especailly when using multiple inheritance\n",
    "\n",
    "```\n",
    "class RacingCar(Car):\n",
    "      def __init__(self):\n",
    "          Car().__init__(self)\n",
    "```\n",
    "\n",
    "\n",
    "\n"
   ]
  },
  {
   "cell_type": "code",
   "execution_count": null,
   "metadata": {
    "colab": {
     "base_uri": "https://localhost:8080/",
     "height": 425
    },
    "colab_type": "code",
    "id": "x6Wyq5fFyzti",
    "outputId": "3e3583ad-86f4-4378-fc2c-03b07f1a4e81"
   },
   "outputs": [
    {
     "name": "stdout",
     "output_type": "stream",
     "text": [
      "Car with reg None is travelling at 5mph\n",
      "Car with reg None is travelling at 10mph\n",
      "Car with reg None is travelling at 15mph\n",
      "Car with reg None is travelling at 20mph\n",
      "Car with reg None is travelling at 25mph\n",
      "Car with reg None is travelling at 30mph\n",
      "Car with reg None is travelling at 35mph\n",
      "Car with reg None is travelling at 40mph\n",
      "Car with reg None is travelling at 45mph\n",
      "Car with reg None is travelling at 50mph\n",
      "Car with reg None is travelling at 55mph\n",
      "Car with reg None is travelling at 60mph\n",
      "Car with reg None is travelling at 65mph\n",
      "Car with reg None is travelling at 70mph\n",
      "Car with reg None is travelling at 75mph\n",
      "Car with reg None is travelling at 80mph\n",
      "Car with reg None is travelling at 85mph\n",
      "Car with reg None is travelling at 90mph\n",
      "Car with reg None is travelling at 95mph\n",
      "Car with reg None is travelling at 100mph\n",
      "Car with reg None is travelling at 105mph\n",
      "Car with reg None is travelling at 110mph\n",
      "Car with reg None is travelling at 115mph\n",
      "Car with reg None is travelling at 120mph\n"
     ]
    }
   ],
   "source": [
    "class RacingCar(Car):\n",
    "  \n",
    "    def __init__(self, spoilers):\n",
    "        \n",
    "        super().__init__()\n",
    "        self.__spoilers = spoilers\n",
    "  \n",
    "      \n",
    "    @property\n",
    "    def spoilers(self):\n",
    "      return self.__spoilers\n",
    "\n",
    "my_car = RacingCar(1)\n",
    "while my_car.speed < my_car.max_speed:\n",
    "  my_car.accelerate(5)\n",
    "  print(my_car)"
   ]
  },
  {
   "cell_type": "markdown",
   "metadata": {
    "colab_type": "text",
    "id": "qJrbPvuJ4D5V"
   },
   "source": [
    "###Overriding Methods\n",
    "\n",
    "As well as adding new code you can also replace code in the base"
   ]
  },
  {
   "cell_type": "code",
   "execution_count": null,
   "metadata": {
    "colab": {
     "base_uri": "https://localhost:8080/",
     "height": 425
    },
    "colab_type": "code",
    "id": "KkdPCd-J4OfO",
    "outputId": "d123f48f-5ea6-4bcf-e212-a02e1a26cbbb"
   },
   "outputs": [
    {
     "name": "stdout",
     "output_type": "stream",
     "text": [
      "Car with reg None is travelling at 5mph\n",
      "Car with reg None is travelling at 10mph\n",
      "Car with reg None is travelling at 15mph\n",
      "Car with reg None is travelling at 20mph\n",
      "Car with reg None is travelling at 25mph\n",
      "Car with reg None is travelling at 30mph\n",
      "Car with reg None is travelling at 35mph\n",
      "Car with reg None is travelling at 40mph\n",
      "Car with reg None is travelling at 45mph\n",
      "Car with reg None is travelling at 50mph\n",
      "Car with reg None is travelling at 55mph\n",
      "Car with reg None is travelling at 60mph\n",
      "Car with reg None is travelling at 65mph\n",
      "Car with reg None is travelling at 70mph\n",
      "Car with reg None is travelling at 75mph\n",
      "Car with reg None is travelling at 80mph\n",
      "Car with reg None is travelling at 85mph\n",
      "Car with reg None is travelling at 90mph\n",
      "Car with reg None is travelling at 95mph\n",
      "Car with reg None is travelling at 100mph\n",
      "Car with reg None is travelling at 105mph\n",
      "Car with reg None is travelling at 110mph\n",
      "Car with reg None is travelling at 115mph\n",
      "Car with reg None is travelling at 120mph\n"
     ]
    }
   ],
   "source": [
    "class RacingCar(Car):\n",
    "  \n",
    "    def __init__(self, spoilers):\n",
    "        \n",
    "        super().__init__()\n",
    "        self.__spoilers = spoilers\n",
    "    \n",
    "    def accelerate(self, amount):\n",
    "      time.sleep(0.04 * amount)\n",
    "      self.speed += amount\n",
    "    \n",
    "    @property\n",
    "    def spoilers(self):\n",
    "      return self.__spoilers\n",
    "\n",
    "my_car = RacingCar(1)\n",
    "while my_car.speed < my_car.max_speed:\n",
    "  my_car.accelerate(5)\n",
    "  print(my_car)"
   ]
  },
  {
   "cell_type": "markdown",
   "metadata": {
    "colab_type": "text",
    "id": "fORYj9pv5Sd4"
   },
   "source": [
    "### Overriding and reusing the base functionality\n",
    "\n",
    "When you overrid a method you may want to reuse the code from the base as well.\n",
    "\n",
    "Here we override the max_speed property but call the max_speed from the base Car. The resultant max_speed is 80 plus the max_speed of the base class"
   ]
  },
  {
   "cell_type": "code",
   "execution_count": null,
   "metadata": {
    "colab": {
     "base_uri": "https://localhost:8080/",
     "height": 697
    },
    "colab_type": "code",
    "id": "7SHCDTxm5e51",
    "outputId": "44b9047c-e30b-471c-c192-5a55cd5d1969"
   },
   "outputs": [
    {
     "name": "stdout",
     "output_type": "stream",
     "text": [
      "Car with reg None is travelling at 5mph\n",
      "Car with reg None is travelling at 10mph\n",
      "Car with reg None is travelling at 15mph\n",
      "Car with reg None is travelling at 20mph\n",
      "Car with reg None is travelling at 25mph\n",
      "Car with reg None is travelling at 30mph\n",
      "Car with reg None is travelling at 35mph\n",
      "Car with reg None is travelling at 40mph\n",
      "Car with reg None is travelling at 45mph\n",
      "Car with reg None is travelling at 50mph\n",
      "Car with reg None is travelling at 55mph\n",
      "Car with reg None is travelling at 60mph\n",
      "Car with reg None is travelling at 65mph\n",
      "Car with reg None is travelling at 70mph\n",
      "Car with reg None is travelling at 75mph\n",
      "Car with reg None is travelling at 80mph\n",
      "Car with reg None is travelling at 85mph\n",
      "Car with reg None is travelling at 90mph\n",
      "Car with reg None is travelling at 95mph\n",
      "Car with reg None is travelling at 100mph\n",
      "Car with reg None is travelling at 105mph\n",
      "Car with reg None is travelling at 110mph\n",
      "Car with reg None is travelling at 115mph\n",
      "Car with reg None is travelling at 120mph\n",
      "Car with reg None is travelling at 125mph\n",
      "Car with reg None is travelling at 130mph\n",
      "Car with reg None is travelling at 135mph\n",
      "Car with reg None is travelling at 140mph\n",
      "Car with reg None is travelling at 145mph\n",
      "Car with reg None is travelling at 150mph\n",
      "Car with reg None is travelling at 155mph\n",
      "Car with reg None is travelling at 160mph\n",
      "Car with reg None is travelling at 165mph\n",
      "Car with reg None is travelling at 170mph\n",
      "Car with reg None is travelling at 175mph\n",
      "Car with reg None is travelling at 180mph\n",
      "Car with reg None is travelling at 185mph\n",
      "Car with reg None is travelling at 190mph\n",
      "Car with reg None is travelling at 195mph\n",
      "Car with reg None is travelling at 200mph\n"
     ]
    }
   ],
   "source": [
    "class RacingCar(Car):\n",
    "  \n",
    "    def __init__(self, spoilers):\n",
    "        \n",
    "        super().__init__()\n",
    "        self.__spoilers = spoilers\n",
    "    \n",
    "    def accelerate(self, amount):\n",
    "      time.sleep(0.04 * amount)\n",
    "      self.speed += amount\n",
    "\n",
    "    @property\n",
    "    def max_speed(self):\n",
    "      return super().max_speed + 80\n",
    "  \n",
    "    @property\n",
    "    def spoilers(self):\n",
    "      return self.__spoilers\n",
    "\n",
    "my_car = RacingCar(1)\n",
    "while my_car.speed < my_car.max_speed:\n",
    "  my_car.accelerate(5)\n",
    "  print(my_car)"
   ]
  },
  {
   "cell_type": "markdown",
   "metadata": {
    "colab_type": "text",
    "id": "RfpRZ8I9_db1"
   },
   "source": [
    "## Abstract Classes\n",
    "\n",
    "The abc module allows you to define what are effectively abstract classes. Just as in C++ we can use abstract classes to act as an interface definition for use in composition."
   ]
  },
  {
   "cell_type": "code",
   "execution_count": null,
   "metadata": {
    "colab": {},
    "colab_type": "code",
    "id": "E-H6kurp_wmq"
   },
   "outputs": [],
   "source": [
    "from abc import *\n",
    "\n",
    "class Accelerable(ABC):\n",
    "  \n",
    "  @abstractproperty\n",
    "  def speed(self):\n",
    "    pass\n",
    "  @abstractproperty\n",
    "  def max_speed(self):\n",
    "    pass\n",
    "  @abstractmethod\n",
    "  def accelerate(self, amount):\n",
    "    pass\n",
    "  \n",
    "  \n"
   ]
  }
 ],
 "metadata": {
  "kernelspec": {
   "display_name": "Python 3",
   "language": "python",
   "name": "python3"
  },
  "language_info": {
   "codemirror_mode": {
    "name": "ipython",
    "version": 3
   },
   "file_extension": ".py",
   "mimetype": "text/x-python",
   "name": "python",
   "nbconvert_exporter": "python",
   "pygments_lexer": "ipython3",
   "version": "3.8.4"
  }
 },
 "nbformat": 4,
 "nbformat_minor": 4
}
