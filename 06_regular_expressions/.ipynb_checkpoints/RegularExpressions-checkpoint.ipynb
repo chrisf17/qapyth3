{
 "cells": [
  {
   "cell_type": "markdown",
   "metadata": {},
   "source": [
    "# Regular Expressions\n",
    "\n",
    "A regular expression is a syntax for defining pattern that you can use to describe the stucture of a string. See tutorial below.\n",
    "\n",
    "## QuickLab 1\n",
    "\n",
    "## ToDo 1\n",
    "\n",
    "Assign a regular expression to the expression variable below, that:\n",
    "* Returns occurences of words \"semper\" or \"per\""
   ]
  },
  {
   "cell_type": "code",
   "execution_count": 11,
   "metadata": {},
   "outputs": [
    {
     "name": "stdout",
     "output_type": "stream",
     "text": [
      "['semper', 'per', 'per', 'semper']\n"
     ]
    }
   ],
   "source": [
    "test_string = \"\"\"Lorem ipsum dolor sit amet, consectetur adipiscing elit. \n",
    "Sed elementum auctor odio 25/11/2002 ac malesuada. Morbi consectetur consectetur augue, eu sagittis \n",
    "metus commodo in. Maecenas id interdum quam. Curabitur non semper ex. Proin eleifend massa \n",
    "id eleifend lobortis. Suspendisse vitae nunc tellus 29/10/2005. Class aptent taciti sociosqu ad litora \n",
    "torquent per conubia nostra, per inceptos himenaeos 05/10/2015. Sed non sodales erat. Quisque vulputate \n",
    "purus ex, ut placerat 17/03/2020 nibh malesuada a. Curabitur semper euismod placerat.\n",
    "\"\"\"\n",
    "expression = r\"\"\n",
    "results = re.findall(expression, test_string)\n",
    "print(results)"
   ]
  },
  {
   "cell_type": "markdown",
   "metadata": {},
   "source": [
    "## ToDo 2\n",
    "\n",
    "Assign a regular expression to the expression variable below, that:\n",
    "* Returns all occurences of words used"
   ]
  },
  {
   "cell_type": "code",
   "execution_count": null,
   "metadata": {},
   "outputs": [],
   "source": [
    "test_string = \"\"\"Lorem ipsum dolor sit amet, consectetur adipiscing elit. \n",
    "Sed elementum auctor odio 25/11/2002 ac malesuada. Morbi consectetur consectetur augue, eu sagittis \n",
    "metus commodo in. Maecenas id interdum quam. Curabitur non semper ex. Proin eleifend massa \n",
    "id eleifend lobortis. Suspendisse vitae nunc tellus 29/10/2005. Class aptent taciti sociosqu ad litora \n",
    "torquent per conubia nostra, per inceptos himenaeos 05/10/2015. Sed non sodales erat. Quisque vulputate \n",
    "purus ex, ut placerat 17/03/2020 nibh malesuada a. Curabitur semper euismod placerat.\n",
    "\"\"\"\n",
    "expression = r\"\"\n",
    "results = re.findall(expression, test_string)\n",
    "print(results)"
   ]
  },
  {
   "cell_type": "markdown",
   "metadata": {},
   "source": [
    "## ToDo 3\n",
    "\n",
    "Assign a regular expression to the expression variable below, that:\n",
    "* Returns all occurences of dates"
   ]
  },
  {
   "cell_type": "code",
   "execution_count": null,
   "metadata": {},
   "outputs": [],
   "source": [
    "test_string = \"\"\"Lorem ipsum dolor sit amet, consectetur adipiscing elit. \n",
    "Sed elementum auctor odio 25/11/2002 ac malesuada. Morbi consectetur consectetur augue, eu sagittis \n",
    "metus commodo in. Maecenas id interdum quam. Curabitur non semper ex. Proin eleifend massa \n",
    "id eleifend lobortis. Suspendisse vitae nunc tellus 29/10/2005. Class aptent taciti sociosqu ad litora \n",
    "torquent per conubia nostra, per inceptos himenaeos 05/10/2015. Sed non sodales erat. Quisque vulputate \n",
    "purus ex, ut placerat 17/03/2020 nibh malesuada a. Curabitur semper euismod placerat.\n",
    "\"\"\"\n",
    "expression = r\"\"\n",
    "results = re.findall(expression, test_string)\n",
    "print(results)"
   ]
  },
  {
   "cell_type": "markdown",
   "metadata": {},
   "source": [
    "Optional:\n",
    "\n",
    "If you want to challenge yourself a bit rewrite the above to:\n",
    "* Use finditer\n",
    "* Use groups to extract day, month and year"
   ]
  },
  {
   "cell_type": "code",
   "execution_count": null,
   "metadata": {},
   "outputs": [],
   "source": [
    "test_string = \"\"\"Lorem ipsum dolor sit amet, consectetur adipiscing elit. \n",
    "Sed elementum auctor odio 25/11/2002 ac malesuada. Morbi consectetur consectetur augue, eu sagittis \n",
    "metus commodo in. Maecenas id interdum quam. Curabitur non semper ex. Proin eleifend massa \n",
    "id eleifend lobortis. Suspendisse vitae nunc tellus 29/10/2005. Class aptent taciti sociosqu ad litora \n",
    "torquent per conubia nostra, per inceptos himenaeos 05/10/2015. Sed non sodales erat. Quisque vulputate \n",
    "purus ex, ut placerat 17/03/2020 nibh malesuada a. Curabitur semper euismod placerat.\n",
    "\"\"\"\n",
    "expression = r\"\"\n"
   ]
  },
  {
   "cell_type": "markdown",
   "metadata": {},
   "source": [
    "## ToDo 4\n",
    "\n",
    "Write a regular expression to match the following pattern and insert it inside the fullmatch\n",
    "* 1 or 2 upper alpha chars\n",
    "* 1 or 2 numbers\n",
    "* Optional space\n",
    "* 1 number\n",
    "* 2 upper alpha chars\n",
    "\n",
    "The code should print \"Valid Postcode\" when complete.\n"
   ]
  },
  {
   "cell_type": "code",
   "execution_count": 12,
   "metadata": {},
   "outputs": [
    {
     "name": "stdout",
     "output_type": "stream",
     "text": [
      "Invalid Postcode\n"
     ]
    }
   ],
   "source": [
    "import re\n",
    "\n",
    "test_string = \"SW11 7EP\"\n",
    "expression = r\"\"\n",
    "if re.fullmatch(expression, test_string):\n",
    "    print(\"Valid Postcode\")\n",
    "else:\n",
    "    print(\"Invalid Postcode\")"
   ]
  },
  {
   "cell_type": "markdown",
   "metadata": {
    "colab_type": "text",
    "id": "pJxOXUX1v7Tu"
   },
   "source": [
    "# Background - Regular Expressions\n",
    "\n",
    "A regular expression is a syntax for defining pattern that you can use to describe the stucture of a string\n",
    "\n",
    "You can write a regular expression to define the structure of an email or a zip code or social security number. These kinds of data don't always follow an exact pattern but often have some variance or flexibility in the way they are defined and the data they can contain. \n",
    "\n",
    "A regular expression can define a flexible pattern to match all or part of a string."
   ]
  },
  {
   "cell_type": "markdown",
   "metadata": {
    "colab_type": "text",
    "id": "0k5swlBzSyP_"
   },
   "source": [
    "## Character Multiplicty\n",
    "\n",
    "It makes sense to first look at the basic syntax of regular expressions and then look at how we can apply the syntax in Python.\n",
    "\n",
    "###Simple Pattern Matching\n",
    "\n",
    "\n",
    "To match the string \n",
    "\n",
    "**abc** \n",
    "\n",
    "we can use the regular expression\n",
    "\n",
    "abc\n",
    "\n",
    "This uses exact character matching. however if we wanted to match a more flexible pattern such as the following:\n",
    "\n",
    "**abc**\n",
    "\n",
    "**abbc**\n",
    "\n",
    "The simple regex abc won't work.\n",
    "\n",
    "###Multiplicity Operators\n",
    "\n",
    "Regular expression syntax allows the following multiplivity specifiers to be laced next to characteres to indicate their occurrence pattern\n",
    "\n",
    "> ?  = 0 or 1\n",
    "\n",
    "> \\*  = 0 or more\n",
    "\n",
    "> \\+ = 1 or more \n",
    "\n",
    "\n",
    "To match:\n",
    "\n",
    "**abc**\n",
    "\n",
    "**abbc**\n",
    "\n",
    "we couldwrite the pattern\n",
    "\n",
    "ab+c\n",
    "\n",
    "or\n",
    "\n",
    "ab\\*c\n",
    "\n",
    "### Fixed or Ranged Multiplicity\n",
    "\n",
    "The above gives quite flexible control over character multiplicty. To more precisely control it you can use fixed or ranged multiplicity using { }\n",
    "\n",
    "ab{1, 3}c\n",
    "\n",
    "Is expecing there to be between 1 and three **b** characters\n",
    "\n",
    "{, 5}would indicate upto 5 #, {3, } would indicate at least 3 but then many\n",
    "\n",
    "\n",
    "\n",
    "\n"
   ]
  },
  {
   "cell_type": "markdown",
   "metadata": {
    "colab_type": "text",
    "id": "oXJETpOlXNeb"
   },
   "source": [
    "## Character Flexibility\n",
    "\n",
    "Character flexibility means we can be more flexible about which characters we expect to see in the target string. Previously we fixed the expected characted to a range of one possible value each time\n",
    "\n",
    "Now we will provide a character range using [ ]\n",
    "\n",
    "Below, instead of describing a single character we are describing three possible alternatives a, x or z. Either one can occur in our sequence\n",
    "\n",
    "**[axz]**\n",
    "\n",
    "So the regex:\n",
    "[axz]bc\n",
    "\n",
    "Would match\n",
    "\n",
    "abc\n",
    "xbc\n",
    "zbc\n",
    "\n",
    "If you combine it with the multiplicty specifiers from earlier we could have:\n",
    "\n",
    "[axz]*bc\n",
    "\n",
    "matching \n",
    "\n",
    "zzxxaabc\n",
    "\n",
    "azxbc\n",
    "\n",
    "etc.\n",
    "\n",
    "You could also have\n",
    "\n",
    "[axz]{2,3}bc\n",
    "\n"
   ]
  },
  {
   "cell_type": "markdown",
   "metadata": {
    "colab_type": "text",
    "id": "28Y7gsp3IsTn"
   },
   "source": [
    "## Character Ranges\n",
    "\n",
    "[A-Z] includes all uppercase characters between A and Z\n",
    "\n",
    "[a-z] includes all lowercase characters between a and z\n",
    "\n",
    "[A-z] includes all upper and lower case characters between A and z\n",
    "\n",
    "[0-9] Numbers\n",
    "\n",
    "\n"
   ]
  },
  {
   "cell_type": "markdown",
   "metadata": {
    "colab_type": "text",
    "id": "1QEUQcF1Jidm"
   },
   "source": [
    "## Escape Sequences\n",
    "\n",
    "To avoid having to define ranges there are some shortcuts defined in the form of escape sequences\n",
    "\n",
    "\\d - short for [0-9]\n",
    "\n",
    "\\w - [A-z0-9]\n",
    "\n",
    "\\s - Any whitespace\n",
    "\n",
    "\\b - Word boundary (includes . and , )\n",
    "\n",
    "The uppercase variants of the above \\D \\W \\S \\B indicte not that character class. So \\D means not numbers etc. "
   ]
  },
  {
   "cell_type": "markdown",
   "metadata": {
    "colab_type": "text",
    "id": "MBKDEPZxIAHf"
   },
   "source": [
    "## Optionals\n",
    "\n",
    "Use the pipe charcater | to indicator an or or optional\n",
    "\n",
    "cat | dog\n",
    "\n",
    "which can then be used to match the occurences in the following string. See **findall** later.\n",
    "\n",
    "\"A dog can run faster than a cat in most situations\""
   ]
  },
  {
   "cell_type": "markdown",
   "metadata": {
    "colab_type": "text",
    "id": "Yggz8aIbhUIh"
   },
   "source": [
    "## Regex and Python\n",
    "\n",
    "To use regex in Python use the **re** module\n",
    "\n",
    "You can then use one of a number of functions to perform regex processing\n",
    "\n",
    "match - matches your regex from the start of every sting it is compared against\n",
    "\n",
    "**search** - Matches anywhere in the string\n",
    "\n",
    "**findall** - Returns all matching sequences in string\n",
    "\n",
    "**sub/subn** - Performs a more powerful replace function using regex\n",
    "\n",
    "**split** - Is a more powerful string splitting function using regex\n",
    "\n"
   ]
  },
  {
   "cell_type": "code",
   "execution_count": null,
   "metadata": {},
   "outputs": [],
   "source": []
  },
  {
   "cell_type": "code",
   "execution_count": null,
   "metadata": {
    "colab": {
     "base_uri": "https://localhost:8080/",
     "height": 85
    },
    "colab_type": "code",
    "id": "VRwnJ554v8NO",
    "outputId": "e797c8db-ee83-4abd-fdd2-c9aa715cdc95"
   },
   "outputs": [
    {
     "name": "stdout",
     "output_type": "stream",
     "text": [
      "<_sre.SRE_Match object; span=(0, 4), match='adef'>\n",
      "0\n",
      "4\n",
      "(0, 4)\n"
     ]
    }
   ],
   "source": [
    "import re\n",
    "\n",
    "result = re.match(r\"a[bcd]ef\", \"adef\")\n",
    "print(result)\n",
    "print(result.start()) # The start position of the match\n",
    "print(result.end()) # The end position of the match\n",
    "\n",
    "print(result.span()) # Both start and end as a tuple\n"
   ]
  },
  {
   "cell_type": "markdown",
   "metadata": {
    "colab_type": "text",
    "id": "JhIEYUJixEZY"
   },
   "source": [
    "It will return None if no match is found and always matches to the start of the string\n",
    "\n",
    "That's why the following fails:"
   ]
  },
  {
   "cell_type": "code",
   "execution_count": null,
   "metadata": {
    "colab": {
     "base_uri": "https://localhost:8080/",
     "height": 34
    },
    "colab_type": "code",
    "id": "7JWmLFg9xVgk",
    "outputId": "3b8381a2-351d-4af6-de5c-ba4fbf461922"
   },
   "outputs": [
    {
     "name": "stdout",
     "output_type": "stream",
     "text": [
      "None\n"
     ]
    }
   ],
   "source": [
    "import re\n",
    "\n",
    "result = re.match(r\"a[bcd]ef\", \"xyadef\")\n",
    "print(result)\n"
   ]
  },
  {
   "cell_type": "markdown",
   "metadata": {
    "colab_type": "text",
    "id": "DTDpQ4pqxb3n"
   },
   "source": [
    "For this to work we need to use **search**"
   ]
  },
  {
   "cell_type": "code",
   "execution_count": null,
   "metadata": {
    "colab": {
     "base_uri": "https://localhost:8080/",
     "height": 85
    },
    "colab_type": "code",
    "id": "HomhAcKbxnZJ",
    "outputId": "af090a5e-5d22-4a9b-884f-2c09c73ee635"
   },
   "outputs": [
    {
     "name": "stdout",
     "output_type": "stream",
     "text": [
      "<_sre.SRE_Match object; span=(2, 6), match='adef'>\n",
      "2\n",
      "6\n",
      "(2, 6)\n"
     ]
    }
   ],
   "source": [
    "import re\n",
    "\n",
    "result = re.search(r\"a[bcd]ef\", \"xyadef\")\n",
    "print(result)\n",
    "print(result.start())\n",
    "print(result.end())\n",
    "\n",
    "print(result.span())\n"
   ]
  },
  {
   "cell_type": "markdown",
   "metadata": {
    "colab_type": "text",
    "id": "xh7kD-XbmkWz"
   },
   "source": [
    "## Regex Groups\n",
    "\n",
    "Assuming we have a string with the following content\n",
    "\n",
    "message = \"The event is on 12 Jan 2019 at 17:00 and all are welcome\"\n",
    "\n",
    "To match the date we could write the regex"
   ]
  },
  {
   "cell_type": "code",
   "execution_count": null,
   "metadata": {
    "colab": {
     "base_uri": "https://localhost:8080/",
     "height": 34
    },
    "colab_type": "code",
    "id": "FtV9ZfFjou3q",
    "outputId": "8eca39ea-46e2-43f5-cab6-3fb7f037cae2"
   },
   "outputs": [
    {
     "name": "stdout",
     "output_type": "stream",
     "text": [
      "<_sre.SRE_Match object; span=(16, 27), match='12 Jan 2019'>\n"
     ]
    }
   ],
   "source": [
    "import re\n",
    "\n",
    "\n",
    "message = \"The event is on 12 Jan 2019 at 17:00 and all delegates are welcome\"\n",
    "\n",
    "pattern = \"\\d{2} \\w{3} \\d{4}\" # 2 digits 1 space 3 any characters A-z0-9_ 1 space 4 digits\n",
    "\n",
    "result = re.search(pattern, message)\n",
    "\n",
    "print(result)"
   ]
  },
  {
   "cell_type": "markdown",
   "metadata": {
    "colab_type": "text",
    "id": "GgR9v3wFtDiL"
   },
   "source": [
    "Placing brackets around parts of the pattern creates groups\n",
    "\n",
    "pattern = \"(\\d{2}) (\\w{3}) (\\d{4})\"\n",
    "\n",
    "Each group can then be accessed seperately using the **groups()** function which returns a tuple containing the matched content for each group\n",
    "\n"
   ]
  },
  {
   "cell_type": "code",
   "execution_count": null,
   "metadata": {
    "colab": {
     "base_uri": "https://localhost:8080/",
     "height": 85
    },
    "colab_type": "code",
    "id": "mwUuKmSJuN-b",
    "outputId": "0e59946b-383f-46f2-8e6f-89115ff9c92b"
   },
   "outputs": [
    {
     "name": "stdout",
     "output_type": "stream",
     "text": [
      "Groups: ('12', 'Jan', '2019')\n",
      "Day Group: 12\n",
      "Month Group: Jan\n",
      "Year Group: 2019\n"
     ]
    }
   ],
   "source": [
    "import re\n",
    "\n",
    "\n",
    "message = \"The event is on 12 Jan 2019 at 17:00 and all delegates are welcome\"\n",
    "\n",
    "pattern = \"(\\d{2}) (\\w{3}) (\\d{4})\" # 2 digits 1 space 3 any characters A-z0-9_ 1 space 4 digits\n",
    "\n",
    "result = re.search(pattern, message)\n",
    "\n",
    "print(\"Groups:\", result.groups())\n",
    "print(\"Day Group:\", result.groups()[0])\n",
    "print(\"Month Group:\", result.groups()[1])\n",
    "print(\"Year Group:\", result.groups()[2])\n",
    "\n"
   ]
  },
  {
   "cell_type": "markdown",
   "metadata": {
    "colab_type": "text",
    "id": "m3QrpqMHG9NU"
   },
   "source": [
    "## Multi part search\n",
    "\n",
    "So far we have performed single matches, To find all occurences of a pattern we use, the aptly named **findall** function.\n",
    "\n"
   ]
  },
  {
   "cell_type": "code",
   "execution_count": null,
   "metadata": {
    "colab": {
     "base_uri": "https://localhost:8080/",
     "height": 34
    },
    "colab_type": "code",
    "id": "SJps_2LoK7gW",
    "outputId": "7b0e4912-092a-4ac8-ef95-f7a5a88a5508"
   },
   "outputs": [
    {
     "name": "stdout",
     "output_type": "stream",
     "text": [
      "[' dog ', 'cat ']\n"
     ]
    }
   ],
   "source": [
    "import re\n",
    "\n",
    "message =\"A dog can run faster than a cat in most situations\"\n",
    "pattern = r\"cat | dog | panda | cheetah\"\n",
    "\n",
    "result = re.findall(pattern, message)\n",
    "print(result)"
   ]
  },
  {
   "cell_type": "markdown",
   "metadata": {
    "colab_type": "text",
    "id": "8aiyQH8-Li5T"
   },
   "source": [
    "Notice how the found patterns are returned in a list"
   ]
  },
  {
   "cell_type": "markdown",
   "metadata": {
    "colab_type": "text",
    "id": "CMDytXNEc8gp"
   },
   "source": [
    "## Substitution\n",
    "\n",
    "The equivalent if the string **replace** function in regex is **sub** and **subn**.\n",
    "\n",
    "Withnthese methods you can search for a pattern in a string and replace it with another value. You can limit the number of replacesments and (using **subn**) find out how many replacements were made.\n",
    "\n",
    "\n"
   ]
  },
  {
   "cell_type": "code",
   "execution_count": null,
   "metadata": {
    "colab": {
     "base_uri": "https://localhost:8080/",
     "height": 68
    },
    "colab_type": "code",
    "id": "6DZ5gsdmeQD6",
    "outputId": "42753f74-b52e-4374-cdc3-c922125374b9"
   },
   "outputs": [
    {
     "name": "stdout",
     "output_type": "stream",
     "text": [
      "sub: A cheetah can run faster than a rabbit assuming the cheetah is healthy\n",
      "subn: ('A cheetah can run faster than a rabbit assuming the cheetah is healthy', 2)\n",
      "subn: ('A cheetah can run faster than a rabbit assuming the dog is healthy', 1)\n"
     ]
    }
   ],
   "source": [
    "import re\n",
    "\n",
    "message =\"A dog can run faster than a rabbit assuming the dog is healthy\"\n",
    "pattern = r\"cat|dog|panda\"\n",
    "\n",
    "result = re.sub(pattern, \"cheetah\", message)\n",
    "print(\"sub:\", result)\n",
    "\n",
    "# returns a tuple including replacement string and number of replacements\n",
    "result = re.subn(pattern, \"cheetah\", message) \n",
    "print(\"subn:\", result)\n",
    "\n",
    "# Limit the number of replacements to 1\n",
    "result = re.subn(pattern, \"cheetah\", message, 1) \n",
    "print(\"subn:\", result)\n"
   ]
  },
  {
   "cell_type": "markdown",
   "metadata": {
    "colab_type": "text",
    "id": "xQy62rtgo4ry"
   },
   "source": [
    "### Reverse Substitution\n",
    "\n",
    "The groups established using a parsing regex can then be referenced using a second expression in the substitution.\n",
    "\n",
    "The second expression can refer to each group by numbers and rearange the order of output in the subsitiution.\n",
    "\n",
    "Below the day, month and year are all identified as groups (groups 1, 2, 3). In the second expression on line 5 - \"\\2 \\1\" we are defining how the dates are to be substiuted by outputting the content of group 2 ( **\\2** or the month) followed by group 1 (**\\1** or the day)\n",
    "\n",
    "\n"
   ]
  },
  {
   "cell_type": "code",
   "execution_count": null,
   "metadata": {
    "colab": {
     "base_uri": "https://localhost:8080/",
     "height": 34
    },
    "colab_type": "code",
    "id": "14CnPbhBp6Rd",
    "outputId": "4d69228c-cc52-471e-8159-8400417e7fea"
   },
   "outputs": [
    {
     "name": "stdout",
     "output_type": "stream",
     "text": [
      "subn: ('Term starts on Jan 7 and finishes on Apr 5 with a one week break commencing Feb 16', 3)\n"
     ]
    }
   ],
   "source": [
    "import re\n",
    "message = \"Term starts on 7 Jan 2019 and finishes on 5 Apr 2019 with a one week break commencing 16 Feb 2019\"\n",
    "pattern = r\"(\\d{,2}) (Jan|Feb|Mar|Apr|May|Jun|Jul|Aug|Sep|Oct|Nov|Dec) \\d{4}\"\n",
    "\n",
    "result = re.subn(pattern, r\"\\2 \\1\", message) \n",
    "print(\"subn:\", result)"
   ]
  },
  {
   "cell_type": "markdown",
   "metadata": {
    "colab_type": "text",
    "id": "EA4wRFIy7AUK"
   },
   "source": [
    "## Split\n",
    "\n",
    "\n",
    "You can also use a regex to define the pattern to use to split a complex data string.\n",
    "\n",
    "Below is a comman and colon sperated string that we are splitting using a regex pattern.\n",
    "\n",
    "When the string you are processing in delimited using more complex criteria, regex is great."
   ]
  },
  {
   "cell_type": "code",
   "execution_count": null,
   "metadata": {
    "colab": {
     "base_uri": "https://localhost:8080/",
     "height": 35
    },
    "colab_type": "code",
    "id": "fzHqLMEv7GiZ",
    "outputId": "bd818d37-ae63-41de-d9e6-61e0ea36e3ab"
   },
   "outputs": [
    {
     "data": {
      "text/plain": [
       "['Star Wars', '1977', 'Steven Spielberg', '1h21']"
      ]
     },
     "execution_count": 1,
     "metadata": {
      "tags": []
     },
     "output_type": "execute_result"
    }
   ],
   "source": [
    "import re\n",
    "\n",
    "data = \"Star Wars,1977:Steven Spielberg:1h21\"\n",
    "\n",
    "re.split(r\"[:,]\", data)"
   ]
  }
 ],
 "metadata": {
  "kernelspec": {
   "display_name": "Python 3",
   "language": "python",
   "name": "python3"
  },
  "language_info": {
   "codemirror_mode": {
    "name": "ipython",
    "version": 3
   },
   "file_extension": ".py",
   "mimetype": "text/x-python",
   "name": "python",
   "nbconvert_exporter": "python",
   "pygments_lexer": "ipython3",
   "version": "3.7.4"
  }
 },
 "nbformat": 4,
 "nbformat_minor": 4
}
